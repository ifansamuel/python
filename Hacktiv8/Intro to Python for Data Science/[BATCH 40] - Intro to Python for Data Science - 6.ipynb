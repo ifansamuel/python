{
 "cells": [
  {
   "cell_type": "code",
   "execution_count": 2,
   "metadata": {},
   "outputs": [],
   "source": [
    "import pandas as pd\n",
    "import seaborn as sns\n",
    "import matplotlib.pyplot as plt\n",
    "\n",
    "data_bike = pd.read_csv('http://bit.ly/dwp-data-bike')\n",
    "data_youtube = pd.read_csv('http://bit.ly/dwp-data-youtube')\n",
    "data_sales = pd.read_csv('http://bit.ly/dwp-data-ecommerce')\n",
    "data_playstore = pd.read_csv('http://bit.ly/dwp-data-playstore')"
   ]
  },
  {
   "cell_type": "code",
   "execution_count": 6,
   "metadata": {},
   "outputs": [],
   "source": [
    "df_bike = data_bike\n",
    "df_youtube = data_youtube\n",
    "df_sales = data_sales\n",
    "df_playstore = data_playstore"
   ]
  },
  {
   "cell_type": "markdown",
   "metadata": {},
   "source": [
    "----"
   ]
  },
  {
   "cell_type": "markdown",
   "metadata": {},
   "source": [
    "## Pandas"
   ]
  },
  {
   "cell_type": "markdown",
   "metadata": {},
   "source": [
    "### Categorical Data Type"
   ]
  },
  {
   "cell_type": "code",
   "execution_count": 42,
   "metadata": {},
   "outputs": [],
   "source": [
    "df_bike['dayname'] = pd.Categorical(df_bike['dayname'],\n",
    "                                    ordered=True,\n",
    "                                    categories=['Monday',\n",
    "                                               'Tuesday',\n",
    "                                               'Wednesday',\n",
    "                                               'Thursday',\n",
    "                                               'Friday',\n",
    "                                               'Saturday',\n",
    "                                               'Sunday'])"
   ]
  },
  {
   "cell_type": "markdown",
   "metadata": {},
   "source": [
    "### To Datetime (adjust formatting)"
   ]
  },
  {
   "cell_type": "code",
   "execution_count": null,
   "metadata": {},
   "outputs": [],
   "source": [
    "# pd.to_datetime(data_youtube['trending_date'], format='%y.%d.%m')"
   ]
  },
  {
   "cell_type": "markdown",
   "metadata": {},
   "source": [
    "## Data Visualization"
   ]
  },
  {
   "cell_type": "markdown",
   "metadata": {},
   "source": [
    "### Bar Plot"
   ]
  },
  {
   "cell_type": "code",
   "execution_count": null,
   "metadata": {},
   "outputs": [],
   "source": [
    "# 1. Berapa total trip (peminjaman sepeda) pada setiap hari nya (Senin, Selasa, Rabu, Kamis, dst)\n",
    "\n",
    "# - ganti kolom starttime menjadi tipe data datetime\n",
    "df_bike['starttime'] = pd.to_datetime(df_bike['starttime'])\n",
    "\n",
    "# - ekstrak value yang diinginkan (hari) menggunakan .dt.strftime('')\n",
    "df_bike['dayname'] = df_bike['starttime'].dt.strftime('%A')\n",
    "\n",
    "# - ganti tipe data dayname menjadi categorical\n",
    "df_bike['dayname'] = pd.Categorical(df_bike['dayname'],\n",
    "                                    ordered=True,\n",
    "                                    categories=['Monday',\n",
    "                                               'Tuesday',\n",
    "                                               'Wednesday',\n",
    "                                               'Thursday',\n",
    "                                               'Friday',\n",
    "                                               'Saturday',\n",
    "                                               'Sunday'])\n",
    "\n",
    "# - Aggregasi data\n",
    "#   - nilai yang dicari\n",
    "#   - nilai yang dihitung\n",
    "#   - fungsi aggregasi\n",
    "\n",
    "total_by_dayname = df_bike.groupby('dayname', as_index=False)['bikeid'].count()"
   ]
  },
  {
   "cell_type": "code",
   "execution_count": 46,
   "metadata": {},
   "outputs": [
    {
     "data": {
      "text/plain": [
       "<matplotlib.axes._subplots.AxesSubplot at 0x1fdceeaff08>"
      ]
     },
     "execution_count": 46,
     "metadata": {},
     "output_type": "execute_result"
    },
    {
     "data": {
      "image/png": "[encoded data removed]",
      "text/plain": [
       "<Figure size 720x288 with 1 Axes>"
      ]
     },
     "metadata": {
      "needs_background": "light"
     },
     "output_type": "display_data"
    }
   ],
   "source": [
    "# Mengatur height x width visualisasi\n",
    "plt.figure(figsize=(10,4))\n",
    "\n",
    "# Visualisasi menggunakan seaborn\n",
    "sns.barplot(data=total_by_dayname, x='dayname', y='bikeid')"
   ]
  },
  {
   "cell_type": "code",
   "execution_count": 96,
   "metadata": {},
   "outputs": [
    {
     "data": {
      "image/png": "[encoded data removed]",
      "text/plain": [
       "<Figure size 1080x288 with 1 Axes>"
      ]
     },
     "metadata": {
      "needs_background": "light"
     },
     "output_type": "display_data"
    }
   ],
   "source": [
    "# Cari total user di setiap umur (dipecah berdasarkan usertype), visualisasikan dengan bar plot\n",
    "\n",
    "# 1. buat kolom umur\n",
    "df_bike['age'] = 2020 - df_bike['birth year']\n",
    "\n",
    "# 2. aggregasi data\n",
    "#   - yang dicari: umur - usertype\n",
    "#   - yang dihitung: ...\n",
    "#   - fungsi aggregasi: count\n",
    "total_by_age = df_bike.groupby(['age', 'usertype'], as_index=False)['bikeid'].count() \\\n",
    "                      .rename(columns={'bikeid': 'total'})\n",
    "\n",
    "# 3. visualisasi dengan seaborn (bar plot)\n",
    "plt.figure(figsize=(15,4))\n",
    "\n",
    "sns.barplot(data=total_by_age, x='age', y='total', hue='usertype')\n",
    "\n",
    "plt.ylabel('TOTAL')\n",
    "plt.xlabel('UMUR')\n",
    "plt.show()"
   ]
  },
  {
   "cell_type": "markdown",
   "metadata": {},
   "source": [
    "### Line Plot"
   ]
  },
  {
   "cell_type": "code",
   "execution_count": 67,
   "metadata": {},
   "outputs": [
    {
     "data": {
      "text/plain": [
       "<matplotlib.axes._subplots.AxesSubplot at 0x1fdd1425e48>"
      ]
     },
     "execution_count": 67,
     "metadata": {},
     "output_type": "execute_result"
    },
    {
     "data": {
      "image/png": "[encoded data removed]",
      "text/plain": [
       "<Figure size 1080x288 with 1 Axes>"
      ]
     },
     "metadata": {
      "needs_background": "light"
     },
     "output_type": "display_data"
    }
   ],
   "source": [
    "# 2. Berapa total trip di setiap tanggal ('2018-08-01' , 'year-month-date') , dan coba visualisasikan\n",
    "\n",
    "# - ekstrak data tanggal\n",
    "df_bike['date'] = df_bike['starttime'].dt.strftime('%Y-%m-%d')\n",
    "\n",
    "# - aggregasi data\n",
    "total_by_date = df_bike.groupby('date', as_index=False)['bikeid'].count() \\\n",
    "                       .rename(columns={'bikeid': 'total'})\n",
    "\n",
    "total_by_date['date'] = pd.to_datetime(total_by_date['date'])\n",
    "\n",
    "# - visualisasi data\n",
    "plt.figure(figsize=(15,4))\n",
    "sns.lineplot(data=total_by_date, x='date', y='total')"
   ]
  },
  {
   "cell_type": "code",
   "execution_count": 82,
   "metadata": {},
   "outputs": [
    {
     "data": {
      "text/plain": [
       "<matplotlib.axes._subplots.AxesSubplot at 0x1fdcecaec08>"
      ]
     },
     "execution_count": 82,
     "metadata": {},
     "output_type": "execute_result"
    },
    {
     "data": {
      "image/png": "[encoded data removed]",
      "text/plain": [
       "<Figure size 1080x288 with 1 Axes>"
      ]
     },
     "metadata": {
      "needs_background": "light"
     },
     "output_type": "display_data"
    }
   ],
   "source": [
    "# Aggregasi Data\n",
    "# - yang ingin kita cari (hari dan usertype)\n",
    "# - yang ingin kita hitung\n",
    "# - fungsi aggregasi\n",
    "\n",
    "total_by_usertype = df_bike.groupby(['date', 'usertype'], as_index=False)['bikeid'].count()\n",
    "\n",
    "total_by_usertype['date'] = pd.to_datetime(total_by_usertype['date'])\n",
    "\n",
    "plt.figure(figsize=(15,4))\n",
    "sns.lineplot(data=total_by_usertype, x='date', y='bikeid', hue='usertype')"
   ]
  },
  {
   "cell_type": "markdown",
   "metadata": {},
   "source": [
    "## Data Analysis Process"
   ]
  },
  {
   "cell_type": "markdown",
   "metadata": {},
   "source": [
    "Question - Wrangle - Explore - Conclusion - Communicate"
   ]
  },
  {
   "cell_type": "code",
   "execution_count": 104,
   "metadata": {},
   "outputs": [
    {
     "data": {
      "text/html": [
       "<div>\n",
       "<style scoped>\n",
       "    .dataframe tbody tr th:only-of-type {\n",
       "        vertical-align: middle;\n",
       "    }\n",
       "\n",
       "    .dataframe tbody tr th {\n",
       "        vertical-align: top;\n",
       "    }\n",
       "\n",
       "    .dataframe thead th {\n",
       "        text-align: right;\n",
       "    }\n",
       "</style>\n",
       "<table border=\"1\" class=\"dataframe\">\n",
       "  <thead>\n",
       "    <tr style=\"text-align: right;\">\n",
       "      <th></th>\n",
       "      <th>video_id</th>\n",
       "      <th>trending_date</th>\n",
       "      <th>title</th>\n",
       "      <th>channel_title</th>\n",
       "      <th>publish_time</th>\n",
       "      <th>views</th>\n",
       "      <th>likes</th>\n",
       "      <th>dislikes</th>\n",
       "      <th>comment_count</th>\n",
       "      <th>category_name</th>\n",
       "    </tr>\n",
       "  </thead>\n",
       "  <tbody>\n",
       "    <tr>\n",
       "      <th>0</th>\n",
       "      <td>2kyS6SvSYSE</td>\n",
       "      <td>17.14.11</td>\n",
       "      <td>WE WANT TO TALK ABOUT OUR MARRIAGE</td>\n",
       "      <td>CaseyNeistat</td>\n",
       "      <td>2017-11-13T17:13:01.000Z</td>\n",
       "      <td>748374</td>\n",
       "      <td>57527</td>\n",
       "      <td>2966</td>\n",
       "      <td>15954</td>\n",
       "      <td>People and Blogs</td>\n",
       "    </tr>\n",
       "    <tr>\n",
       "      <th>1</th>\n",
       "      <td>1ZAPwfrtAFY</td>\n",
       "      <td>17.14.11</td>\n",
       "      <td>The Trump Presidency: Last Week Tonight with J...</td>\n",
       "      <td>LastWeekTonight</td>\n",
       "      <td>2017-11-13T07:30:00.000Z</td>\n",
       "      <td>2418783</td>\n",
       "      <td>97185</td>\n",
       "      <td>6146</td>\n",
       "      <td>12703</td>\n",
       "      <td>Entertainment</td>\n",
       "    </tr>\n",
       "  </tbody>\n",
       "</table>\n",
       "</div>"
      ],
      "text/plain": [
       "      video_id trending_date  \\\n",
       "0  2kyS6SvSYSE      17.14.11   \n",
       "1  1ZAPwfrtAFY      17.14.11   \n",
       "\n",
       "                                               title    channel_title  \\\n",
       "0                 WE WANT TO TALK ABOUT OUR MARRIAGE     CaseyNeistat   \n",
       "1  The Trump Presidency: Last Week Tonight with J...  LastWeekTonight   \n",
       "\n",
       "               publish_time    views  likes  dislikes  comment_count  \\\n",
       "0  2017-11-13T17:13:01.000Z   748374  57527      2966          15954   \n",
       "1  2017-11-13T07:30:00.000Z  2418783  97185      6146          12703   \n",
       "\n",
       "      category_name  \n",
       "0  People and Blogs  \n",
       "1     Entertainment  "
      ]
     },
     "execution_count": 104,
     "metadata": {},
     "output_type": "execute_result"
    }
   ],
   "source": [
    "df_youtube.head(2)"
   ]
  },
  {
   "cell_type": "code",
   "execution_count": 114,
   "metadata": {},
   "outputs": [
    {
     "name": "stdout",
     "output_type": "stream",
     "text": [
      "<class 'pandas.core.frame.DataFrame'>\n",
      "RangeIndex: 40949 entries, 0 to 40948\n",
      "Data columns (total 10 columns):\n",
      " #   Column         Non-Null Count  Dtype \n",
      "---  ------         --------------  ----- \n",
      " 0   video_id       40949 non-null  object\n",
      " 1   trending_date  40949 non-null  object\n",
      " 2   title          40949 non-null  object\n",
      " 3   channel_title  40949 non-null  object\n",
      " 4   publish_time   40949 non-null  object\n",
      " 5   views          40949 non-null  int64 \n",
      " 6   likes          40949 non-null  int64 \n",
      " 7   dislikes       40949 non-null  int64 \n",
      " 8   comment_count  40949 non-null  int64 \n",
      " 9   category_name  40949 non-null  object\n",
      "dtypes: int64(4), object(6)\n",
      "memory usage: 3.1+ MB\n"
     ]
    }
   ],
   "source": [
    "df_youtube.info()"
   ]
  },
  {
   "cell_type": "markdown",
   "metadata": {},
   "source": [
    "#### Question"
   ]
  },
  {
   "cell_type": "markdown",
   "metadata": {},
   "source": [
    "1. 5 Channel yang memiliki jumlah video paling banyak yang masuk trending?\n",
    "2. 5 Video yang memiliki likes to views ratio paling tinggi?\n",
    "3. ......"
   ]
  },
  {
   "cell_type": "markdown",
   "metadata": {},
   "source": [
    "#### Wrangle"
   ]
  },
  {
   "cell_type": "code",
   "execution_count": 116,
   "metadata": {},
   "outputs": [],
   "source": [
    "# 1. Buat \"likes to view\" ratio pada data\n",
    "df_youtube['likes_to_view_ratio'] = df_youtube['likes'] / df_youtube['views']"
   ]
  },
  {
   "cell_type": "markdown",
   "metadata": {},
   "source": [
    "#### Explore"
   ]
  },
  {
   "cell_type": "markdown",
   "metadata": {},
   "source": [
    "#### 1. 5 Channel dengan video trending terbanyak"
   ]
  },
  {
   "cell_type": "code",
   "execution_count": 121,
   "metadata": {},
   "outputs": [
    {
     "data": {
      "text/html": [
       "<div>\n",
       "<style scoped>\n",
       "    .dataframe tbody tr th:only-of-type {\n",
       "        vertical-align: middle;\n",
       "    }\n",
       "\n",
       "    .dataframe tbody tr th {\n",
       "        vertical-align: top;\n",
       "    }\n",
       "\n",
       "    .dataframe thead th {\n",
       "        text-align: right;\n",
       "    }\n",
       "</style>\n",
       "<table border=\"1\" class=\"dataframe\">\n",
       "  <thead>\n",
       "    <tr style=\"text-align: right;\">\n",
       "      <th></th>\n",
       "      <th>channel_title</th>\n",
       "      <th>total</th>\n",
       "    </tr>\n",
       "  </thead>\n",
       "  <tbody>\n",
       "    <tr>\n",
       "      <th>555</th>\n",
       "      <td>ESPN</td>\n",
       "      <td>203</td>\n",
       "    </tr>\n",
       "    <tr>\n",
       "      <th>1785</th>\n",
       "      <td>The Tonight Show Starring Jimmy Fallon</td>\n",
       "      <td>197</td>\n",
       "    </tr>\n",
       "    <tr>\n",
       "      <th>1943</th>\n",
       "      <td>Vox</td>\n",
       "      <td>193</td>\n",
       "    </tr>\n",
       "    <tr>\n",
       "      <th>1271</th>\n",
       "      <td>Netflix</td>\n",
       "      <td>193</td>\n",
       "    </tr>\n",
       "    <tr>\n",
       "      <th>1804</th>\n",
       "      <td>TheEllenShow</td>\n",
       "      <td>193</td>\n",
       "    </tr>\n",
       "  </tbody>\n",
       "</table>\n",
       "</div>"
      ],
      "text/plain": [
       "                               channel_title  total\n",
       "555                                     ESPN    203\n",
       "1785  The Tonight Show Starring Jimmy Fallon    197\n",
       "1943                                     Vox    193\n",
       "1271                                 Netflix    193\n",
       "1804                            TheEllenShow    193"
      ]
     },
     "execution_count": 121,
     "metadata": {},
     "output_type": "execute_result"
    }
   ],
   "source": [
    "# Aggregasi data\n",
    "# - yang kita cari: channel_title\n",
    "# - yang kita hitung: ..\n",
    "# - fungsi aggregasi: count\n",
    "\n",
    "df_youtube.groupby('channel_title', as_index=False)['likes'].count() \\\n",
    "          .rename(columns={'likes': 'total'}) \\\n",
    "          .sort_values('total', ascending=False) \\\n",
    "          .head()"
   ]
  },
  {
   "cell_type": "markdown",
   "metadata": {},
   "source": [
    "#### 2. 5 Video dengan likes to view ratio tertinggi"
   ]
  },
  {
   "cell_type": "code",
   "execution_count": 131,
   "metadata": {},
   "outputs": [
    {
     "data": {
      "text/html": [
       "<div>\n",
       "<style scoped>\n",
       "    .dataframe tbody tr th:only-of-type {\n",
       "        vertical-align: middle;\n",
       "    }\n",
       "\n",
       "    .dataframe tbody tr th {\n",
       "        vertical-align: top;\n",
       "    }\n",
       "\n",
       "    .dataframe thead th {\n",
       "        text-align: right;\n",
       "    }\n",
       "</style>\n",
       "<table border=\"1\" class=\"dataframe\">\n",
       "  <thead>\n",
       "    <tr style=\"text-align: right;\">\n",
       "      <th></th>\n",
       "      <th>title</th>\n",
       "      <th>channel_title</th>\n",
       "      <th>likes_to_view_ratio</th>\n",
       "    </tr>\n",
       "  </thead>\n",
       "  <tbody>\n",
       "    <tr>\n",
       "      <th>10200</th>\n",
       "      <td>Bruno Mars - Finesse (Remix) [Feat. Cardi B] [...</td>\n",
       "      <td>Bruno Mars</td>\n",
       "      <td>0.290466</td>\n",
       "    </tr>\n",
       "    <tr>\n",
       "      <th>608</th>\n",
       "      <td>Luis Fonsi, Demi Lovato - Échame La Culpa</td>\n",
       "      <td>LuisFonsiVEVO</td>\n",
       "      <td>0.270613</td>\n",
       "    </tr>\n",
       "    <tr>\n",
       "      <th>22174</th>\n",
       "      <td>j-hope 'Airplane' MV</td>\n",
       "      <td>ibighit</td>\n",
       "      <td>0.265732</td>\n",
       "    </tr>\n",
       "    <tr>\n",
       "      <th>14428</th>\n",
       "      <td>dodie - Secret For The Mad</td>\n",
       "      <td>dodieVEVO</td>\n",
       "      <td>0.253659</td>\n",
       "    </tr>\n",
       "    <tr>\n",
       "      <th>5025</th>\n",
       "      <td>Louis Tomlinson - Miss You (Official Video)</td>\n",
       "      <td>LouisTomlinsonVEVO</td>\n",
       "      <td>0.245111</td>\n",
       "    </tr>\n",
       "  </tbody>\n",
       "</table>\n",
       "</div>"
      ],
      "text/plain": [
       "                                                   title       channel_title  \\\n",
       "10200  Bruno Mars - Finesse (Remix) [Feat. Cardi B] [...          Bruno Mars   \n",
       "608            Luis Fonsi, Demi Lovato - Échame La Culpa       LuisFonsiVEVO   \n",
       "22174                               j-hope 'Airplane' MV             ibighit   \n",
       "14428                         dodie - Secret For The Mad           dodieVEVO   \n",
       "5025         Louis Tomlinson - Miss You (Official Video)  LouisTomlinsonVEVO   \n",
       "\n",
       "       likes_to_view_ratio  \n",
       "10200             0.290466  \n",
       "608               0.270613  \n",
       "22174             0.265732  \n",
       "14428             0.253659  \n",
       "5025              0.245111  "
      ]
     },
     "execution_count": 131,
     "metadata": {},
     "output_type": "execute_result"
    }
   ],
   "source": [
    "df_youtube.sort_values('likes_to_view_ratio', ascending=False)\\\n",
    "          .head()[['title', 'channel_title', 'likes_to_view_ratio']]"
   ]
  },
  {
   "cell_type": "markdown",
   "metadata": {},
   "source": [
    "#### Conclusion"
   ]
  },
  {
   "cell_type": "markdown",
   "metadata": {},
   "source": [
    "1. Channel yang memiliki jumlah video trending di Youtube adalah **Channel ESPN dengan total video sebanyak 203.**\n",
    "\n",
    "2. Video yang memiliki likes to view ratio paling tinggi adalah video dari **Bruno Mars - Bruno Mars - Finesse (Remix) (Feat. Cardi B) dengan likes to view ratio 29%**"
   ]
  }
 ],
 "metadata": {
  "kernelspec": {
   "display_name": "Python 3",
   "language": "python",
   "name": "python3"
  },
  "language_info": {
   "codemirror_mode": {
    "name": "ipython",
    "version": 3
   },
   "file_extension": ".py",
   "mimetype": "text/x-python",
   "name": "python",
   "nbconvert_exporter": "python",
   "pygments_lexer": "ipython3",
   "version": "3.8.3"
  }
 },
 "nbformat": 4,
 "nbformat_minor": 4
}
