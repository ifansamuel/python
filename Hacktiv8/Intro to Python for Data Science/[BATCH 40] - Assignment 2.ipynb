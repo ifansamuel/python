{
 "cells": [
  {
   "cell_type": "code",
   "execution_count": 10,
   "metadata": {},
   "outputs": [],
   "source": [
    "import pandasql\n",
    "import pandas as pd\n",
    "import seaborn as sns\n",
    "import matplotlib.pyplot as plt"
   ]
  },
  {
   "cell_type": "code",
   "execution_count": 2,
   "metadata": {},
   "outputs": [],
   "source": [
    "df_sales = pd.read_csv('https://raw.githubusercontent.com/dzakyputra/data/master/ecommerce.csv')"
   ]
  },
  {
   "cell_type": "code",
   "execution_count": 8,
   "metadata": {},
   "outputs": [
    {
     "data": {
      "text/html": [
       "<div>\n",
       "<style scoped>\n",
       "    .dataframe tbody tr th:only-of-type {\n",
       "        vertical-align: middle;\n",
       "    }\n",
       "\n",
       "    .dataframe tbody tr th {\n",
       "        vertical-align: top;\n",
       "    }\n",
       "\n",
       "    .dataframe thead th {\n",
       "        text-align: right;\n",
       "    }\n",
       "</style>\n",
       "<table border=\"1\" class=\"dataframe\">\n",
       "  <thead>\n",
       "    <tr style=\"text-align: right;\">\n",
       "      <th></th>\n",
       "      <th>order_id</th>\n",
       "      <th>order_datetime</th>\n",
       "      <th>delivery_start_date</th>\n",
       "      <th>delivery_end_date</th>\n",
       "      <th>customer_name</th>\n",
       "      <th>customer_city</th>\n",
       "      <th>seller_name</th>\n",
       "      <th>seller_city</th>\n",
       "      <th>product_id</th>\n",
       "      <th>product_category</th>\n",
       "      <th>product_weight</th>\n",
       "      <th>product_cost</th>\n",
       "      <th>delivery_cost</th>\n",
       "      <th>payment_type</th>\n",
       "      <th>payment_installments</th>\n",
       "    </tr>\n",
       "  </thead>\n",
       "  <tbody>\n",
       "    <tr>\n",
       "      <th>0</th>\n",
       "      <td>23</td>\n",
       "      <td>2017-08-19 14:06:58</td>\n",
       "      <td>2017-08-29 00:00:00</td>\n",
       "      <td>2017-09-15 00:00:00</td>\n",
       "      <td>Judy Haley</td>\n",
       "      <td>gravatai</td>\n",
       "      <td>Lisa Hartung</td>\n",
       "      <td>maua</td>\n",
       "      <td>P_3</td>\n",
       "      <td>sports_leisure</td>\n",
       "      <td>600.0</td>\n",
       "      <td>29.90</td>\n",
       "      <td>14.10</td>\n",
       "      <td>ticket</td>\n",
       "      <td>1</td>\n",
       "    </tr>\n",
       "    <tr>\n",
       "      <th>1</th>\n",
       "      <td>45</td>\n",
       "      <td>2017-09-20 11:49:49</td>\n",
       "      <td>2017-09-22 00:00:00</td>\n",
       "      <td>2017-10-05 00:00:00</td>\n",
       "      <td>Jerry Amsterdam</td>\n",
       "      <td>sao paulo</td>\n",
       "      <td>Lisa Hartung</td>\n",
       "      <td>maua</td>\n",
       "      <td>P_9</td>\n",
       "      <td>sports_leisure</td>\n",
       "      <td>400.0</td>\n",
       "      <td>24.99</td>\n",
       "      <td>8.72</td>\n",
       "      <td>credit_card</td>\n",
       "      <td>1</td>\n",
       "    </tr>\n",
       "    <tr>\n",
       "      <th>2</th>\n",
       "      <td>47</td>\n",
       "      <td>2017-08-19 19:25:41</td>\n",
       "      <td>2017-08-31 00:00:00</td>\n",
       "      <td>2017-09-21 00:00:00</td>\n",
       "      <td>Wanda Amaral</td>\n",
       "      <td>salvador</td>\n",
       "      <td>Lisa Hartung</td>\n",
       "      <td>maua</td>\n",
       "      <td>P_11</td>\n",
       "      <td>sports_leisure</td>\n",
       "      <td>400.0</td>\n",
       "      <td>29.90</td>\n",
       "      <td>15.79</td>\n",
       "      <td>credit_card</td>\n",
       "      <td>2</td>\n",
       "    </tr>\n",
       "    <tr>\n",
       "      <th>3</th>\n",
       "      <td>228</td>\n",
       "      <td>2018-02-07 13:51:11</td>\n",
       "      <td>2018-02-19 00:00:00</td>\n",
       "      <td>2018-03-08 00:00:00</td>\n",
       "      <td>Lisa Cremer</td>\n",
       "      <td>sarandi</td>\n",
       "      <td>Preston Corsi</td>\n",
       "      <td>sao goncalo</td>\n",
       "      <td>P_19</td>\n",
       "      <td>health_beauty</td>\n",
       "      <td>390.0</td>\n",
       "      <td>119.90</td>\n",
       "      <td>15.59</td>\n",
       "      <td>ticket</td>\n",
       "      <td>1</td>\n",
       "    </tr>\n",
       "    <tr>\n",
       "      <th>4</th>\n",
       "      <td>229</td>\n",
       "      <td>2018-06-08 21:58:32</td>\n",
       "      <td>2018-06-18 00:00:00</td>\n",
       "      <td>2018-07-05 00:00:00</td>\n",
       "      <td>Derek Dominguez</td>\n",
       "      <td>campo largo</td>\n",
       "      <td>Preston Corsi</td>\n",
       "      <td>sao goncalo</td>\n",
       "      <td>P_19</td>\n",
       "      <td>health_beauty</td>\n",
       "      <td>390.0</td>\n",
       "      <td>119.50</td>\n",
       "      <td>15.72</td>\n",
       "      <td>credit_card</td>\n",
       "      <td>2</td>\n",
       "    </tr>\n",
       "  </tbody>\n",
       "</table>\n",
       "</div>"
      ],
      "text/plain": [
       "   order_id       order_datetime  delivery_start_date    delivery_end_date  \\\n",
       "0        23  2017-08-19 14:06:58  2017-08-29 00:00:00  2017-09-15 00:00:00   \n",
       "1        45  2017-09-20 11:49:49  2017-09-22 00:00:00  2017-10-05 00:00:00   \n",
       "2        47  2017-08-19 19:25:41  2017-08-31 00:00:00  2017-09-21 00:00:00   \n",
       "3       228  2018-02-07 13:51:11  2018-02-19 00:00:00  2018-03-08 00:00:00   \n",
       "4       229  2018-06-08 21:58:32  2018-06-18 00:00:00  2018-07-05 00:00:00   \n",
       "\n",
       "     customer_name customer_city    seller_name  seller_city product_id  \\\n",
       "0       Judy Haley      gravatai   Lisa Hartung         maua        P_3   \n",
       "1  Jerry Amsterdam     sao paulo   Lisa Hartung         maua        P_9   \n",
       "2     Wanda Amaral      salvador   Lisa Hartung         maua       P_11   \n",
       "3      Lisa Cremer       sarandi  Preston Corsi  sao goncalo       P_19   \n",
       "4  Derek Dominguez   campo largo  Preston Corsi  sao goncalo       P_19   \n",
       "\n",
       "  product_category  product_weight  product_cost  delivery_cost payment_type  \\\n",
       "0   sports_leisure           600.0         29.90          14.10       ticket   \n",
       "1   sports_leisure           400.0         24.99           8.72  credit_card   \n",
       "2   sports_leisure           400.0         29.90          15.79  credit_card   \n",
       "3    health_beauty           390.0        119.90          15.59       ticket   \n",
       "4    health_beauty           390.0        119.50          15.72  credit_card   \n",
       "\n",
       "   payment_installments  \n",
       "0                     1  \n",
       "1                     1  \n",
       "2                     2  \n",
       "3                     1  \n",
       "4                     2  "
      ]
     },
     "execution_count": 8,
     "metadata": {},
     "output_type": "execute_result"
    }
   ],
   "source": [
    "df_sales.head()"
   ]
  },
  {
   "cell_type": "code",
   "execution_count": 24,
   "metadata": {},
   "outputs": [
    {
     "data": {
      "text/plain": [
       "<matplotlib.axes._subplots.AxesSubplot at 0x1b543f8b6c8>"
      ]
     },
     "execution_count": 24,
     "metadata": {},
     "output_type": "execute_result"
    },
    {
     "data": {
      "image/png": "[encoded data removed]",
      "text/plain": [
       "<Figure size 720x360 with 1 Axes>"
      ]
     },
     "metadata": {
      "needs_background": "light"
     },
     "output_type": "display_data"
    }
   ],
   "source": [
    "# 1. Cari \"product_category\" yang menyumbangkan revenue paling banyak (dilihat dari \"product_cost\"), \n",
    "#    dan visualisasikan menggunakan Bar Plot!\n",
    "\n",
    "\n",
    "# PANDAS\n",
    "revenue_per_category = df_sales.groupby('product_category', as_index=False)['product_cost'].sum() \\\n",
    "                               .rename(columns={'product_cost': 'total'}) \\\n",
    "                               .sort_values('total', ascending=False)\n",
    "\n",
    "# PANDASQL\n",
    "query = \"\"\"\n",
    "        SELECT\n",
    "            product_category,\n",
    "            SUM(product_cost) AS total\n",
    "        FROM\n",
    "            df_sales\n",
    "        GROUP BY\n",
    "            product_category\n",
    "        ORDER BY\n",
    "            total DESC\n",
    "        \"\"\"\n",
    "\n",
    "result = pandasql.sqldf(query)\n",
    "\n",
    "plt.figure(figsize=(10,5))\n",
    "sns.barplot(data=result, x='product_category', y='total')"
   ]
  },
  {
   "cell_type": "code",
   "execution_count": 42,
   "metadata": {},
   "outputs": [
    {
     "name": "stdout",
     "output_type": "stream",
     "text": [
      "<class 'pandas.core.frame.DataFrame'>\n",
      "RangeIndex: 26079 entries, 0 to 26078\n",
      "Data columns (total 16 columns):\n",
      " #   Column                Non-Null Count  Dtype         \n",
      "---  ------                --------------  -----         \n",
      " 0   order_id              26079 non-null  int64         \n",
      " 1   order_datetime        26079 non-null  datetime64[ns]\n",
      " 2   delivery_start_date   26079 non-null  object        \n",
      " 3   delivery_end_date     26079 non-null  object        \n",
      " 4   customer_name         26079 non-null  object        \n",
      " 5   customer_city         26079 non-null  object        \n",
      " 6   seller_name           26079 non-null  object        \n",
      " 7   seller_city           26079 non-null  object        \n",
      " 8   product_id            26079 non-null  object        \n",
      " 9   product_category      26079 non-null  object        \n",
      " 10  product_weight        26079 non-null  float64       \n",
      " 11  product_cost          26079 non-null  float64       \n",
      " 12  delivery_cost         26079 non-null  float64       \n",
      " 13  payment_type          26079 non-null  object        \n",
      " 14  payment_installments  26079 non-null  int64         \n",
      " 15  order_month           26079 non-null  datetime64[ns]\n",
      "dtypes: datetime64[ns](2), float64(3), int64(2), object(9)\n",
      "memory usage: 3.2+ MB\n"
     ]
    }
   ],
   "source": [
    "df_sales.info()"
   ]
  },
  {
   "cell_type": "code",
   "execution_count": 46,
   "metadata": {},
   "outputs": [
    {
     "data": {
      "image/png": "[encoded data removed]",
      "text/plain": [
       "<Figure size 1080x360 with 1 Axes>"
      ]
     },
     "metadata": {
      "needs_background": "light"
     },
     "output_type": "display_data"
    }
   ],
   "source": [
    "# 2. Tampilkan pergerakan total produk \"health_beauty\" yang terjual di setiap bulan pada kota \"sao paulo\"\n",
    "#    dan visualisasikan menggunakan Line Plot!\n",
    "\n",
    "# Ubah tipe data order_datetime ke datetime\n",
    "df_sales['order_datetime'] = pd.to_datetime(df_sales['order_datetime'])\n",
    "\n",
    "# Ekstrak nilai bulan (2017-01, 2017-02, etc)\n",
    "df_sales['order_month'] = df_sales['order_datetime'].dt.strftime('%Y-%m')\n",
    "\n",
    "# PANDAS\n",
    "total = df_sales.groupby(['order_month', 'product_category', 'customer_city'], as_index=False)['order_id'].count() \\\n",
    "                .rename(columns={'order_id': 'total'})\n",
    "\n",
    "final_total = total[(total['product_category'] == 'health_beauty') & (total['customer_city'] == 'sao paulo')]\n",
    "\n",
    "# PANDASQL\n",
    "query = \"\"\"\n",
    "        SELECT\n",
    "            order_month,\n",
    "            product_category,\n",
    "            customer_city,\n",
    "            COUNT(*) AS total\n",
    "        FROM\n",
    "            df_sales\n",
    "        WHERE\n",
    "            product_category = 'health_beauty'\n",
    "            AND customer_city = 'sao paulo'\n",
    "        GROUP BY\n",
    "            order_month,\n",
    "            product_category,\n",
    "            customer_city\n",
    "        \"\"\"\n",
    "\n",
    "result = pandasql.sqldf(query)\n",
    "\n",
    "result\n",
    "\n",
    "plt.figure(figsize=(15,5))\n",
    "sns.lineplot(data=result, x='order_month', y='total')\n",
    "plt.xticks(rotation=90)\n",
    "plt.show()"
   ]
  }
 ],
 "metadata": {
  "kernelspec": {
   "display_name": "Python 3",
   "language": "python",
   "name": "python3"
  },
  "language_info": {
   "codemirror_mode": {
    "name": "ipython",
    "version": 3
   },
   "file_extension": ".py",
   "mimetype": "text/x-python",
   "name": "python",
   "nbconvert_exporter": "python",
   "pygments_lexer": "ipython3",
   "version": "3.7.6"
  }
 },
 "nbformat": 4,
 "nbformat_minor": 4
}
