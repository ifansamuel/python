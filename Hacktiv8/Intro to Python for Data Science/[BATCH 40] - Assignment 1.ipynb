{
 "cells": [
  {
   "cell_type": "code",
   "execution_count": 1,
   "metadata": {},
   "outputs": [],
   "source": [
    "# Buat sebuah function yang dapat mengkonversi suhu dari Celcius dan Reamur\n",
    "\n",
    "# Input: 1 String\n",
    "# Output: 1 String\n",
    "\n",
    "# Input: '25C'\n",
    "# Output: '..R'\n",
    "\n",
    "def konversi_suhu(suhu):\n",
    "    \n",
    "    # 1. kita ambil suhu nya\n",
    "    suhu_awal = suhu[-1]\n",
    "    \n",
    "    # 2. kita ambil derajatnya (angka)\n",
    "    derajat = suhu[:-1]\n",
    "    \n",
    "    # 3. convert sesuai dengan rule\n",
    "    if suhu_awal == 'C':\n",
    "        derajat_akhir = (4/5) * int(derajat)\n",
    "        return str(derajat_akhir) + 'R'\n",
    "    \n",
    "    elif suhu_awal == 'R':\n",
    "        derajat_akhir = (5/4) * int(derajat)\n",
    "        return str(derajat_akhir) + 'C'\n",
    "    \n",
    "    else:\n",
    "        return 'Silahkan masukan suhu dalam celcius atau reamur'"
   ]
  },
  {
   "cell_type": "code",
   "execution_count": 2,
   "metadata": {},
   "outputs": [
    {
     "data": {
      "text/plain": [
       "'80.0R'"
      ]
     },
     "execution_count": 2,
     "metadata": {},
     "output_type": "execute_result"
    }
   ],
   "source": [
    "konversi_suhu('100C')"
   ]
  }
 ],
 "metadata": {
  "kernelspec": {
   "display_name": "Python 3",
   "language": "python",
   "name": "python3"
  },
  "language_info": {
   "codemirror_mode": {
    "name": "ipython",
    "version": 3
   },
   "file_extension": ".py",
   "mimetype": "text/x-python",
   "name": "python",
   "nbconvert_exporter": "python",
   "pygments_lexer": "ipython3",
   "version": "3.7.6"
  }
 },
 "nbformat": 4,
 "nbformat_minor": 4
}
