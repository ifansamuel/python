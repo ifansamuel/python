{
  "nbformat": 4,
  "nbformat_minor": 0,
  "metadata": {
    "colab": {
      "name": "Intro to Python - 1 20200818.ipynb",
      "provenance": []
    },
    "kernelspec": {
      "name": "python3",
      "display_name": "Python 3"
    }
  },
  "cells": [
    {
      "cell_type": "markdown",
      "metadata": {
        "id": "oIOes4ANhhNJ",
        "colab_type": "text"
      },
      "source": [
        "# DATA TYPE"
      ]
    },
    {
      "cell_type": "markdown",
      "metadata": {
        "id": "AGI0Ari6lTwb",
        "colab_type": "text"
      },
      "source": [
        "##Integer"
      ]
    },
    {
      "cell_type": "code",
      "metadata": {
        "id": "4F-NEYnSgcJW",
        "colab_type": "code",
        "colab": {
          "base_uri": "https://localhost:8080/",
          "height": 34
        },
        "outputId": "7b830654-52df-45df-8f1c-8d0d3f7ecbe7"
      },
      "source": [
        "a = 5\n",
        "print(a)"
      ],
      "execution_count": null,
      "outputs": [
        {
          "output_type": "stream",
          "text": [
            "5\n"
          ],
          "name": "stdout"
        }
      ]
    },
    {
      "cell_type": "markdown",
      "metadata": {
        "id": "3MvuerDcmMMc",
        "colab_type": "text"
      },
      "source": [
        "##Float"
      ]
    },
    {
      "cell_type": "code",
      "metadata": {
        "id": "xQ84GxWGhDpT",
        "colab_type": "code",
        "colab": {
          "base_uri": "https://localhost:8080/",
          "height": 34
        },
        "outputId": "18f6a13f-2094-4a57-8dc8-fd410ad7dbe3"
      },
      "source": [
        "a = 3.5\n",
        "print(a)"
      ],
      "execution_count": null,
      "outputs": [
        {
          "output_type": "stream",
          "text": [
            "3.5\n"
          ],
          "name": "stdout"
        }
      ]
    },
    {
      "cell_type": "markdown",
      "metadata": {
        "id": "3nMVPWV1mUtw",
        "colab_type": "text"
      },
      "source": [
        "##String"
      ]
    },
    {
      "cell_type": "code",
      "metadata": {
        "id": "0ZJ07XjRhe8v",
        "colab_type": "code",
        "colab": {
          "base_uri": "https://localhost:8080/",
          "height": 34
        },
        "outputId": "b89c0ba5-b022-4192-93c8-417b59cb5807"
      },
      "source": [
        "a = 'String'\n",
        "print(a)"
      ],
      "execution_count": null,
      "outputs": [
        {
          "output_type": "stream",
          "text": [
            "String\n"
          ],
          "name": "stdout"
        }
      ]
    },
    {
      "cell_type": "markdown",
      "metadata": {
        "id": "t0-V0ZommZ5p",
        "colab_type": "text"
      },
      "source": [
        "##Boolean"
      ]
    },
    {
      "cell_type": "code",
      "metadata": {
        "id": "fB0oECPgmX3c",
        "colab_type": "code",
        "colab": {
          "base_uri": "https://localhost:8080/",
          "height": 34
        },
        "outputId": "ec9053c0-fa5c-4f6d-c2fb-01a6b21c0e2e"
      },
      "source": [
        "a = True\n",
        "print(a)"
      ],
      "execution_count": null,
      "outputs": [
        {
          "output_type": "stream",
          "text": [
            "True\n"
          ],
          "name": "stdout"
        }
      ]
    },
    {
      "cell_type": "markdown",
      "metadata": {
        "id": "_-_YBDIBmiHs",
        "colab_type": "text"
      },
      "source": [
        "##List"
      ]
    },
    {
      "cell_type": "code",
      "metadata": {
        "id": "SRcUJdPemdPB",
        "colab_type": "code",
        "colab": {
          "base_uri": "https://localhost:8080/",
          "height": 34
        },
        "outputId": "563b7f06-86b8-43d9-edeb-230c060f5a8c"
      },
      "source": [
        "f = [1,2,3,4]\n",
        "print(f)"
      ],
      "execution_count": null,
      "outputs": [
        {
          "output_type": "stream",
          "text": [
            "[1, 2, 3, 4]\n"
          ],
          "name": "stdout"
        }
      ]
    },
    {
      "cell_type": "code",
      "metadata": {
        "id": "GKyX5c6BqHiC",
        "colab_type": "code",
        "colab": {}
      },
      "source": [
        "#index > urutan value di dlm list\n",
        "#value > nilai dari list\n"
      ],
      "execution_count": null,
      "outputs": []
    },
    {
      "cell_type": "code",
      "metadata": {
        "id": "Nm3foc1Fshxz",
        "colab_type": "code",
        "colab": {}
      },
      "source": [
        "list = []"
      ],
      "execution_count": null,
      "outputs": []
    },
    {
      "cell_type": "code",
      "metadata": {
        "id": "0j0Z1-XQsjKI",
        "colab_type": "code",
        "colab": {}
      },
      "source": [
        "list.append(5)"
      ],
      "execution_count": null,
      "outputs": []
    },
    {
      "cell_type": "code",
      "metadata": {
        "id": "ioN-dR47skVu",
        "colab_type": "code",
        "colab": {
          "base_uri": "https://localhost:8080/",
          "height": 34
        },
        "outputId": "148c99bd-e272-4d6c-83da-55609a9c6a1a"
      },
      "source": [
        "list"
      ],
      "execution_count": null,
      "outputs": [
        {
          "output_type": "execute_result",
          "data": {
            "text/plain": [
              "[3, 5]"
            ]
          },
          "metadata": {
            "tags": []
          },
          "execution_count": 18
        }
      ]
    },
    {
      "cell_type": "markdown",
      "metadata": {
        "id": "4PWznNTFqPc0",
        "colab_type": "text"
      },
      "source": [
        "##Dictionary"
      ]
    },
    {
      "cell_type": "code",
      "metadata": {
        "id": "qLW61hkDqSlm",
        "colab_type": "code",
        "colab": {
          "base_uri": "https://localhost:8080/",
          "height": 35
        },
        "outputId": "b6fedc4e-f4c2-422a-a0d9-d60000728f8e"
      },
      "source": [
        "kamus = {\n",
        "    a : 'satu',\n",
        "    'dua' : 'dua',\n",
        "    3 : 'tiga'\n",
        "}\n",
        "kamus\n",
        "kamus['dua']"
      ],
      "execution_count": null,
      "outputs": [
        {
          "output_type": "execute_result",
          "data": {
            "application/vnd.google.colaboratory.intrinsic+json": {
              "type": "string"
            },
            "text/plain": [
              "'dua'"
            ]
          },
          "metadata": {
            "tags": []
          },
          "execution_count": 12
        }
      ]
    },
    {
      "cell_type": "code",
      "metadata": {
        "id": "gzmhBouvqg-o",
        "colab_type": "code",
        "colab": {}
      },
      "source": [
        "dict = {}"
      ],
      "execution_count": null,
      "outputs": []
    },
    {
      "cell_type": "code",
      "metadata": {
        "id": "Miu9X2BNsuNf",
        "colab_type": "code",
        "colab": {}
      },
      "source": [
        "dict['dua']= 2"
      ],
      "execution_count": null,
      "outputs": []
    },
    {
      "cell_type": "code",
      "metadata": {
        "id": "atWTluqiszjH",
        "colab_type": "code",
        "colab": {
          "base_uri": "https://localhost:8080/",
          "height": 34
        },
        "outputId": "309684db-3d37-429d-eb7d-2095a362d022"
      },
      "source": [
        "dict"
      ],
      "execution_count": null,
      "outputs": [
        {
          "output_type": "execute_result",
          "data": {
            "text/plain": [
              "{1: 'satu', 'dua': 2}"
            ]
          },
          "metadata": {
            "tags": []
          },
          "execution_count": 42
        }
      ]
    },
    {
      "cell_type": "markdown",
      "metadata": {
        "id": "fFH5c9yzs5sZ",
        "colab_type": "text"
      },
      "source": [
        "#Convert data type"
      ]
    },
    {
      "cell_type": "code",
      "metadata": {
        "id": "vj3Gclu6s7Yn",
        "colab_type": "code",
        "colab": {}
      },
      "source": [
        "#int(), float(), str()"
      ],
      "execution_count": null,
      "outputs": []
    },
    {
      "cell_type": "code",
      "metadata": {
        "id": "X8cUs4S9s_FR",
        "colab_type": "code",
        "colab": {
          "base_uri": "https://localhost:8080/",
          "height": 34
        },
        "outputId": "35487740-85c1-4276-907a-4f7dc4ce9a66"
      },
      "source": [
        "a = 32 \n",
        "type(a)"
      ],
      "execution_count": null,
      "outputs": [
        {
          "output_type": "execute_result",
          "data": {
            "text/plain": [
              "int"
            ]
          },
          "metadata": {
            "tags": []
          },
          "execution_count": 22
        }
      ]
    },
    {
      "cell_type": "code",
      "metadata": {
        "id": "QMTTFqCdtDDy",
        "colab_type": "code",
        "colab": {
          "base_uri": "https://localhost:8080/",
          "height": 34
        },
        "outputId": "bf25f9db-6e35-40b3-eb1f-8e456185342a"
      },
      "source": [
        "a='32'\n",
        "type(a)"
      ],
      "execution_count": null,
      "outputs": [
        {
          "output_type": "execute_result",
          "data": {
            "text/plain": [
              "str"
            ]
          },
          "metadata": {
            "tags": []
          },
          "execution_count": 24
        }
      ]
    },
    {
      "cell_type": "code",
      "metadata": {
        "id": "DhMLQvNOtEsZ",
        "colab_type": "code",
        "colab": {
          "base_uri": "https://localhost:8080/",
          "height": 34
        },
        "outputId": "3f61d3b9-b57f-461f-a9f3-01dc6ea1b990"
      },
      "source": [
        "a = '32'\n",
        "a = int(a)\n",
        "type(a)"
      ],
      "execution_count": null,
      "outputs": [
        {
          "output_type": "execute_result",
          "data": {
            "text/plain": [
              "int"
            ]
          },
          "metadata": {
            "tags": []
          },
          "execution_count": 33
        }
      ]
    },
    {
      "cell_type": "code",
      "metadata": {
        "id": "Y7TlfwOptaMN",
        "colab_type": "code",
        "colab": {}
      },
      "source": [
        ""
      ],
      "execution_count": null,
      "outputs": []
    },
    {
      "cell_type": "markdown",
      "metadata": {
        "id": "3VLkCWOOtggl",
        "colab_type": "text"
      },
      "source": [
        "#Operator"
      ]
    },
    {
      "cell_type": "code",
      "metadata": {
        "id": "TsZBiTH8tiS1",
        "colab_type": "code",
        "colab": {}
      },
      "source": [
        ""
      ],
      "execution_count": null,
      "outputs": []
    },
    {
      "cell_type": "markdown",
      "metadata": {
        "id": "EXiRFwFctmxI",
        "colab_type": "text"
      },
      "source": [
        "##Arithmatic"
      ]
    },
    {
      "cell_type": "code",
      "metadata": {
        "id": "DjaTwYsDtxUv",
        "colab_type": "code",
        "colab": {}
      },
      "source": [
        "a = 5\n",
        "b = 10"
      ],
      "execution_count": null,
      "outputs": []
    },
    {
      "cell_type": "code",
      "metadata": {
        "id": "5zOC5W10tz07",
        "colab_type": "code",
        "colab": {
          "base_uri": "https://localhost:8080/",
          "height": 34
        },
        "outputId": "9f45bc56-bdc0-406b-fccb-913efec70f4f"
      },
      "source": [
        "a+b"
      ],
      "execution_count": null,
      "outputs": [
        {
          "output_type": "execute_result",
          "data": {
            "text/plain": [
              "15"
            ]
          },
          "metadata": {
            "tags": []
          },
          "execution_count": 37
        }
      ]
    },
    {
      "cell_type": "code",
      "metadata": {
        "id": "6MYWEY9NuSA2",
        "colab_type": "code",
        "colab": {
          "base_uri": "https://localhost:8080/",
          "height": 34
        },
        "outputId": "3af01199-defa-4787-8c8e-dd7792bc6ad1"
      },
      "source": [
        "a**2"
      ],
      "execution_count": null,
      "outputs": [
        {
          "output_type": "execute_result",
          "data": {
            "text/plain": [
              "25"
            ]
          },
          "metadata": {
            "tags": []
          },
          "execution_count": 38
        }
      ]
    },
    {
      "cell_type": "markdown",
      "metadata": {
        "id": "W1qRZ_aatoic",
        "colab_type": "text"
      },
      "source": [
        "##Comparison"
      ]
    },
    {
      "cell_type": "code",
      "metadata": {
        "id": "IEqDAKh-vNSB",
        "colab_type": "code",
        "colab": {}
      },
      "source": [
        "# <, >, <=, >=, ==, !="
      ],
      "execution_count": null,
      "outputs": []
    },
    {
      "cell_type": "code",
      "metadata": {
        "id": "k60CaMWkvhMM",
        "colab_type": "code",
        "colab": {}
      },
      "source": [
        "a = 5\n",
        "b = 10"
      ],
      "execution_count": null,
      "outputs": []
    },
    {
      "cell_type": "code",
      "metadata": {
        "id": "bnEdIQjMvkuq",
        "colab_type": "code",
        "colab": {
          "base_uri": "https://localhost:8080/",
          "height": 34
        },
        "outputId": "fe971a88-55ec-4a41-8aa0-4b35e661ff2d"
      },
      "source": [
        "a < b"
      ],
      "execution_count": null,
      "outputs": [
        {
          "output_type": "execute_result",
          "data": {
            "text/plain": [
              "True"
            ]
          },
          "metadata": {
            "tags": []
          },
          "execution_count": 47
        }
      ]
    },
    {
      "cell_type": "markdown",
      "metadata": {
        "id": "rorv1uActr6A",
        "colab_type": "text"
      },
      "source": [
        "##Logical"
      ]
    },
    {
      "cell_type": "code",
      "metadata": {
        "id": "ZqD8Nyq3tqFK",
        "colab_type": "code",
        "colab": {}
      },
      "source": [
        "# and, or, not"
      ],
      "execution_count": null,
      "outputs": []
    },
    {
      "cell_type": "markdown",
      "metadata": {
        "id": "hEQ7xqHEuPP3",
        "colab_type": "text"
      },
      "source": [
        "##Membership"
      ]
    },
    {
      "cell_type": "code",
      "metadata": {
        "id": "OakImMZayXa0",
        "colab_type": "code",
        "colab": {}
      },
      "source": [
        "# in, not in"
      ],
      "execution_count": null,
      "outputs": []
    },
    {
      "cell_type": "code",
      "metadata": {
        "id": "W0UU7cpNtu7Y",
        "colab_type": "code",
        "colab": {}
      },
      "source": [
        "numbers = [1, 2, 3, 4, 5]"
      ],
      "execution_count": null,
      "outputs": []
    },
    {
      "cell_type": "code",
      "metadata": {
        "id": "kzl5ntKwydaB",
        "colab_type": "code",
        "colab": {
          "base_uri": "https://localhost:8080/",
          "height": 34
        },
        "outputId": "d28ec64c-fdab-4c75-c216-895acf8438bd"
      },
      "source": [
        "6 in numbers"
      ],
      "execution_count": null,
      "outputs": [
        {
          "output_type": "execute_result",
          "data": {
            "text/plain": [
              "False"
            ]
          },
          "metadata": {
            "tags": []
          },
          "execution_count": 51
        }
      ]
    },
    {
      "cell_type": "code",
      "metadata": {
        "id": "5_hjPm3LyfMb",
        "colab_type": "code",
        "colab": {
          "base_uri": "https://localhost:8080/",
          "height": 34
        },
        "outputId": "9b138849-454a-47ca-eb58-e211fe9d1703"
      },
      "source": [
        "2 in numbers"
      ],
      "execution_count": null,
      "outputs": [
        {
          "output_type": "execute_result",
          "data": {
            "text/plain": [
              "True"
            ]
          },
          "metadata": {
            "tags": []
          },
          "execution_count": 52
        }
      ]
    },
    {
      "cell_type": "code",
      "metadata": {
        "id": "a63fzSwdygXd",
        "colab_type": "code",
        "colab": {}
      },
      "source": [
        "kamus = {\n",
        "    'apple' : 'apel',\n",
        "    'orange' : 'jeruk'\n",
        "}"
      ],
      "execution_count": null,
      "outputs": []
    },
    {
      "cell_type": "code",
      "metadata": {
        "id": "l25izq2rzVcg",
        "colab_type": "code",
        "colab": {
          "base_uri": "https://localhost:8080/",
          "height": 34
        },
        "outputId": "6c85d15b-0df2-4da4-d91e-09654930597d"
      },
      "source": [
        "'apple' in kamus"
      ],
      "execution_count": null,
      "outputs": [
        {
          "output_type": "execute_result",
          "data": {
            "text/plain": [
              "True"
            ]
          },
          "metadata": {
            "tags": []
          },
          "execution_count": 54
        }
      ]
    },
    {
      "cell_type": "code",
      "metadata": {
        "id": "Ohi3wiq8zX2a",
        "colab_type": "code",
        "colab": {
          "base_uri": "https://localhost:8080/",
          "height": 34
        },
        "outputId": "2c574188-8f83-48b3-dbfa-73a0e5ea342e"
      },
      "source": [
        "'apel' in kamus"
      ],
      "execution_count": null,
      "outputs": [
        {
          "output_type": "execute_result",
          "data": {
            "text/plain": [
              "False"
            ]
          },
          "metadata": {
            "tags": []
          },
          "execution_count": 56
        }
      ]
    },
    {
      "cell_type": "code",
      "metadata": {
        "id": "VfQt3_YjzZUt",
        "colab_type": "code",
        "colab": {}
      },
      "source": [
        ""
      ],
      "execution_count": null,
      "outputs": []
    },
    {
      "cell_type": "markdown",
      "metadata": {
        "id": "L_h6bXmv0EKf",
        "colab_type": "text"
      },
      "source": [
        "#Conditional"
      ]
    },
    {
      "cell_type": "code",
      "metadata": {
        "id": "TeeOt1160I28",
        "colab_type": "code",
        "colab": {}
      },
      "source": [
        "#if \n",
        "#\n",
        "#elif\n",
        "#\n",
        "#else"
      ],
      "execution_count": null,
      "outputs": []
    },
    {
      "cell_type": "code",
      "metadata": {
        "id": "03MuLKxB0Ofy",
        "colab_type": "code",
        "colab": {
          "base_uri": "https://localhost:8080/",
          "height": 34
        },
        "outputId": "d2cb5c60-e7d6-4dc2-eb9b-686637663cfd"
      },
      "source": [
        "a = 5\n",
        "if a > 1:\n",
        "  print('lebih dari satu')\n",
        "else:\n",
        "  print ('bukan')\n"
      ],
      "execution_count": null,
      "outputs": [
        {
          "output_type": "stream",
          "text": [
            "lebih dari satu\n"
          ],
          "name": "stdout"
        }
      ]
    },
    {
      "cell_type": "code",
      "metadata": {
        "id": "fOzACEUv0a5C",
        "colab_type": "code",
        "colab": {
          "base_uri": "https://localhost:8080/",
          "height": 34
        },
        "outputId": "4cccfce2-c70c-4d60-f6b6-77ca7a7d60df"
      },
      "source": [
        "# 0 - 20 E\n",
        "# 21 - 40 D\n",
        "# 41 - 60 C\n",
        "# 61 - 80 B\n",
        "# 81 - 100 A\n",
        "\n",
        "nilai = 101\n",
        "\n",
        "if nilai <= 20:\n",
        "  print('E')\n",
        "elif nilai <=40:\n",
        "  print('D')\n",
        "elif nilai <=60:\n",
        "  print('C')\n",
        "elif nilai <=80:\n",
        "  print('B')\n",
        "else:\n",
        "  print('A')"
      ],
      "execution_count": null,
      "outputs": [
        {
          "output_type": "stream",
          "text": [
            "not in range!\n"
          ],
          "name": "stdout"
        }
      ]
    },
    {
      "cell_type": "code",
      "metadata": {
        "id": "ear6ySg-3cr7",
        "colab_type": "code",
        "colab": {}
      },
      "source": [
        ""
      ],
      "execution_count": null,
      "outputs": []
    },
    {
      "cell_type": "markdown",
      "metadata": {
        "id": "htKy2dFw-lKG",
        "colab_type": "text"
      },
      "source": [
        "#Loop"
      ]
    },
    {
      "cell_type": "code",
      "metadata": {
        "id": "1WhLMXsA-mBF",
        "colab_type": "code",
        "colab": {
          "base_uri": "https://localhost:8080/",
          "height": 104
        },
        "outputId": "e94e9c0e-f1b3-4c47-e062-98b39343cd31"
      },
      "source": [
        "#cek bilangan ganjil atau genap\n",
        "\n",
        "number = [1, 2, 3, 4, 5]\n",
        "\n",
        "for i in number:\n",
        "  if number[i-1] % 2 == 0:\n",
        "    print('genap')\n",
        "  else:\n",
        "    print('ganjil')"
      ],
      "execution_count": null,
      "outputs": [
        {
          "output_type": "stream",
          "text": [
            "ganjil\n",
            "genap\n",
            "ganjil\n",
            "genap\n",
            "ganjil\n"
          ],
          "name": "stdout"
        }
      ]
    },
    {
      "cell_type": "code",
      "metadata": {
        "id": "7yg_GBQO_VTS",
        "colab_type": "code",
        "colab": {}
      },
      "source": [
        ""
      ],
      "execution_count": null,
      "outputs": []
    }
  ]
}