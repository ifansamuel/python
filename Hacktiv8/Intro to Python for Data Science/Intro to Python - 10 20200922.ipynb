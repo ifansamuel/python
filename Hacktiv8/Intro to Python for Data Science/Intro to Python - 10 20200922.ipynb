{
 "cells": [
  {
   "cell_type": "code",
   "execution_count": 80,
   "metadata": {},
   "outputs": [],
   "source": [
    "import pandas as pd\n",
    "import seaborn as sns\n",
    "import matplotlib.pyplot as plt\n",
    "\n",
    "from sklearn.model_selection import train_test_split\n",
    "\n",
    "from sklearn.linear_model import LinearRegression\n",
    "\n",
    "from sklearn.linear_model import LogisticRegression\n",
    "\n",
    "from sklearn.preprocessing import StandardScaler, MinMaxScaler\n",
    "\n",
    "from sklearn import metrics\n",
    "\n",
    "from sklearn import datasets"
   ]
  },
  {
   "cell_type": "code",
   "execution_count": 3,
   "metadata": {},
   "outputs": [],
   "source": [
    "students = pd.read_csv('https://bit.ly/dwp-data-grade')\n",
    "students_full = pd.read_csv('https://bit.ly/dwp-data-grade-full')\n",
    "data_bike = pd.read_csv('http://bit.ly/dwp-data-bike')\n",
    "data_sales = pd.read_csv('http://bit.ly/dwp-data-ecommerce')\n",
    "data_movies = pd.read_csv('http://bit.ly/dwp-data-movies-sample')\n",
    "data_ratings = pd.read_csv('http://bit.ly/dwp-data-ratings-sample')\n",
    "data_survey = pd.read_csv('http://bit.ly/dwp-data-survey')"
   ]
  },
  {
   "cell_type": "code",
   "execution_count": 5,
   "metadata": {},
   "outputs": [],
   "source": [
    "df_movies = data_movies\n",
    "df_ratings = data_ratings\n",
    "df_bike = data_bike\n",
    "df_sales = data_sales\n",
    "df_survey = data_survey\n",
    "df_students = students\n",
    "df_students_full = students_full"
   ]
  },
  {
   "cell_type": "code",
   "execution_count": 6,
   "metadata": {},
   "outputs": [],
   "source": [
    "boston_dataset = datasets.load_boston()"
   ]
  },
  {
   "cell_type": "code",
   "execution_count": 8,
   "metadata": {},
   "outputs": [],
   "source": [
    "x = pd.DataFrame(boston_dataset['data'],columns=boston_dataset['feature_names'])\n",
    "y = pd.DataFrame(boston_dataset['target'],columns=['prices'])"
   ]
  },
  {
   "cell_type": "code",
   "execution_count": 12,
   "metadata": {},
   "outputs": [],
   "source": [
    "x_train, x_test, y_train, y_test = train_test_split(x, y, test_size=0.2, random_state=1)"
   ]
  },
  {
   "cell_type": "code",
   "execution_count": 13,
   "metadata": {},
   "outputs": [],
   "source": [
    "model = LinearRegression()"
   ]
  },
  {
   "cell_type": "code",
   "execution_count": 14,
   "metadata": {},
   "outputs": [
    {
     "data": {
      "text/plain": [
       "LinearRegression()"
      ]
     },
     "execution_count": 14,
     "metadata": {},
     "output_type": "execute_result"
    }
   ],
   "source": [
    "model.fit(x_train, y_train)"
   ]
  },
  {
   "cell_type": "code",
   "execution_count": 18,
   "metadata": {},
   "outputs": [
    {
     "data": {
      "text/plain": [
       "[-0.11238686745728417,\n",
       " 0.058058707351496486,\n",
       " 0.018359355933574982,\n",
       " 2.12997759973183,\n",
       " -19.581101224685906,\n",
       " 3.0954616570792384,\n",
       " 0.004452652275657782,\n",
       " -1.5004762414744035,\n",
       " 0.30535896936796464,\n",
       " -0.011123087897877262,\n",
       " -0.9890075623223039,\n",
       " 0.0073213001694047986,\n",
       " -0.5446449971618539]"
      ]
     },
     "execution_count": 18,
     "metadata": {},
     "output_type": "execute_result"
    }
   ],
   "source": [
    "list(model.coef_[0])"
   ]
  },
  {
   "cell_type": "code",
   "execution_count": 16,
   "metadata": {},
   "outputs": [
    {
     "data": {
      "text/plain": [
       "array([42.93352585])"
      ]
     },
     "execution_count": 16,
     "metadata": {},
     "output_type": "execute_result"
    }
   ],
   "source": [
    "model.intercept_"
   ]
  },
  {
   "cell_type": "code",
   "execution_count": 20,
   "metadata": {},
   "outputs": [
    {
     "data": {
      "text/plain": [
       "['CRIM',\n",
       " 'ZN',\n",
       " 'INDUS',\n",
       " 'CHAS',\n",
       " 'NOX',\n",
       " 'RM',\n",
       " 'AGE',\n",
       " 'DIS',\n",
       " 'RAD',\n",
       " 'TAX',\n",
       " 'PTRATIO',\n",
       " 'B',\n",
       " 'LSTAT']"
      ]
     },
     "execution_count": 20,
     "metadata": {},
     "output_type": "execute_result"
    }
   ],
   "source": [
    "list(x.columns)"
   ]
  },
  {
   "cell_type": "code",
   "execution_count": 30,
   "metadata": {},
   "outputs": [
    {
     "data": {
      "text/plain": [
       "<AxesSubplot:ylabel='columns'>"
      ]
     },
     "execution_count": 30,
     "metadata": {},
     "output_type": "execute_result"
    },
    {
     "data": {
      "image/png": "[encoded data removed]",
      "text/plain": [
       "<Figure size 432x288 with 1 Axes>"
      ]
     },
     "metadata": {
      "needs_background": "light"
     },
     "output_type": "display_data"
    }
   ],
   "source": [
    "coefs = pd.DataFrame({\n",
    "    'columns':list(x.columns),\n",
    "    'coef':list(model.coef_[0])\n",
    "}).sort_values('coef')\n",
    "coefs.plot.barh(x='columns',y='coef')"
   ]
  },
  {
   "cell_type": "markdown",
   "metadata": {},
   "source": [
    "## Supervised Learning"
   ]
  },
  {
   "cell_type": "code",
   "execution_count": 31,
   "metadata": {},
   "outputs": [],
   "source": [
    "university = pd.read_csv('http://bit.ly/dwp-data-university')"
   ]
  },
  {
   "cell_type": "code",
   "execution_count": 41,
   "metadata": {},
   "outputs": [
    {
     "data": {
      "text/html": [
       "<div>\n",
       "<style scoped>\n",
       "    .dataframe tbody tr th:only-of-type {\n",
       "        vertical-align: middle;\n",
       "    }\n",
       "\n",
       "    .dataframe tbody tr th {\n",
       "        vertical-align: top;\n",
       "    }\n",
       "\n",
       "    .dataframe thead th {\n",
       "        text-align: right;\n",
       "    }\n",
       "</style>\n",
       "<table border=\"1\" class=\"dataframe\">\n",
       "  <thead>\n",
       "    <tr style=\"text-align: right;\">\n",
       "      <th></th>\n",
       "      <th>GRE</th>\n",
       "      <th>TOEFL</th>\n",
       "      <th>GPA</th>\n",
       "      <th>Research</th>\n",
       "      <th>University Class</th>\n",
       "    </tr>\n",
       "  </thead>\n",
       "  <tbody>\n",
       "    <tr>\n",
       "      <th>0</th>\n",
       "      <td>330</td>\n",
       "      <td>115</td>\n",
       "      <td>9.34</td>\n",
       "      <td>Y</td>\n",
       "      <td>1</td>\n",
       "    </tr>\n",
       "    <tr>\n",
       "      <th>1</th>\n",
       "      <td>302</td>\n",
       "      <td>102</td>\n",
       "      <td>8.00</td>\n",
       "      <td>N</td>\n",
       "      <td>0</td>\n",
       "    </tr>\n",
       "    <tr>\n",
       "      <th>2</th>\n",
       "      <td>328</td>\n",
       "      <td>116</td>\n",
       "      <td>9.50</td>\n",
       "      <td>Y</td>\n",
       "      <td>1</td>\n",
       "    </tr>\n",
       "    <tr>\n",
       "      <th>3</th>\n",
       "      <td>334</td>\n",
       "      <td>119</td>\n",
       "      <td>9.70</td>\n",
       "      <td>Y</td>\n",
       "      <td>1</td>\n",
       "    </tr>\n",
       "    <tr>\n",
       "      <th>4</th>\n",
       "      <td>336</td>\n",
       "      <td>119</td>\n",
       "      <td>9.80</td>\n",
       "      <td>Y</td>\n",
       "      <td>1</td>\n",
       "    </tr>\n",
       "  </tbody>\n",
       "</table>\n",
       "</div>"
      ],
      "text/plain": [
       "   GRE  TOEFL   GPA Research  University Class\n",
       "0  330    115  9.34        Y                 1\n",
       "1  302    102  8.00        N                 0\n",
       "2  328    116  9.50        Y                 1\n",
       "3  334    119  9.70        Y                 1\n",
       "4  336    119  9.80        Y                 1"
      ]
     },
     "execution_count": 41,
     "metadata": {},
     "output_type": "execute_result"
    }
   ],
   "source": [
    "df_university = university\n",
    "df_university.head()"
   ]
  },
  {
   "cell_type": "markdown",
   "metadata": {},
   "source": [
    "## Data Transformation"
   ]
  },
  {
   "cell_type": "markdown",
   "metadata": {},
   "source": [
    "### Categorical > Numerical"
   ]
  },
  {
   "cell_type": "markdown",
   "metadata": {},
   "source": [
    "## Encoding"
   ]
  },
  {
   "cell_type": "code",
   "execution_count": 50,
   "metadata": {},
   "outputs": [
    {
     "data": {
      "text/html": [
       "<div>\n",
       "<style scoped>\n",
       "    .dataframe tbody tr th:only-of-type {\n",
       "        vertical-align: middle;\n",
       "    }\n",
       "\n",
       "    .dataframe tbody tr th {\n",
       "        vertical-align: top;\n",
       "    }\n",
       "\n",
       "    .dataframe thead th {\n",
       "        text-align: right;\n",
       "    }\n",
       "</style>\n",
       "<table border=\"1\" class=\"dataframe\">\n",
       "  <thead>\n",
       "    <tr style=\"text-align: right;\">\n",
       "      <th></th>\n",
       "      <th>GRE</th>\n",
       "      <th>TOEFL</th>\n",
       "      <th>GPA</th>\n",
       "      <th>Research</th>\n",
       "      <th>University Class</th>\n",
       "    </tr>\n",
       "  </thead>\n",
       "  <tbody>\n",
       "    <tr>\n",
       "      <th>0</th>\n",
       "      <td>330</td>\n",
       "      <td>115</td>\n",
       "      <td>9.34</td>\n",
       "      <td>Y</td>\n",
       "      <td>1</td>\n",
       "    </tr>\n",
       "    <tr>\n",
       "      <th>1</th>\n",
       "      <td>302</td>\n",
       "      <td>102</td>\n",
       "      <td>8.00</td>\n",
       "      <td>N</td>\n",
       "      <td>0</td>\n",
       "    </tr>\n",
       "    <tr>\n",
       "      <th>2</th>\n",
       "      <td>328</td>\n",
       "      <td>116</td>\n",
       "      <td>9.50</td>\n",
       "      <td>Y</td>\n",
       "      <td>1</td>\n",
       "    </tr>\n",
       "    <tr>\n",
       "      <th>3</th>\n",
       "      <td>334</td>\n",
       "      <td>119</td>\n",
       "      <td>9.70</td>\n",
       "      <td>Y</td>\n",
       "      <td>1</td>\n",
       "    </tr>\n",
       "    <tr>\n",
       "      <th>4</th>\n",
       "      <td>336</td>\n",
       "      <td>119</td>\n",
       "      <td>9.80</td>\n",
       "      <td>Y</td>\n",
       "      <td>1</td>\n",
       "    </tr>\n",
       "  </tbody>\n",
       "</table>\n",
       "</div>"
      ],
      "text/plain": [
       "   GRE  TOEFL   GPA Research  University Class\n",
       "0  330    115  9.34        Y                 1\n",
       "1  302    102  8.00        N                 0\n",
       "2  328    116  9.50        Y                 1\n",
       "3  334    119  9.70        Y                 1\n",
       "4  336    119  9.80        Y                 1"
      ]
     },
     "execution_count": 50,
     "metadata": {},
     "output_type": "execute_result"
    }
   ],
   "source": [
    "df_university.head()"
   ]
  },
  {
   "cell_type": "markdown",
   "metadata": {},
   "source": [
    "### One Hot Encoding"
   ]
  },
  {
   "cell_type": "code",
   "execution_count": 37,
   "metadata": {},
   "outputs": [],
   "source": [
    "df_university = pd.get_dummies(df_university,columns=['Research'])"
   ]
  },
  {
   "cell_type": "markdown",
   "metadata": {},
   "source": [
    "### Label Encoding"
   ]
  },
  {
   "cell_type": "code",
   "execution_count": 42,
   "metadata": {},
   "outputs": [
    {
     "data": {
      "text/plain": [
       "array(['Y', 'N'], dtype=object)"
      ]
     },
     "execution_count": 42,
     "metadata": {},
     "output_type": "execute_result"
    }
   ],
   "source": [
    "df_university['Research'].unique()"
   ]
  },
  {
   "cell_type": "code",
   "execution_count": 52,
   "metadata": {},
   "outputs": [],
   "source": [
    "def convert_research(row):\n",
    "    if row['Research'] == 'Y':\n",
    "        return 1\n",
    "    return 0\n",
    "df_university['Research_Num'] = df_university.apply(convert_research,axis=1)"
   ]
  },
  {
   "cell_type": "code",
   "execution_count": 55,
   "metadata": {},
   "outputs": [
    {
     "data": {
      "text/html": [
       "<div>\n",
       "<style scoped>\n",
       "    .dataframe tbody tr th:only-of-type {\n",
       "        vertical-align: middle;\n",
       "    }\n",
       "\n",
       "    .dataframe tbody tr th {\n",
       "        vertical-align: top;\n",
       "    }\n",
       "\n",
       "    .dataframe thead th {\n",
       "        text-align: right;\n",
       "    }\n",
       "</style>\n",
       "<table border=\"1\" class=\"dataframe\">\n",
       "  <thead>\n",
       "    <tr style=\"text-align: right;\">\n",
       "      <th></th>\n",
       "      <th>GRE</th>\n",
       "      <th>TOEFL</th>\n",
       "      <th>GPA</th>\n",
       "      <th>Research</th>\n",
       "      <th>University Class</th>\n",
       "      <th>Research_Num</th>\n",
       "    </tr>\n",
       "  </thead>\n",
       "  <tbody>\n",
       "    <tr>\n",
       "      <th>0</th>\n",
       "      <td>330</td>\n",
       "      <td>115</td>\n",
       "      <td>9.34</td>\n",
       "      <td>Y</td>\n",
       "      <td>1</td>\n",
       "      <td>1</td>\n",
       "    </tr>\n",
       "    <tr>\n",
       "      <th>1</th>\n",
       "      <td>302</td>\n",
       "      <td>102</td>\n",
       "      <td>8.00</td>\n",
       "      <td>N</td>\n",
       "      <td>0</td>\n",
       "      <td>0</td>\n",
       "    </tr>\n",
       "    <tr>\n",
       "      <th>2</th>\n",
       "      <td>328</td>\n",
       "      <td>116</td>\n",
       "      <td>9.50</td>\n",
       "      <td>Y</td>\n",
       "      <td>1</td>\n",
       "      <td>1</td>\n",
       "    </tr>\n",
       "    <tr>\n",
       "      <th>3</th>\n",
       "      <td>334</td>\n",
       "      <td>119</td>\n",
       "      <td>9.70</td>\n",
       "      <td>Y</td>\n",
       "      <td>1</td>\n",
       "      <td>1</td>\n",
       "    </tr>\n",
       "    <tr>\n",
       "      <th>4</th>\n",
       "      <td>336</td>\n",
       "      <td>119</td>\n",
       "      <td>9.80</td>\n",
       "      <td>Y</td>\n",
       "      <td>1</td>\n",
       "      <td>1</td>\n",
       "    </tr>\n",
       "  </tbody>\n",
       "</table>\n",
       "</div>"
      ],
      "text/plain": [
       "   GRE  TOEFL   GPA Research  University Class  Research_Num\n",
       "0  330    115  9.34        Y                 1             1\n",
       "1  302    102  8.00        N                 0             0\n",
       "2  328    116  9.50        Y                 1             1\n",
       "3  334    119  9.70        Y                 1             1\n",
       "4  336    119  9.80        Y                 1             1"
      ]
     },
     "execution_count": 55,
     "metadata": {},
     "output_type": "execute_result"
    }
   ],
   "source": [
    "df_university.head()"
   ]
  },
  {
   "cell_type": "markdown",
   "metadata": {},
   "source": [
    "### Normalization / Standardization"
   ]
  },
  {
   "cell_type": "code",
   "execution_count": null,
   "metadata": {},
   "outputs": [],
   "source": [
    "# normalization > merubah range data sehingga memiliki 0-1\n",
    "# stardization > merubah range data sehingga memiliki mean = 0, std = 1"
   ]
  },
  {
   "cell_type": "code",
   "execution_count": 66,
   "metadata": {},
   "outputs": [],
   "source": [
    "# scale the data\n",
    "scaler = MinMaxScaler()\n",
    "\n",
    "x_train_after = scaler.fit_transform(x_train)"
   ]
  },
  {
   "cell_type": "code",
   "execution_count": 67,
   "metadata": {},
   "outputs": [
    {
     "data": {
      "text/html": [
       "<div>\n",
       "<style scoped>\n",
       "    .dataframe tbody tr th:only-of-type {\n",
       "        vertical-align: middle;\n",
       "    }\n",
       "\n",
       "    .dataframe tbody tr th {\n",
       "        vertical-align: top;\n",
       "    }\n",
       "\n",
       "    .dataframe thead th {\n",
       "        text-align: right;\n",
       "    }\n",
       "</style>\n",
       "<table border=\"1\" class=\"dataframe\">\n",
       "  <thead>\n",
       "    <tr style=\"text-align: right;\">\n",
       "      <th></th>\n",
       "      <th>GRE</th>\n",
       "      <th>TOEFL</th>\n",
       "      <th>GPA</th>\n",
       "      <th>Research_Num</th>\n",
       "    </tr>\n",
       "  </thead>\n",
       "  <tbody>\n",
       "    <tr>\n",
       "      <th>82</th>\n",
       "      <td>303</td>\n",
       "      <td>98</td>\n",
       "      <td>7.65</td>\n",
       "      <td>0</td>\n",
       "    </tr>\n",
       "    <tr>\n",
       "      <th>46</th>\n",
       "      <td>331</td>\n",
       "      <td>115</td>\n",
       "      <td>9.36</td>\n",
       "      <td>1</td>\n",
       "    </tr>\n",
       "    <tr>\n",
       "      <th>44</th>\n",
       "      <td>334</td>\n",
       "      <td>117</td>\n",
       "      <td>9.07</td>\n",
       "      <td>1</td>\n",
       "    </tr>\n",
       "    <tr>\n",
       "      <th>42</th>\n",
       "      <td>298</td>\n",
       "      <td>99</td>\n",
       "      <td>7.46</td>\n",
       "      <td>0</td>\n",
       "    </tr>\n",
       "    <tr>\n",
       "      <th>85</th>\n",
       "      <td>300</td>\n",
       "      <td>98</td>\n",
       "      <td>8.02</td>\n",
       "      <td>0</td>\n",
       "    </tr>\n",
       "  </tbody>\n",
       "</table>\n",
       "</div>"
      ],
      "text/plain": [
       "    GRE  TOEFL   GPA  Research_Num\n",
       "82  303     98  7.65             0\n",
       "46  331    115  9.36             1\n",
       "44  334    117  9.07             1\n",
       "42  298     99  7.46             0\n",
       "85  300     98  8.02             0"
      ]
     },
     "execution_count": 67,
     "metadata": {},
     "output_type": "execute_result"
    }
   ],
   "source": [
    "x_train.head()"
   ]
  },
  {
   "cell_type": "code",
   "execution_count": 70,
   "metadata": {},
   "outputs": [
    {
     "data": {
      "text/html": [
       "<div>\n",
       "<style scoped>\n",
       "    .dataframe tbody tr th:only-of-type {\n",
       "        vertical-align: middle;\n",
       "    }\n",
       "\n",
       "    .dataframe tbody tr th {\n",
       "        vertical-align: top;\n",
       "    }\n",
       "\n",
       "    .dataframe thead th {\n",
       "        text-align: right;\n",
       "    }\n",
       "</style>\n",
       "<table border=\"1\" class=\"dataframe\">\n",
       "  <thead>\n",
       "    <tr style=\"text-align: right;\">\n",
       "      <th></th>\n",
       "      <th>GRE</th>\n",
       "      <th>TOEFL</th>\n",
       "      <th>GPA</th>\n",
       "      <th>Research_Num</th>\n",
       "    </tr>\n",
       "  </thead>\n",
       "  <tbody>\n",
       "    <tr>\n",
       "      <th>0</th>\n",
       "      <td>0.26</td>\n",
       "      <td>0.214286</td>\n",
       "      <td>0.166052</td>\n",
       "      <td>0.0</td>\n",
       "    </tr>\n",
       "    <tr>\n",
       "      <th>1</th>\n",
       "      <td>0.82</td>\n",
       "      <td>0.821429</td>\n",
       "      <td>0.797048</td>\n",
       "      <td>1.0</td>\n",
       "    </tr>\n",
       "    <tr>\n",
       "      <th>2</th>\n",
       "      <td>0.88</td>\n",
       "      <td>0.892857</td>\n",
       "      <td>0.690037</td>\n",
       "      <td>1.0</td>\n",
       "    </tr>\n",
       "    <tr>\n",
       "      <th>3</th>\n",
       "      <td>0.16</td>\n",
       "      <td>0.250000</td>\n",
       "      <td>0.095941</td>\n",
       "      <td>0.0</td>\n",
       "    </tr>\n",
       "    <tr>\n",
       "      <th>4</th>\n",
       "      <td>0.20</td>\n",
       "      <td>0.214286</td>\n",
       "      <td>0.302583</td>\n",
       "      <td>0.0</td>\n",
       "    </tr>\n",
       "    <tr>\n",
       "      <th>...</th>\n",
       "      <td>...</td>\n",
       "      <td>...</td>\n",
       "      <td>...</td>\n",
       "      <td>...</td>\n",
       "    </tr>\n",
       "    <tr>\n",
       "      <th>79</th>\n",
       "      <td>0.18</td>\n",
       "      <td>0.071429</td>\n",
       "      <td>0.051661</td>\n",
       "      <td>0.0</td>\n",
       "    </tr>\n",
       "    <tr>\n",
       "      <th>80</th>\n",
       "      <td>0.82</td>\n",
       "      <td>0.714286</td>\n",
       "      <td>0.959410</td>\n",
       "      <td>1.0</td>\n",
       "    </tr>\n",
       "    <tr>\n",
       "      <th>81</th>\n",
       "      <td>0.66</td>\n",
       "      <td>0.571429</td>\n",
       "      <td>0.568266</td>\n",
       "      <td>1.0</td>\n",
       "    </tr>\n",
       "    <tr>\n",
       "      <th>82</th>\n",
       "      <td>0.28</td>\n",
       "      <td>0.464286</td>\n",
       "      <td>0.110701</td>\n",
       "      <td>0.0</td>\n",
       "    </tr>\n",
       "    <tr>\n",
       "      <th>83</th>\n",
       "      <td>0.82</td>\n",
       "      <td>0.821429</td>\n",
       "      <td>0.826568</td>\n",
       "      <td>1.0</td>\n",
       "    </tr>\n",
       "  </tbody>\n",
       "</table>\n",
       "<p>84 rows × 4 columns</p>\n",
       "</div>"
      ],
      "text/plain": [
       "     GRE     TOEFL       GPA  Research_Num\n",
       "0   0.26  0.214286  0.166052           0.0\n",
       "1   0.82  0.821429  0.797048           1.0\n",
       "2   0.88  0.892857  0.690037           1.0\n",
       "3   0.16  0.250000  0.095941           0.0\n",
       "4   0.20  0.214286  0.302583           0.0\n",
       "..   ...       ...       ...           ...\n",
       "79  0.18  0.071429  0.051661           0.0\n",
       "80  0.82  0.714286  0.959410           1.0\n",
       "81  0.66  0.571429  0.568266           1.0\n",
       "82  0.28  0.464286  0.110701           0.0\n",
       "83  0.82  0.821429  0.826568           1.0\n",
       "\n",
       "[84 rows x 4 columns]"
      ]
     },
     "execution_count": 70,
     "metadata": {},
     "output_type": "execute_result"
    }
   ],
   "source": [
    "pd.DataFrame(x_train_after, columns=['GRE', 'TOEFL', 'GPA', 'Research_Num'])"
   ]
  },
  {
   "cell_type": "code",
   "execution_count": 73,
   "metadata": {},
   "outputs": [
    {
     "data": {
      "text/plain": [
       "<AxesSubplot:ylabel='Frequency'>"
      ]
     },
     "execution_count": 73,
     "metadata": {},
     "output_type": "execute_result"
    },
    {
     "data": {
      "image/png": "[encoded data removed]",
      "text/plain": [
       "<Figure size 432x288 with 1 Axes>"
      ]
     },
     "metadata": {
      "needs_background": "light"
     },
     "output_type": "display_data"
    }
   ],
   "source": [
    "#contoh distribusi sebelum normalisasi/standardization\n",
    "x_train['GRE'].plot.hist()"
   ]
  },
  {
   "cell_type": "code",
   "execution_count": 74,
   "metadata": {},
   "outputs": [
    {
     "data": {
      "text/plain": [
       "<AxesSubplot:ylabel='Frequency'>"
      ]
     },
     "execution_count": 74,
     "metadata": {},
     "output_type": "execute_result"
    },
    {
     "data": {
      "image/png": "[encoded data removed]",
      "text/plain": [
       "<Figure size 432x288 with 1 Axes>"
      ]
     },
     "metadata": {
      "needs_background": "light"
     },
     "output_type": "display_data"
    }
   ],
   "source": [
    "#setelah normalization/standardization\n",
    "pd.DataFrame(x_train_after, columns=['GRE', 'TOEFL', 'GPA', 'Research_Num'])['GRE'].plot.hist()"
   ]
  },
  {
   "cell_type": "markdown",
   "metadata": {},
   "source": [
    "### Logictic Regression"
   ]
  },
  {
   "cell_type": "code",
   "execution_count": 57,
   "metadata": {},
   "outputs": [],
   "source": [
    "#define parameters and labels\n",
    "x = df_university[['GRE','TOEFL','GPA','Research_Num']]\n",
    "y = df_university['University Class']"
   ]
  },
  {
   "cell_type": "code",
   "execution_count": 75,
   "metadata": {},
   "outputs": [],
   "source": [
    "#split the data into training data and testing data\n",
    "x_train, x_test, y_train, y_test = train_test_split(x, y, test_size=0.2, random_state=1)"
   ]
  },
  {
   "cell_type": "code",
   "execution_count": 76,
   "metadata": {},
   "outputs": [],
   "source": [
    "# scale the data\n",
    "# NOTE\n",
    "# - scaling dilakukan setelah split data dan sebelum training\n",
    "# - scaling x_train dan x_test dipisah\n",
    "\n",
    "scaler = StandardScaler()\n",
    "x_train = scaler.fit_transform(x_train)\n",
    "x_test = scaler.fit_transform(x_test)"
   ]
  },
  {
   "cell_type": "code",
   "execution_count": 81,
   "metadata": {},
   "outputs": [],
   "source": [
    "model = LogisticRegression()"
   ]
  },
  {
   "cell_type": "code",
   "execution_count": 83,
   "metadata": {},
   "outputs": [
    {
     "data": {
      "text/plain": [
       "LogisticRegression()"
      ]
     },
     "execution_count": 83,
     "metadata": {},
     "output_type": "execute_result"
    }
   ],
   "source": [
    "model.fit(x_train,y_train)"
   ]
  },
  {
   "cell_type": "code",
   "execution_count": 84,
   "metadata": {},
   "outputs": [
    {
     "name": "stdout",
     "output_type": "stream",
     "text": [
      "Accuracy Score {} 0.8636363636363636\n"
     ]
    }
   ],
   "source": [
    "y_pred = model.predict(x_test)\n",
    "accuracy = metrics.accuracy_score(y_test,y_pred)\n",
    "print('Accuracy Score {}',format(accuracy))"
   ]
  },
  {
   "cell_type": "code",
   "execution_count": 94,
   "metadata": {},
   "outputs": [
    {
     "data": {
      "text/plain": [
       "array([[ 0.23129478,  1.31519417,  1.86534367, -0.11061536]])"
      ]
     },
     "execution_count": 94,
     "metadata": {},
     "output_type": "execute_result"
    }
   ],
   "source": [
    "model.coef_"
   ]
  },
  {
   "cell_type": "code",
   "execution_count": 87,
   "metadata": {},
   "outputs": [
    {
     "data": {
      "text/plain": [
       "array([1.51227748])"
      ]
     },
     "execution_count": 87,
     "metadata": {},
     "output_type": "execute_result"
    }
   ],
   "source": [
    "model.intercept_"
   ]
  },
  {
   "cell_type": "code",
   "execution_count": 88,
   "metadata": {},
   "outputs": [
    {
     "data": {
      "text/plain": [
       "array([[0.02705788, 0.97294212],\n",
       "       [0.04370904, 0.95629096],\n",
       "       [0.96374655, 0.03625345],\n",
       "       [0.03097918, 0.96902082],\n",
       "       [0.10764339, 0.89235661],\n",
       "       [0.04291142, 0.95708858],\n",
       "       [0.02157358, 0.97842642],\n",
       "       [0.00721126, 0.99278874],\n",
       "       [0.00999071, 0.99000929],\n",
       "       [0.04834136, 0.95165864],\n",
       "       [0.6869026 , 0.3130974 ],\n",
       "       [0.09734778, 0.90265222],\n",
       "       [0.40965632, 0.59034368],\n",
       "       [0.00260617, 0.99739383],\n",
       "       [0.60813775, 0.39186225],\n",
       "       [0.04504733, 0.95495267],\n",
       "       [0.0253039 , 0.9746961 ],\n",
       "       [0.95912311, 0.04087689],\n",
       "       [0.9984637 , 0.0015363 ],\n",
       "       [0.98908052, 0.01091948],\n",
       "       [0.19140379, 0.80859621],\n",
       "       [0.02705623, 0.97294377]])"
      ]
     },
     "execution_count": 88,
     "metadata": {},
     "output_type": "execute_result"
    }
   ],
   "source": [
    "model.predict_proba(x_test)"
   ]
  },
  {
   "cell_type": "code",
   "execution_count": 95,
   "metadata": {},
   "outputs": [
    {
     "data": {
      "text/plain": [
       "<AxesSubplot:ylabel='columns'>"
      ]
     },
     "execution_count": 95,
     "metadata": {},
     "output_type": "execute_result"
    },
    {
     "data": {
      "image/png": "[encoded data removed]",
      "text/plain": [
       "<Figure size 432x288 with 1 Axes>"
      ]
     },
     "metadata": {
      "needs_background": "light"
     },
     "output_type": "display_data"
    }
   ],
   "source": [
    "coefs = pd.DataFrame({\n",
    "    'columns':list(x.columns),\n",
    "    'coef':list(model.coef_[0])\n",
    "}).sort_values('coef')\n",
    "coefs.plot.barh(x='columns',y='coef')"
   ]
  },
  {
   "cell_type": "code",
   "execution_count": 97,
   "metadata": {},
   "outputs": [
    {
     "data": {
      "text/plain": [
       "array([[-1.17559379, -1.37505679, -1.38035188, -1.37715349],\n",
       "       [ 0.80222924,  0.76625302,  0.71667344,  0.72613547],\n",
       "       [ 1.01413885,  1.01817182,  0.36103757,  0.72613547],\n",
       "       [-1.52877647, -1.24909739, -1.61335469, -1.37715349],\n",
       "       [-1.3875034 , -1.37505679, -0.92660956, -1.37715349],\n",
       "       [-1.31686686, -1.62697559, -1.49072164, -1.37715349],\n",
       "       [-0.6105015 , -1.24909739, -0.42381401,  0.72613547],\n",
       "       [ 0.7315927 ,  1.39605002,  0.96193956,  0.72613547],\n",
       "       [ 0.02522733,  0.13645602,  0.52046055,  0.72613547],\n",
       "       [ 0.59031963,  0.89221242,  0.88835972,  0.72613547],\n",
       "       [-1.17559379, -0.49334098, -0.15402128, -1.37715349],\n",
       "       [ 0.87286577,  0.38837482, -0.14175798,  0.72613547],\n",
       "       [ 1.15541192,  0.38837482,  1.20720568,  0.72613547],\n",
       "       [ 0.51968309, -0.61930039,  0.07898153,  0.72613547],\n",
       "       [-0.11604574,  0.01049662,  0.4223541 , -1.37715349],\n",
       "       [ 0.94350231,  1.27009062,  1.23173229,  0.72613547],\n",
       "       [-0.6105015 , -1.37505679, -1.61335469, -1.37715349],\n",
       "       [-1.31686686, -1.37505679, -0.91434625,  0.72613547],\n",
       "       [ 0.09586387,  0.64029362,  0.47140732,  0.72613547],\n",
       "       [-1.59941301, -1.12313799, -1.07376923, -1.37715349],\n",
       "       [-0.53986496, -1.37505679, -0.73039666,  0.72613547],\n",
       "       [-1.74068608, -1.24909739, -1.47845833, -1.37715349],\n",
       "       [-0.53986496, -1.12313799, -0.30118096,  0.72613547],\n",
       "       [ 1.43795807,  0.76625302,  0.82704319,  0.72613547],\n",
       "       [ 0.23713694,  0.38837482,  0.00540169, -1.37715349],\n",
       "       [-0.18668228, -0.36738158, -1.38035188,  0.72613547],\n",
       "       [-1.81132262, -1.75293499, -1.39261519, -1.37715349],\n",
       "       [ 0.30777348, -0.24142218, -0.14175798,  0.72613547],\n",
       "       [ 0.66095616,  0.64029362,  0.64309361,  0.72613547],\n",
       "       [ 0.23713694,  0.26241542,  1.32983874,  0.72613547],\n",
       "       [-0.32795535, -0.74525979, -1.12282246, -1.37715349],\n",
       "       [ 1.15541192,  1.14413122,  0.92514964,  0.72613547],\n",
       "       [ 1.08477538,  1.14413122,  0.81477989,  0.72613547],\n",
       "       [ 0.59031963,  0.89221242,  0.37330087,  0.72613547],\n",
       "       [ 1.43795807,  1.39605002,  1.39115527,  0.72613547],\n",
       "       [-1.03432072, -0.11546278, -0.36249749, -1.37715349],\n",
       "       [ 1.22604846,  1.01817182,  1.34210205,  0.72613547],\n",
       "       [ 0.16650041,  0.13645602,  0.23840451, -1.37715349],\n",
       "       [ 0.66095616,  0.51433422,  0.82704319,  0.72613547],\n",
       "       [ 0.80222924,  0.89221242,  0.74120005,  0.72613547],\n",
       "       [ 1.15541192,  1.27009062,  1.2562589 ,  0.72613547],\n",
       "       [ 1.15541192,  1.14413122,  0.50819724,  0.72613547],\n",
       "       [ 0.02522733,  0.13645602,  0.60630369,  0.72613547],\n",
       "       [ 0.23713694,  0.13645602,  0.25066781,  0.72613547],\n",
       "       [ 0.02522733,  0.13645602,  0.54498716,  0.72613547],\n",
       "       [ 1.01413885,  1.27009062,  1.13362584,  0.72613547],\n",
       "       [ 0.94350231,  1.14413122,  0.70441014,  0.72613547],\n",
       "       [ 0.30777348,  0.38837482,  0.37330087,  0.72613547],\n",
       "       [-2.09386877, -1.12313799, -1.49072164, -1.37715349],\n",
       "       [ 1.43795807,  0.64029362,  1.01099278,  0.72613547],\n",
       "       [-1.67004955, -0.99717859, -1.34356196, -1.37715349],\n",
       "       [ 0.7315927 ,  0.76625302,  0.69214683,  0.72613547],\n",
       "       [ 0.30777348,  0.51433422,  0.58177708,  0.72613547],\n",
       "       [ 0.44904655,  0.26241542,  0.55725046,  0.72613547],\n",
       "       [ 0.16650041,  0.76625302,  0.71667344,  0.72613547],\n",
       "       [ 0.51968309, -0.11546278,  0.4346174 ,  0.72613547],\n",
       "       [-0.53986496, -1.24909739, -0.93887287,  0.72613547],\n",
       "       [-1.74068608, -2.00485379, -1.93220065, -1.37715349],\n",
       "       [-1.10495725, -0.74525979, -1.04924262, -1.37715349],\n",
       "       [ 0.44904655,  0.51433422,  0.76572666,  0.72613547],\n",
       "       [ 0.30777348,  0.64029362,  0.37330087,  0.72613547],\n",
       "       [-0.68113803,  0.13645602, -1.89541073,  0.72613547],\n",
       "       [ 0.16650041,  0.13645602,  0.39782749,  0.72613547],\n",
       "       [ 1.01413885,  1.27009062,  0.86383311,  0.72613547],\n",
       "       [ 1.08477538,  1.01817182,  0.96193956,  0.72613547],\n",
       "       [-1.3875034 , -0.49334098, -1.19640229, -1.37715349],\n",
       "       [ 1.08477538,  1.01817182,  1.28078552,  0.72613547],\n",
       "       [ 0.87286577,  1.14413122,  1.06004601,  0.72613547],\n",
       "       [-1.81132262, -2.00485379, -1.73598775, -1.37715349],\n",
       "       [ 0.16650041,  0.64029362,  0.20161459,  0.72613547],\n",
       "       [-1.10495725, -0.74525979, -0.16628459, -1.37715349],\n",
       "       [ 0.16650041,  0.01049662,  0.02992831, -1.37715349],\n",
       "       [ 0.87286577,  1.14413122,  0.85156981,  0.72613547],\n",
       "       [-1.24623033, -1.24909739, -1.87088412, -1.37715349],\n",
       "       [-1.24623033, -0.87121919, -0.95113617, -1.37715349],\n",
       "       [ 1.36732153,  1.27009062,  1.13362584, -1.37715349],\n",
       "       [-0.32795535, -1.12313799, -1.0124527 , -1.37715349],\n",
       "       [-1.52877647, -2.13081319, -1.09829584, -1.37715349],\n",
       "       [ 1.43795807,  1.39605002,  1.01099278,  0.72613547],\n",
       "       [-1.45813994, -1.87889439, -1.76051437, -1.37715349],\n",
       "       [ 0.80222924,  0.38837482,  1.2562589 ,  0.72613547],\n",
       "       [ 0.23713694, -0.11546278, -0.04365153,  0.72613547],\n",
       "       [-1.10495725, -0.49334098, -1.56430147, -1.37715349],\n",
       "       [ 0.80222924,  0.76625302,  0.81477989,  0.72613547]])"
      ]
     },
     "execution_count": 97,
     "metadata": {},
     "output_type": "execute_result"
    }
   ],
   "source": [
    "x_train"
   ]
  }
 ],
 "metadata": {
  "kernelspec": {
   "display_name": "Python 3",
   "language": "python",
   "name": "python3"
  },
  "language_info": {
   "codemirror_mode": {
    "name": "ipython",
    "version": 3
   },
   "file_extension": ".py",
   "mimetype": "text/x-python",
   "name": "python",
   "nbconvert_exporter": "python",
   "pygments_lexer": "ipython3",
   "version": "3.8.3"
  }
 },
 "nbformat": 4,
 "nbformat_minor": 4
}
