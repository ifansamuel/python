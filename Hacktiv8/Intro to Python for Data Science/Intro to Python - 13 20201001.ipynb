{
 "cells": [
  {
   "cell_type": "code",
   "execution_count": 16,
   "metadata": {},
   "outputs": [],
   "source": [
    "import pandas as pd\n",
    "import seaborn as sns\n",
    "import matplotlib.pyplot as plt\n",
    "import pandasql"
   ]
  },
  {
   "cell_type": "markdown",
   "metadata": {},
   "source": [
    "### Handle Missing Data "
   ]
  },
  {
   "cell_type": "code",
   "execution_count": 62,
   "metadata": {},
   "outputs": [],
   "source": [
    "playstore = pd.read_csv('http://bit.ly/dwp-data-playstore')"
   ]
  },
  {
   "cell_type": "code",
   "execution_count": 63,
   "metadata": {},
   "outputs": [],
   "source": [
    "df_playstore = playstore"
   ]
  },
  {
   "cell_type": "code",
   "execution_count": 66,
   "metadata": {},
   "outputs": [
    {
     "name": "stdout",
     "output_type": "stream",
     "text": [
      "<class 'pandas.core.frame.DataFrame'>\n",
      "RangeIndex: 10841 entries, 0 to 10840\n",
      "Data columns (total 13 columns):\n",
      " #   Column          Non-Null Count  Dtype  \n",
      "---  ------          --------------  -----  \n",
      " 0   App             10841 non-null  object \n",
      " 1   Category        10841 non-null  object \n",
      " 2   Rating          9367 non-null   float64\n",
      " 3   Reviews         10841 non-null  object \n",
      " 4   Size            10841 non-null  object \n",
      " 5   Installs        10841 non-null  object \n",
      " 6   Type            10840 non-null  object \n",
      " 7   Price           10841 non-null  object \n",
      " 8   Content Rating  10840 non-null  object \n",
      " 9   Genres          10841 non-null  object \n",
      " 10  Last Updated    10841 non-null  object \n",
      " 11  Current Ver     10833 non-null  object \n",
      " 12  Android Ver     10838 non-null  object \n",
      "dtypes: float64(1), object(12)\n",
      "memory usage: 1.1+ MB\n"
     ]
    }
   ],
   "source": [
    "df_playstore.info()"
   ]
  },
  {
   "cell_type": "code",
   "execution_count": 6,
   "metadata": {},
   "outputs": [
    {
     "data": {
      "text/html": [
       "<div>\n",
       "<style scoped>\n",
       "    .dataframe tbody tr th:only-of-type {\n",
       "        vertical-align: middle;\n",
       "    }\n",
       "\n",
       "    .dataframe tbody tr th {\n",
       "        vertical-align: top;\n",
       "    }\n",
       "\n",
       "    .dataframe thead th {\n",
       "        text-align: right;\n",
       "    }\n",
       "</style>\n",
       "<table border=\"1\" class=\"dataframe\">\n",
       "  <thead>\n",
       "    <tr style=\"text-align: right;\">\n",
       "      <th></th>\n",
       "      <th>App</th>\n",
       "      <th>Category</th>\n",
       "      <th>Rating</th>\n",
       "      <th>Reviews</th>\n",
       "      <th>Size</th>\n",
       "      <th>Installs</th>\n",
       "      <th>Type</th>\n",
       "      <th>Price</th>\n",
       "      <th>Content Rating</th>\n",
       "      <th>Genres</th>\n",
       "      <th>Last Updated</th>\n",
       "      <th>Current Ver</th>\n",
       "      <th>Android Ver</th>\n",
       "    </tr>\n",
       "  </thead>\n",
       "  <tbody>\n",
       "    <tr>\n",
       "      <th>0</th>\n",
       "      <td>Photo Editor &amp; Candy Camera &amp; Grid &amp; ScrapBook</td>\n",
       "      <td>ART_AND_DESIGN</td>\n",
       "      <td>4.1</td>\n",
       "      <td>159</td>\n",
       "      <td>19M</td>\n",
       "      <td>10,000+</td>\n",
       "      <td>Free</td>\n",
       "      <td>0</td>\n",
       "      <td>Everyone</td>\n",
       "      <td>Art &amp; Design</td>\n",
       "      <td>January 7, 2018</td>\n",
       "      <td>1.0.0</td>\n",
       "      <td>4.0.3 and up</td>\n",
       "    </tr>\n",
       "    <tr>\n",
       "      <th>1</th>\n",
       "      <td>Coloring book moana</td>\n",
       "      <td>ART_AND_DESIGN</td>\n",
       "      <td>3.9</td>\n",
       "      <td>967</td>\n",
       "      <td>14M</td>\n",
       "      <td>500,000+</td>\n",
       "      <td>Free</td>\n",
       "      <td>0</td>\n",
       "      <td>Everyone</td>\n",
       "      <td>Art &amp; Design;Pretend Play</td>\n",
       "      <td>January 15, 2018</td>\n",
       "      <td>2.0.0</td>\n",
       "      <td>4.0.3 and up</td>\n",
       "    </tr>\n",
       "    <tr>\n",
       "      <th>2</th>\n",
       "      <td>U Launcher Lite – FREE Live Cool Themes, Hide ...</td>\n",
       "      <td>ART_AND_DESIGN</td>\n",
       "      <td>4.7</td>\n",
       "      <td>87510</td>\n",
       "      <td>8.7M</td>\n",
       "      <td>5,000,000+</td>\n",
       "      <td>Free</td>\n",
       "      <td>0</td>\n",
       "      <td>Everyone</td>\n",
       "      <td>Art &amp; Design</td>\n",
       "      <td>August 1, 2018</td>\n",
       "      <td>1.2.4</td>\n",
       "      <td>4.0.3 and up</td>\n",
       "    </tr>\n",
       "    <tr>\n",
       "      <th>3</th>\n",
       "      <td>Sketch - Draw &amp; Paint</td>\n",
       "      <td>ART_AND_DESIGN</td>\n",
       "      <td>4.5</td>\n",
       "      <td>215644</td>\n",
       "      <td>25M</td>\n",
       "      <td>50,000,000+</td>\n",
       "      <td>Free</td>\n",
       "      <td>0</td>\n",
       "      <td>Teen</td>\n",
       "      <td>Art &amp; Design</td>\n",
       "      <td>June 8, 2018</td>\n",
       "      <td>Varies with device</td>\n",
       "      <td>4.2 and up</td>\n",
       "    </tr>\n",
       "    <tr>\n",
       "      <th>4</th>\n",
       "      <td>Pixel Draw - Number Art Coloring Book</td>\n",
       "      <td>ART_AND_DESIGN</td>\n",
       "      <td>4.3</td>\n",
       "      <td>967</td>\n",
       "      <td>2.8M</td>\n",
       "      <td>100,000+</td>\n",
       "      <td>Free</td>\n",
       "      <td>0</td>\n",
       "      <td>Everyone</td>\n",
       "      <td>Art &amp; Design;Creativity</td>\n",
       "      <td>June 20, 2018</td>\n",
       "      <td>1.1</td>\n",
       "      <td>4.4 and up</td>\n",
       "    </tr>\n",
       "  </tbody>\n",
       "</table>\n",
       "</div>"
      ],
      "text/plain": [
       "                                                 App        Category  Rating  \\\n",
       "0     Photo Editor & Candy Camera & Grid & ScrapBook  ART_AND_DESIGN     4.1   \n",
       "1                                Coloring book moana  ART_AND_DESIGN     3.9   \n",
       "2  U Launcher Lite – FREE Live Cool Themes, Hide ...  ART_AND_DESIGN     4.7   \n",
       "3                              Sketch - Draw & Paint  ART_AND_DESIGN     4.5   \n",
       "4              Pixel Draw - Number Art Coloring Book  ART_AND_DESIGN     4.3   \n",
       "\n",
       "  Reviews  Size     Installs  Type Price Content Rating  \\\n",
       "0     159   19M      10,000+  Free     0       Everyone   \n",
       "1     967   14M     500,000+  Free     0       Everyone   \n",
       "2   87510  8.7M   5,000,000+  Free     0       Everyone   \n",
       "3  215644   25M  50,000,000+  Free     0           Teen   \n",
       "4     967  2.8M     100,000+  Free     0       Everyone   \n",
       "\n",
       "                      Genres      Last Updated         Current Ver  \\\n",
       "0               Art & Design   January 7, 2018               1.0.0   \n",
       "1  Art & Design;Pretend Play  January 15, 2018               2.0.0   \n",
       "2               Art & Design    August 1, 2018               1.2.4   \n",
       "3               Art & Design      June 8, 2018  Varies with device   \n",
       "4    Art & Design;Creativity     June 20, 2018                 1.1   \n",
       "\n",
       "    Android Ver  \n",
       "0  4.0.3 and up  \n",
       "1  4.0.3 and up  \n",
       "2  4.0.3 and up  \n",
       "3    4.2 and up  \n",
       "4    4.4 and up  "
      ]
     },
     "execution_count": 6,
     "metadata": {},
     "output_type": "execute_result"
    }
   ],
   "source": [
    "df_playstore.head()"
   ]
  },
  {
   "cell_type": "code",
   "execution_count": 50,
   "metadata": {},
   "outputs": [
    {
     "data": {
      "text/html": [
       "<div>\n",
       "<style scoped>\n",
       "    .dataframe tbody tr th:only-of-type {\n",
       "        vertical-align: middle;\n",
       "    }\n",
       "\n",
       "    .dataframe tbody tr th {\n",
       "        vertical-align: top;\n",
       "    }\n",
       "\n",
       "    .dataframe thead th {\n",
       "        text-align: right;\n",
       "    }\n",
       "</style>\n",
       "<table border=\"1\" class=\"dataframe\">\n",
       "  <thead>\n",
       "    <tr style=\"text-align: right;\">\n",
       "      <th></th>\n",
       "      <th>App</th>\n",
       "      <th>Category</th>\n",
       "      <th>Rating</th>\n",
       "      <th>Reviews</th>\n",
       "      <th>Size</th>\n",
       "      <th>Installs</th>\n",
       "      <th>Type</th>\n",
       "      <th>Price</th>\n",
       "      <th>Content Rating</th>\n",
       "      <th>Genres</th>\n",
       "      <th>Last Updated</th>\n",
       "      <th>Current Ver</th>\n",
       "      <th>Android Ver</th>\n",
       "    </tr>\n",
       "  </thead>\n",
       "  <tbody>\n",
       "    <tr>\n",
       "      <th>23</th>\n",
       "      <td>Mcqueen Coloring pages</td>\n",
       "      <td>ART_AND_DESIGN</td>\n",
       "      <td>NaN</td>\n",
       "      <td>61</td>\n",
       "      <td>7.0M</td>\n",
       "      <td>100,000+</td>\n",
       "      <td>Free</td>\n",
       "      <td>0</td>\n",
       "      <td>Everyone</td>\n",
       "      <td>Art &amp; Design;Action &amp; Adventure</td>\n",
       "      <td>March 7, 2018</td>\n",
       "      <td>1.0.0</td>\n",
       "      <td>4.1 and up</td>\n",
       "    </tr>\n",
       "    <tr>\n",
       "      <th>113</th>\n",
       "      <td>Wrinkles and rejuvenation</td>\n",
       "      <td>BEAUTY</td>\n",
       "      <td>NaN</td>\n",
       "      <td>182</td>\n",
       "      <td>5.7M</td>\n",
       "      <td>100,000+</td>\n",
       "      <td>Free</td>\n",
       "      <td>0</td>\n",
       "      <td>Everyone 10+</td>\n",
       "      <td>Beauty</td>\n",
       "      <td>September 20, 2017</td>\n",
       "      <td>8.0</td>\n",
       "      <td>3.0 and up</td>\n",
       "    </tr>\n",
       "    <tr>\n",
       "      <th>123</th>\n",
       "      <td>Manicure - nail design</td>\n",
       "      <td>BEAUTY</td>\n",
       "      <td>NaN</td>\n",
       "      <td>119</td>\n",
       "      <td>3.7M</td>\n",
       "      <td>50,000+</td>\n",
       "      <td>Free</td>\n",
       "      <td>0</td>\n",
       "      <td>Everyone</td>\n",
       "      <td>Beauty</td>\n",
       "      <td>July 23, 2018</td>\n",
       "      <td>1.3</td>\n",
       "      <td>4.1 and up</td>\n",
       "    </tr>\n",
       "    <tr>\n",
       "      <th>126</th>\n",
       "      <td>Skin Care and Natural Beauty</td>\n",
       "      <td>BEAUTY</td>\n",
       "      <td>NaN</td>\n",
       "      <td>654</td>\n",
       "      <td>7.4M</td>\n",
       "      <td>100,000+</td>\n",
       "      <td>Free</td>\n",
       "      <td>0</td>\n",
       "      <td>Teen</td>\n",
       "      <td>Beauty</td>\n",
       "      <td>July 17, 2018</td>\n",
       "      <td>1.15</td>\n",
       "      <td>4.1 and up</td>\n",
       "    </tr>\n",
       "    <tr>\n",
       "      <th>129</th>\n",
       "      <td>Secrets of beauty, youth and health</td>\n",
       "      <td>BEAUTY</td>\n",
       "      <td>NaN</td>\n",
       "      <td>77</td>\n",
       "      <td>2.9M</td>\n",
       "      <td>10,000+</td>\n",
       "      <td>Free</td>\n",
       "      <td>0</td>\n",
       "      <td>Mature 17+</td>\n",
       "      <td>Beauty</td>\n",
       "      <td>August 8, 2017</td>\n",
       "      <td>2.0</td>\n",
       "      <td>2.3 and up</td>\n",
       "    </tr>\n",
       "    <tr>\n",
       "      <th>...</th>\n",
       "      <td>...</td>\n",
       "      <td>...</td>\n",
       "      <td>...</td>\n",
       "      <td>...</td>\n",
       "      <td>...</td>\n",
       "      <td>...</td>\n",
       "      <td>...</td>\n",
       "      <td>...</td>\n",
       "      <td>...</td>\n",
       "      <td>...</td>\n",
       "      <td>...</td>\n",
       "      <td>...</td>\n",
       "      <td>...</td>\n",
       "    </tr>\n",
       "    <tr>\n",
       "      <th>10824</th>\n",
       "      <td>Cardio-FR</td>\n",
       "      <td>MEDICAL</td>\n",
       "      <td>NaN</td>\n",
       "      <td>67</td>\n",
       "      <td>82M</td>\n",
       "      <td>10,000+</td>\n",
       "      <td>Free</td>\n",
       "      <td>0</td>\n",
       "      <td>Everyone</td>\n",
       "      <td>Medical</td>\n",
       "      <td>July 31, 2018</td>\n",
       "      <td>2.2.2</td>\n",
       "      <td>4.4 and up</td>\n",
       "    </tr>\n",
       "    <tr>\n",
       "      <th>10825</th>\n",
       "      <td>Naruto &amp; Boruto FR</td>\n",
       "      <td>SOCIAL</td>\n",
       "      <td>NaN</td>\n",
       "      <td>7</td>\n",
       "      <td>7.7M</td>\n",
       "      <td>100+</td>\n",
       "      <td>Free</td>\n",
       "      <td>0</td>\n",
       "      <td>Teen</td>\n",
       "      <td>Social</td>\n",
       "      <td>February 2, 2018</td>\n",
       "      <td>1.0</td>\n",
       "      <td>4.0 and up</td>\n",
       "    </tr>\n",
       "    <tr>\n",
       "      <th>10831</th>\n",
       "      <td>payermonstationnement.fr</td>\n",
       "      <td>MAPS_AND_NAVIGATION</td>\n",
       "      <td>NaN</td>\n",
       "      <td>38</td>\n",
       "      <td>9.8M</td>\n",
       "      <td>5,000+</td>\n",
       "      <td>Free</td>\n",
       "      <td>0</td>\n",
       "      <td>Everyone</td>\n",
       "      <td>Maps &amp; Navigation</td>\n",
       "      <td>June 13, 2018</td>\n",
       "      <td>2.0.148.0</td>\n",
       "      <td>4.0 and up</td>\n",
       "    </tr>\n",
       "    <tr>\n",
       "      <th>10835</th>\n",
       "      <td>FR Forms</td>\n",
       "      <td>BUSINESS</td>\n",
       "      <td>NaN</td>\n",
       "      <td>0</td>\n",
       "      <td>9.6M</td>\n",
       "      <td>10+</td>\n",
       "      <td>Free</td>\n",
       "      <td>0</td>\n",
       "      <td>Everyone</td>\n",
       "      <td>Business</td>\n",
       "      <td>September 29, 2016</td>\n",
       "      <td>1.1.5</td>\n",
       "      <td>4.0 and up</td>\n",
       "    </tr>\n",
       "    <tr>\n",
       "      <th>10838</th>\n",
       "      <td>Parkinson Exercices FR</td>\n",
       "      <td>MEDICAL</td>\n",
       "      <td>NaN</td>\n",
       "      <td>3</td>\n",
       "      <td>9.5M</td>\n",
       "      <td>1,000+</td>\n",
       "      <td>Free</td>\n",
       "      <td>0</td>\n",
       "      <td>Everyone</td>\n",
       "      <td>Medical</td>\n",
       "      <td>January 20, 2017</td>\n",
       "      <td>1.0</td>\n",
       "      <td>2.2 and up</td>\n",
       "    </tr>\n",
       "  </tbody>\n",
       "</table>\n",
       "<p>1474 rows × 13 columns</p>\n",
       "</div>"
      ],
      "text/plain": [
       "                                       App             Category  Rating  \\\n",
       "23                  Mcqueen Coloring pages       ART_AND_DESIGN     NaN   \n",
       "113              Wrinkles and rejuvenation               BEAUTY     NaN   \n",
       "123                 Manicure - nail design               BEAUTY     NaN   \n",
       "126           Skin Care and Natural Beauty               BEAUTY     NaN   \n",
       "129    Secrets of beauty, youth and health               BEAUTY     NaN   \n",
       "...                                    ...                  ...     ...   \n",
       "10824                            Cardio-FR              MEDICAL     NaN   \n",
       "10825                   Naruto & Boruto FR               SOCIAL     NaN   \n",
       "10831             payermonstationnement.fr  MAPS_AND_NAVIGATION     NaN   \n",
       "10835                             FR Forms             BUSINESS     NaN   \n",
       "10838               Parkinson Exercices FR              MEDICAL     NaN   \n",
       "\n",
       "      Reviews  Size  Installs  Type Price Content Rating  \\\n",
       "23         61  7.0M  100,000+  Free     0       Everyone   \n",
       "113       182  5.7M  100,000+  Free     0   Everyone 10+   \n",
       "123       119  3.7M   50,000+  Free     0       Everyone   \n",
       "126       654  7.4M  100,000+  Free     0           Teen   \n",
       "129        77  2.9M   10,000+  Free     0     Mature 17+   \n",
       "...       ...   ...       ...   ...   ...            ...   \n",
       "10824      67   82M   10,000+  Free     0       Everyone   \n",
       "10825       7  7.7M      100+  Free     0           Teen   \n",
       "10831      38  9.8M    5,000+  Free     0       Everyone   \n",
       "10835       0  9.6M       10+  Free     0       Everyone   \n",
       "10838       3  9.5M    1,000+  Free     0       Everyone   \n",
       "\n",
       "                                Genres        Last Updated Current Ver  \\\n",
       "23     Art & Design;Action & Adventure       March 7, 2018       1.0.0   \n",
       "113                             Beauty  September 20, 2017         8.0   \n",
       "123                             Beauty       July 23, 2018         1.3   \n",
       "126                             Beauty       July 17, 2018        1.15   \n",
       "129                             Beauty      August 8, 2017         2.0   \n",
       "...                                ...                 ...         ...   \n",
       "10824                          Medical       July 31, 2018       2.2.2   \n",
       "10825                           Social    February 2, 2018         1.0   \n",
       "10831                Maps & Navigation       June 13, 2018   2.0.148.0   \n",
       "10835                         Business  September 29, 2016       1.1.5   \n",
       "10838                          Medical    January 20, 2017         1.0   \n",
       "\n",
       "      Android Ver  \n",
       "23     4.1 and up  \n",
       "113    3.0 and up  \n",
       "123    4.1 and up  \n",
       "126    4.1 and up  \n",
       "129    2.3 and up  \n",
       "...           ...  \n",
       "10824  4.4 and up  \n",
       "10825  4.0 and up  \n",
       "10831  4.0 and up  \n",
       "10835  4.0 and up  \n",
       "10838  2.2 and up  \n",
       "\n",
       "[1474 rows x 13 columns]"
      ]
     },
     "execution_count": 50,
     "metadata": {},
     "output_type": "execute_result"
    }
   ],
   "source": [
    "df_playstore[pd.isnull(df_playstore['Rating'])]"
   ]
  },
  {
   "cell_type": "markdown",
   "metadata": {},
   "source": [
    "1. Fill with constant value"
   ]
  },
  {
   "cell_type": "markdown",
   "metadata": {},
   "source": [
    "    fill with mean, median, or mode"
   ]
  },
  {
   "cell_type": "code",
   "execution_count": 11,
   "metadata": {},
   "outputs": [
    {
     "data": {
      "text/plain": [
       "4.3"
      ]
     },
     "execution_count": 11,
     "metadata": {},
     "output_type": "execute_result"
    }
   ],
   "source": [
    "median_rating = df_playstore['Rating'].median()\n",
    "median_rating"
   ]
  },
  {
   "cell_type": "code",
   "execution_count": 13,
   "metadata": {},
   "outputs": [
    {
     "data": {
      "text/plain": [
       "4.2078406051102295"
      ]
     },
     "execution_count": 13,
     "metadata": {},
     "output_type": "execute_result"
    }
   ],
   "source": [
    "mean_rating = df_playstore['Rating'].mean()\n",
    "mean_rating"
   ]
  },
  {
   "cell_type": "code",
   "execution_count": 15,
   "metadata": {},
   "outputs": [
    {
     "data": {
      "text/plain": [
       "0    4.3\n",
       "dtype: float64"
      ]
     },
     "execution_count": 15,
     "metadata": {},
     "output_type": "execute_result"
    }
   ],
   "source": [
    "mode_rating = df_playstore['Rating'].mode()\n",
    "mode_rating"
   ]
  },
  {
   "cell_type": "code",
   "execution_count": 10,
   "metadata": {},
   "outputs": [],
   "source": [
    "df_playstore['Rating']=df_playstore['Rating'].fillna(median_rating)"
   ]
  },
  {
   "cell_type": "markdown",
   "metadata": {},
   "source": [
    "2. Fill with dynamic value"
   ]
  },
  {
   "cell_type": "code",
   "execution_count": null,
   "metadata": {},
   "outputs": [],
   "source": [
    "# objective mengisi null values di rating ndegan nilai rata2 rating pada kategori apps tersebut\n",
    "\n",
    "# step 1 --> cari rata-rata rating di setiap category (aggregasi data - GROUPBY)\n",
    "\n",
    "# step 2 --> isi null values berdasarkan nilai rata2 rating pada category tersebut\n",
    "#            (manupulate dataframe -> define function - apply function)"
   ]
  },
  {
   "cell_type": "code",
   "execution_count": 51,
   "metadata": {},
   "outputs": [
    {
     "data": {
      "text/plain": [
       "Category\n",
       "1.9                    19.0\n",
       "ART_AND_DESIGN          4.4\n",
       "AUTO_AND_VEHICLES       4.3\n",
       "BEAUTY                  4.3\n",
       "BOOKS_AND_REFERENCE     4.5\n",
       "BUSINESS                4.3\n",
       "COMICS                  4.4\n",
       "COMMUNICATION           4.3\n",
       "DATING                  4.1\n",
       "EDUCATION               4.4\n",
       "ENTERTAINMENT           4.2\n",
       "EVENTS                  4.5\n",
       "FAMILY                  4.3\n",
       "FINANCE                 4.3\n",
       "FOOD_AND_DRINK          4.3\n",
       "GAME                    4.4\n",
       "HEALTH_AND_FITNESS      4.5\n",
       "HOUSE_AND_HOME          4.3\n",
       "LIBRARIES_AND_DEMO      4.2\n",
       "LIFESTYLE               4.2\n",
       "MAPS_AND_NAVIGATION     4.2\n",
       "MEDICAL                 4.3\n",
       "NEWS_AND_MAGAZINES      4.2\n",
       "PARENTING               4.4\n",
       "PERSONALIZATION         4.4\n",
       "PHOTOGRAPHY             4.3\n",
       "PRODUCTIVITY            4.3\n",
       "SHOPPING                4.3\n",
       "SOCIAL                  4.3\n",
       "SPORTS                  4.3\n",
       "TOOLS                   4.2\n",
       "TRAVEL_AND_LOCAL        4.3\n",
       "VIDEO_PLAYERS           4.2\n",
       "WEATHER                 4.3\n",
       "Name: Rating, dtype: float64"
      ]
     },
     "execution_count": 51,
     "metadata": {},
     "output_type": "execute_result"
    }
   ],
   "source": [
    "rat_by_cat = df_playstore.groupby('Category')['Rating'].median()\n",
    "rat_by_cat"
   ]
  },
  {
   "cell_type": "code",
   "execution_count": 67,
   "metadata": {},
   "outputs": [],
   "source": [
    "def rating_category(row):\n",
    "    if pd.isnull(row['Rating']):\n",
    "        return rat_by_cat[row['Category']]\n",
    "    return row['Rating']\n",
    "\n",
    "# 2. Apply functionnya\n",
    "df_playstore['Rating'] = df_playstore.apply(rating_category, axis=1)"
   ]
  },
  {
   "cell_type": "code",
   "execution_count": 69,
   "metadata": {},
   "outputs": [
    {
     "data": {
      "text/plain": [
       "App                        Mcqueen Coloring pages\n",
       "Category                           ART_AND_DESIGN\n",
       "Rating                                        4.4\n",
       "Reviews                                        61\n",
       "Size                                         7.0M\n",
       "Installs                                 100,000+\n",
       "Type                                         Free\n",
       "Price                                           0\n",
       "Content Rating                           Everyone\n",
       "Genres            Art & Design;Action & Adventure\n",
       "Last Updated                        March 7, 2018\n",
       "Current Ver                                 1.0.0\n",
       "Android Ver                            4.1 and up\n",
       "Name: 23, dtype: object"
      ]
     },
     "execution_count": 69,
     "metadata": {},
     "output_type": "execute_result"
    }
   ],
   "source": [
    "df_playstore.loc[23,:]"
   ]
  },
  {
   "cell_type": "markdown",
   "metadata": {},
   "source": [
    "## Neural Network"
   ]
  },
  {
   "cell_type": "markdown",
   "metadata": {},
   "source": [
    "machine learning - deep learning"
   ]
  },
  {
   "cell_type": "code",
   "execution_count": 71,
   "metadata": {},
   "outputs": [],
   "source": [
    "import tensorflow\n",
    "import tensorflow as tf\n",
    "import matplotlib.pyplot as plt\n",
    "\n",
    "from tensorflow.keras import Sequential\n",
    "from tensorflow.keras.layers import Dense\n",
    "from tensorflow.keras.optimizers import Adam\n",
    "\n",
    "from sklearn.preprocessing import StandardScaler\n",
    "from sklearn.model_selection import train_test_split"
   ]
  },
  {
   "cell_type": "code",
   "execution_count": 72,
   "metadata": {},
   "outputs": [],
   "source": [
    "car = pd.read_csv('http://bit.ly/dwp-data-car')"
   ]
  },
  {
   "cell_type": "code",
   "execution_count": 74,
   "metadata": {},
   "outputs": [],
   "source": [
    "df_car = car"
   ]
  },
  {
   "cell_type": "code",
   "execution_count": 77,
   "metadata": {},
   "outputs": [
    {
     "data": {
      "text/html": [
       "<div>\n",
       "<style scoped>\n",
       "    .dataframe tbody tr th:only-of-type {\n",
       "        vertical-align: middle;\n",
       "    }\n",
       "\n",
       "    .dataframe tbody tr th {\n",
       "        vertical-align: top;\n",
       "    }\n",
       "\n",
       "    .dataframe thead th {\n",
       "        text-align: right;\n",
       "    }\n",
       "</style>\n",
       "<table border=\"1\" class=\"dataframe\">\n",
       "  <thead>\n",
       "    <tr style=\"text-align: right;\">\n",
       "      <th></th>\n",
       "      <th>Cylinders</th>\n",
       "      <th>Displacement</th>\n",
       "      <th>Horsepower</th>\n",
       "      <th>Weight</th>\n",
       "      <th>Acceleration</th>\n",
       "      <th>Model Year</th>\n",
       "      <th>Origin</th>\n",
       "      <th>MPG</th>\n",
       "    </tr>\n",
       "  </thead>\n",
       "  <tbody>\n",
       "    <tr>\n",
       "      <th>0</th>\n",
       "      <td>8</td>\n",
       "      <td>307</td>\n",
       "      <td>130</td>\n",
       "      <td>3504</td>\n",
       "      <td>12</td>\n",
       "      <td>70</td>\n",
       "      <td>1</td>\n",
       "      <td>18</td>\n",
       "    </tr>\n",
       "    <tr>\n",
       "      <th>1</th>\n",
       "      <td>8</td>\n",
       "      <td>350</td>\n",
       "      <td>165</td>\n",
       "      <td>3693</td>\n",
       "      <td>11</td>\n",
       "      <td>70</td>\n",
       "      <td>1</td>\n",
       "      <td>15</td>\n",
       "    </tr>\n",
       "    <tr>\n",
       "      <th>2</th>\n",
       "      <td>8</td>\n",
       "      <td>318</td>\n",
       "      <td>150</td>\n",
       "      <td>3436</td>\n",
       "      <td>11</td>\n",
       "      <td>70</td>\n",
       "      <td>1</td>\n",
       "      <td>18</td>\n",
       "    </tr>\n",
       "    <tr>\n",
       "      <th>3</th>\n",
       "      <td>8</td>\n",
       "      <td>304</td>\n",
       "      <td>150</td>\n",
       "      <td>3433</td>\n",
       "      <td>12</td>\n",
       "      <td>70</td>\n",
       "      <td>1</td>\n",
       "      <td>16</td>\n",
       "    </tr>\n",
       "    <tr>\n",
       "      <th>4</th>\n",
       "      <td>8</td>\n",
       "      <td>302</td>\n",
       "      <td>140</td>\n",
       "      <td>3449</td>\n",
       "      <td>10</td>\n",
       "      <td>70</td>\n",
       "      <td>1</td>\n",
       "      <td>17</td>\n",
       "    </tr>\n",
       "    <tr>\n",
       "      <th>...</th>\n",
       "      <td>...</td>\n",
       "      <td>...</td>\n",
       "      <td>...</td>\n",
       "      <td>...</td>\n",
       "      <td>...</td>\n",
       "      <td>...</td>\n",
       "      <td>...</td>\n",
       "      <td>...</td>\n",
       "    </tr>\n",
       "    <tr>\n",
       "      <th>387</th>\n",
       "      <td>4</td>\n",
       "      <td>140</td>\n",
       "      <td>86</td>\n",
       "      <td>2790</td>\n",
       "      <td>15</td>\n",
       "      <td>82</td>\n",
       "      <td>1</td>\n",
       "      <td>27</td>\n",
       "    </tr>\n",
       "    <tr>\n",
       "      <th>388</th>\n",
       "      <td>4</td>\n",
       "      <td>97</td>\n",
       "      <td>52</td>\n",
       "      <td>2130</td>\n",
       "      <td>24</td>\n",
       "      <td>82</td>\n",
       "      <td>2</td>\n",
       "      <td>44</td>\n",
       "    </tr>\n",
       "    <tr>\n",
       "      <th>389</th>\n",
       "      <td>4</td>\n",
       "      <td>135</td>\n",
       "      <td>84</td>\n",
       "      <td>2295</td>\n",
       "      <td>11</td>\n",
       "      <td>82</td>\n",
       "      <td>1</td>\n",
       "      <td>32</td>\n",
       "    </tr>\n",
       "    <tr>\n",
       "      <th>390</th>\n",
       "      <td>4</td>\n",
       "      <td>120</td>\n",
       "      <td>79</td>\n",
       "      <td>2625</td>\n",
       "      <td>18</td>\n",
       "      <td>82</td>\n",
       "      <td>1</td>\n",
       "      <td>28</td>\n",
       "    </tr>\n",
       "    <tr>\n",
       "      <th>391</th>\n",
       "      <td>4</td>\n",
       "      <td>119</td>\n",
       "      <td>82</td>\n",
       "      <td>2720</td>\n",
       "      <td>19</td>\n",
       "      <td>82</td>\n",
       "      <td>1</td>\n",
       "      <td>31</td>\n",
       "    </tr>\n",
       "  </tbody>\n",
       "</table>\n",
       "<p>392 rows × 8 columns</p>\n",
       "</div>"
      ],
      "text/plain": [
       "     Cylinders  Displacement  Horsepower  Weight  Acceleration  Model Year  \\\n",
       "0            8           307         130    3504            12          70   \n",
       "1            8           350         165    3693            11          70   \n",
       "2            8           318         150    3436            11          70   \n",
       "3            8           304         150    3433            12          70   \n",
       "4            8           302         140    3449            10          70   \n",
       "..         ...           ...         ...     ...           ...         ...   \n",
       "387          4           140          86    2790            15          82   \n",
       "388          4            97          52    2130            24          82   \n",
       "389          4           135          84    2295            11          82   \n",
       "390          4           120          79    2625            18          82   \n",
       "391          4           119          82    2720            19          82   \n",
       "\n",
       "     Origin  MPG  \n",
       "0         1   18  \n",
       "1         1   15  \n",
       "2         1   18  \n",
       "3         1   16  \n",
       "4         1   17  \n",
       "..      ...  ...  \n",
       "387       1   27  \n",
       "388       2   44  \n",
       "389       1   32  \n",
       "390       1   28  \n",
       "391       1   31  \n",
       "\n",
       "[392 rows x 8 columns]"
      ]
     },
     "execution_count": 77,
     "metadata": {},
     "output_type": "execute_result"
    }
   ],
   "source": [
    "df_car"
   ]
  },
  {
   "cell_type": "code",
   "execution_count": 76,
   "metadata": {},
   "outputs": [
    {
     "data": {
      "text/plain": [
       "array([1, 3, 2], dtype=int64)"
      ]
     },
     "execution_count": 76,
     "metadata": {},
     "output_type": "execute_result"
    }
   ],
   "source": [
    "df_car['Origin'].unique()"
   ]
  },
  {
   "cell_type": "markdown",
   "metadata": {},
   "source": [
    "### Neural Network for Regression"
   ]
  },
  {
   "cell_type": "code",
   "execution_count": 122,
   "metadata": {},
   "outputs": [],
   "source": [
    "#define x / parameter & y / target \n",
    "x = df_car.drop(columns='MPG')\n",
    "y = df_car['MPG']"
   ]
  },
  {
   "cell_type": "code",
   "execution_count": 123,
   "metadata": {},
   "outputs": [],
   "source": [
    "#Split the data\n",
    "x_train, x_test, y_train, y_test = train_test_split(x, y, test_size=0.2, random_state = 1)"
   ]
  },
  {
   "cell_type": "code",
   "execution_count": 124,
   "metadata": {},
   "outputs": [],
   "source": [
    "#Stardardize the data\n",
    "scaler = StandardScaler()\n",
    "x_train = scaler.fit_transform(x_train)\n",
    "x_test = scaler.fit_transform(x_test)"
   ]
  },
  {
   "cell_type": "code",
   "execution_count": 125,
   "metadata": {},
   "outputs": [],
   "source": [
    "#initiate the model (neural network)\n",
    "## Neural Network in Tensorflow\n",
    "model = Sequential()"
   ]
  },
  {
   "cell_type": "code",
   "execution_count": 126,
   "metadata": {},
   "outputs": [],
   "source": [
    "## Add Hidden Layer\n",
    "model.add(Dense(8, input_dim = x_train.shape[1], activation='relu'))"
   ]
  },
  {
   "cell_type": "code",
   "execution_count": 127,
   "metadata": {},
   "outputs": [],
   "source": [
    "## Add Output Layer\n",
    "model.add(Dense(1,activation='relu'))"
   ]
  },
  {
   "cell_type": "code",
   "execution_count": 128,
   "metadata": {},
   "outputs": [],
   "source": [
    "# Compile Model\n",
    "model.compile(loss= 'mae', optimizer=Adam(lr=0.05))"
   ]
  },
  {
   "cell_type": "code",
   "execution_count": 129,
   "metadata": {},
   "outputs": [
    {
     "name": "stdout",
     "output_type": "stream",
     "text": [
      "Epoch 1/100\n",
      "5/5 [==============================] - 0s 27ms/step - loss: 21.7785 - val_loss: 20.1614\n",
      "Epoch 2/100\n",
      "5/5 [==============================] - 0s 6ms/step - loss: 18.4379 - val_loss: 15.7450\n",
      "Epoch 3/100\n",
      "5/5 [==============================] - 0s 5ms/step - loss: 13.4288 - val_loss: 9.9818\n",
      "Epoch 4/100\n",
      "5/5 [==============================] - 0s 5ms/step - loss: 8.5150 - val_loss: 8.4953\n",
      "Epoch 5/100\n",
      "5/5 [==============================] - 0s 6ms/step - loss: 7.4711 - val_loss: 9.0583\n",
      "Epoch 6/100\n",
      "5/5 [==============================] - 0s 6ms/step - loss: 7.4248 - val_loss: 8.1126\n",
      "Epoch 7/100\n",
      "5/5 [==============================] - 0s 6ms/step - loss: 5.9190 - val_loss: 5.8731\n",
      "Epoch 8/100\n",
      "5/5 [==============================] - 0s 7ms/step - loss: 4.5751 - val_loss: 4.2102\n",
      "Epoch 9/100\n",
      "5/5 [==============================] - 0s 6ms/step - loss: 4.1376 - val_loss: 3.3039\n",
      "Epoch 10/100\n",
      "5/5 [==============================] - 0s 6ms/step - loss: 3.8632 - val_loss: 3.3481\n",
      "Epoch 11/100\n",
      "5/5 [==============================] - 0s 6ms/step - loss: 3.6795 - val_loss: 3.1383\n",
      "Epoch 12/100\n",
      "5/5 [==============================] - 0s 6ms/step - loss: 3.2453 - val_loss: 2.9585\n",
      "Epoch 13/100\n",
      "5/5 [==============================] - 0s 6ms/step - loss: 3.0714 - val_loss: 3.3283\n",
      "Epoch 14/100\n",
      "5/5 [==============================] - 0s 6ms/step - loss: 2.9559 - val_loss: 3.0749\n",
      "Epoch 15/100\n",
      "5/5 [==============================] - 0s 6ms/step - loss: 2.7612 - val_loss: 2.6706\n",
      "Epoch 16/100\n",
      "5/5 [==============================] - 0s 6ms/step - loss: 2.6157 - val_loss: 2.4322\n",
      "Epoch 17/100\n",
      "5/5 [==============================] - 0s 5ms/step - loss: 2.5255 - val_loss: 2.4231\n",
      "Epoch 18/100\n",
      "5/5 [==============================] - 0s 5ms/step - loss: 2.4225 - val_loss: 2.2831\n",
      "Epoch 19/100\n",
      "5/5 [==============================] - 0s 5ms/step - loss: 2.3389 - val_loss: 2.1813\n",
      "Epoch 20/100\n",
      "5/5 [==============================] - 0s 5ms/step - loss: 2.2426 - val_loss: 2.1862\n",
      "Epoch 21/100\n",
      "5/5 [==============================] - 0s 5ms/step - loss: 2.1368 - val_loss: 2.0264\n",
      "Epoch 22/100\n",
      "5/5 [==============================] - 0s 6ms/step - loss: 2.0897 - val_loss: 1.9685\n",
      "Epoch 23/100\n",
      "5/5 [==============================] - 0s 5ms/step - loss: 2.0833 - val_loss: 1.9069\n",
      "Epoch 24/100\n",
      "5/5 [==============================] - 0s 5ms/step - loss: 2.0786 - val_loss: 1.9701\n",
      "Epoch 25/100\n",
      "5/5 [==============================] - 0s 5ms/step - loss: 1.9948 - val_loss: 1.9603\n",
      "Epoch 26/100\n",
      "5/5 [==============================] - 0s 6ms/step - loss: 2.0134 - val_loss: 1.9307\n",
      "Epoch 27/100\n",
      "5/5 [==============================] - 0s 6ms/step - loss: 2.0091 - val_loss: 1.9837\n",
      "Epoch 28/100\n",
      "5/5 [==============================] - 0s 6ms/step - loss: 1.9891 - val_loss: 1.9475\n",
      "Epoch 29/100\n",
      "5/5 [==============================] - 0s 6ms/step - loss: 1.9803 - val_loss: 1.9645\n",
      "Epoch 30/100\n",
      "5/5 [==============================] - 0s 6ms/step - loss: 1.9618 - val_loss: 2.0007\n",
      "Epoch 31/100\n",
      "5/5 [==============================] - 0s 5ms/step - loss: 1.9535 - val_loss: 2.0151\n",
      "Epoch 32/100\n",
      "5/5 [==============================] - 0s 6ms/step - loss: 1.9781 - val_loss: 1.9288\n",
      "Epoch 33/100\n",
      "5/5 [==============================] - 0s 5ms/step - loss: 1.9495 - val_loss: 1.9189\n",
      "Epoch 34/100\n",
      "5/5 [==============================] - 0s 5ms/step - loss: 1.9308 - val_loss: 1.9422\n",
      "Epoch 35/100\n",
      "5/5 [==============================] - 0s 6ms/step - loss: 1.9406 - val_loss: 1.9632\n",
      "Epoch 36/100\n",
      "5/5 [==============================] - 0s 6ms/step - loss: 1.9133 - val_loss: 1.9767\n",
      "Epoch 37/100\n",
      "5/5 [==============================] - 0s 6ms/step - loss: 1.9304 - val_loss: 1.9256\n",
      "Epoch 38/100\n",
      "5/5 [==============================] - 0s 6ms/step - loss: 1.9742 - val_loss: 2.0317\n",
      "Epoch 39/100\n",
      "5/5 [==============================] - 0s 5ms/step - loss: 1.9100 - val_loss: 2.0231\n",
      "Epoch 40/100\n",
      "5/5 [==============================] - 0s 6ms/step - loss: 1.9583 - val_loss: 2.0008\n",
      "Epoch 41/100\n",
      "5/5 [==============================] - 0s 5ms/step - loss: 1.8979 - val_loss: 1.9362\n",
      "Epoch 42/100\n",
      "5/5 [==============================] - 0s 5ms/step - loss: 1.9771 - val_loss: 2.0898\n",
      "Epoch 43/100\n",
      "5/5 [==============================] - 0s 5ms/step - loss: 2.0999 - val_loss: 1.9881\n",
      "Epoch 44/100\n",
      "5/5 [==============================] - 0s 5ms/step - loss: 1.8812 - val_loss: 2.0777\n",
      "Epoch 45/100\n",
      "5/5 [==============================] - 0s 5ms/step - loss: 1.9952 - val_loss: 2.0139\n",
      "Epoch 46/100\n",
      "5/5 [==============================] - 0s 5ms/step - loss: 1.9552 - val_loss: 1.9359\n",
      "Epoch 47/100\n",
      "5/5 [==============================] - 0s 5ms/step - loss: 1.9451 - val_loss: 2.0498\n",
      "Epoch 48/100\n",
      "5/5 [==============================] - 0s 5ms/step - loss: 1.8821 - val_loss: 1.9599\n",
      "Epoch 49/100\n",
      "5/5 [==============================] - 0s 5ms/step - loss: 1.9055 - val_loss: 2.0096\n",
      "Epoch 50/100\n",
      "5/5 [==============================] - 0s 5ms/step - loss: 1.8738 - val_loss: 1.9271\n",
      "Epoch 51/100\n",
      "5/5 [==============================] - 0s 5ms/step - loss: 1.8407 - val_loss: 1.9861\n",
      "Epoch 52/100\n",
      "5/5 [==============================] - 0s 6ms/step - loss: 1.9105 - val_loss: 1.9111\n",
      "Epoch 53/100\n",
      "5/5 [==============================] - 0s 6ms/step - loss: 1.8424 - val_loss: 1.9157\n",
      "Epoch 54/100\n",
      "5/5 [==============================] - 0s 6ms/step - loss: 1.8256 - val_loss: 1.9262\n",
      "Epoch 55/100\n",
      "5/5 [==============================] - 0s 5ms/step - loss: 1.8383 - val_loss: 1.9260\n",
      "Epoch 56/100\n",
      "5/5 [==============================] - 0s 5ms/step - loss: 1.8639 - val_loss: 1.9361\n",
      "Epoch 57/100\n",
      "5/5 [==============================] - 0s 5ms/step - loss: 1.8342 - val_loss: 1.9147\n",
      "Epoch 58/100\n",
      "5/5 [==============================] - 0s 5ms/step - loss: 1.9189 - val_loss: 2.0506\n",
      "Epoch 59/100\n",
      "5/5 [==============================] - 0s 7ms/step - loss: 1.8265 - val_loss: 1.8869\n",
      "Epoch 60/100\n",
      "5/5 [==============================] - 0s 5ms/step - loss: 1.8261 - val_loss: 1.9572\n",
      "Epoch 61/100\n",
      "5/5 [==============================] - 0s 5ms/step - loss: 1.8390 - val_loss: 1.9493\n",
      "Epoch 62/100\n",
      "5/5 [==============================] - 0s 6ms/step - loss: 1.8568 - val_loss: 1.9860\n",
      "Epoch 63/100\n",
      "5/5 [==============================] - 0s 5ms/step - loss: 1.8459 - val_loss: 1.9522\n",
      "Epoch 64/100\n",
      "5/5 [==============================] - 0s 5ms/step - loss: 1.9040 - val_loss: 1.9738\n",
      "Epoch 65/100\n",
      "5/5 [==============================] - 0s 5ms/step - loss: 1.8831 - val_loss: 2.0135\n",
      "Epoch 66/100\n",
      "5/5 [==============================] - 0s 5ms/step - loss: 1.8415 - val_loss: 1.9986\n",
      "Epoch 67/100\n",
      "5/5 [==============================] - 0s 5ms/step - loss: 1.8451 - val_loss: 1.9673\n",
      "Epoch 68/100\n",
      "5/5 [==============================] - 0s 5ms/step - loss: 1.8637 - val_loss: 1.9446\n",
      "Epoch 69/100\n",
      "5/5 [==============================] - 0s 5ms/step - loss: 1.8264 - val_loss: 1.9447\n",
      "Epoch 70/100\n",
      "5/5 [==============================] - 0s 6ms/step - loss: 1.8088 - val_loss: 1.8817\n",
      "Epoch 71/100\n",
      "5/5 [==============================] - 0s 5ms/step - loss: 1.7899 - val_loss: 2.0348\n",
      "Epoch 72/100\n",
      "5/5 [==============================] - 0s 5ms/step - loss: 1.7903 - val_loss: 1.8919\n",
      "Epoch 73/100\n",
      "5/5 [==============================] - 0s 5ms/step - loss: 1.7829 - val_loss: 2.0787\n",
      "Epoch 74/100\n",
      "5/5 [==============================] - 0s 5ms/step - loss: 1.7930 - val_loss: 1.8556\n",
      "Epoch 75/100\n",
      "5/5 [==============================] - 0s 5ms/step - loss: 1.7952 - val_loss: 1.9949\n",
      "Epoch 76/100\n",
      "5/5 [==============================] - 0s 5ms/step - loss: 1.8194 - val_loss: 1.8981\n",
      "Epoch 77/100\n",
      "5/5 [==============================] - 0s 5ms/step - loss: 1.8048 - val_loss: 1.9884\n",
      "Epoch 78/100\n",
      "5/5 [==============================] - 0s 5ms/step - loss: 1.7750 - val_loss: 1.9014\n",
      "Epoch 79/100\n",
      "5/5 [==============================] - 0s 5ms/step - loss: 1.7521 - val_loss: 1.9408\n",
      "Epoch 80/100\n",
      "5/5 [==============================] - 0s 5ms/step - loss: 1.7727 - val_loss: 1.8666\n",
      "Epoch 81/100\n",
      "5/5 [==============================] - 0s 5ms/step - loss: 1.7641 - val_loss: 1.9758\n",
      "Epoch 82/100\n",
      "5/5 [==============================] - 0s 5ms/step - loss: 1.7477 - val_loss: 1.9281\n",
      "Epoch 83/100\n",
      "5/5 [==============================] - 0s 5ms/step - loss: 1.7444 - val_loss: 2.0170\n",
      "Epoch 84/100\n"
     ]
    },
    {
     "name": "stdout",
     "output_type": "stream",
     "text": [
      "5/5 [==============================] - 0s 5ms/step - loss: 1.7683 - val_loss: 1.8721\n",
      "Epoch 85/100\n",
      "5/5 [==============================] - 0s 6ms/step - loss: 1.7729 - val_loss: 1.9602\n",
      "Epoch 86/100\n",
      "5/5 [==============================] - 0s 5ms/step - loss: 1.7827 - val_loss: 1.9523\n",
      "Epoch 87/100\n",
      "5/5 [==============================] - 0s 5ms/step - loss: 1.7746 - val_loss: 1.9344\n",
      "Epoch 88/100\n",
      "5/5 [==============================] - 0s 5ms/step - loss: 1.7519 - val_loss: 1.9499\n",
      "Epoch 89/100\n",
      "5/5 [==============================] - 0s 5ms/step - loss: 1.7139 - val_loss: 1.9486\n",
      "Epoch 90/100\n",
      "5/5 [==============================] - 0s 5ms/step - loss: 1.7364 - val_loss: 1.9904\n",
      "Epoch 91/100\n",
      "5/5 [==============================] - 0s 5ms/step - loss: 1.7128 - val_loss: 1.8861\n",
      "Epoch 92/100\n",
      "5/5 [==============================] - 0s 6ms/step - loss: 1.7419 - val_loss: 1.9747\n",
      "Epoch 93/100\n",
      "5/5 [==============================] - 0s 6ms/step - loss: 1.7373 - val_loss: 1.9586\n",
      "Epoch 94/100\n",
      "5/5 [==============================] - 0s 5ms/step - loss: 1.7374 - val_loss: 1.9674\n",
      "Epoch 95/100\n",
      "5/5 [==============================] - 0s 5ms/step - loss: 1.7448 - val_loss: 1.9114\n",
      "Epoch 96/100\n",
      "5/5 [==============================] - 0s 5ms/step - loss: 1.7249 - val_loss: 2.0554\n",
      "Epoch 97/100\n",
      "5/5 [==============================] - 0s 5ms/step - loss: 1.7337 - val_loss: 1.8932\n",
      "Epoch 98/100\n",
      "5/5 [==============================] - 0s 5ms/step - loss: 1.7350 - val_loss: 1.9510\n",
      "Epoch 99/100\n",
      "5/5 [==============================] - 0s 5ms/step - loss: 1.7085 - val_loss: 2.0170\n",
      "Epoch 100/100\n",
      "5/5 [==============================] - 0s 5ms/step - loss: 1.7035 - val_loss: 2.0258\n"
     ]
    }
   ],
   "source": [
    "#training process - Testing process - evaluation\n",
    "history = model.fit(x_train,\n",
    "          y_train,\n",
    "          batch_size=64,\n",
    "          epochs=100,\n",
    "          validation_data=(x_test,y_test))"
   ]
  },
  {
   "cell_type": "code",
   "execution_count": 133,
   "metadata": {},
   "outputs": [
    {
     "data": {
      "text/plain": [
       "<tensorflow.python.keras.callbacks.History at 0x25595dcd5b0>"
      ]
     },
     "execution_count": 133,
     "metadata": {},
     "output_type": "execute_result"
    }
   ],
   "source": [
    "history"
   ]
  },
  {
   "cell_type": "code",
   "execution_count": 131,
   "metadata": {},
   "outputs": [
    {
     "data": {
      "text/plain": [
       "<matplotlib.legend.Legend at 0x255915668e0>"
      ]
     },
     "execution_count": 131,
     "metadata": {},
     "output_type": "execute_result"
    },
    {
     "data": {
      "image/png": "[encoded data removed]",
      "text/plain": [
       "<Figure size 432x288 with 1 Axes>"
      ]
     },
     "metadata": {
      "needs_background": "light"
     },
     "output_type": "display_data"
    }
   ],
   "source": [
    "plt.plot(history.history['loss'])\n",
    "plt.plot(history.history['val_loss'])\n",
    "plt.xlabel('Epoch')\n",
    "plt.ylabel('Loss')\n",
    "plt.legend(['Train','Test'])"
   ]
  },
  {
   "cell_type": "code",
   "execution_count": 132,
   "metadata": {},
   "outputs": [
    {
     "data": {
      "text/plain": [
       "[<matplotlib.lines.Line2D at 0x2559291b790>]"
      ]
     },
     "execution_count": 132,
     "metadata": {},
     "output_type": "execute_result"
    },
    {
     "data": {
      "image/png": "[encoded data removed]",
      "text/plain": [
       "<Figure size 432x288 with 1 Axes>"
      ]
     },
     "metadata": {
      "needs_background": "light"
     },
     "output_type": "display_data"
    }
   ],
   "source": [
    "plt.plot(history.history['val_loss'])"
   ]
  },
  {
   "cell_type": "code",
   "execution_count": null,
   "metadata": {},
   "outputs": [],
   "source": []
  },
  {
   "cell_type": "code",
   "execution_count": null,
   "metadata": {},
   "outputs": [],
   "source": []
  },
  {
   "cell_type": "code",
   "execution_count": null,
   "metadata": {},
   "outputs": [],
   "source": []
  }
 ],
 "metadata": {
  "kernelspec": {
   "display_name": "Python 3",
   "language": "python",
   "name": "python3"
  },
  "language_info": {
   "codemirror_mode": {
    "name": "ipython",
    "version": 3
   },
   "file_extension": ".py",
   "mimetype": "text/x-python",
   "name": "python",
   "nbconvert_exporter": "python",
   "pygments_lexer": "ipython3",
   "version": "3.8.3"
  }
 },
 "nbformat": 4,
 "nbformat_minor": 4
}
