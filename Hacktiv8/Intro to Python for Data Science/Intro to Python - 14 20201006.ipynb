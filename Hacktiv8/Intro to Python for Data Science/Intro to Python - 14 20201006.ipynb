{
 "cells": [
  {
   "cell_type": "code",
   "execution_count": 1,
   "metadata": {},
   "outputs": [],
   "source": [
    "import pandas as pd\n",
    "import seaborn as sns\n",
    "import matplotlib.pyplot as plt"
   ]
  },
  {
   "cell_type": "code",
   "execution_count": 76,
   "metadata": {},
   "outputs": [],
   "source": [
    "import pandas as pd\n",
    "import tensorflow as tf\n",
    "import matplotlib.pyplot as plt\n",
    "\n",
    "from tensorflow.keras import Sequential\n",
    "from tensorflow.keras.layers import Dense\n",
    "from tensorflow.keras.optimizers import Adam\n",
    "from sklearn.linear_model import LinearRegression\n",
    "\n",
    "from sklearn.linear_model import LogisticRegression\n",
    "\n",
    "from sklearn.preprocessing import StandardScaler\n",
    "from sklearn.model_selection import train_test_split\n",
    "from tensorflow.keras.datasets import fashion_mnist"
   ]
  },
  {
   "cell_type": "code",
   "execution_count": 7,
   "metadata": {},
   "outputs": [],
   "source": [
    "car = pd.read_csv('http://bit.ly/dwp-data-car')"
   ]
  },
  {
   "cell_type": "code",
   "execution_count": null,
   "metadata": {},
   "outputs": [],
   "source": [
    "# Define x / parameter and y / target\n",
    "x = car.drop(columns=['MPG'])\n",
    "y = car['MPG']\n",
    "\n",
    "\n",
    "# Split the data\n",
    "x_train, x_test, y_train, y_test = train_test_split(x, y, test_size=0.2, random_state=1)\n",
    "\n",
    "# Standardize the data\n",
    "scaler = StandardScaler()\n",
    "x_train = scaler.fit_transform(x_train)\n",
    "x_test = scaler.fit_transform(x_test)\n",
    "\n",
    "\n",
    "# Initiate the model (neural network)\n",
    "\n",
    "## Neural Network in Tensorflow\n",
    "model = Sequential()\n",
    "\n",
    "## Add Hidden Layer\n",
    "model.add(Dense(8, input_dim=x_train.shape[1], activation='relu'))\n",
    "model.add(Dense(8, activation='relu'))\n",
    "\n",
    "## Add Output Layer\n",
    "model.add(Dense(1, activation='relu'))\n",
    "\n",
    "## Compile Model\n",
    "model.compile(loss='mae', optimizer=Adam(lr=0.001))\n",
    "\n",
    "\n",
    "# Training Process - Testing Process - Evaluation\n",
    "\n",
    "history = model.fit(x_train, \n",
    "                    y_train, \n",
    "                    batch_size=64,\n",
    "                    epochs=100,\n",
    "                    validation_data=(x_test, y_test))"
   ]
  },
  {
   "cell_type": "markdown",
   "metadata": {},
   "source": [
    "## Neural Network for Classification"
   ]
  },
  {
   "cell_type": "code",
   "execution_count": 10,
   "metadata": {},
   "outputs": [],
   "source": [
    "df_car = car"
   ]
  },
  {
   "cell_type": "code",
   "execution_count": 18,
   "metadata": {},
   "outputs": [],
   "source": [
    "car_processed = pd.get_dummies(df_car, columns= ['Origin'])"
   ]
  },
  {
   "cell_type": "code",
   "execution_count": 20,
   "metadata": {},
   "outputs": [
    {
     "data": {
      "text/html": [
       "<div>\n",
       "<style scoped>\n",
       "    .dataframe tbody tr th:only-of-type {\n",
       "        vertical-align: middle;\n",
       "    }\n",
       "\n",
       "    .dataframe tbody tr th {\n",
       "        vertical-align: top;\n",
       "    }\n",
       "\n",
       "    .dataframe thead th {\n",
       "        text-align: right;\n",
       "    }\n",
       "</style>\n",
       "<table border=\"1\" class=\"dataframe\">\n",
       "  <thead>\n",
       "    <tr style=\"text-align: right;\">\n",
       "      <th></th>\n",
       "      <th>Cylinders</th>\n",
       "      <th>Displacement</th>\n",
       "      <th>Horsepower</th>\n",
       "      <th>Weight</th>\n",
       "      <th>Acceleration</th>\n",
       "      <th>Model Year</th>\n",
       "      <th>MPG</th>\n",
       "      <th>Origin_1</th>\n",
       "      <th>Origin_2</th>\n",
       "      <th>Origin_3</th>\n",
       "    </tr>\n",
       "  </thead>\n",
       "  <tbody>\n",
       "    <tr>\n",
       "      <th>0</th>\n",
       "      <td>8</td>\n",
       "      <td>307</td>\n",
       "      <td>130</td>\n",
       "      <td>3504</td>\n",
       "      <td>12</td>\n",
       "      <td>70</td>\n",
       "      <td>18</td>\n",
       "      <td>1</td>\n",
       "      <td>0</td>\n",
       "      <td>0</td>\n",
       "    </tr>\n",
       "    <tr>\n",
       "      <th>1</th>\n",
       "      <td>8</td>\n",
       "      <td>350</td>\n",
       "      <td>165</td>\n",
       "      <td>3693</td>\n",
       "      <td>11</td>\n",
       "      <td>70</td>\n",
       "      <td>15</td>\n",
       "      <td>1</td>\n",
       "      <td>0</td>\n",
       "      <td>0</td>\n",
       "    </tr>\n",
       "    <tr>\n",
       "      <th>2</th>\n",
       "      <td>8</td>\n",
       "      <td>318</td>\n",
       "      <td>150</td>\n",
       "      <td>3436</td>\n",
       "      <td>11</td>\n",
       "      <td>70</td>\n",
       "      <td>18</td>\n",
       "      <td>1</td>\n",
       "      <td>0</td>\n",
       "      <td>0</td>\n",
       "    </tr>\n",
       "    <tr>\n",
       "      <th>3</th>\n",
       "      <td>8</td>\n",
       "      <td>304</td>\n",
       "      <td>150</td>\n",
       "      <td>3433</td>\n",
       "      <td>12</td>\n",
       "      <td>70</td>\n",
       "      <td>16</td>\n",
       "      <td>1</td>\n",
       "      <td>0</td>\n",
       "      <td>0</td>\n",
       "    </tr>\n",
       "    <tr>\n",
       "      <th>4</th>\n",
       "      <td>8</td>\n",
       "      <td>302</td>\n",
       "      <td>140</td>\n",
       "      <td>3449</td>\n",
       "      <td>10</td>\n",
       "      <td>70</td>\n",
       "      <td>17</td>\n",
       "      <td>1</td>\n",
       "      <td>0</td>\n",
       "      <td>0</td>\n",
       "    </tr>\n",
       "  </tbody>\n",
       "</table>\n",
       "</div>"
      ],
      "text/plain": [
       "   Cylinders  Displacement  Horsepower  Weight  Acceleration  Model Year  MPG  \\\n",
       "0          8           307         130    3504            12          70   18   \n",
       "1          8           350         165    3693            11          70   15   \n",
       "2          8           318         150    3436            11          70   18   \n",
       "3          8           304         150    3433            12          70   16   \n",
       "4          8           302         140    3449            10          70   17   \n",
       "\n",
       "   Origin_1  Origin_2  Origin_3  \n",
       "0         1         0         0  \n",
       "1         1         0         0  \n",
       "2         1         0         0  \n",
       "3         1         0         0  \n",
       "4         1         0         0  "
      ]
     },
     "execution_count": 20,
     "metadata": {},
     "output_type": "execute_result"
    }
   ],
   "source": [
    "car_processed.head()"
   ]
  },
  {
   "cell_type": "code",
   "execution_count": 28,
   "metadata": {},
   "outputs": [
    {
     "name": "stdout",
     "output_type": "stream",
     "text": [
      "Epoch 1/100\n",
      "1/5 [=====>........................] - ETA: 0s - loss: 1.0438 - accuracy: 0.3906WARNING:tensorflow:Callbacks method `on_train_batch_end` is slow compared to the batch time (batch time: 0.0000s vs `on_train_batch_end` time: 0.0010s). Check your callbacks.\n",
      "5/5 [==============================] - 0s 56ms/step - loss: 1.0464 - accuracy: 0.3642 - val_loss: 1.0161 - val_accuracy: 0.3671\n",
      "Epoch 2/100\n",
      "5/5 [==============================] - 0s 6ms/step - loss: 1.0276 - accuracy: 0.4058 - val_loss: 0.9935 - val_accuracy: 0.4810\n",
      "Epoch 3/100\n",
      "5/5 [==============================] - 0s 7ms/step - loss: 1.0073 - accuracy: 0.4696 - val_loss: 0.9715 - val_accuracy: 0.5443\n",
      "Epoch 4/100\n",
      "5/5 [==============================] - 0s 6ms/step - loss: 0.9877 - accuracy: 0.5240 - val_loss: 0.9502 - val_accuracy: 0.5949\n",
      "Epoch 5/100\n",
      "5/5 [==============================] - 0s 6ms/step - loss: 0.9683 - accuracy: 0.5591 - val_loss: 0.9294 - val_accuracy: 0.6582\n",
      "Epoch 6/100\n",
      "5/5 [==============================] - 0s 6ms/step - loss: 0.9498 - accuracy: 0.6006 - val_loss: 0.9095 - val_accuracy: 0.6962\n",
      "Epoch 7/100\n",
      "5/5 [==============================] - 0s 7ms/step - loss: 0.9321 - accuracy: 0.6198 - val_loss: 0.8910 - val_accuracy: 0.7089\n",
      "Epoch 8/100\n",
      "5/5 [==============================] - 0s 6ms/step - loss: 0.9155 - accuracy: 0.6102 - val_loss: 0.8730 - val_accuracy: 0.7089\n",
      "Epoch 9/100\n",
      "5/5 [==============================] - 0s 7ms/step - loss: 0.8985 - accuracy: 0.6038 - val_loss: 0.8556 - val_accuracy: 0.7089\n",
      "Epoch 10/100\n",
      "5/5 [==============================] - 0s 7ms/step - loss: 0.8836 - accuracy: 0.6070 - val_loss: 0.8383 - val_accuracy: 0.6962\n",
      "Epoch 11/100\n",
      "5/5 [==============================] - 0s 6ms/step - loss: 0.8686 - accuracy: 0.6134 - val_loss: 0.8216 - val_accuracy: 0.6962\n",
      "Epoch 12/100\n",
      "5/5 [==============================] - 0s 6ms/step - loss: 0.8552 - accuracy: 0.6166 - val_loss: 0.8059 - val_accuracy: 0.6962\n",
      "Epoch 13/100\n",
      "5/5 [==============================] - 0s 6ms/step - loss: 0.8424 - accuracy: 0.6166 - val_loss: 0.7912 - val_accuracy: 0.6962\n",
      "Epoch 14/100\n",
      "5/5 [==============================] - 0s 6ms/step - loss: 0.8302 - accuracy: 0.6198 - val_loss: 0.7778 - val_accuracy: 0.6962\n",
      "Epoch 15/100\n",
      "5/5 [==============================] - 0s 6ms/step - loss: 0.8191 - accuracy: 0.6198 - val_loss: 0.7654 - val_accuracy: 0.6962\n",
      "Epoch 16/100\n",
      "5/5 [==============================] - 0s 6ms/step - loss: 0.8096 - accuracy: 0.6198 - val_loss: 0.7537 - val_accuracy: 0.6962\n",
      "Epoch 17/100\n",
      "5/5 [==============================] - 0s 6ms/step - loss: 0.8004 - accuracy: 0.6198 - val_loss: 0.7431 - val_accuracy: 0.6835\n",
      "Epoch 18/100\n",
      "5/5 [==============================] - 0s 6ms/step - loss: 0.7919 - accuracy: 0.6230 - val_loss: 0.7334 - val_accuracy: 0.6835\n",
      "Epoch 19/100\n",
      "5/5 [==============================] - 0s 6ms/step - loss: 0.7842 - accuracy: 0.6230 - val_loss: 0.7246 - val_accuracy: 0.6835\n",
      "Epoch 20/100\n",
      "5/5 [==============================] - 0s 5ms/step - loss: 0.7772 - accuracy: 0.6198 - val_loss: 0.7163 - val_accuracy: 0.6835\n",
      "Epoch 21/100\n",
      "5/5 [==============================] - 0s 5ms/step - loss: 0.7710 - accuracy: 0.6198 - val_loss: 0.7082 - val_accuracy: 0.6835\n",
      "Epoch 22/100\n",
      "5/5 [==============================] - 0s 5ms/step - loss: 0.7648 - accuracy: 0.6198 - val_loss: 0.7009 - val_accuracy: 0.6835\n",
      "Epoch 23/100\n",
      "5/5 [==============================] - 0s 5ms/step - loss: 0.7586 - accuracy: 0.6198 - val_loss: 0.6942 - val_accuracy: 0.6835\n",
      "Epoch 24/100\n",
      "5/5 [==============================] - 0s 6ms/step - loss: 0.7536 - accuracy: 0.6198 - val_loss: 0.6879 - val_accuracy: 0.6835\n",
      "Epoch 25/100\n",
      "5/5 [==============================] - 0s 6ms/step - loss: 0.7485 - accuracy: 0.6198 - val_loss: 0.6818 - val_accuracy: 0.6835\n",
      "Epoch 26/100\n",
      "5/5 [==============================] - 0s 6ms/step - loss: 0.7435 - accuracy: 0.6198 - val_loss: 0.6761 - val_accuracy: 0.6835\n",
      "Epoch 27/100\n",
      "5/5 [==============================] - 0s 6ms/step - loss: 0.7393 - accuracy: 0.6198 - val_loss: 0.6706 - val_accuracy: 0.6962\n",
      "Epoch 28/100\n",
      "5/5 [==============================] - 0s 6ms/step - loss: 0.7354 - accuracy: 0.6198 - val_loss: 0.6651 - val_accuracy: 0.6962\n",
      "Epoch 29/100\n",
      "5/5 [==============================] - 0s 6ms/step - loss: 0.7312 - accuracy: 0.6198 - val_loss: 0.6601 - val_accuracy: 0.6962\n",
      "Epoch 30/100\n",
      "5/5 [==============================] - 0s 6ms/step - loss: 0.7275 - accuracy: 0.6198 - val_loss: 0.6552 - val_accuracy: 0.6962\n",
      "Epoch 31/100\n",
      "5/5 [==============================] - 0s 7ms/step - loss: 0.7239 - accuracy: 0.6230 - val_loss: 0.6503 - val_accuracy: 0.6962\n",
      "Epoch 32/100\n",
      "5/5 [==============================] - 0s 6ms/step - loss: 0.7205 - accuracy: 0.6230 - val_loss: 0.6458 - val_accuracy: 0.6962\n",
      "Epoch 33/100\n",
      "5/5 [==============================] - 0s 6ms/step - loss: 0.7175 - accuracy: 0.6230 - val_loss: 0.6412 - val_accuracy: 0.6962\n",
      "Epoch 34/100\n",
      "5/5 [==============================] - 0s 6ms/step - loss: 0.7143 - accuracy: 0.6230 - val_loss: 0.6368 - val_accuracy: 0.6962\n",
      "Epoch 35/100\n",
      "5/5 [==============================] - 0s 7ms/step - loss: 0.7115 - accuracy: 0.6198 - val_loss: 0.6325 - val_accuracy: 0.6962\n",
      "Epoch 36/100\n",
      "5/5 [==============================] - 0s 6ms/step - loss: 0.7086 - accuracy: 0.6230 - val_loss: 0.6282 - val_accuracy: 0.7215\n",
      "Epoch 37/100\n",
      "5/5 [==============================] - 0s 6ms/step - loss: 0.7057 - accuracy: 0.6230 - val_loss: 0.6241 - val_accuracy: 0.7215\n",
      "Epoch 38/100\n",
      "5/5 [==============================] - 0s 6ms/step - loss: 0.7030 - accuracy: 0.6230 - val_loss: 0.6199 - val_accuracy: 0.7215\n",
      "Epoch 39/100\n",
      "5/5 [==============================] - 0s 6ms/step - loss: 0.7003 - accuracy: 0.6326 - val_loss: 0.6158 - val_accuracy: 0.7215\n",
      "Epoch 40/100\n",
      "5/5 [==============================] - 0s 6ms/step - loss: 0.6978 - accuracy: 0.6262 - val_loss: 0.6119 - val_accuracy: 0.7215\n",
      "Epoch 41/100\n",
      "5/5 [==============================] - 0s 6ms/step - loss: 0.6952 - accuracy: 0.6326 - val_loss: 0.6082 - val_accuracy: 0.7342\n",
      "Epoch 42/100\n",
      "5/5 [==============================] - 0s 6ms/step - loss: 0.6928 - accuracy: 0.6326 - val_loss: 0.6050 - val_accuracy: 0.7342\n",
      "Epoch 43/100\n",
      "5/5 [==============================] - 0s 5ms/step - loss: 0.6906 - accuracy: 0.6390 - val_loss: 0.6017 - val_accuracy: 0.7342\n",
      "Epoch 44/100\n",
      "5/5 [==============================] - 0s 5ms/step - loss: 0.6883 - accuracy: 0.6454 - val_loss: 0.5986 - val_accuracy: 0.7342\n",
      "Epoch 45/100\n",
      "5/5 [==============================] - 0s 5ms/step - loss: 0.6861 - accuracy: 0.6486 - val_loss: 0.5954 - val_accuracy: 0.7342\n",
      "Epoch 46/100\n",
      "5/5 [==============================] - 0s 6ms/step - loss: 0.6841 - accuracy: 0.6518 - val_loss: 0.5925 - val_accuracy: 0.7468\n",
      "Epoch 47/100\n",
      "5/5 [==============================] - 0s 5ms/step - loss: 0.6820 - accuracy: 0.6518 - val_loss: 0.5896 - val_accuracy: 0.7468\n",
      "Epoch 48/100\n",
      "5/5 [==============================] - 0s 5ms/step - loss: 0.6800 - accuracy: 0.6581 - val_loss: 0.5870 - val_accuracy: 0.7468\n",
      "Epoch 49/100\n",
      "5/5 [==============================] - 0s 6ms/step - loss: 0.6780 - accuracy: 0.6645 - val_loss: 0.5846 - val_accuracy: 0.7468\n",
      "Epoch 50/100\n",
      "5/5 [==============================] - 0s 5ms/step - loss: 0.6761 - accuracy: 0.6645 - val_loss: 0.5823 - val_accuracy: 0.7468\n",
      "Epoch 51/100\n",
      "5/5 [==============================] - 0s 6ms/step - loss: 0.6743 - accuracy: 0.6613 - val_loss: 0.5801 - val_accuracy: 0.7468\n",
      "Epoch 52/100\n",
      "5/5 [==============================] - 0s 5ms/step - loss: 0.6725 - accuracy: 0.6613 - val_loss: 0.5780 - val_accuracy: 0.7468\n",
      "Epoch 53/100\n",
      "5/5 [==============================] - 0s 5ms/step - loss: 0.6706 - accuracy: 0.6581 - val_loss: 0.5763 - val_accuracy: 0.7468\n",
      "Epoch 54/100\n",
      "5/5 [==============================] - 0s 5ms/step - loss: 0.6689 - accuracy: 0.6581 - val_loss: 0.5745 - val_accuracy: 0.7468\n",
      "Epoch 55/100\n",
      "5/5 [==============================] - 0s 5ms/step - loss: 0.6671 - accuracy: 0.6613 - val_loss: 0.5728 - val_accuracy: 0.7468\n",
      "Epoch 56/100\n",
      "5/5 [==============================] - 0s 6ms/step - loss: 0.6655 - accuracy: 0.6613 - val_loss: 0.5710 - val_accuracy: 0.7468\n",
      "Epoch 57/100\n",
      "5/5 [==============================] - 0s 5ms/step - loss: 0.6639 - accuracy: 0.6613 - val_loss: 0.5693 - val_accuracy: 0.7468\n"
     ]
    },
    {
     "name": "stdout",
     "output_type": "stream",
     "text": [
      "Epoch 58/100\n",
      "5/5 [==============================] - 0s 7ms/step - loss: 0.6623 - accuracy: 0.6645 - val_loss: 0.5677 - val_accuracy: 0.7468\n",
      "Epoch 59/100\n",
      "5/5 [==============================] - 0s 5ms/step - loss: 0.6608 - accuracy: 0.6645 - val_loss: 0.5662 - val_accuracy: 0.7468\n",
      "Epoch 60/100\n",
      "5/5 [==============================] - 0s 5ms/step - loss: 0.6594 - accuracy: 0.6645 - val_loss: 0.5645 - val_accuracy: 0.7468\n",
      "Epoch 61/100\n",
      "5/5 [==============================] - 0s 6ms/step - loss: 0.6579 - accuracy: 0.6645 - val_loss: 0.5631 - val_accuracy: 0.7468\n",
      "Epoch 62/100\n",
      "5/5 [==============================] - 0s 6ms/step - loss: 0.6564 - accuracy: 0.6645 - val_loss: 0.5615 - val_accuracy: 0.7468\n",
      "Epoch 63/100\n",
      "5/5 [==============================] - 0s 5ms/step - loss: 0.6550 - accuracy: 0.6645 - val_loss: 0.5602 - val_accuracy: 0.7468\n",
      "Epoch 64/100\n",
      "5/5 [==============================] - 0s 5ms/step - loss: 0.6535 - accuracy: 0.6677 - val_loss: 0.5587 - val_accuracy: 0.7468\n",
      "Epoch 65/100\n",
      "5/5 [==============================] - 0s 6ms/step - loss: 0.6520 - accuracy: 0.6645 - val_loss: 0.5574 - val_accuracy: 0.7468\n",
      "Epoch 66/100\n",
      "5/5 [==============================] - 0s 5ms/step - loss: 0.6505 - accuracy: 0.6677 - val_loss: 0.5560 - val_accuracy: 0.7468\n",
      "Epoch 67/100\n",
      "5/5 [==============================] - 0s 5ms/step - loss: 0.6491 - accuracy: 0.6709 - val_loss: 0.5547 - val_accuracy: 0.7468\n",
      "Epoch 68/100\n",
      "5/5 [==============================] - 0s 6ms/step - loss: 0.6477 - accuracy: 0.6741 - val_loss: 0.5533 - val_accuracy: 0.7468\n",
      "Epoch 69/100\n",
      "5/5 [==============================] - 0s 5ms/step - loss: 0.6463 - accuracy: 0.6677 - val_loss: 0.5519 - val_accuracy: 0.7468\n",
      "Epoch 70/100\n",
      "5/5 [==============================] - 0s 6ms/step - loss: 0.6446 - accuracy: 0.6709 - val_loss: 0.5505 - val_accuracy: 0.7468\n",
      "Epoch 71/100\n",
      "5/5 [==============================] - 0s 6ms/step - loss: 0.6432 - accuracy: 0.6709 - val_loss: 0.5490 - val_accuracy: 0.7468\n",
      "Epoch 72/100\n",
      "5/5 [==============================] - 0s 5ms/step - loss: 0.6415 - accuracy: 0.6709 - val_loss: 0.5473 - val_accuracy: 0.7468\n",
      "Epoch 73/100\n",
      "5/5 [==============================] - 0s 6ms/step - loss: 0.6398 - accuracy: 0.6709 - val_loss: 0.5456 - val_accuracy: 0.7468\n",
      "Epoch 74/100\n",
      "5/5 [==============================] - 0s 6ms/step - loss: 0.6380 - accuracy: 0.6773 - val_loss: 0.5442 - val_accuracy: 0.7468\n",
      "Epoch 75/100\n",
      "5/5 [==============================] - 0s 5ms/step - loss: 0.6363 - accuracy: 0.6773 - val_loss: 0.5425 - val_accuracy: 0.7468\n",
      "Epoch 76/100\n",
      "5/5 [==============================] - 0s 5ms/step - loss: 0.6342 - accuracy: 0.6741 - val_loss: 0.5408 - val_accuracy: 0.7468\n",
      "Epoch 77/100\n",
      "5/5 [==============================] - 0s 5ms/step - loss: 0.6321 - accuracy: 0.6741 - val_loss: 0.5392 - val_accuracy: 0.7468\n",
      "Epoch 78/100\n",
      "5/5 [==============================] - 0s 5ms/step - loss: 0.6300 - accuracy: 0.6741 - val_loss: 0.5372 - val_accuracy: 0.7468\n",
      "Epoch 79/100\n",
      "5/5 [==============================] - 0s 5ms/step - loss: 0.6277 - accuracy: 0.6773 - val_loss: 0.5353 - val_accuracy: 0.7595\n",
      "Epoch 80/100\n",
      "5/5 [==============================] - 0s 5ms/step - loss: 0.6256 - accuracy: 0.6837 - val_loss: 0.5335 - val_accuracy: 0.7595\n",
      "Epoch 81/100\n",
      "5/5 [==============================] - 0s 5ms/step - loss: 0.6238 - accuracy: 0.6805 - val_loss: 0.5323 - val_accuracy: 0.7722\n",
      "Epoch 82/100\n",
      "5/5 [==============================] - 0s 5ms/step - loss: 0.6218 - accuracy: 0.6837 - val_loss: 0.5308 - val_accuracy: 0.7595\n",
      "Epoch 83/100\n",
      "5/5 [==============================] - 0s 5ms/step - loss: 0.6202 - accuracy: 0.6837 - val_loss: 0.5295 - val_accuracy: 0.7595\n",
      "Epoch 84/100\n",
      "5/5 [==============================] - 0s 5ms/step - loss: 0.6183 - accuracy: 0.6837 - val_loss: 0.5282 - val_accuracy: 0.7595\n",
      "Epoch 85/100\n",
      "5/5 [==============================] - 0s 5ms/step - loss: 0.6166 - accuracy: 0.6837 - val_loss: 0.5267 - val_accuracy: 0.7595\n",
      "Epoch 86/100\n",
      "5/5 [==============================] - 0s 5ms/step - loss: 0.6145 - accuracy: 0.6837 - val_loss: 0.5254 - val_accuracy: 0.7595\n",
      "Epoch 87/100\n",
      "5/5 [==============================] - 0s 6ms/step - loss: 0.6127 - accuracy: 0.6901 - val_loss: 0.5241 - val_accuracy: 0.7722\n",
      "Epoch 88/100\n",
      "5/5 [==============================] - 0s 5ms/step - loss: 0.6112 - accuracy: 0.6933 - val_loss: 0.5233 - val_accuracy: 0.7722\n",
      "Epoch 89/100\n",
      "5/5 [==============================] - 0s 6ms/step - loss: 0.6094 - accuracy: 0.6997 - val_loss: 0.5220 - val_accuracy: 0.7722\n",
      "Epoch 90/100\n",
      "5/5 [==============================] - 0s 6ms/step - loss: 0.6077 - accuracy: 0.7029 - val_loss: 0.5207 - val_accuracy: 0.7722\n",
      "Epoch 91/100\n",
      "5/5 [==============================] - 0s 6ms/step - loss: 0.6062 - accuracy: 0.6997 - val_loss: 0.5194 - val_accuracy: 0.7722\n",
      "Epoch 92/100\n",
      "5/5 [==============================] - 0s 6ms/step - loss: 0.6045 - accuracy: 0.7029 - val_loss: 0.5177 - val_accuracy: 0.7722\n",
      "Epoch 93/100\n",
      "5/5 [==============================] - 0s 5ms/step - loss: 0.6029 - accuracy: 0.7029 - val_loss: 0.5165 - val_accuracy: 0.7848\n",
      "Epoch 94/100\n",
      "5/5 [==============================] - 0s 5ms/step - loss: 0.6014 - accuracy: 0.7061 - val_loss: 0.5154 - val_accuracy: 0.7848\n",
      "Epoch 95/100\n",
      "5/5 [==============================] - 0s 6ms/step - loss: 0.5998 - accuracy: 0.7029 - val_loss: 0.5140 - val_accuracy: 0.7848\n",
      "Epoch 96/100\n",
      "5/5 [==============================] - 0s 5ms/step - loss: 0.5981 - accuracy: 0.7029 - val_loss: 0.5126 - val_accuracy: 0.7848\n",
      "Epoch 97/100\n",
      "5/5 [==============================] - 0s 6ms/step - loss: 0.5965 - accuracy: 0.7093 - val_loss: 0.5115 - val_accuracy: 0.7975\n",
      "Epoch 98/100\n",
      "5/5 [==============================] - 0s 6ms/step - loss: 0.5950 - accuracy: 0.7093 - val_loss: 0.5103 - val_accuracy: 0.7975\n",
      "Epoch 99/100\n",
      "5/5 [==============================] - 0s 5ms/step - loss: 0.5934 - accuracy: 0.7125 - val_loss: 0.5091 - val_accuracy: 0.7975\n",
      "Epoch 100/100\n",
      "5/5 [==============================] - 0s 6ms/step - loss: 0.5915 - accuracy: 0.7093 - val_loss: 0.5075 - val_accuracy: 0.7975\n"
     ]
    }
   ],
   "source": [
    "# Define x / parameter and y / target\n",
    "x = car_processed.drop(columns=['Origin_1',\n",
    "                                'Origin_2','Origin_3'])\n",
    "y = car_processed[['Origin_1','Origin_2','Origin_3']]\n",
    "\n",
    "\n",
    "# Split the data\n",
    "x_train, x_test, y_train, y_test = train_test_split(x, y, test_size=0.2, random_state=1)\n",
    "\n",
    "# Standardize the data\n",
    "scaler = StandardScaler()\n",
    "x_train = scaler.fit_transform(x_train)\n",
    "x_test = scaler.fit_transform(x_test)\n",
    "\n",
    "\n",
    "# Initiate the model (neural network)\n",
    "\n",
    "## Neural Network in Tensorflow\n",
    "model = Sequential()\n",
    "\n",
    "## Add Hidden Layer\n",
    "model.add(Dense(8, input_dim=x_train.shape[1], activation='relu'))\n",
    "model.add(Dense(8, activation='relu'))\n",
    "\n",
    "## Add Output Layer\n",
    "model.add(Dense(3, activation='softmax')) #samain dengan jumlah output\n",
    "\n",
    "## Compile Model\n",
    "model.compile(loss='categorical_crossentropy'\n",
    "              ,optimizer=Adam(lr=0.001) #learning rate\n",
    "              ,metrics=('accuracy'))\n",
    "\n",
    "\n",
    "# Training Process - Testing Process - Evaluation\n",
    "\n",
    "history = model.fit(x_train, \n",
    "                    y_train, \n",
    "                    batch_size=64,\n",
    "                    epochs=100,\n",
    "                    validation_data=(x_test, y_test))"
   ]
  },
  {
   "cell_type": "markdown",
   "metadata": {},
   "source": [
    "kalo one hot encoding\n",
    "- activation outputnya = softmax\n",
    "- loss nya categorical_crossentropy"
   ]
  },
  {
   "cell_type": "code",
   "execution_count": 29,
   "metadata": {},
   "outputs": [
    {
     "data": {
      "text/plain": [
       "<matplotlib.legend.Legend at 0x242cead8bb0>"
      ]
     },
     "execution_count": 29,
     "metadata": {},
     "output_type": "execute_result"
    },
    {
     "data": {
      "image/png": "[encoded data removed]",
      "text/plain": [
       "<Figure size 432x288 with 1 Axes>"
      ]
     },
     "metadata": {
      "needs_background": "light"
     },
     "output_type": "display_data"
    }
   ],
   "source": [
    "plt.plot(history.history['loss'])\n",
    "plt.plot(history.history['val_loss'])\n",
    "plt.xlabel('Epoch')\n",
    "plt.ylabel('Loss')\n",
    "plt.legend(['Train', 'Test'])"
   ]
  },
  {
   "cell_type": "markdown",
   "metadata": {},
   "source": [
    "## Underfitting & Overfitting"
   ]
  },
  {
   "cell_type": "markdown",
   "metadata": {},
   "source": [
    "**Underfitting**<br>\n",
    "model tidak dapat 'belajar' dari data yang diberikan\n",
    "*Penyebab -> data yang kurang banyak*\n",
    "\n",
    "**Overfitting**<br>\n",
    "model terlalu belajar dari data training, sehingga tidak bisa memprediksi dengan baik pada data testing<br>\n",
    "*Penyebab -> data di data training terlalu*\n"
   ]
  },
  {
   "cell_type": "markdown",
   "metadata": {},
   "source": [
    "### Tensorflow for Classifying Images"
   ]
  },
  {
   "cell_type": "code",
   "execution_count": 53,
   "metadata": {},
   "outputs": [],
   "source": [
    "(x_train, y_train), (x_test, y_test) = fashion_mnist.load_data()"
   ]
  },
  {
   "cell_type": "code",
   "execution_count": 39,
   "metadata": {},
   "outputs": [
    {
     "data": {
      "text/plain": [
       "(60000, 28, 28)"
      ]
     },
     "execution_count": 39,
     "metadata": {},
     "output_type": "execute_result"
    }
   ],
   "source": [
    "x_train.shape"
   ]
  },
  {
   "cell_type": "code",
   "execution_count": 40,
   "metadata": {},
   "outputs": [
    {
     "data": {
      "text/plain": [
       "array([[  0,   0,   0,   0,   0,   0,   0,   0,   0,   0,   0,   0,   0,\n",
       "          0,   0,   0,   0,   0,   0,   0,   0,   0,   0,   0,   0,   0,\n",
       "          0,   0],\n",
       "       [  0,   0,   0,   0,   0,   0,   0,   0,   0,   0,   0,   0,   0,\n",
       "          0,   0,   0,   0,   0,   0,   0,   0,   0,   0,   0,   0,   0,\n",
       "          0,   0],\n",
       "       [  0,   0,   0,   0,   0,   0,   0,   0,   0,   0,   0,   0,   0,\n",
       "          0,   0,   0,   0,   0,   0,   0,   0,   0,   0,   0,   0,   0,\n",
       "          0,   0],\n",
       "       [  0,   0,   0,   0,   0,   0,   0,   0,   0,   0,   0,   0,   1,\n",
       "          0,   0,  13,  73,   0,   0,   1,   4,   0,   0,   0,   0,   1,\n",
       "          1,   0],\n",
       "       [  0,   0,   0,   0,   0,   0,   0,   0,   0,   0,   0,   0,   3,\n",
       "          0,  36, 136, 127,  62,  54,   0,   0,   0,   1,   3,   4,   0,\n",
       "          0,   3],\n",
       "       [  0,   0,   0,   0,   0,   0,   0,   0,   0,   0,   0,   0,   6,\n",
       "          0, 102, 204, 176, 134, 144, 123,  23,   0,   0,   0,   0,  12,\n",
       "         10,   0],\n",
       "       [  0,   0,   0,   0,   0,   0,   0,   0,   0,   0,   0,   0,   0,\n",
       "          0, 155, 236, 207, 178, 107, 156, 161, 109,  64,  23,  77, 130,\n",
       "         72,  15],\n",
       "       [  0,   0,   0,   0,   0,   0,   0,   0,   0,   0,   0,   1,   0,\n",
       "         69, 207, 223, 218, 216, 216, 163, 127, 121, 122, 146, 141,  88,\n",
       "        172,  66],\n",
       "       [  0,   0,   0,   0,   0,   0,   0,   0,   0,   1,   1,   1,   0,\n",
       "        200, 232, 232, 233, 229, 223, 223, 215, 213, 164, 127, 123, 196,\n",
       "        229,   0],\n",
       "       [  0,   0,   0,   0,   0,   0,   0,   0,   0,   0,   0,   0,   0,\n",
       "        183, 225, 216, 223, 228, 235, 227, 224, 222, 224, 221, 223, 245,\n",
       "        173,   0],\n",
       "       [  0,   0,   0,   0,   0,   0,   0,   0,   0,   0,   0,   0,   0,\n",
       "        193, 228, 218, 213, 198, 180, 212, 210, 211, 213, 223, 220, 243,\n",
       "        202,   0],\n",
       "       [  0,   0,   0,   0,   0,   0,   0,   0,   0,   1,   3,   0,  12,\n",
       "        219, 220, 212, 218, 192, 169, 227, 208, 218, 224, 212, 226, 197,\n",
       "        209,  52],\n",
       "       [  0,   0,   0,   0,   0,   0,   0,   0,   0,   0,   6,   0,  99,\n",
       "        244, 222, 220, 218, 203, 198, 221, 215, 213, 222, 220, 245, 119,\n",
       "        167,  56],\n",
       "       [  0,   0,   0,   0,   0,   0,   0,   0,   0,   4,   0,   0,  55,\n",
       "        236, 228, 230, 228, 240, 232, 213, 218, 223, 234, 217, 217, 209,\n",
       "         92,   0],\n",
       "       [  0,   0,   1,   4,   6,   7,   2,   0,   0,   0,   0,   0, 237,\n",
       "        226, 217, 223, 222, 219, 222, 221, 216, 223, 229, 215, 218, 255,\n",
       "         77,   0],\n",
       "       [  0,   3,   0,   0,   0,   0,   0,   0,   0,  62, 145, 204, 228,\n",
       "        207, 213, 221, 218, 208, 211, 218, 224, 223, 219, 215, 224, 244,\n",
       "        159,   0],\n",
       "       [  0,   0,   0,   0,  18,  44,  82, 107, 189, 228, 220, 222, 217,\n",
       "        226, 200, 205, 211, 230, 224, 234, 176, 188, 250, 248, 233, 238,\n",
       "        215,   0],\n",
       "       [  0,  57, 187, 208, 224, 221, 224, 208, 204, 214, 208, 209, 200,\n",
       "        159, 245, 193, 206, 223, 255, 255, 221, 234, 221, 211, 220, 232,\n",
       "        246,   0],\n",
       "       [  3, 202, 228, 224, 221, 211, 211, 214, 205, 205, 205, 220, 240,\n",
       "         80, 150, 255, 229, 221, 188, 154, 191, 210, 204, 209, 222, 228,\n",
       "        225,   0],\n",
       "       [ 98, 233, 198, 210, 222, 229, 229, 234, 249, 220, 194, 215, 217,\n",
       "        241,  65,  73, 106, 117, 168, 219, 221, 215, 217, 223, 223, 224,\n",
       "        229,  29],\n",
       "       [ 75, 204, 212, 204, 193, 205, 211, 225, 216, 185, 197, 206, 198,\n",
       "        213, 240, 195, 227, 245, 239, 223, 218, 212, 209, 222, 220, 221,\n",
       "        230,  67],\n",
       "       [ 48, 203, 183, 194, 213, 197, 185, 190, 194, 192, 202, 214, 219,\n",
       "        221, 220, 236, 225, 216, 199, 206, 186, 181, 177, 172, 181, 205,\n",
       "        206, 115],\n",
       "       [  0, 122, 219, 193, 179, 171, 183, 196, 204, 210, 213, 207, 211,\n",
       "        210, 200, 196, 194, 191, 195, 191, 198, 192, 176, 156, 167, 177,\n",
       "        210,  92],\n",
       "       [  0,   0,  74, 189, 212, 191, 175, 172, 175, 181, 185, 188, 189,\n",
       "        188, 193, 198, 204, 209, 210, 210, 211, 188, 188, 194, 192, 216,\n",
       "        170,   0],\n",
       "       [  2,   0,   0,   0,  66, 200, 222, 237, 239, 242, 246, 243, 244,\n",
       "        221, 220, 193, 191, 179, 182, 182, 181, 176, 166, 168,  99,  58,\n",
       "          0,   0],\n",
       "       [  0,   0,   0,   0,   0,   0,   0,  40,  61,  44,  72,  41,  35,\n",
       "          0,   0,   0,   0,   0,   0,   0,   0,   0,   0,   0,   0,   0,\n",
       "          0,   0],\n",
       "       [  0,   0,   0,   0,   0,   0,   0,   0,   0,   0,   0,   0,   0,\n",
       "          0,   0,   0,   0,   0,   0,   0,   0,   0,   0,   0,   0,   0,\n",
       "          0,   0],\n",
       "       [  0,   0,   0,   0,   0,   0,   0,   0,   0,   0,   0,   0,   0,\n",
       "          0,   0,   0,   0,   0,   0,   0,   0,   0,   0,   0,   0,   0,\n",
       "          0,   0]], dtype=uint8)"
      ]
     },
     "execution_count": 40,
     "metadata": {},
     "output_type": "execute_result"
    }
   ],
   "source": [
    "x_train[0]"
   ]
  },
  {
   "cell_type": "code",
   "execution_count": 41,
   "metadata": {},
   "outputs": [
    {
     "data": {
      "text/plain": [
       "<matplotlib.image.AxesImage at 0x242ce63c8e0>"
      ]
     },
     "execution_count": 41,
     "metadata": {},
     "output_type": "execute_result"
    },
    {
     "data": {
      "image/png": "[encoded data removed]",
      "text/plain": [
       "<Figure size 432x288 with 1 Axes>"
      ]
     },
     "metadata": {
      "needs_background": "light"
     },
     "output_type": "display_data"
    }
   ],
   "source": [
    "plt.imshow(x_train[0])"
   ]
  },
  {
   "cell_type": "code",
   "execution_count": 45,
   "metadata": {},
   "outputs": [
    {
     "data": {
      "text/plain": [
       "(60000, 28, 28)"
      ]
     },
     "execution_count": 45,
     "metadata": {},
     "output_type": "execute_result"
    }
   ],
   "source": [
    "x_train.shape"
   ]
  },
  {
   "cell_type": "code",
   "execution_count": 54,
   "metadata": {},
   "outputs": [],
   "source": [
    "x_train = x_train.reshape(60000,784)"
   ]
  },
  {
   "cell_type": "code",
   "execution_count": 49,
   "metadata": {},
   "outputs": [
    {
     "data": {
      "text/plain": [
       "784"
      ]
     },
     "execution_count": 49,
     "metadata": {},
     "output_type": "execute_result"
    }
   ],
   "source": [
    "x_train.shape[1]"
   ]
  },
  {
   "cell_type": "code",
   "execution_count": 51,
   "metadata": {},
   "outputs": [
    {
     "data": {
      "text/plain": [
       "(10000, 28, 28)"
      ]
     },
     "execution_count": 51,
     "metadata": {},
     "output_type": "execute_result"
    }
   ],
   "source": [
    "x_test.shape"
   ]
  },
  {
   "cell_type": "code",
   "execution_count": 55,
   "metadata": {},
   "outputs": [],
   "source": [
    "x_test = x_test.reshape(10000,784)"
   ]
  },
  {
   "cell_type": "code",
   "execution_count": null,
   "metadata": {},
   "outputs": [],
   "source": []
  },
  {
   "cell_type": "code",
   "execution_count": 81,
   "metadata": {},
   "outputs": [
    {
     "name": "stdout",
     "output_type": "stream",
     "text": [
      "Epoch 1/10\n",
      "938/938 [==============================] - 2s 2ms/step - loss: 3.0843 - accuracy: 0.4179 - val_loss: 1.4337 - val_accuracy: 0.4508\n",
      "Epoch 2/10\n",
      "938/938 [==============================] - 2s 2ms/step - loss: 1.0448 - accuracy: 0.6025 - val_loss: 0.8935 - val_accuracy: 0.6966\n",
      "Epoch 3/10\n",
      "938/938 [==============================] - 2s 2ms/step - loss: 0.8013 - accuracy: 0.6964 - val_loss: 0.7705 - val_accuracy: 0.7048\n",
      "Epoch 4/10\n",
      "938/938 [==============================] - 2s 2ms/step - loss: 0.6521 - accuracy: 0.7457 - val_loss: 0.6337 - val_accuracy: 0.7551\n",
      "Epoch 5/10\n",
      "938/938 [==============================] - 2s 2ms/step - loss: 0.6533 - accuracy: 0.7499 - val_loss: 0.6769 - val_accuracy: 0.7430\n",
      "Epoch 6/10\n",
      "938/938 [==============================] - 2s 2ms/step - loss: 0.6233 - accuracy: 0.7553 - val_loss: 0.6137 - val_accuracy: 0.7629\n",
      "Epoch 7/10\n",
      "938/938 [==============================] - 2s 2ms/step - loss: 0.6213 - accuracy: 0.7579 - val_loss: 0.6713 - val_accuracy: 0.7282\n",
      "Epoch 8/10\n",
      "938/938 [==============================] - 2s 2ms/step - loss: 0.6244 - accuracy: 0.7566 - val_loss: 0.6967 - val_accuracy: 0.7544\n",
      "Epoch 9/10\n",
      "938/938 [==============================] - 2s 2ms/step - loss: 0.5888 - accuracy: 0.7696 - val_loss: 0.6823 - val_accuracy: 0.7520\n",
      "Epoch 10/10\n",
      "938/938 [==============================] - 2s 2ms/step - loss: 0.5992 - accuracy: 0.7696 - val_loss: 0.6033 - val_accuracy: 0.7826\n"
     ]
    }
   ],
   "source": [
    "#import the data\n",
    "# (x_train, y_train), (x_test, y_test) = fashion_mnist.load_data()\n",
    "\n",
    "# Initiate the model (neural network)\n",
    "\n",
    "## Neural Network in Tensorflow\n",
    "model = Sequential()\n",
    "\n",
    "## Add Hidden Layer\n",
    "model.add(Dense(64, input_dim=x_train.shape[1], activation='relu')) \n",
    "model.add(Dense(32, activation='relu'))\n",
    "\n",
    "## Add Output Layer\n",
    "model.add(Dense(10, activation='softmax')) #samain dengan jumlah output\n",
    "\n",
    "## Compile Model\n",
    "model.compile(loss='sparse_categorical_crossentropy'\n",
    "              ,optimizer=Adam(lr=0.005) #learning rate\n",
    "              ,metrics=('accuracy'))\n",
    "\n",
    "\n",
    "# Training Process - Testing Process - Evaluation\n",
    "\n",
    "history = model.fit(x_train, \n",
    "                    y_train, \n",
    "                    batch_size=64,\n",
    "                    epochs=10,\n",
    "                    validation_data=(x_test, y_test))"
   ]
  },
  {
   "cell_type": "code",
   "execution_count": 63,
   "metadata": {},
   "outputs": [
    {
     "data": {
      "text/plain": [
       "(1, 784)"
      ]
     },
     "execution_count": 63,
     "metadata": {},
     "output_type": "execute_result"
    }
   ],
   "source": [
    "x_test[0].reshape(1,-1).shape"
   ]
  },
  {
   "cell_type": "code",
   "execution_count": 69,
   "metadata": {},
   "outputs": [
    {
     "data": {
      "text/plain": [
       "array([[2.1479047e-18, 1.1942793e-21, 4.1703159e-31, 2.7106346e-16,\n",
       "        3.1248499e-25, 8.3385475e-02, 6.3859533e-24, 4.6948589e-02,\n",
       "        3.6327484e-12, 8.6966592e-01]], dtype=float32)"
      ]
     },
     "execution_count": 69,
     "metadata": {},
     "output_type": "execute_result"
    }
   ],
   "source": [
    "model.predict(x_test[0].reshape(1,-1))"
   ]
  },
  {
   "cell_type": "code",
   "execution_count": null,
   "metadata": {},
   "outputs": [],
   "source": [
    "result = list(model.predict(x_test[0].reshape(1,-1))[0])"
   ]
  },
  {
   "cell_type": "code",
   "execution_count": 68,
   "metadata": {},
   "outputs": [
    {
     "data": {
      "text/plain": [
       "<AxesSubplot:>"
      ]
     },
     "execution_count": 68,
     "metadata": {},
     "output_type": "execute_result"
    },
    {
     "data": {
      "image/png": "[encoded data removed]",
      "text/plain": [
       "<Figure size 432x288 with 1 Axes>"
      ]
     },
     "metadata": {
      "needs_background": "light"
     },
     "output_type": "display_data"
    }
   ],
   "source": [
    "sns.barplot(x=[0,1,2,3,4,5,6,7,8,9], y = result)"
   ]
  },
  {
   "cell_type": "markdown",
   "metadata": {},
   "source": [
    "### Pickle<br>\n",
    "cara transfer model"
   ]
  },
  {
   "cell_type": "code",
   "execution_count": 71,
   "metadata": {},
   "outputs": [
    {
     "name": "stdout",
     "output_type": "stream",
     "text": [
      "Requirement already satisfied: joblib in c:\\users\\ifans\\miniconda3\\lib\\site-packages (0.16.0)\n"
     ]
    },
    {
     "name": "stderr",
     "output_type": "stream",
     "text": [
      "WARNING: You are using pip version 20.2.2; however, version 20.2.3 is available.\n",
      "You should consider upgrading via the 'c:\\users\\ifans\\miniconda3\\python.exe -m pip install --upgrade pip' command.\n"
     ]
    }
   ],
   "source": [
    "!pip install joblib"
   ]
  },
  {
   "cell_type": "code",
   "execution_count": 73,
   "metadata": {},
   "outputs": [],
   "source": [
    "# from sklearn.externals import joblib\n",
    "import pickle\n",
    "import joblib"
   ]
  },
  {
   "cell_type": "code",
   "execution_count": 77,
   "metadata": {},
   "outputs": [],
   "source": [
    "model = LinearRegression()"
   ]
  },
  {
   "cell_type": "markdown",
   "metadata": {},
   "source": [
    "#### Export model"
   ]
  },
  {
   "cell_type": "code",
   "execution_count": 78,
   "metadata": {},
   "outputs": [
    {
     "data": {
      "text/plain": [
       "['linear_regression.pkl']"
      ]
     },
     "execution_count": 78,
     "metadata": {},
     "output_type": "execute_result"
    }
   ],
   "source": [
    "joblib.dump(model, 'linear_regression.pkl')"
   ]
  },
  {
   "cell_type": "code",
   "execution_count": 82,
   "metadata": {},
   "outputs": [
    {
     "name": "stdout",
     "output_type": "stream",
     "text": [
      "WARNING:tensorflow:From C:\\Users\\ifans\\miniconda3\\lib\\site-packages\\tensorflow\\python\\training\\tracking\\tracking.py:111: Model.state_updates (from tensorflow.python.keras.engine.training) is deprecated and will be removed in a future version.\n",
      "Instructions for updating:\n",
      "This property should not be used in TensorFlow 2.0, as updates are applied automatically.\n",
      "WARNING:tensorflow:From C:\\Users\\ifans\\miniconda3\\lib\\site-packages\\tensorflow\\python\\training\\tracking\\tracking.py:111: Layer.updates (from tensorflow.python.keras.engine.base_layer) is deprecated and will be removed in a future version.\n",
      "Instructions for updating:\n",
      "This property should not be used in TensorFlow 2.0, as updates are applied automatically.\n",
      "INFO:tensorflow:Assets written to: neural_network.pkl\\assets\n"
     ]
    }
   ],
   "source": [
    "#kalo tensorflow\n",
    "model.save('neural_network.pkl')"
   ]
  },
  {
   "cell_type": "markdown",
   "metadata": {},
   "source": [
    "#### Import Model"
   ]
  },
  {
   "cell_type": "code",
   "execution_count": 79,
   "metadata": {},
   "outputs": [],
   "source": [
    "new_model = joblib.load('linear_regression.pkl')"
   ]
  },
  {
   "cell_type": "code",
   "execution_count": 80,
   "metadata": {},
   "outputs": [
    {
     "ename": "TypeError",
     "evalue": "predict() missing 1 required positional argument: 'X'",
     "output_type": "error",
     "traceback": [
      "\u001b[1;31m---------------------------------------------------------------------------\u001b[0m",
      "\u001b[1;31mTypeError\u001b[0m                                 Traceback (most recent call last)",
      "\u001b[1;32m<ipython-input-80-69e8e08cdfe4>\u001b[0m in \u001b[0;36m<module>\u001b[1;34m\u001b[0m\n\u001b[1;32m----> 1\u001b[1;33m \u001b[0mnew_model\u001b[0m\u001b[1;33m.\u001b[0m\u001b[0mpredict\u001b[0m\u001b[1;33m(\u001b[0m\u001b[1;33m)\u001b[0m\u001b[1;33m\u001b[0m\u001b[1;33m\u001b[0m\u001b[0m\n\u001b[0m",
      "\u001b[1;31mTypeError\u001b[0m: predict() missing 1 required positional argument: 'X'"
     ]
    }
   ],
   "source": [
    "new_model.predict()"
   ]
  }
 ],
 "metadata": {
  "kernelspec": {
   "display_name": "Python 3",
   "language": "python",
   "name": "python3"
  },
  "language_info": {
   "codemirror_mode": {
    "name": "ipython",
    "version": 3
   },
   "file_extension": ".py",
   "mimetype": "text/x-python",
   "name": "python",
   "nbconvert_exporter": "python",
   "pygments_lexer": "ipython3",
   "version": "3.8.3"
  }
 },
 "nbformat": 4,
 "nbformat_minor": 4
}
