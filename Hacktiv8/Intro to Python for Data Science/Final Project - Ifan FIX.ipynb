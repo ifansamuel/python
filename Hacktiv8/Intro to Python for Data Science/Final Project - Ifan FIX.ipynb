{
 "cells": [
  {
   "cell_type": "code",
   "execution_count": 1,
   "metadata": {},
   "outputs": [],
   "source": [
    "import pandasql\n",
    "import pandas as pd\n",
    "import seaborn as sns\n",
    "import matplotlib.pyplot as plt\n",
    "\n",
    "from sklearn.model_selection import train_test_split\n",
    "\n",
    "from sklearn.linear_model import LinearRegression, LogisticRegression\n",
    "\n",
    "from sklearn.preprocessing import StandardScaler, MinMaxScaler\n",
    "\n",
    "from sklearn import metrics"
   ]
  },
  {
   "cell_type": "code",
   "execution_count": 2,
   "metadata": {},
   "outputs": [],
   "source": [
    "vg = pd.read_csv('vgsales.csv')"
   ]
  },
  {
   "cell_type": "code",
   "execution_count": 3,
   "metadata": {},
   "outputs": [],
   "source": [
    "data_vg = vg"
   ]
  },
  {
   "cell_type": "code",
   "execution_count": 35,
   "metadata": {
    "scrolled": true
   },
   "outputs": [
    {
     "data": {
      "text/html": [
       "<div>\n",
       "<style scoped>\n",
       "    .dataframe tbody tr th:only-of-type {\n",
       "        vertical-align: middle;\n",
       "    }\n",
       "\n",
       "    .dataframe tbody tr th {\n",
       "        vertical-align: top;\n",
       "    }\n",
       "\n",
       "    .dataframe thead th {\n",
       "        text-align: right;\n",
       "    }\n",
       "</style>\n",
       "<table border=\"1\" class=\"dataframe\">\n",
       "  <thead>\n",
       "    <tr style=\"text-align: right;\">\n",
       "      <th></th>\n",
       "      <th>Genre</th>\n",
       "      <th>ESRB_Rating</th>\n",
       "      <th>Platform</th>\n",
       "      <th>Publisher</th>\n",
       "      <th>Developer</th>\n",
       "      <th>Global_Sales</th>\n",
       "    </tr>\n",
       "  </thead>\n",
       "  <tbody>\n",
       "    <tr>\n",
       "      <th>19</th>\n",
       "      <td>0</td>\n",
       "      <td>3</td>\n",
       "      <td>22</td>\n",
       "      <td>542</td>\n",
       "      <td>2049</td>\n",
       "      <td>20.32</td>\n",
       "    </tr>\n",
       "    <tr>\n",
       "      <th>20</th>\n",
       "      <td>0</td>\n",
       "      <td>3</td>\n",
       "      <td>23</td>\n",
       "      <td>542</td>\n",
       "      <td>2049</td>\n",
       "      <td>19.39</td>\n",
       "    </tr>\n",
       "    <tr>\n",
       "      <th>30</th>\n",
       "      <td>0</td>\n",
       "      <td>3</td>\n",
       "      <td>21</td>\n",
       "      <td>542</td>\n",
       "      <td>2049</td>\n",
       "      <td>16.15</td>\n",
       "    </tr>\n",
       "    <tr>\n",
       "      <th>32</th>\n",
       "      <td>0</td>\n",
       "      <td>3</td>\n",
       "      <td>35</td>\n",
       "      <td>542</td>\n",
       "      <td>2049</td>\n",
       "      <td>15.86</td>\n",
       "    </tr>\n",
       "    <tr>\n",
       "      <th>34</th>\n",
       "      <td>15</td>\n",
       "      <td>3</td>\n",
       "      <td>23</td>\n",
       "      <td>31</td>\n",
       "      <td>2534</td>\n",
       "      <td>15.09</td>\n",
       "    </tr>\n",
       "  </tbody>\n",
       "</table>\n",
       "</div>"
      ],
      "text/plain": [
       "    Genre  ESRB_Rating  Platform  Publisher  Developer  Global_Sales\n",
       "19      0            3        22        542       2049         20.32\n",
       "20      0            3        23        542       2049         19.39\n",
       "30      0            3        21        542       2049         16.15\n",
       "32      0            3        35        542       2049         15.86\n",
       "34     15            3        23         31       2534         15.09"
      ]
     },
     "execution_count": 35,
     "metadata": {},
     "output_type": "execute_result"
    }
   ],
   "source": [
    "data_vg.head()"
   ]
  },
  {
   "cell_type": "markdown",
   "metadata": {},
   "source": [
    "Fields include:\n",
    "\n",
    "    Rank - Ranking of overall sales\n",
    "    Name - Name of the game\n",
    "    Platform - Platform of the game (i.e. PC, PS4, XOne, etc.)\n",
    "    Genre - Genre of the game\n",
    "    ESRB Rating - ESRB Rating of the game\n",
    "    Publisher - Publisher of the game\n",
    "    Developer - Developer of the game\n",
    "    Critic Score - Critic score of the game from 10\n",
    "    User Score - Users score the game from 10\n",
    "    Total Shipped - Total shipped copies of the game\n",
    "    Global_Sales - Total worldwide sales (in millions)\n",
    "    NA_Sales - Sales in North America (in millions)\n",
    "    PAL_Sales - Sales in Europe (in millions)\n",
    "    JP_Sales - Sales in Japan (in millions)\n",
    "    Other_Sales - Sales in the rest of the world (in millions)\n",
    "    Year - Year of release of the game\n"
   ]
  },
  {
   "cell_type": "markdown",
   "metadata": {},
   "source": [
    "## Data Analysis Process<br>\n",
    "Question - Wrangle - Explore - Conclusion - Communicate\n"
   ]
  },
  {
   "cell_type": "markdown",
   "metadata": {},
   "source": [
    "**Question**"
   ]
  },
  {
   "cell_type": "markdown",
   "metadata": {},
   "source": [
    "1. Perkembangan Genre Game dr tahun ke tahun\n",
    "2. Perkembangan platform game dari tahun ke tahun\n",
    "3. 5 Genre game yang paling banyak di buat\n",
    "4. Developer yang paling banyak membuat game pada Question 3"
   ]
  },
  {
   "cell_type": "markdown",
   "metadata": {},
   "source": [
    "**Wrangle**"
   ]
  },
  {
   "cell_type": "code",
   "execution_count": 5,
   "metadata": {},
   "outputs": [],
   "source": [
    "#drop kolom yg banyak null values\n",
    "data_vg = data_vg.drop(columns=['Critic_Score', 'User_Score','Total_Shipped','Global_Sales','NA_Sales','PAL_Sales','JP_Sales','Other_Sales','ESRB_Rating'])"
   ]
  },
  {
   "cell_type": "code",
   "execution_count": 6,
   "metadata": {
    "scrolled": true
   },
   "outputs": [],
   "source": [
    "#fill null values Developer\n",
    "data_vg['Developer'] = data_vg['Developer'].fillna(data_vg['Developer'].mode()[0])"
   ]
  },
  {
   "cell_type": "code",
   "execution_count": 7,
   "metadata": {},
   "outputs": [],
   "source": [
    "#fill null values Year\n",
    "data_vg['Year'] = data_vg['Year'].fillna(data_vg['Year'].mode()[0])"
   ]
  },
  {
   "cell_type": "code",
   "execution_count": 9,
   "metadata": {},
   "outputs": [],
   "source": [
    "data_vg['Year'] = data_vg['Year'].astype(int)"
   ]
  },
  {
   "cell_type": "markdown",
   "metadata": {},
   "source": [
    "**Explore**"
   ]
  },
  {
   "cell_type": "markdown",
   "metadata": {},
   "source": [
    "> 1. Perkembangan Genre Game dr tahun ke tahun"
   ]
  },
  {
   "cell_type": "code",
   "execution_count": 10,
   "metadata": {
    "scrolled": false
   },
   "outputs": [
    {
     "data": {
      "image/png": "[encoded data removed]",
      "text/plain": [
       "<Figure size 1080x360 with 1 Axes>"
      ]
     },
     "metadata": {
      "needs_background": "light"
     },
     "output_type": "display_data"
    }
   ],
   "source": [
    "result_1 = data_vg.groupby(['Year','Genre'])['Rank'].count()\\\n",
    "            .groupby(level=0).apply(lambda x: 100 * x / float(x.sum())) \\\n",
    "            .unstack() \n",
    "result_1.plot.bar(figsize=(15,5), stacked=True, colormap='coolwarm')\n",
    "plt.legend(loc='center left', bbox_to_anchor=(1.0, 0.5))\n",
    "plt.show()"
   ]
  },
  {
   "cell_type": "markdown",
   "metadata": {},
   "source": [
    "> 2. Perkembangan platform game dari tahun ke tahun"
   ]
  },
  {
   "cell_type": "code",
   "execution_count": 11,
   "metadata": {
    "scrolled": false
   },
   "outputs": [
    {
     "name": "stderr",
     "output_type": "stream",
     "text": [
      "No handles with labels found to put in legend.\n"
     ]
    },
    {
     "data": {
      "image/png": "[encoded data removed]",
      "text/plain": [
       "<Figure size 1080x360 with 2 Axes>"
      ]
     },
     "metadata": {
      "needs_background": "light"
     },
     "output_type": "display_data"
    }
   ],
   "source": [
    "result_2 = data_vg.groupby(['Year','Platform'])['Rank'].count()\\\n",
    "            .groupby(level=0).apply(lambda x: 100 * x / float(x.sum())) \\\n",
    "            .unstack() \n",
    "result_2.plot.bar(figsize=(15,5), stacked=True, colormap='PuBuGn')\n",
    "plt.legend(loc=\"lower right\", bbox_to_anchor=(1., 1.02) , borderaxespad=0., ncol=11)\n",
    "plt.twinx()\n",
    "plt.legend(bbox_to_anchor=(0,1.02),loc=\"lower left\", borderaxespad=0.)\n",
    "plt.show()"
   ]
  },
  {
   "cell_type": "markdown",
   "metadata": {},
   "source": [
    "> 3. 5 Genre game yang paling banyak di buat"
   ]
  },
  {
   "cell_type": "code",
   "execution_count": 12,
   "metadata": {},
   "outputs": [
    {
     "data": {
      "text/plain": [
       "Genre\n",
       "Misc         9476\n",
       "Action       7667\n",
       "Adventure    5293\n",
       "Sports       5244\n",
       "Shooter      4586\n",
       "Name: Rank, dtype: int64"
      ]
     },
     "execution_count": 12,
     "metadata": {},
     "output_type": "execute_result"
    }
   ],
   "source": [
    "result_3 = data_vg.groupby('Genre')['Rank'].count()\\\n",
    "            .sort_values(ascending=False)\\\n",
    "            .head()\n",
    "result_3"
   ]
  },
  {
   "cell_type": "markdown",
   "metadata": {},
   "source": [
    "> 4. Developer yang paling banyak membuat game pada Question 3"
   ]
  },
  {
   "cell_type": "code",
   "execution_count": 13,
   "metadata": {
    "scrolled": true
   },
   "outputs": [
    {
     "data": {
      "text/html": [
       "<div>\n",
       "<style scoped>\n",
       "    .dataframe tbody tr th:only-of-type {\n",
       "        vertical-align: middle;\n",
       "    }\n",
       "\n",
       "    .dataframe tbody tr th {\n",
       "        vertical-align: top;\n",
       "    }\n",
       "\n",
       "    .dataframe thead th {\n",
       "        text-align: right;\n",
       "    }\n",
       "</style>\n",
       "<table border=\"1\" class=\"dataframe\">\n",
       "  <thead>\n",
       "    <tr style=\"text-align: right;\">\n",
       "      <th></th>\n",
       "      <th>Genre</th>\n",
       "      <th>Developer</th>\n",
       "      <th>Total</th>\n",
       "    </tr>\n",
       "  </thead>\n",
       "  <tbody>\n",
       "    <tr>\n",
       "      <th>0</th>\n",
       "      <td>Misc</td>\n",
       "      <td>zio3</td>\n",
       "      <td>4001</td>\n",
       "    </tr>\n",
       "    <tr>\n",
       "      <th>1</th>\n",
       "      <td>Action</td>\n",
       "      <td>yyr</td>\n",
       "      <td>436</td>\n",
       "    </tr>\n",
       "    <tr>\n",
       "      <th>2</th>\n",
       "      <td>Adventure</td>\n",
       "      <td>thechineseroom</td>\n",
       "      <td>147</td>\n",
       "    </tr>\n",
       "    <tr>\n",
       "      <th>3</th>\n",
       "      <td>Sports</td>\n",
       "      <td>thelostone</td>\n",
       "      <td>352</td>\n",
       "    </tr>\n",
       "    <tr>\n",
       "      <th>4</th>\n",
       "      <td>Shooter</td>\n",
       "      <td>xPox</td>\n",
       "      <td>95</td>\n",
       "    </tr>\n",
       "  </tbody>\n",
       "</table>\n",
       "</div>"
      ],
      "text/plain": [
       "       Genre       Developer  Total\n",
       "0       Misc            zio3   4001\n",
       "1     Action             yyr    436\n",
       "2  Adventure  thechineseroom    147\n",
       "3     Sports      thelostone    352\n",
       "4    Shooter            xPox     95"
      ]
     },
     "execution_count": 13,
     "metadata": {},
     "output_type": "execute_result"
    }
   ],
   "source": [
    "data_4 = data_vg[(data_vg['Genre']=='Misc') |(data_vg['Genre']=='Action') | (data_vg['Genre']=='Adventure') | (data_vg['Genre']=='Sports')| (data_vg['Genre']=='Shooter')]\n",
    "result_4_raw = data_4.groupby(['Genre','Developer'],as_index=False)['Rank'].count()\\\n",
    "            .rename(columns={'Rank':'Jumlah'})\n",
    "query = \"\"\"\n",
    "        SELECT\n",
    "            a.Genre\n",
    "            ,(\n",
    "            SELECT max(b.Developer)\n",
    "            FROM result_4_raw as b\n",
    "            WHERE b.Genre = a.Genre\n",
    "            ) as Developer\n",
    "            ,(\n",
    "            SELECT max(b.Jumlah)\n",
    "            FROM result_4_raw as b\n",
    "            WHERE b.Genre = a.Genre\n",
    "            ) as Total\n",
    "        FROM\n",
    "            result_3 as a\n",
    "        ORDER BY\n",
    "            a.Rank desc\n",
    "        LIMIT\n",
    "            5\n",
    "        \"\"\"\n",
    "\n",
    "result_4 = pandasql.sqldf(query)\n",
    "\n",
    "result_4"
   ]
  },
  {
   "cell_type": "markdown",
   "metadata": {},
   "source": [
    "**Conclusion**"
   ]
  },
  {
   "cell_type": "markdown",
   "metadata": {},
   "source": [
    "1. Perkembangan Genre Game dr tahun ke tahun<br>\n",
    "    setiap genre game mengalami kenaikan dan penurunan di setiap tahun memasuki thn 2020, tren genre game **Misc** mengalami kenaikan dari tahun sebelumnya, genre game **Action** tetap seperti tahun sebelumnya dan genre game lainnya mengalami penurunan\n",
    "2. Perkembangan platform game dari tahun ke tahun<br>\n",
    "    Memasuki tahun 2020, tren Platform yang naik dari tahun sebelumnya hanya **PC** sedangkan untuk Platform game lain mengalami penurunan\n",
    "3. 5 Genre game yang paling banyak di buat<br>\n",
    "    **Misc       9476<br>\n",
    "    Action       7667<br>\n",
    "    Adventure    5293<br>\n",
    "    Sports       5244<br>\n",
    "    Shooter      4586**<br>\n",
    "4. Developer yang paling banyak membuat game pada Question 3<br>\n",
    "    untuk Genre **Misc**, Developer **zio3** dengan jumlah **4001**<br>\n",
    "    untuk Genre **Action**, Developer **yyr** dengan jumlah **436**<br>\n",
    "    untuk Genre **Adventure**, Developer **thechineseroom** dengan jumlah **147**<br>\n",
    "    untuk Genre **Sports**, Developer **thelostone** dengan jumlah **352**<br>\n",
    "    untuk Genre **Shooter**, Developer **xPox** dengan jumlah **95**"
   ]
  },
  {
   "cell_type": "markdown",
   "metadata": {},
   "source": [
    "## Maching Learning Process"
   ]
  },
  {
   "cell_type": "code",
   "execution_count": 14,
   "metadata": {},
   "outputs": [],
   "source": [
    "data_vg = vg"
   ]
  },
  {
   "cell_type": "markdown",
   "metadata": {},
   "source": [
    "**Questions**"
   ]
  },
  {
   "cell_type": "markdown",
   "metadata": {},
   "source": [
    "prediksi Global Sales"
   ]
  },
  {
   "cell_type": "markdown",
   "metadata": {},
   "source": [
    "**Wrangle**"
   ]
  },
  {
   "cell_type": "code",
   "execution_count": 15,
   "metadata": {},
   "outputs": [],
   "source": [
    "#filter Global_Sales not null\n",
    "data_vg = data_vg[pd.notnull(data_vg['Global_Sales'])]"
   ]
  },
  {
   "cell_type": "code",
   "execution_count": 16,
   "metadata": {},
   "outputs": [],
   "source": [
    "#drop kolom yg banyak null values\n",
    "data_vg = data_vg.drop(columns=['Rank','Name','Critic_Score', 'User_Score','Total_Shipped','Year','NA_Sales','PAL_Sales','JP_Sales','Other_Sales'])"
   ]
  },
  {
   "cell_type": "code",
   "execution_count": 17,
   "metadata": {},
   "outputs": [],
   "source": [
    "#fill null values Developer\n",
    "data_vg['Developer'] = data_vg['Developer'].fillna(data_vg['Developer'].mode()[0])"
   ]
  },
  {
   "cell_type": "code",
   "execution_count": 18,
   "metadata": {},
   "outputs": [],
   "source": [
    "#fill null values ESRB Rating\n",
    "data_vg['ESRB_Rating'] = data_vg['ESRB_Rating'].fillna(data_vg['ESRB_Rating'].mode()[0])"
   ]
  },
  {
   "cell_type": "code",
   "execution_count": 19,
   "metadata": {},
   "outputs": [],
   "source": [
    "#one hot encoding Genre\n",
    "# data_vg = pd.get_dummies(data_vg, columns=['Genre'])\n",
    "\n",
    "#label encoding Genre\n",
    "data_vg[\"Genre\"] = data_vg[\"Genre\"].astype('category')\n",
    "data_vg[\"Genre\"] = data_vg[\"Genre\"].cat.codes"
   ]
  },
  {
   "cell_type": "code",
   "execution_count": 20,
   "metadata": {},
   "outputs": [],
   "source": [
    "#one hot encoding ESRB_Rating\n",
    "# data_vg = pd.get_dummies(data_vg, columns=['ESRB_Rating'])\n",
    "\n",
    "#label encoding ESRB_Rating\n",
    "data_vg[\"ESRB_Rating\"] = data_vg[\"ESRB_Rating\"].astype('category')\n",
    "data_vg[\"ESRB_Rating\"] = data_vg[\"ESRB_Rating\"].cat.codes"
   ]
  },
  {
   "cell_type": "code",
   "execution_count": 21,
   "metadata": {},
   "outputs": [],
   "source": [
    "#one hot encoding Platform\n",
    "# data_vg = pd.get_dummies(data_vg, columns=['Platform'])\n",
    "\n",
    "#label encoding Platform\n",
    "data_vg[\"Platform\"] = data_vg[\"Platform\"].astype('category')\n",
    "data_vg[\"Platform\"] = data_vg[\"Platform\"].cat.codes"
   ]
  },
  {
   "cell_type": "code",
   "execution_count": 22,
   "metadata": {},
   "outputs": [],
   "source": [
    "#one hot encoding Publisher\n",
    "# data_vg = pd.get_dummies(data_vg, columns=['Publisher'])\n",
    "\n",
    "#label encoding Publisher\n",
    "data_vg[\"Publisher\"] = data_vg[\"Publisher\"].astype('category')\n",
    "data_vg[\"Publisher\"] = data_vg[\"Publisher\"].cat.codes"
   ]
  },
  {
   "cell_type": "code",
   "execution_count": 23,
   "metadata": {},
   "outputs": [],
   "source": [
    "#one hot encoding Developer\n",
    "# data_vg = pd.get_dummies(data_vg, columns=['Developer'])\n",
    "\n",
    "#label encoding Developer\n",
    "data_vg[\"Developer\"] = data_vg[\"Developer\"].astype('category')\n",
    "data_vg[\"Developer\"] = data_vg[\"Developer\"].cat.codes"
   ]
  },
  {
   "cell_type": "markdown",
   "metadata": {},
   "source": [
    "**Explore**"
   ]
  },
  {
   "cell_type": "code",
   "execution_count": 27,
   "metadata": {},
   "outputs": [],
   "source": [
    "# Define parameters and labels\n",
    "x = data_vg.drop(columns=['Global_Sales'])\n",
    "y = data_vg['Global_Sales']"
   ]
  },
  {
   "cell_type": "code",
   "execution_count": 28,
   "metadata": {},
   "outputs": [],
   "source": [
    "# Split the data into training data and testing data\n",
    "x_train, x_test, y_train, y_test = train_test_split(x, y, test_size=0.3, random_state=1)"
   ]
  },
  {
   "cell_type": "code",
   "execution_count": 29,
   "metadata": {},
   "outputs": [],
   "source": [
    "# Initiate the model\n",
    "model = LinearRegression()"
   ]
  },
  {
   "cell_type": "code",
   "execution_count": 30,
   "metadata": {},
   "outputs": [
    {
     "data": {
      "text/plain": [
       "LinearRegression(copy_X=True, fit_intercept=True, n_jobs=None, normalize=False)"
      ]
     },
     "execution_count": 30,
     "metadata": {},
     "output_type": "execute_result"
    }
   ],
   "source": [
    "# Training process\n",
    "model.fit(x_train, y_train)"
   ]
  },
  {
   "cell_type": "code",
   "execution_count": 31,
   "metadata": {},
   "outputs": [
    {
     "name": "stdout",
     "output_type": "stream",
     "text": [
      "MAE: 0.3893022350727459\n"
     ]
    }
   ],
   "source": [
    "# Testing and evaluation process tanpa rounding global sales\n",
    "y_pred = model.predict(x_test)\n",
    "error = metrics.mean_absolute_error(y_test, y_pred)\n",
    "\n",
    "print('MAE: {}'.format(error))"
   ]
  }
 ],
 "metadata": {
  "kernelspec": {
   "display_name": "Python 3",
   "language": "python",
   "name": "python3"
  },
  "language_info": {
   "codemirror_mode": {
    "name": "ipython",
    "version": 3
   },
   "file_extension": ".py",
   "mimetype": "text/x-python",
   "name": "python",
   "nbconvert_exporter": "python",
   "pygments_lexer": "ipython3",
   "version": "3.7.6"
  }
 },
 "nbformat": 4,
 "nbformat_minor": 4
}
