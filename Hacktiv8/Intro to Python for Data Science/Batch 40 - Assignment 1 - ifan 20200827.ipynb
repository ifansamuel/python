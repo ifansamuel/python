{
 "cells": [
  {
   "cell_type": "code",
   "execution_count": 6,
   "metadata": {},
   "outputs": [],
   "source": [
    "def konvert_suhu(str):\n",
    "    tipe = str[len(str)-1]\n",
    "    suhu = int(str[0:len(str)-1])\n",
    "    if tipe.upper() == 'C':\n",
    "        retval = 4/5*suhu\n",
    "        return retval,'R'\n",
    "    elif tipe.upper() == 'R':\n",
    "        retval = 5/4*suhu\n",
    "        return retval,'C'\n",
    "    else:\n",
    "        retval = 0\n",
    "        return'tipe suhu salah'"
   ]
  },
  {
   "cell_type": "code",
   "execution_count": 8,
   "metadata": {},
   "outputs": [],
   "source": [
    "#After feedback\n",
    "def konvert_suhu2(str):\n",
    "    tipe = str[-1]\n",
    "    suhu = int(str[:-1])\n",
    "    if tipe.upper() == 'C':\n",
    "        retval = 4/5*suhu\n",
    "        return retval,'R'\n",
    "    elif tipe.upper() == 'R':\n",
    "        retval = 5/4*suhu\n",
    "        return retval,'C'\n",
    "    else:\n",
    "        retval = 0\n",
    "        return 'tipe suhu salah'"
   ]
  },
  {
   "cell_type": "code",
   "execution_count": 7,
   "metadata": {},
   "outputs": [
    {
     "data": {
      "text/plain": [
       "(28.0, 'R')"
      ]
     },
     "execution_count": 7,
     "metadata": {},
     "output_type": "execute_result"
    }
   ],
   "source": [
    "konvert_suhu('35C')"
   ]
  },
  {
   "cell_type": "code",
   "execution_count": 9,
   "metadata": {},
   "outputs": [
    {
     "data": {
      "text/plain": [
       "(35.0, 'C')"
      ]
     },
     "execution_count": 9,
     "metadata": {},
     "output_type": "execute_result"
    }
   ],
   "source": [
    "konvert_suhu('28R')"
   ]
  },
  {
   "cell_type": "code",
   "execution_count": 10,
   "metadata": {},
   "outputs": [
    {
     "data": {
      "text/plain": [
       "(28.0, 'R')"
      ]
     },
     "execution_count": 10,
     "metadata": {},
     "output_type": "execute_result"
    }
   ],
   "source": [
    "konvert_suhu2('35C')"
   ]
  },
  {
   "cell_type": "code",
   "execution_count": 11,
   "metadata": {},
   "outputs": [
    {
     "data": {
      "text/plain": [
       "(35.0, 'C')"
      ]
     },
     "execution_count": 11,
     "metadata": {},
     "output_type": "execute_result"
    }
   ],
   "source": [
    "konvert_suhu2('28R')"
   ]
  },
  {
   "cell_type": "code",
   "execution_count": null,
   "metadata": {},
   "outputs": [],
   "source": []
  }
 ],
 "metadata": {
  "kernelspec": {
   "display_name": "Python 3",
   "language": "python",
   "name": "python3"
  },
  "language_info": {
   "codemirror_mode": {
    "name": "ipython",
    "version": 3
   },
   "file_extension": ".py",
   "mimetype": "text/x-python",
   "name": "python",
   "nbconvert_exporter": "python",
   "pygments_lexer": "ipython3",
   "version": "3.8.3"
  }
 },
 "nbformat": 4,
 "nbformat_minor": 4
}
