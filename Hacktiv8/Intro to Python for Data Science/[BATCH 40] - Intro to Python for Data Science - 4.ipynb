{
 "cells": [
  {
   "cell_type": "markdown",
   "metadata": {},
   "source": [
    "## Tambahan"
   ]
  },
  {
   "cell_type": "markdown",
   "metadata": {},
   "source": [
    "input() --> menerima input dr user"
   ]
  },
  {
   "cell_type": "code",
   "execution_count": 5,
   "metadata": {},
   "outputs": [
    {
     "name": "stdout",
     "output_type": "stream",
     "text": [
      "Masukan angka ke-1....50\n",
      "Masukan angka ke-2....20\n",
      "50\n",
      "20\n"
     ]
    }
   ],
   "source": [
    "parameter1 = input('Masukan angka ke-1....')\n",
    "parameter2 = input('Masukan angka ke-2....')\n",
    "\n",
    "print(parameter1)\n",
    "print(parameter2)"
   ]
  },
  {
   "cell_type": "code",
   "execution_count": 11,
   "metadata": {},
   "outputs": [
    {
     "name": "stdout",
     "output_type": "stream",
     "text": [
      "Masukan kalimat....aku adalah anak gembala\n"
     ]
    },
    {
     "data": {
      "text/plain": [
       "'adalah'"
      ]
     },
     "execution_count": 11,
     "metadata": {},
     "output_type": "execute_result"
    }
   ],
   "source": [
    "kalimat = input('Masukan kalimat....')\n",
    "parameter = kalimat.split()\n",
    "\n",
    "parameter[0]\n",
    "parameter[1]"
   ]
  },
  {
   "cell_type": "markdown",
   "metadata": {},
   "source": [
    "type() --> mengecek tipe data dari sebuah variabel"
   ]
  },
  {
   "cell_type": "code",
   "execution_count": 4,
   "metadata": {},
   "outputs": [
    {
     "name": "stdout",
     "output_type": "stream",
     "text": [
      "Masukan angka....50\n",
      "<class 'str'>\n"
     ]
    }
   ],
   "source": [
    "parameter2 = input('Masukan angka....')\n",
    "\n",
    "print(type(parameter2))"
   ]
  },
  {
   "cell_type": "markdown",
   "metadata": {},
   "source": [
    "## Pandas"
   ]
  },
  {
   "cell_type": "markdown",
   "metadata": {},
   "source": [
    "- Series and dataframe\n",
    "- Create dataframe\n",
    "- Select dataframe\n",
    "- Filter dataframe\n",
    "- Manipulate dataframe\n",
    "  - Add column\n",
    "  - Remove column\n",
    "- Describe and info"
   ]
  },
  {
   "cell_type": "code",
   "execution_count": 22,
   "metadata": {},
   "outputs": [],
   "source": [
    "import pandas as pd\n",
    "import numpy as np"
   ]
  },
  {
   "cell_type": "code",
   "execution_count": null,
   "metadata": {},
   "outputs": [],
   "source": [
    "http://bit.ly/dwp-data-ojol"
   ]
  },
  {
   "cell_type": "code",
   "execution_count": 14,
   "metadata": {},
   "outputs": [
    {
     "data": {
      "text/html": [
       "<div>\n",
       "<style scoped>\n",
       "    .dataframe tbody tr th:only-of-type {\n",
       "        vertical-align: middle;\n",
       "    }\n",
       "\n",
       "    .dataframe tbody tr th {\n",
       "        vertical-align: top;\n",
       "    }\n",
       "\n",
       "    .dataframe thead th {\n",
       "        text-align: right;\n",
       "    }\n",
       "</style>\n",
       "<table border=\"1\" class=\"dataframe\">\n",
       "  <thead>\n",
       "    <tr style=\"text-align: right;\">\n",
       "      <th></th>\n",
       "      <th>Customer</th>\n",
       "      <th>Origin</th>\n",
       "      <th>Destination</th>\n",
       "      <th>Distance</th>\n",
       "      <th>Price</th>\n",
       "    </tr>\n",
       "  </thead>\n",
       "  <tbody>\n",
       "    <tr>\n",
       "      <th>0</th>\n",
       "      <td>tom</td>\n",
       "      <td>Tebet</td>\n",
       "      <td>Gondangdia</td>\n",
       "      <td>4.5</td>\n",
       "      <td>20000</td>\n",
       "    </tr>\n",
       "    <tr>\n",
       "      <th>1</th>\n",
       "      <td>nick</td>\n",
       "      <td>Gondangdia</td>\n",
       "      <td>Mampang</td>\n",
       "      <td>5.0</td>\n",
       "      <td>23000</td>\n",
       "    </tr>\n",
       "    <tr>\n",
       "      <th>2</th>\n",
       "      <td>krish</td>\n",
       "      <td>Mampang</td>\n",
       "      <td>SCBD</td>\n",
       "      <td>3.0</td>\n",
       "      <td>14000</td>\n",
       "    </tr>\n",
       "    <tr>\n",
       "      <th>3</th>\n",
       "      <td>jack</td>\n",
       "      <td>SCBD</td>\n",
       "      <td>Kuningan</td>\n",
       "      <td>4.8</td>\n",
       "      <td>24500</td>\n",
       "    </tr>\n",
       "    <tr>\n",
       "      <th>4</th>\n",
       "      <td>jack</td>\n",
       "      <td>SCBD</td>\n",
       "      <td>Pancoran</td>\n",
       "      <td>2.2</td>\n",
       "      <td>7000</td>\n",
       "    </tr>\n",
       "    <tr>\n",
       "      <th>5</th>\n",
       "      <td>tom</td>\n",
       "      <td>Kuningan</td>\n",
       "      <td>Pancoran</td>\n",
       "      <td>4.7</td>\n",
       "      <td>20000</td>\n",
       "    </tr>\n",
       "    <tr>\n",
       "      <th>6</th>\n",
       "      <td>jack</td>\n",
       "      <td>Pancoran</td>\n",
       "      <td>Mampang</td>\n",
       "      <td>3.4</td>\n",
       "      <td>15000</td>\n",
       "    </tr>\n",
       "    <tr>\n",
       "      <th>7</th>\n",
       "      <td>krish</td>\n",
       "      <td>Tebet</td>\n",
       "      <td>SCBD</td>\n",
       "      <td>4.0</td>\n",
       "      <td>18500</td>\n",
       "    </tr>\n",
       "    <tr>\n",
       "      <th>8</th>\n",
       "      <td>nick</td>\n",
       "      <td>Mampang</td>\n",
       "      <td>SCBD</td>\n",
       "      <td>2.2</td>\n",
       "      <td>9000</td>\n",
       "    </tr>\n",
       "    <tr>\n",
       "      <th>9</th>\n",
       "      <td>nick</td>\n",
       "      <td>Tebet</td>\n",
       "      <td>Kuningan</td>\n",
       "      <td>2.9</td>\n",
       "      <td>11000</td>\n",
       "    </tr>\n",
       "  </tbody>\n",
       "</table>\n",
       "</div>"
      ],
      "text/plain": [
       "  Customer      Origin Destination  Distance  Price\n",
       "0      tom       Tebet  Gondangdia       4.5  20000\n",
       "1     nick  Gondangdia     Mampang       5.0  23000\n",
       "2    krish     Mampang        SCBD       3.0  14000\n",
       "3     jack        SCBD    Kuningan       4.8  24500\n",
       "4     jack        SCBD    Pancoran       2.2   7000\n",
       "5      tom    Kuningan    Pancoran       4.7  20000\n",
       "6     jack    Pancoran     Mampang       3.4  15000\n",
       "7    krish       Tebet        SCBD       4.0  18500\n",
       "8     nick     Mampang        SCBD       2.2   9000\n",
       "9     nick       Tebet    Kuningan       2.9  11000"
      ]
     },
     "execution_count": 14,
     "metadata": {},
     "output_type": "execute_result"
    }
   ],
   "source": [
    "data_ojol = {'Customer':['tom', 'nick', 'krish', 'jack', 'jack', 'tom', 'jack', 'krish', 'nick', 'nick'],\n",
    "          'Origin':['Tebet', 'Gondangdia', 'Mampang', 'SCBD', 'SCBD', 'Kuningan', 'Pancoran', 'Tebet', 'Mampang', 'Tebet'],\n",
    "          'Destination':['Gondangdia', 'Mampang', 'SCBD', 'Kuningan', 'Pancoran', 'Pancoran', 'Mampang', 'SCBD', 'SCBD', 'Kuningan'],\n",
    "          'Distance': [4.5, 5.0, 3.0, 4.8, 2.2, 4.7, 3.4, 4.0, 2.2, 2.9],\n",
    "          'Price': [20000, 23000, 14000, 24500, 7000, 20000, 15000, 18500, 9000, 11000]}\n",
    "          \n",
    "data_ojol = pd.DataFrame(data_ojol)\n",
    "\n",
    "data_ojol"
   ]
  },
  {
   "cell_type": "markdown",
   "metadata": {},
   "source": [
    "### DataFrame function"
   ]
  },
  {
   "cell_type": "markdown",
   "metadata": {},
   "source": [
    ".head() --> mengambil n rows paling atas (default n = 5)"
   ]
  },
  {
   "cell_type": "code",
   "execution_count": 85,
   "metadata": {},
   "outputs": [
    {
     "data": {
      "text/html": [
       "<div>\n",
       "<style scoped>\n",
       "    .dataframe tbody tr th:only-of-type {\n",
       "        vertical-align: middle;\n",
       "    }\n",
       "\n",
       "    .dataframe tbody tr th {\n",
       "        vertical-align: top;\n",
       "    }\n",
       "\n",
       "    .dataframe thead th {\n",
       "        text-align: right;\n",
       "    }\n",
       "</style>\n",
       "<table border=\"1\" class=\"dataframe\">\n",
       "  <thead>\n",
       "    <tr style=\"text-align: right;\">\n",
       "      <th></th>\n",
       "      <th>Customer</th>\n",
       "      <th>Origin</th>\n",
       "      <th>Destination</th>\n",
       "      <th>Distance</th>\n",
       "      <th>Price</th>\n",
       "    </tr>\n",
       "  </thead>\n",
       "  <tbody>\n",
       "    <tr>\n",
       "      <th>0</th>\n",
       "      <td>tom</td>\n",
       "      <td>Tebet</td>\n",
       "      <td>Gondangdia</td>\n",
       "      <td>4.5</td>\n",
       "      <td>20000</td>\n",
       "    </tr>\n",
       "  </tbody>\n",
       "</table>\n",
       "</div>"
      ],
      "text/plain": [
       "  Customer Origin Destination  Distance  Price\n",
       "0      tom  Tebet  Gondangdia       4.5  20000"
      ]
     },
     "execution_count": 85,
     "metadata": {},
     "output_type": "execute_result"
    }
   ],
   "source": [
    "data_ojol.head(1)"
   ]
  },
  {
   "cell_type": "markdown",
   "metadata": {},
   "source": [
    ".tail() --> mengambil n rows paling bawah (default n = 5)"
   ]
  },
  {
   "cell_type": "code",
   "execution_count": 87,
   "metadata": {},
   "outputs": [
    {
     "data": {
      "text/html": [
       "<div>\n",
       "<style scoped>\n",
       "    .dataframe tbody tr th:only-of-type {\n",
       "        vertical-align: middle;\n",
       "    }\n",
       "\n",
       "    .dataframe tbody tr th {\n",
       "        vertical-align: top;\n",
       "    }\n",
       "\n",
       "    .dataframe thead th {\n",
       "        text-align: right;\n",
       "    }\n",
       "</style>\n",
       "<table border=\"1\" class=\"dataframe\">\n",
       "  <thead>\n",
       "    <tr style=\"text-align: right;\">\n",
       "      <th></th>\n",
       "      <th>Customer</th>\n",
       "      <th>Origin</th>\n",
       "      <th>Destination</th>\n",
       "      <th>Distance</th>\n",
       "      <th>Price</th>\n",
       "    </tr>\n",
       "  </thead>\n",
       "  <tbody>\n",
       "    <tr>\n",
       "      <th>8</th>\n",
       "      <td>nick</td>\n",
       "      <td>Mampang</td>\n",
       "      <td>SCBD</td>\n",
       "      <td>2.2</td>\n",
       "      <td>9000</td>\n",
       "    </tr>\n",
       "    <tr>\n",
       "      <th>9</th>\n",
       "      <td>nick</td>\n",
       "      <td>Tebet</td>\n",
       "      <td>Kuningan</td>\n",
       "      <td>2.9</td>\n",
       "      <td>11000</td>\n",
       "    </tr>\n",
       "  </tbody>\n",
       "</table>\n",
       "</div>"
      ],
      "text/plain": [
       "  Customer   Origin Destination  Distance  Price\n",
       "8     nick  Mampang        SCBD       2.2   9000\n",
       "9     nick    Tebet    Kuningan       2.9  11000"
      ]
     },
     "execution_count": 87,
     "metadata": {},
     "output_type": "execute_result"
    }
   ],
   "source": [
    "data_ojol.tail(2)"
   ]
  },
  {
   "cell_type": "markdown",
   "metadata": {},
   "source": [
    "### Series function"
   ]
  },
  {
   "cell_type": "markdown",
   "metadata": {},
   "source": [
    ".unique() --> untuk melihat nilai unik pada Series"
   ]
  },
  {
   "cell_type": "code",
   "execution_count": 36,
   "metadata": {},
   "outputs": [
    {
     "data": {
      "text/plain": [
       "['Tebet', 'Gondangdia', 'Mampang', 'SCBD', 'Kuningan', 'Pancoran']"
      ]
     },
     "execution_count": 36,
     "metadata": {},
     "output_type": "execute_result"
    }
   ],
   "source": [
    "list(data_ojol['Origin'].unique())"
   ]
  },
  {
   "cell_type": "markdown",
   "metadata": {},
   "source": [
    ".mean() --> mencari nilai rata-rata"
   ]
  },
  {
   "cell_type": "code",
   "execution_count": 89,
   "metadata": {},
   "outputs": [
    {
     "data": {
      "text/plain": [
       "3.6700000000000004"
      ]
     },
     "execution_count": 89,
     "metadata": {},
     "output_type": "execute_result"
    }
   ],
   "source": [
    "data_ojol['Distance'].mean()"
   ]
  },
  {
   "cell_type": "markdown",
   "metadata": {},
   "source": [
    ".median() --> mencari nilai tengah"
   ]
  },
  {
   "cell_type": "code",
   "execution_count": 39,
   "metadata": {},
   "outputs": [
    {
     "data": {
      "text/plain": [
       "3.7"
      ]
     },
     "execution_count": 39,
     "metadata": {},
     "output_type": "execute_result"
    }
   ],
   "source": [
    "data_ojol['Distance'].median()"
   ]
  },
  {
   "cell_type": "markdown",
   "metadata": {},
   "source": [
    ".mode() --> mencari nilai yang paling banyak muncul"
   ]
  },
  {
   "cell_type": "code",
   "execution_count": 40,
   "metadata": {},
   "outputs": [
    {
     "data": {
      "text/plain": [
       "0    2.2\n",
       "dtype: float64"
      ]
     },
     "execution_count": 40,
     "metadata": {},
     "output_type": "execute_result"
    }
   ],
   "source": [
    "data_ojol['Distance'].mode()"
   ]
  },
  {
   "cell_type": "markdown",
   "metadata": {},
   "source": [
    "### Aggregate DataFrame"
   ]
  },
  {
   "cell_type": "markdown",
   "metadata": {},
   "source": [
    ".groupby()\n",
    "\n",
    "- sum\n",
    "- count\n",
    "- min\n",
    "- max\n",
    "- mean\n",
    "- median\n",
    "- mode"
   ]
  },
  {
   "cell_type": "code",
   "execution_count": 45,
   "metadata": {},
   "outputs": [
    {
     "data": {
      "text/html": [
       "<div>\n",
       "<style scoped>\n",
       "    .dataframe tbody tr th:only-of-type {\n",
       "        vertical-align: middle;\n",
       "    }\n",
       "\n",
       "    .dataframe tbody tr th {\n",
       "        vertical-align: top;\n",
       "    }\n",
       "\n",
       "    .dataframe thead th {\n",
       "        text-align: right;\n",
       "    }\n",
       "</style>\n",
       "<table border=\"1\" class=\"dataframe\">\n",
       "  <thead>\n",
       "    <tr style=\"text-align: right;\">\n",
       "      <th></th>\n",
       "      <th>Customer</th>\n",
       "      <th>Origin</th>\n",
       "      <th>Destination</th>\n",
       "      <th>Distance</th>\n",
       "      <th>Price</th>\n",
       "    </tr>\n",
       "  </thead>\n",
       "  <tbody>\n",
       "    <tr>\n",
       "      <th>0</th>\n",
       "      <td>tom</td>\n",
       "      <td>Tebet</td>\n",
       "      <td>Gondangdia</td>\n",
       "      <td>4.5</td>\n",
       "      <td>20000</td>\n",
       "    </tr>\n",
       "    <tr>\n",
       "      <th>1</th>\n",
       "      <td>nick</td>\n",
       "      <td>Gondangdia</td>\n",
       "      <td>Mampang</td>\n",
       "      <td>5.0</td>\n",
       "      <td>23000</td>\n",
       "    </tr>\n",
       "    <tr>\n",
       "      <th>2</th>\n",
       "      <td>krish</td>\n",
       "      <td>Mampang</td>\n",
       "      <td>SCBD</td>\n",
       "      <td>3.0</td>\n",
       "      <td>14000</td>\n",
       "    </tr>\n",
       "    <tr>\n",
       "      <th>3</th>\n",
       "      <td>jack</td>\n",
       "      <td>SCBD</td>\n",
       "      <td>Kuningan</td>\n",
       "      <td>4.8</td>\n",
       "      <td>24500</td>\n",
       "    </tr>\n",
       "    <tr>\n",
       "      <th>4</th>\n",
       "      <td>jack</td>\n",
       "      <td>SCBD</td>\n",
       "      <td>Pancoran</td>\n",
       "      <td>2.2</td>\n",
       "      <td>7000</td>\n",
       "    </tr>\n",
       "    <tr>\n",
       "      <th>5</th>\n",
       "      <td>tom</td>\n",
       "      <td>Kuningan</td>\n",
       "      <td>Pancoran</td>\n",
       "      <td>4.7</td>\n",
       "      <td>20000</td>\n",
       "    </tr>\n",
       "    <tr>\n",
       "      <th>6</th>\n",
       "      <td>jack</td>\n",
       "      <td>Pancoran</td>\n",
       "      <td>Mampang</td>\n",
       "      <td>3.4</td>\n",
       "      <td>15000</td>\n",
       "    </tr>\n",
       "    <tr>\n",
       "      <th>7</th>\n",
       "      <td>krish</td>\n",
       "      <td>Tebet</td>\n",
       "      <td>SCBD</td>\n",
       "      <td>4.0</td>\n",
       "      <td>18500</td>\n",
       "    </tr>\n",
       "    <tr>\n",
       "      <th>8</th>\n",
       "      <td>nick</td>\n",
       "      <td>Mampang</td>\n",
       "      <td>SCBD</td>\n",
       "      <td>2.2</td>\n",
       "      <td>9000</td>\n",
       "    </tr>\n",
       "    <tr>\n",
       "      <th>9</th>\n",
       "      <td>nick</td>\n",
       "      <td>Tebet</td>\n",
       "      <td>Kuningan</td>\n",
       "      <td>2.9</td>\n",
       "      <td>11000</td>\n",
       "    </tr>\n",
       "  </tbody>\n",
       "</table>\n",
       "</div>"
      ],
      "text/plain": [
       "  Customer      Origin Destination  Distance  Price\n",
       "0      tom       Tebet  Gondangdia       4.5  20000\n",
       "1     nick  Gondangdia     Mampang       5.0  23000\n",
       "2    krish     Mampang        SCBD       3.0  14000\n",
       "3     jack        SCBD    Kuningan       4.8  24500\n",
       "4     jack        SCBD    Pancoran       2.2   7000\n",
       "5      tom    Kuningan    Pancoran       4.7  20000\n",
       "6     jack    Pancoran     Mampang       3.4  15000\n",
       "7    krish       Tebet        SCBD       4.0  18500\n",
       "8     nick     Mampang        SCBD       2.2   9000\n",
       "9     nick       Tebet    Kuningan       2.9  11000"
      ]
     },
     "execution_count": 45,
     "metadata": {},
     "output_type": "execute_result"
    }
   ],
   "source": [
    "data_ojol"
   ]
  },
  {
   "cell_type": "code",
   "execution_count": 51,
   "metadata": {},
   "outputs": [
    {
     "data": {
      "text/html": [
       "<div>\n",
       "<style scoped>\n",
       "    .dataframe tbody tr th:only-of-type {\n",
       "        vertical-align: middle;\n",
       "    }\n",
       "\n",
       "    .dataframe tbody tr th {\n",
       "        vertical-align: top;\n",
       "    }\n",
       "\n",
       "    .dataframe thead th {\n",
       "        text-align: right;\n",
       "    }\n",
       "</style>\n",
       "<table border=\"1\" class=\"dataframe\">\n",
       "  <thead>\n",
       "    <tr style=\"text-align: right;\">\n",
       "      <th></th>\n",
       "      <th>Customer</th>\n",
       "      <th>Distance</th>\n",
       "    </tr>\n",
       "  </thead>\n",
       "  <tbody>\n",
       "    <tr>\n",
       "      <th>0</th>\n",
       "      <td>jack</td>\n",
       "      <td>10.4</td>\n",
       "    </tr>\n",
       "    <tr>\n",
       "      <th>1</th>\n",
       "      <td>krish</td>\n",
       "      <td>7.0</td>\n",
       "    </tr>\n",
       "    <tr>\n",
       "      <th>2</th>\n",
       "      <td>nick</td>\n",
       "      <td>10.1</td>\n",
       "    </tr>\n",
       "    <tr>\n",
       "      <th>3</th>\n",
       "      <td>tom</td>\n",
       "      <td>9.2</td>\n",
       "    </tr>\n",
       "  </tbody>\n",
       "</table>\n",
       "</div>"
      ],
      "text/plain": [
       "  Customer  Distance\n",
       "0     jack      10.4\n",
       "1    krish       7.0\n",
       "2     nick      10.1\n",
       "3      tom       9.2"
      ]
     },
     "execution_count": 51,
     "metadata": {},
     "output_type": "execute_result"
    }
   ],
   "source": [
    "data_ojol.groupby('Customer', as_index=False)['Distance'].sum()"
   ]
  },
  {
   "cell_type": "code",
   "execution_count": 55,
   "metadata": {},
   "outputs": [
    {
     "data": {
      "text/html": [
       "<div>\n",
       "<style scoped>\n",
       "    .dataframe tbody tr th:only-of-type {\n",
       "        vertical-align: middle;\n",
       "    }\n",
       "\n",
       "    .dataframe tbody tr th {\n",
       "        vertical-align: top;\n",
       "    }\n",
       "\n",
       "    .dataframe thead th {\n",
       "        text-align: right;\n",
       "    }\n",
       "</style>\n",
       "<table border=\"1\" class=\"dataframe\">\n",
       "  <thead>\n",
       "    <tr style=\"text-align: right;\">\n",
       "      <th></th>\n",
       "      <th>Customer</th>\n",
       "      <th>Distance</th>\n",
       "    </tr>\n",
       "  </thead>\n",
       "  <tbody>\n",
       "    <tr>\n",
       "      <th>0</th>\n",
       "      <td>jack</td>\n",
       "      <td>3</td>\n",
       "    </tr>\n",
       "    <tr>\n",
       "      <th>1</th>\n",
       "      <td>krish</td>\n",
       "      <td>2</td>\n",
       "    </tr>\n",
       "    <tr>\n",
       "      <th>2</th>\n",
       "      <td>nick</td>\n",
       "      <td>3</td>\n",
       "    </tr>\n",
       "    <tr>\n",
       "      <th>3</th>\n",
       "      <td>tom</td>\n",
       "      <td>2</td>\n",
       "    </tr>\n",
       "  </tbody>\n",
       "</table>\n",
       "</div>"
      ],
      "text/plain": [
       "  Customer  Distance\n",
       "0     jack         3\n",
       "1    krish         2\n",
       "2     nick         3\n",
       "3      tom         2"
      ]
     },
     "execution_count": 55,
     "metadata": {},
     "output_type": "execute_result"
    }
   ],
   "source": [
    "data_ojol.groupby('Customer', as_index=False)['Distance'].count()"
   ]
  },
  {
   "cell_type": "code",
   "execution_count": 69,
   "metadata": {},
   "outputs": [
    {
     "data": {
      "text/html": [
       "<div>\n",
       "<style scoped>\n",
       "    .dataframe tbody tr th:only-of-type {\n",
       "        vertical-align: middle;\n",
       "    }\n",
       "\n",
       "    .dataframe tbody tr th {\n",
       "        vertical-align: top;\n",
       "    }\n",
       "\n",
       "    .dataframe thead th {\n",
       "        text-align: right;\n",
       "    }\n",
       "</style>\n",
       "<table border=\"1\" class=\"dataframe\">\n",
       "  <thead>\n",
       "    <tr style=\"text-align: right;\">\n",
       "      <th></th>\n",
       "      <th>Origin</th>\n",
       "      <th>Destination</th>\n",
       "      <th>Price</th>\n",
       "    </tr>\n",
       "  </thead>\n",
       "  <tbody>\n",
       "    <tr>\n",
       "      <th>0</th>\n",
       "      <td>Gondangdia</td>\n",
       "      <td>Mampang</td>\n",
       "      <td>23000</td>\n",
       "    </tr>\n",
       "    <tr>\n",
       "      <th>1</th>\n",
       "      <td>Kuningan</td>\n",
       "      <td>Pancoran</td>\n",
       "      <td>20000</td>\n",
       "    </tr>\n",
       "    <tr>\n",
       "      <th>2</th>\n",
       "      <td>Mampang</td>\n",
       "      <td>SCBD</td>\n",
       "      <td>23000</td>\n",
       "    </tr>\n",
       "    <tr>\n",
       "      <th>3</th>\n",
       "      <td>Pancoran</td>\n",
       "      <td>Mampang</td>\n",
       "      <td>15000</td>\n",
       "    </tr>\n",
       "    <tr>\n",
       "      <th>4</th>\n",
       "      <td>SCBD</td>\n",
       "      <td>Kuningan</td>\n",
       "      <td>24500</td>\n",
       "    </tr>\n",
       "    <tr>\n",
       "      <th>5</th>\n",
       "      <td>SCBD</td>\n",
       "      <td>Pancoran</td>\n",
       "      <td>7000</td>\n",
       "    </tr>\n",
       "    <tr>\n",
       "      <th>6</th>\n",
       "      <td>Tebet</td>\n",
       "      <td>Gondangdia</td>\n",
       "      <td>20000</td>\n",
       "    </tr>\n",
       "    <tr>\n",
       "      <th>7</th>\n",
       "      <td>Tebet</td>\n",
       "      <td>Kuningan</td>\n",
       "      <td>11000</td>\n",
       "    </tr>\n",
       "    <tr>\n",
       "      <th>8</th>\n",
       "      <td>Tebet</td>\n",
       "      <td>SCBD</td>\n",
       "      <td>18500</td>\n",
       "    </tr>\n",
       "  </tbody>\n",
       "</table>\n",
       "</div>"
      ],
      "text/plain": [
       "       Origin Destination  Price\n",
       "0  Gondangdia     Mampang  23000\n",
       "1    Kuningan    Pancoran  20000\n",
       "2     Mampang        SCBD  23000\n",
       "3    Pancoran     Mampang  15000\n",
       "4        SCBD    Kuningan  24500\n",
       "5        SCBD    Pancoran   7000\n",
       "6       Tebet  Gondangdia  20000\n",
       "7       Tebet    Kuningan  11000\n",
       "8       Tebet        SCBD  18500"
      ]
     },
     "execution_count": 69,
     "metadata": {},
     "output_type": "execute_result"
    }
   ],
   "source": [
    "data_ojol.groupby(['Origin', 'Destination'], as_index=False)['Price'].sum()"
   ]
  },
  {
   "cell_type": "code",
   "execution_count": 93,
   "metadata": {},
   "outputs": [
    {
     "data": {
      "text/html": [
       "<div>\n",
       "<style scoped>\n",
       "    .dataframe tbody tr th:only-of-type {\n",
       "        vertical-align: middle;\n",
       "    }\n",
       "\n",
       "    .dataframe tbody tr th {\n",
       "        vertical-align: top;\n",
       "    }\n",
       "\n",
       "    .dataframe thead tr th {\n",
       "        text-align: left;\n",
       "    }\n",
       "</style>\n",
       "<table border=\"1\" class=\"dataframe\">\n",
       "  <thead>\n",
       "    <tr>\n",
       "      <th></th>\n",
       "      <th>Customer</th>\n",
       "      <th colspan=\"2\" halign=\"left\">Distance</th>\n",
       "    </tr>\n",
       "    <tr>\n",
       "      <th></th>\n",
       "      <th></th>\n",
       "      <th>sum</th>\n",
       "      <th>count</th>\n",
       "    </tr>\n",
       "  </thead>\n",
       "  <tbody>\n",
       "    <tr>\n",
       "      <th>0</th>\n",
       "      <td>jack</td>\n",
       "      <td>10.4</td>\n",
       "      <td>3</td>\n",
       "    </tr>\n",
       "    <tr>\n",
       "      <th>1</th>\n",
       "      <td>krish</td>\n",
       "      <td>7.0</td>\n",
       "      <td>2</td>\n",
       "    </tr>\n",
       "    <tr>\n",
       "      <th>2</th>\n",
       "      <td>nick</td>\n",
       "      <td>10.1</td>\n",
       "      <td>3</td>\n",
       "    </tr>\n",
       "    <tr>\n",
       "      <th>3</th>\n",
       "      <td>tom</td>\n",
       "      <td>9.2</td>\n",
       "      <td>2</td>\n",
       "    </tr>\n",
       "  </tbody>\n",
       "</table>\n",
       "</div>"
      ],
      "text/plain": [
       "  Customer Distance      \n",
       "                sum count\n",
       "0     jack     10.4     3\n",
       "1    krish      7.0     2\n",
       "2     nick     10.1     3\n",
       "3      tom      9.2     2"
      ]
     },
     "execution_count": 93,
     "metadata": {},
     "output_type": "execute_result"
    }
   ],
   "source": [
    "data_ojol.groupby('Customer', as_index=False) \\\n",
    "         .agg({'Distance': ['sum', 'count']})"
   ]
  },
  {
   "cell_type": "markdown",
   "metadata": {},
   "source": [
    "### Sort Values DataFrame"
   ]
  },
  {
   "cell_type": "code",
   "execution_count": 73,
   "metadata": {},
   "outputs": [
    {
     "data": {
      "text/html": [
       "<div>\n",
       "<style scoped>\n",
       "    .dataframe tbody tr th:only-of-type {\n",
       "        vertical-align: middle;\n",
       "    }\n",
       "\n",
       "    .dataframe tbody tr th {\n",
       "        vertical-align: top;\n",
       "    }\n",
       "\n",
       "    .dataframe thead th {\n",
       "        text-align: right;\n",
       "    }\n",
       "</style>\n",
       "<table border=\"1\" class=\"dataframe\">\n",
       "  <thead>\n",
       "    <tr style=\"text-align: right;\">\n",
       "      <th></th>\n",
       "      <th>Customer</th>\n",
       "      <th>Origin</th>\n",
       "      <th>Destination</th>\n",
       "      <th>Distance</th>\n",
       "      <th>Price</th>\n",
       "    </tr>\n",
       "  </thead>\n",
       "  <tbody>\n",
       "    <tr>\n",
       "      <th>1</th>\n",
       "      <td>nick</td>\n",
       "      <td>Gondangdia</td>\n",
       "      <td>Mampang</td>\n",
       "      <td>5.0</td>\n",
       "      <td>23000</td>\n",
       "    </tr>\n",
       "    <tr>\n",
       "      <th>3</th>\n",
       "      <td>jack</td>\n",
       "      <td>SCBD</td>\n",
       "      <td>Kuningan</td>\n",
       "      <td>4.8</td>\n",
       "      <td>24500</td>\n",
       "    </tr>\n",
       "    <tr>\n",
       "      <th>5</th>\n",
       "      <td>tom</td>\n",
       "      <td>Kuningan</td>\n",
       "      <td>Pancoran</td>\n",
       "      <td>4.7</td>\n",
       "      <td>20000</td>\n",
       "    </tr>\n",
       "    <tr>\n",
       "      <th>0</th>\n",
       "      <td>tom</td>\n",
       "      <td>Tebet</td>\n",
       "      <td>Gondangdia</td>\n",
       "      <td>4.5</td>\n",
       "      <td>20000</td>\n",
       "    </tr>\n",
       "    <tr>\n",
       "      <th>7</th>\n",
       "      <td>krish</td>\n",
       "      <td>Tebet</td>\n",
       "      <td>SCBD</td>\n",
       "      <td>4.0</td>\n",
       "      <td>18500</td>\n",
       "    </tr>\n",
       "    <tr>\n",
       "      <th>6</th>\n",
       "      <td>jack</td>\n",
       "      <td>Pancoran</td>\n",
       "      <td>Mampang</td>\n",
       "      <td>3.4</td>\n",
       "      <td>15000</td>\n",
       "    </tr>\n",
       "    <tr>\n",
       "      <th>2</th>\n",
       "      <td>krish</td>\n",
       "      <td>Mampang</td>\n",
       "      <td>SCBD</td>\n",
       "      <td>3.0</td>\n",
       "      <td>14000</td>\n",
       "    </tr>\n",
       "    <tr>\n",
       "      <th>9</th>\n",
       "      <td>nick</td>\n",
       "      <td>Tebet</td>\n",
       "      <td>Kuningan</td>\n",
       "      <td>2.9</td>\n",
       "      <td>11000</td>\n",
       "    </tr>\n",
       "    <tr>\n",
       "      <th>4</th>\n",
       "      <td>jack</td>\n",
       "      <td>SCBD</td>\n",
       "      <td>Pancoran</td>\n",
       "      <td>2.2</td>\n",
       "      <td>7000</td>\n",
       "    </tr>\n",
       "    <tr>\n",
       "      <th>8</th>\n",
       "      <td>nick</td>\n",
       "      <td>Mampang</td>\n",
       "      <td>SCBD</td>\n",
       "      <td>2.2</td>\n",
       "      <td>9000</td>\n",
       "    </tr>\n",
       "  </tbody>\n",
       "</table>\n",
       "</div>"
      ],
      "text/plain": [
       "  Customer      Origin Destination  Distance  Price\n",
       "1     nick  Gondangdia     Mampang       5.0  23000\n",
       "3     jack        SCBD    Kuningan       4.8  24500\n",
       "5      tom    Kuningan    Pancoran       4.7  20000\n",
       "0      tom       Tebet  Gondangdia       4.5  20000\n",
       "7    krish       Tebet        SCBD       4.0  18500\n",
       "6     jack    Pancoran     Mampang       3.4  15000\n",
       "2    krish     Mampang        SCBD       3.0  14000\n",
       "9     nick       Tebet    Kuningan       2.9  11000\n",
       "4     jack        SCBD    Pancoran       2.2   7000\n",
       "8     nick     Mampang        SCBD       2.2   9000"
      ]
     },
     "execution_count": 73,
     "metadata": {},
     "output_type": "execute_result"
    }
   ],
   "source": [
    "data_ojol.sort_values('Distance', ascending=False)"
   ]
  },
  {
   "cell_type": "code",
   "execution_count": 81,
   "metadata": {},
   "outputs": [
    {
     "data": {
      "text/html": [
       "<div>\n",
       "<style scoped>\n",
       "    .dataframe tbody tr th:only-of-type {\n",
       "        vertical-align: middle;\n",
       "    }\n",
       "\n",
       "    .dataframe tbody tr th {\n",
       "        vertical-align: top;\n",
       "    }\n",
       "\n",
       "    .dataframe thead th {\n",
       "        text-align: right;\n",
       "    }\n",
       "</style>\n",
       "<table border=\"1\" class=\"dataframe\">\n",
       "  <thead>\n",
       "    <tr style=\"text-align: right;\">\n",
       "      <th></th>\n",
       "      <th>Customer</th>\n",
       "      <th>Distance</th>\n",
       "    </tr>\n",
       "  </thead>\n",
       "  <tbody>\n",
       "    <tr>\n",
       "      <th>0</th>\n",
       "      <td>jack</td>\n",
       "      <td>10.4</td>\n",
       "    </tr>\n",
       "    <tr>\n",
       "      <th>2</th>\n",
       "      <td>nick</td>\n",
       "      <td>10.1</td>\n",
       "    </tr>\n",
       "    <tr>\n",
       "      <th>3</th>\n",
       "      <td>tom</td>\n",
       "      <td>9.2</td>\n",
       "    </tr>\n",
       "    <tr>\n",
       "      <th>1</th>\n",
       "      <td>krish</td>\n",
       "      <td>7.0</td>\n",
       "    </tr>\n",
       "  </tbody>\n",
       "</table>\n",
       "</div>"
      ],
      "text/plain": [
       "  Customer  Distance\n",
       "0     jack      10.4\n",
       "2     nick      10.1\n",
       "3      tom       9.2\n",
       "1    krish       7.0"
      ]
     },
     "execution_count": 81,
     "metadata": {},
     "output_type": "execute_result"
    }
   ],
   "source": [
    "# Mencari total distance tiap customer\n",
    "# Sorting berdasarkan distance paling tinggi\n",
    "\n",
    "data_ojol.groupby('Customer', as_index=False)['Distance'].sum() \\\n",
    "         .sort_values('Distance', ascending=False)"
   ]
  },
  {
   "cell_type": "markdown",
   "metadata": {},
   "source": [
    "### Import data"
   ]
  },
  {
   "cell_type": "markdown",
   "metadata": {},
   "source": [
    "- .read_csv()\n",
    "- .read_excel()"
   ]
  },
  {
   "cell_type": "code",
   "execution_count": 90,
   "metadata": {},
   "outputs": [],
   "source": [
    "data_bike = pd.read_csv('http://bit.ly/dwp-data-bike')"
   ]
  },
  {
   "cell_type": "code",
   "execution_count": 94,
   "metadata": {},
   "outputs": [
    {
     "data": {
      "text/html": [
       "<div>\n",
       "<style scoped>\n",
       "    .dataframe tbody tr th:only-of-type {\n",
       "        vertical-align: middle;\n",
       "    }\n",
       "\n",
       "    .dataframe tbody tr th {\n",
       "        vertical-align: top;\n",
       "    }\n",
       "\n",
       "    .dataframe thead th {\n",
       "        text-align: right;\n",
       "    }\n",
       "</style>\n",
       "<table border=\"1\" class=\"dataframe\">\n",
       "  <thead>\n",
       "    <tr style=\"text-align: right;\">\n",
       "      <th></th>\n",
       "      <th>tripduration</th>\n",
       "      <th>starttime</th>\n",
       "      <th>stoptime</th>\n",
       "      <th>start station name</th>\n",
       "      <th>end station name</th>\n",
       "      <th>bikeid</th>\n",
       "      <th>usertype</th>\n",
       "      <th>birth year</th>\n",
       "      <th>gender</th>\n",
       "    </tr>\n",
       "  </thead>\n",
       "  <tbody>\n",
       "    <tr>\n",
       "      <th>0</th>\n",
       "      <td>261</td>\n",
       "      <td>2019-08-01 00:14:55.9900</td>\n",
       "      <td>2019-08-01 00:19:17.4780</td>\n",
       "      <td>JC Medical Center</td>\n",
       "      <td>Liberty Light Rail</td>\n",
       "      <td>26268</td>\n",
       "      <td>Subscriber</td>\n",
       "      <td>1980</td>\n",
       "      <td>1</td>\n",
       "    </tr>\n",
       "    <tr>\n",
       "      <th>1</th>\n",
       "      <td>172</td>\n",
       "      <td>2019-08-01 00:23:06.9910</td>\n",
       "      <td>2019-08-01 00:25:59.1480</td>\n",
       "      <td>Dixon Mills</td>\n",
       "      <td>Grove St PATH</td>\n",
       "      <td>26162</td>\n",
       "      <td>Subscriber</td>\n",
       "      <td>1996</td>\n",
       "      <td>1</td>\n",
       "    </tr>\n",
       "    <tr>\n",
       "      <th>2</th>\n",
       "      <td>525</td>\n",
       "      <td>2019-08-01 00:23:28.6170</td>\n",
       "      <td>2019-08-01 00:32:13.7000</td>\n",
       "      <td>Newport Pkwy</td>\n",
       "      <td>Hamilton Park</td>\n",
       "      <td>29279</td>\n",
       "      <td>Subscriber</td>\n",
       "      <td>1991</td>\n",
       "      <td>1</td>\n",
       "    </tr>\n",
       "    <tr>\n",
       "      <th>3</th>\n",
       "      <td>219</td>\n",
       "      <td>2019-08-01 00:32:36.1410</td>\n",
       "      <td>2019-08-01 00:36:15.2730</td>\n",
       "      <td>Warren St</td>\n",
       "      <td>City Hall</td>\n",
       "      <td>29598</td>\n",
       "      <td>Subscriber</td>\n",
       "      <td>1988</td>\n",
       "      <td>1</td>\n",
       "    </tr>\n",
       "    <tr>\n",
       "      <th>4</th>\n",
       "      <td>262</td>\n",
       "      <td>2019-08-01 00:41:26.6700</td>\n",
       "      <td>2019-08-01 00:45:49.3530</td>\n",
       "      <td>Grove St PATH</td>\n",
       "      <td>Jersey &amp; 3rd</td>\n",
       "      <td>26162</td>\n",
       "      <td>Subscriber</td>\n",
       "      <td>1960</td>\n",
       "      <td>1</td>\n",
       "    </tr>\n",
       "  </tbody>\n",
       "</table>\n",
       "</div>"
      ],
      "text/plain": [
       "   tripduration                 starttime                  stoptime  \\\n",
       "0           261  2019-08-01 00:14:55.9900  2019-08-01 00:19:17.4780   \n",
       "1           172  2019-08-01 00:23:06.9910  2019-08-01 00:25:59.1480   \n",
       "2           525  2019-08-01 00:23:28.6170  2019-08-01 00:32:13.7000   \n",
       "3           219  2019-08-01 00:32:36.1410  2019-08-01 00:36:15.2730   \n",
       "4           262  2019-08-01 00:41:26.6700  2019-08-01 00:45:49.3530   \n",
       "\n",
       "  start station name    end station name  bikeid    usertype  birth year  \\\n",
       "0  JC Medical Center  Liberty Light Rail   26268  Subscriber        1980   \n",
       "1        Dixon Mills       Grove St PATH   26162  Subscriber        1996   \n",
       "2       Newport Pkwy       Hamilton Park   29279  Subscriber        1991   \n",
       "3          Warren St           City Hall   29598  Subscriber        1988   \n",
       "4      Grove St PATH        Jersey & 3rd   26162  Subscriber        1960   \n",
       "\n",
       "   gender  \n",
       "0       1  \n",
       "1       1  \n",
       "2       1  \n",
       "3       1  \n",
       "4       1  "
      ]
     },
     "execution_count": 94,
     "metadata": {},
     "output_type": "execute_result"
    }
   ],
   "source": [
    "data_bike.head()"
   ]
  },
  {
   "cell_type": "markdown",
   "metadata": {},
   "source": [
    "## Analytics\n",
    "- Descriptive --> What is happening?\n",
    "- Predictive --> What will happen?\n",
    "- Prescriptive --> What can we do?"
   ]
  },
  {
   "cell_type": "markdown",
   "metadata": {},
   "source": [
    "## Data Analysis Process"
   ]
  },
  {
   "cell_type": "markdown",
   "metadata": {},
   "source": [
    "1. Question\n",
    "2. Wrangle\n",
    "    - Data Acquisition\n",
    "    - Data Cleaning\n",
    "    - Data Transformation\n",
    "3. Explore\n",
    "4. Conclusions\n",
    "5. Communicate"
   ]
  },
  {
   "cell_type": "markdown",
   "metadata": {},
   "source": [
    "### Wrangle"
   ]
  },
  {
   "cell_type": "code",
   "execution_count": 115,
   "metadata": {},
   "outputs": [],
   "source": [
    "# Data Acquisition\n",
    "data_bike = pd.read_csv('http://bit.ly/dwp-data-bike')\n",
    "\n",
    "# Data Transformation\n",
    "data_bike['age'] = 2020 - data_bike['birth year']"
   ]
  },
  {
   "cell_type": "code",
   "execution_count": 116,
   "metadata": {},
   "outputs": [
    {
     "data": {
      "text/html": [
       "<div>\n",
       "<style scoped>\n",
       "    .dataframe tbody tr th:only-of-type {\n",
       "        vertical-align: middle;\n",
       "    }\n",
       "\n",
       "    .dataframe tbody tr th {\n",
       "        vertical-align: top;\n",
       "    }\n",
       "\n",
       "    .dataframe thead th {\n",
       "        text-align: right;\n",
       "    }\n",
       "</style>\n",
       "<table border=\"1\" class=\"dataframe\">\n",
       "  <thead>\n",
       "    <tr style=\"text-align: right;\">\n",
       "      <th></th>\n",
       "      <th>tripduration</th>\n",
       "      <th>starttime</th>\n",
       "      <th>stoptime</th>\n",
       "      <th>start station name</th>\n",
       "      <th>end station name</th>\n",
       "      <th>bikeid</th>\n",
       "      <th>usertype</th>\n",
       "      <th>birth year</th>\n",
       "      <th>gender</th>\n",
       "      <th>age</th>\n",
       "    </tr>\n",
       "  </thead>\n",
       "  <tbody>\n",
       "    <tr>\n",
       "      <th>0</th>\n",
       "      <td>261</td>\n",
       "      <td>2019-08-01 00:14:55.9900</td>\n",
       "      <td>2019-08-01 00:19:17.4780</td>\n",
       "      <td>JC Medical Center</td>\n",
       "      <td>Liberty Light Rail</td>\n",
       "      <td>26268</td>\n",
       "      <td>Subscriber</td>\n",
       "      <td>1980</td>\n",
       "      <td>1</td>\n",
       "      <td>40</td>\n",
       "    </tr>\n",
       "    <tr>\n",
       "      <th>1</th>\n",
       "      <td>172</td>\n",
       "      <td>2019-08-01 00:23:06.9910</td>\n",
       "      <td>2019-08-01 00:25:59.1480</td>\n",
       "      <td>Dixon Mills</td>\n",
       "      <td>Grove St PATH</td>\n",
       "      <td>26162</td>\n",
       "      <td>Subscriber</td>\n",
       "      <td>1996</td>\n",
       "      <td>1</td>\n",
       "      <td>24</td>\n",
       "    </tr>\n",
       "    <tr>\n",
       "      <th>2</th>\n",
       "      <td>525</td>\n",
       "      <td>2019-08-01 00:23:28.6170</td>\n",
       "      <td>2019-08-01 00:32:13.7000</td>\n",
       "      <td>Newport Pkwy</td>\n",
       "      <td>Hamilton Park</td>\n",
       "      <td>29279</td>\n",
       "      <td>Subscriber</td>\n",
       "      <td>1991</td>\n",
       "      <td>1</td>\n",
       "      <td>29</td>\n",
       "    </tr>\n",
       "    <tr>\n",
       "      <th>3</th>\n",
       "      <td>219</td>\n",
       "      <td>2019-08-01 00:32:36.1410</td>\n",
       "      <td>2019-08-01 00:36:15.2730</td>\n",
       "      <td>Warren St</td>\n",
       "      <td>City Hall</td>\n",
       "      <td>29598</td>\n",
       "      <td>Subscriber</td>\n",
       "      <td>1988</td>\n",
       "      <td>1</td>\n",
       "      <td>32</td>\n",
       "    </tr>\n",
       "    <tr>\n",
       "      <th>4</th>\n",
       "      <td>262</td>\n",
       "      <td>2019-08-01 00:41:26.6700</td>\n",
       "      <td>2019-08-01 00:45:49.3530</td>\n",
       "      <td>Grove St PATH</td>\n",
       "      <td>Jersey &amp; 3rd</td>\n",
       "      <td>26162</td>\n",
       "      <td>Subscriber</td>\n",
       "      <td>1960</td>\n",
       "      <td>1</td>\n",
       "      <td>60</td>\n",
       "    </tr>\n",
       "  </tbody>\n",
       "</table>\n",
       "</div>"
      ],
      "text/plain": [
       "   tripduration                 starttime                  stoptime  \\\n",
       "0           261  2019-08-01 00:14:55.9900  2019-08-01 00:19:17.4780   \n",
       "1           172  2019-08-01 00:23:06.9910  2019-08-01 00:25:59.1480   \n",
       "2           525  2019-08-01 00:23:28.6170  2019-08-01 00:32:13.7000   \n",
       "3           219  2019-08-01 00:32:36.1410  2019-08-01 00:36:15.2730   \n",
       "4           262  2019-08-01 00:41:26.6700  2019-08-01 00:45:49.3530   \n",
       "\n",
       "  start station name    end station name  bikeid    usertype  birth year  \\\n",
       "0  JC Medical Center  Liberty Light Rail   26268  Subscriber        1980   \n",
       "1        Dixon Mills       Grove St PATH   26162  Subscriber        1996   \n",
       "2       Newport Pkwy       Hamilton Park   29279  Subscriber        1991   \n",
       "3          Warren St           City Hall   29598  Subscriber        1988   \n",
       "4      Grove St PATH        Jersey & 3rd   26162  Subscriber        1960   \n",
       "\n",
       "   gender  age  \n",
       "0       1   40  \n",
       "1       1   24  \n",
       "2       1   29  \n",
       "3       1   32  \n",
       "4       1   60  "
      ]
     },
     "execution_count": 116,
     "metadata": {},
     "output_type": "execute_result"
    }
   ],
   "source": [
    "data_bike.head()"
   ]
  },
  {
   "cell_type": "markdown",
   "metadata": {},
   "source": [
    "### Questions"
   ]
  },
  {
   "cell_type": "markdown",
   "metadata": {},
   "source": [
    "1. Ada berapa kelompok umur yang menggunakan Citibike rental? (Opsional)\n",
    "2. Berapa banyak trip yang dilakukan oleh pelanggan Subscriber?\n",
    "3. Berapa rata-rata trip duration dari Subscriber dan Customer?"
   ]
  },
  {
   "cell_type": "markdown",
   "metadata": {},
   "source": [
    "### Explore"
   ]
  },
  {
   "cell_type": "code",
   "execution_count": 122,
   "metadata": {},
   "outputs": [],
   "source": [
    "# 1. "
   ]
  },
  {
   "cell_type": "code",
   "execution_count": 120,
   "metadata": {},
   "outputs": [
    {
     "data": {
      "text/html": [
       "<div>\n",
       "<style scoped>\n",
       "    .dataframe tbody tr th:only-of-type {\n",
       "        vertical-align: middle;\n",
       "    }\n",
       "\n",
       "    .dataframe tbody tr th {\n",
       "        vertical-align: top;\n",
       "    }\n",
       "\n",
       "    .dataframe thead th {\n",
       "        text-align: right;\n",
       "    }\n",
       "</style>\n",
       "<table border=\"1\" class=\"dataframe\">\n",
       "  <thead>\n",
       "    <tr style=\"text-align: right;\">\n",
       "      <th></th>\n",
       "      <th>usertype</th>\n",
       "      <th>age</th>\n",
       "    </tr>\n",
       "  </thead>\n",
       "  <tbody>\n",
       "    <tr>\n",
       "      <th>1</th>\n",
       "      <td>Subscriber</td>\n",
       "      <td>40081</td>\n",
       "    </tr>\n",
       "  </tbody>\n",
       "</table>\n",
       "</div>"
      ],
      "text/plain": [
       "     usertype    age\n",
       "1  Subscriber  40081"
      ]
     },
     "execution_count": 120,
     "metadata": {},
     "output_type": "execute_result"
    }
   ],
   "source": [
    "# 2. Trip yang dilakukan oleh Subscriber\n",
    "\n",
    "trip_by_usertype = data_bike.groupby('usertype', as_index=False)['age'].count()\n",
    "trip_by_usertype[(trip_by_usertype['usertype'] == 'Subscriber')]"
   ]
  },
  {
   "cell_type": "code",
   "execution_count": 121,
   "metadata": {},
   "outputs": [
    {
     "data": {
      "text/html": [
       "<div>\n",
       "<style scoped>\n",
       "    .dataframe tbody tr th:only-of-type {\n",
       "        vertical-align: middle;\n",
       "    }\n",
       "\n",
       "    .dataframe tbody tr th {\n",
       "        vertical-align: top;\n",
       "    }\n",
       "\n",
       "    .dataframe thead th {\n",
       "        text-align: right;\n",
       "    }\n",
       "</style>\n",
       "<table border=\"1\" class=\"dataframe\">\n",
       "  <thead>\n",
       "    <tr style=\"text-align: right;\">\n",
       "      <th></th>\n",
       "      <th>usertype</th>\n",
       "      <th>tripduration</th>\n",
       "    </tr>\n",
       "  </thead>\n",
       "  <tbody>\n",
       "    <tr>\n",
       "      <th>0</th>\n",
       "      <td>Customer</td>\n",
       "      <td>800.533745</td>\n",
       "    </tr>\n",
       "    <tr>\n",
       "      <th>1</th>\n",
       "      <td>Subscriber</td>\n",
       "      <td>428.787156</td>\n",
       "    </tr>\n",
       "  </tbody>\n",
       "</table>\n",
       "</div>"
      ],
      "text/plain": [
       "     usertype  tripduration\n",
       "0    Customer    800.533745\n",
       "1  Subscriber    428.787156"
      ]
     },
     "execution_count": 121,
     "metadata": {},
     "output_type": "execute_result"
    }
   ],
   "source": [
    "# 3. Rata-rata trip duration dari Subscriber dan Customer\n",
    "\n",
    "# yang kita cari --> usertype\n",
    "# yang kita hitung --> tripduration\n",
    "# fungsi agregasi --> mean\n",
    "\n",
    "data_bike.groupby('usertype', as_index=False)['tripduration'].mean()"
   ]
  },
  {
   "cell_type": "markdown",
   "metadata": {},
   "source": [
    "### Conclusions"
   ]
  },
  {
   "cell_type": "markdown",
   "metadata": {},
   "source": [
    "1. ......\n",
    "\n",
    "2. Terdapat 40.081 perjalanan yang dilakukan oleh Subscriber.\n",
    "\n",
    "3. Subscriber memiliki rata-rata tripduration lebih rendah dari Customer, dengan perbandingan 428 detik dibanding 800 detik."
   ]
  },
  {
   "cell_type": "markdown",
   "metadata": {},
   "source": [
    "## Latihan"
   ]
  },
  {
   "cell_type": "code",
   "execution_count": 101,
   "metadata": {},
   "outputs": [
    {
     "data": {
      "text/plain": [
       "478.2327492969933"
      ]
     },
     "execution_count": 101,
     "metadata": {},
     "output_type": "execute_result"
    }
   ],
   "source": [
    "# 1. Rata-rata trip duration dalam 1 kali trip\n",
    "\n",
    "data_bike['tripduration'].mean()"
   ]
  },
  {
   "cell_type": "code",
   "execution_count": 109,
   "metadata": {},
   "outputs": [
    {
     "data": {
      "text/html": [
       "<div>\n",
       "<style scoped>\n",
       "    .dataframe tbody tr th:only-of-type {\n",
       "        vertical-align: middle;\n",
       "    }\n",
       "\n",
       "    .dataframe tbody tr th {\n",
       "        vertical-align: top;\n",
       "    }\n",
       "\n",
       "    .dataframe thead th {\n",
       "        text-align: right;\n",
       "    }\n",
       "</style>\n",
       "<table border=\"1\" class=\"dataframe\">\n",
       "  <thead>\n",
       "    <tr style=\"text-align: right;\">\n",
       "      <th></th>\n",
       "      <th>start station name</th>\n",
       "      <th>total</th>\n",
       "    </tr>\n",
       "  </thead>\n",
       "  <tbody>\n",
       "    <tr>\n",
       "      <th>17</th>\n",
       "      <td>Grove St PATH</td>\n",
       "      <td>5356</td>\n",
       "    </tr>\n",
       "    <tr>\n",
       "      <th>18</th>\n",
       "      <td>Hamilton Park</td>\n",
       "      <td>2892</td>\n",
       "    </tr>\n",
       "    <tr>\n",
       "      <th>19</th>\n",
       "      <td>Harborside</td>\n",
       "      <td>2241</td>\n",
       "    </tr>\n",
       "    <tr>\n",
       "      <th>8</th>\n",
       "      <td>Columbus Dr at Exchange Pl</td>\n",
       "      <td>2104</td>\n",
       "    </tr>\n",
       "    <tr>\n",
       "      <th>40</th>\n",
       "      <td>Newport PATH</td>\n",
       "      <td>2083</td>\n",
       "    </tr>\n",
       "  </tbody>\n",
       "</table>\n",
       "</div>"
      ],
      "text/plain": [
       "            start station name  total\n",
       "17               Grove St PATH   5356\n",
       "18               Hamilton Park   2892\n",
       "19                  Harborside   2241\n",
       "8   Columbus Dr at Exchange Pl   2104\n",
       "40                Newport PATH   2083"
      ]
     },
     "execution_count": 109,
     "metadata": {},
     "output_type": "execute_result"
    }
   ],
   "source": [
    "# 2. 5 Stasiun keberangkatan favorit\n",
    "\n",
    "# -> nilai yg kita cari\n",
    "# -> nilai yg kita hitung\n",
    "# -> fungsi agregasi\n",
    "\n",
    "data_bike.groupby('start station name', as_index=False)['bikeid'].count() \\\n",
    "         .rename(columns={'bikeid': 'total'}) \\\n",
    "         .sort_values('total', ascending=False) \\\n",
    "         .head()"
   ]
  }
 ],
 "metadata": {
  "kernelspec": {
   "display_name": "Python 3",
   "language": "python",
   "name": "python3"
  },
  "language_info": {
   "codemirror_mode": {
    "name": "ipython",
    "version": 3
   },
   "file_extension": ".py",
   "mimetype": "text/x-python",
   "name": "python",
   "nbconvert_exporter": "python",
   "pygments_lexer": "ipython3",
   "version": "3.8.3"
  }
 },
 "nbformat": 4,
 "nbformat_minor": 4
}
