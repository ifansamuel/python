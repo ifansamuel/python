{
 "cells": [
  {
   "cell_type": "markdown",
   "metadata": {},
   "source": [
    "# Headings1\n",
    "## Headings2\n",
    "### Headings3\n",
    "\n",
    "*text italic*\n",
    "**text bold**"
   ]
  },
  {
   "cell_type": "code",
   "execution_count": 14,
   "metadata": {},
   "outputs": [],
   "source": [
    "import pandas"
   ]
  },
  {
   "cell_type": "code",
   "execution_count": 15,
   "metadata": {},
   "outputs": [],
   "source": [
    "import random"
   ]
  },
  {
   "cell_type": "code",
   "execution_count": null,
   "metadata": {},
   "outputs": [],
   "source": [
    "#liat history command\n",
    "%history"
   ]
  },
  {
   "cell_type": "markdown",
   "metadata": {},
   "source": [
    "### Latihan"
   ]
  },
  {
   "cell_type": "code",
   "execution_count": 13,
   "metadata": {},
   "outputs": [
    {
     "name": "stdout",
     "output_type": "stream",
     "text": [
      "2\n"
     ]
    }
   ],
   "source": [
    "# hitung function yang bisa itung jumlah kata dalam sebuah kalimat\n",
    "\n",
    "def itung_kata(str1, str2):\n",
    "    list_kata = str2.split()\n",
    "    retval = 0\n",
    "    for i in list_kata:\n",
    "        if i == str1:\n",
    "            retval+=1\n",
    "    return retval\n",
    "    \n",
    "val = itung_kata('aku', 'aku adalah aku anak gembala')\n",
    "print(val)"
   ]
  },
  {
   "cell_type": "code",
   "execution_count": 24,
   "metadata": {},
   "outputs": [
    {
     "data": {
      "text/plain": [
       "-3"
      ]
     },
     "execution_count": 24,
     "metadata": {},
     "output_type": "execute_result"
    }
   ],
   "source": [
    "random.randint(-5, 8)"
   ]
  },
  {
   "cell_type": "code",
   "execution_count": 27,
   "metadata": {},
   "outputs": [],
   "source": [
    "#import library sndiri\n",
    "import hitung"
   ]
  },
  {
   "cell_type": "code",
   "execution_count": 28,
   "metadata": {},
   "outputs": [
    {
     "data": {
      "text/plain": [
       "2"
      ]
     },
     "execution_count": 28,
     "metadata": {},
     "output_type": "execute_result"
    }
   ],
   "source": [
    "hitung.hitung_kata('aku', 'aku adalah aku anak gembala')"
   ]
  },
  {
   "cell_type": "code",
   "execution_count": 55,
   "metadata": {},
   "outputs": [
    {
     "name": "stdout",
     "output_type": "stream",
     "text": [
      "Selamat ifan! Kamu menang motor\n"
     ]
    }
   ],
   "source": [
    "#latihan\n",
    "def hadiah(nama):\n",
    "    prize = {\n",
    "        1 : 'mobil',\n",
    "        2 : 'motor',\n",
    "        3 : 'tv',\n",
    "        4 : 'sepeda',\n",
    "        5 : 'uang tunai'\n",
    "    }\n",
    "    hadiah = random.randint(1,4)\n",
    "    print('Selamat {}! Kamu menang {}'.format(nama,prize[hadiah]))\n",
    "    \n",
    "hadiah('ifan')"
   ]
  },
  {
   "cell_type": "code",
   "execution_count": 69,
   "metadata": {},
   "outputs": [
    {
     "name": "stdout",
     "output_type": "stream",
     "text": [
      "uang awal  5000000\n",
      "uang akhir  9083483.492820451\n"
     ]
    }
   ],
   "source": [
    "def invest_calc(invest, month, interest):\n",
    "    i = 0\n",
    "    print('uang awal ',invest )\n",
    "    while i < month:\n",
    "        invest+=invest*interest/100\n",
    "        i+=1\n",
    "    if month < 1:\n",
    "        print('insert valid month')\n",
    "    return invest\n",
    "\n",
    "tot = invest_calc(5000000, 60, 1)\n",
    "print('uang akhir ',tot)"
   ]
  },
  {
   "cell_type": "code",
   "execution_count": 70,
   "metadata": {},
   "outputs": [
    {
     "name": "stdout",
     "output_type": "stream",
     "text": [
      "range(0, 5)\n"
     ]
    }
   ],
   "source": [
    "print(range(5))"
   ]
  },
  {
   "cell_type": "markdown",
   "metadata": {},
   "source": [
    "### PANDAS"
   ]
  },
  {
   "cell_type": "code",
   "execution_count": 72,
   "metadata": {},
   "outputs": [],
   "source": [
    "import pandas as pd"
   ]
  },
  {
   "cell_type": "markdown",
   "metadata": {},
   "source": [
    "#### Create a dataframe"
   ]
  },
  {
   "cell_type": "markdown",
   "metadata": {},
   "source": [
    "##### Series"
   ]
  },
  {
   "cell_type": "code",
   "execution_count": 74,
   "metadata": {},
   "outputs": [
    {
     "data": {
      "text/plain": [
       "0    1\n",
       "1    2\n",
       "2    3\n",
       "3    4\n",
       "dtype: int64"
      ]
     },
     "execution_count": 74,
     "metadata": {},
     "output_type": "execute_result"
    }
   ],
   "source": [
    "pd.Series([1, 2, 3, 4])"
   ]
  },
  {
   "cell_type": "markdown",
   "metadata": {},
   "source": [
    "##### Dataframe"
   ]
  },
  {
   "cell_type": "code",
   "execution_count": 75,
   "metadata": {},
   "outputs": [],
   "source": [
    "data_df = {\n",
    "    \n",
    "}"
   ]
  },
  {
   "cell_type": "code",
   "execution_count": 78,
   "metadata": {},
   "outputs": [
    {
     "data": {
      "text/plain": [
       "'P'"
      ]
     },
     "execution_count": 78,
     "metadata": {},
     "output_type": "execute_result"
    }
   ],
   "source": [
    "'p'.upper()"
   ]
  },
  {
   "cell_type": "code",
   "execution_count": 80,
   "metadata": {},
   "outputs": [
    {
     "data": {
      "text/html": [
       "<div>\n",
       "<style scoped>\n",
       "    .dataframe tbody tr th:only-of-type {\n",
       "        vertical-align: middle;\n",
       "    }\n",
       "\n",
       "    .dataframe tbody tr th {\n",
       "        vertical-align: top;\n",
       "    }\n",
       "\n",
       "    .dataframe thead th {\n",
       "        text-align: right;\n",
       "    }\n",
       "</style>\n",
       "<table border=\"1\" class=\"dataframe\">\n",
       "  <thead>\n",
       "    <tr style=\"text-align: right;\">\n",
       "      <th></th>\n",
       "      <th>Customer</th>\n",
       "      <th>Origin</th>\n",
       "      <th>Destination</th>\n",
       "      <th>Distance</th>\n",
       "      <th>Price</th>\n",
       "    </tr>\n",
       "  </thead>\n",
       "  <tbody>\n",
       "    <tr>\n",
       "      <th>0</th>\n",
       "      <td>tom</td>\n",
       "      <td>Tebet</td>\n",
       "      <td>Gondangdia</td>\n",
       "      <td>4.5</td>\n",
       "      <td>20000</td>\n",
       "    </tr>\n",
       "    <tr>\n",
       "      <th>1</th>\n",
       "      <td>nick</td>\n",
       "      <td>Gondangdia</td>\n",
       "      <td>Mampang</td>\n",
       "      <td>5.0</td>\n",
       "      <td>23000</td>\n",
       "    </tr>\n",
       "    <tr>\n",
       "      <th>2</th>\n",
       "      <td>krish</td>\n",
       "      <td>Mampang</td>\n",
       "      <td>SCBD</td>\n",
       "      <td>3.0</td>\n",
       "      <td>14000</td>\n",
       "    </tr>\n",
       "    <tr>\n",
       "      <th>3</th>\n",
       "      <td>jack</td>\n",
       "      <td>SCBD</td>\n",
       "      <td>Kuningan</td>\n",
       "      <td>4.8</td>\n",
       "      <td>24500</td>\n",
       "    </tr>\n",
       "    <tr>\n",
       "      <th>4</th>\n",
       "      <td>jack</td>\n",
       "      <td>SCBD</td>\n",
       "      <td>Pancoran</td>\n",
       "      <td>2.2</td>\n",
       "      <td>7000</td>\n",
       "    </tr>\n",
       "    <tr>\n",
       "      <th>5</th>\n",
       "      <td>tom</td>\n",
       "      <td>Kuningan</td>\n",
       "      <td>Pancoran</td>\n",
       "      <td>4.7</td>\n",
       "      <td>20000</td>\n",
       "    </tr>\n",
       "    <tr>\n",
       "      <th>6</th>\n",
       "      <td>jack</td>\n",
       "      <td>Pancoran</td>\n",
       "      <td>Mampang</td>\n",
       "      <td>3.4</td>\n",
       "      <td>15000</td>\n",
       "    </tr>\n",
       "    <tr>\n",
       "      <th>7</th>\n",
       "      <td>krish</td>\n",
       "      <td>Tebet</td>\n",
       "      <td>SCBD</td>\n",
       "      <td>4.0</td>\n",
       "      <td>18500</td>\n",
       "    </tr>\n",
       "    <tr>\n",
       "      <th>8</th>\n",
       "      <td>nick</td>\n",
       "      <td>Mampang</td>\n",
       "      <td>SCBD</td>\n",
       "      <td>2.2</td>\n",
       "      <td>9000</td>\n",
       "    </tr>\n",
       "    <tr>\n",
       "      <th>9</th>\n",
       "      <td>nick</td>\n",
       "      <td>Tebet</td>\n",
       "      <td>Kuningan</td>\n",
       "      <td>2.9</td>\n",
       "      <td>11000</td>\n",
       "    </tr>\n",
       "  </tbody>\n",
       "</table>\n",
       "</div>"
      ],
      "text/plain": [
       "  Customer      Origin Destination  Distance  Price\n",
       "0      tom       Tebet  Gondangdia       4.5  20000\n",
       "1     nick  Gondangdia     Mampang       5.0  23000\n",
       "2    krish     Mampang        SCBD       3.0  14000\n",
       "3     jack        SCBD    Kuningan       4.8  24500\n",
       "4     jack        SCBD    Pancoran       2.2   7000\n",
       "5      tom    Kuningan    Pancoran       4.7  20000\n",
       "6     jack    Pancoran     Mampang       3.4  15000\n",
       "7    krish       Tebet        SCBD       4.0  18500\n",
       "8     nick     Mampang        SCBD       2.2   9000\n",
       "9     nick       Tebet    Kuningan       2.9  11000"
      ]
     },
     "execution_count": 80,
     "metadata": {},
     "output_type": "execute_result"
    }
   ],
   "source": [
    "data_df = {'Customer':['tom', 'nick', 'krish', 'jack', 'jack', 'tom', 'jack', 'krish', 'nick', 'nick'],\n",
    "          'Origin':['Tebet', 'Gondangdia', 'Mampang', 'SCBD', 'SCBD', 'Kuningan', 'Pancoran', 'Tebet', 'Mampang', 'Tebet'],\n",
    "          'Destination':['Gondangdia', 'Mampang', 'SCBD', 'Kuningan', 'Pancoran', 'Pancoran', 'Mampang', 'SCBD', 'SCBD', 'Kuningan'],\n",
    "          'Distance': [4.5, 5.0, 3.0, 4.8, 2.2, 4.7, 3.4, 4.0, 2.2, 2.9],\n",
    "          'Price': [20000, 23000, 14000, 24500, 7000, 20000, 15000, 18500, 9000, 11000]}\n",
    "          \n",
    "df = pd.DataFrame(data_df)\n",
    "\n",
    "df"
   ]
  },
  {
   "cell_type": "code",
   "execution_count": 81,
   "metadata": {},
   "outputs": [],
   "source": [
    "#add column"
   ]
  },
  {
   "cell_type": "code",
   "execution_count": 84,
   "metadata": {},
   "outputs": [],
   "source": [
    "df['Rates'] = 2"
   ]
  },
  {
   "cell_type": "code",
   "execution_count": 86,
   "metadata": {},
   "outputs": [],
   "source": [
    "df['Rates'] = df['Price'] / df['Distance']"
   ]
  },
  {
   "cell_type": "code",
   "execution_count": 87,
   "metadata": {},
   "outputs": [
    {
     "data": {
      "text/html": [
       "<div>\n",
       "<style scoped>\n",
       "    .dataframe tbody tr th:only-of-type {\n",
       "        vertical-align: middle;\n",
       "    }\n",
       "\n",
       "    .dataframe tbody tr th {\n",
       "        vertical-align: top;\n",
       "    }\n",
       "\n",
       "    .dataframe thead th {\n",
       "        text-align: right;\n",
       "    }\n",
       "</style>\n",
       "<table border=\"1\" class=\"dataframe\">\n",
       "  <thead>\n",
       "    <tr style=\"text-align: right;\">\n",
       "      <th></th>\n",
       "      <th>Customer</th>\n",
       "      <th>Origin</th>\n",
       "      <th>Destination</th>\n",
       "      <th>Distance</th>\n",
       "      <th>Price</th>\n",
       "      <th>Rates</th>\n",
       "    </tr>\n",
       "  </thead>\n",
       "  <tbody>\n",
       "    <tr>\n",
       "      <th>0</th>\n",
       "      <td>tom</td>\n",
       "      <td>Tebet</td>\n",
       "      <td>Gondangdia</td>\n",
       "      <td>4.5</td>\n",
       "      <td>20000</td>\n",
       "      <td>4444.444444</td>\n",
       "    </tr>\n",
       "    <tr>\n",
       "      <th>1</th>\n",
       "      <td>nick</td>\n",
       "      <td>Gondangdia</td>\n",
       "      <td>Mampang</td>\n",
       "      <td>5.0</td>\n",
       "      <td>23000</td>\n",
       "      <td>4600.000000</td>\n",
       "    </tr>\n",
       "    <tr>\n",
       "      <th>2</th>\n",
       "      <td>krish</td>\n",
       "      <td>Mampang</td>\n",
       "      <td>SCBD</td>\n",
       "      <td>3.0</td>\n",
       "      <td>14000</td>\n",
       "      <td>4666.666667</td>\n",
       "    </tr>\n",
       "    <tr>\n",
       "      <th>3</th>\n",
       "      <td>jack</td>\n",
       "      <td>SCBD</td>\n",
       "      <td>Kuningan</td>\n",
       "      <td>4.8</td>\n",
       "      <td>24500</td>\n",
       "      <td>5104.166667</td>\n",
       "    </tr>\n",
       "    <tr>\n",
       "      <th>4</th>\n",
       "      <td>jack</td>\n",
       "      <td>SCBD</td>\n",
       "      <td>Pancoran</td>\n",
       "      <td>2.2</td>\n",
       "      <td>7000</td>\n",
       "      <td>3181.818182</td>\n",
       "    </tr>\n",
       "    <tr>\n",
       "      <th>5</th>\n",
       "      <td>tom</td>\n",
       "      <td>Kuningan</td>\n",
       "      <td>Pancoran</td>\n",
       "      <td>4.7</td>\n",
       "      <td>20000</td>\n",
       "      <td>4255.319149</td>\n",
       "    </tr>\n",
       "    <tr>\n",
       "      <th>6</th>\n",
       "      <td>jack</td>\n",
       "      <td>Pancoran</td>\n",
       "      <td>Mampang</td>\n",
       "      <td>3.4</td>\n",
       "      <td>15000</td>\n",
       "      <td>4411.764706</td>\n",
       "    </tr>\n",
       "    <tr>\n",
       "      <th>7</th>\n",
       "      <td>krish</td>\n",
       "      <td>Tebet</td>\n",
       "      <td>SCBD</td>\n",
       "      <td>4.0</td>\n",
       "      <td>18500</td>\n",
       "      <td>4625.000000</td>\n",
       "    </tr>\n",
       "    <tr>\n",
       "      <th>8</th>\n",
       "      <td>nick</td>\n",
       "      <td>Mampang</td>\n",
       "      <td>SCBD</td>\n",
       "      <td>2.2</td>\n",
       "      <td>9000</td>\n",
       "      <td>4090.909091</td>\n",
       "    </tr>\n",
       "    <tr>\n",
       "      <th>9</th>\n",
       "      <td>nick</td>\n",
       "      <td>Tebet</td>\n",
       "      <td>Kuningan</td>\n",
       "      <td>2.9</td>\n",
       "      <td>11000</td>\n",
       "      <td>3793.103448</td>\n",
       "    </tr>\n",
       "  </tbody>\n",
       "</table>\n",
       "</div>"
      ],
      "text/plain": [
       "  Customer      Origin Destination  Distance  Price        Rates\n",
       "0      tom       Tebet  Gondangdia       4.5  20000  4444.444444\n",
       "1     nick  Gondangdia     Mampang       5.0  23000  4600.000000\n",
       "2    krish     Mampang        SCBD       3.0  14000  4666.666667\n",
       "3     jack        SCBD    Kuningan       4.8  24500  5104.166667\n",
       "4     jack        SCBD    Pancoran       2.2   7000  3181.818182\n",
       "5      tom    Kuningan    Pancoran       4.7  20000  4255.319149\n",
       "6     jack    Pancoran     Mampang       3.4  15000  4411.764706\n",
       "7    krish       Tebet        SCBD       4.0  18500  4625.000000\n",
       "8     nick     Mampang        SCBD       2.2   9000  4090.909091\n",
       "9     nick       Tebet    Kuningan       2.9  11000  3793.103448"
      ]
     },
     "execution_count": 87,
     "metadata": {},
     "output_type": "execute_result"
    }
   ],
   "source": [
    "df"
   ]
  },
  {
   "cell_type": "code",
   "execution_count": 88,
   "metadata": {},
   "outputs": [],
   "source": [
    "#remove column"
   ]
  },
  {
   "cell_type": "code",
   "execution_count": 90,
   "metadata": {},
   "outputs": [
    {
     "ename": "SyntaxError",
     "evalue": "invalid syntax (<ipython-input-90-1ad07adb81ec>, line 1)",
     "output_type": "error",
     "traceback": [
      "\u001b[1;36m  File \u001b[1;32m\"<ipython-input-90-1ad07adb81ec>\"\u001b[1;36m, line \u001b[1;32m1\u001b[0m\n\u001b[1;33m    df = df.remove(columns : 'Rates')\u001b[0m\n\u001b[1;37m                           ^\u001b[0m\n\u001b[1;31mSyntaxError\u001b[0m\u001b[1;31m:\u001b[0m invalid syntax\n"
     ]
    }
   ],
   "source": [
    "df = df.remove(columns : 'Rates')"
   ]
  },
  {
   "cell_type": "code",
   "execution_count": 92,
   "metadata": {},
   "outputs": [
    {
     "name": "stdout",
     "output_type": "stream",
     "text": [
      "<class 'pandas.core.frame.DataFrame'>\n",
      "RangeIndex: 10 entries, 0 to 9\n",
      "Data columns (total 6 columns):\n",
      " #   Column       Non-Null Count  Dtype  \n",
      "---  ------       --------------  -----  \n",
      " 0   Customer     10 non-null     object \n",
      " 1   Origin       10 non-null     object \n",
      " 2   Destination  10 non-null     object \n",
      " 3   Distance     10 non-null     float64\n",
      " 4   Price        10 non-null     int64  \n",
      " 5   Rates        10 non-null     float64\n",
      "dtypes: float64(2), int64(1), object(3)\n",
      "memory usage: 608.0+ bytes\n"
     ]
    },
    {
     "data": {
      "text/html": [
       "<div>\n",
       "<style scoped>\n",
       "    .dataframe tbody tr th:only-of-type {\n",
       "        vertical-align: middle;\n",
       "    }\n",
       "\n",
       "    .dataframe tbody tr th {\n",
       "        vertical-align: top;\n",
       "    }\n",
       "\n",
       "    .dataframe thead th {\n",
       "        text-align: right;\n",
       "    }\n",
       "</style>\n",
       "<table border=\"1\" class=\"dataframe\">\n",
       "  <thead>\n",
       "    <tr style=\"text-align: right;\">\n",
       "      <th></th>\n",
       "      <th>Distance</th>\n",
       "      <th>Price</th>\n",
       "      <th>Rates</th>\n",
       "    </tr>\n",
       "  </thead>\n",
       "  <tbody>\n",
       "    <tr>\n",
       "      <th>count</th>\n",
       "      <td>10.000000</td>\n",
       "      <td>10.000000</td>\n",
       "      <td>10.000000</td>\n",
       "    </tr>\n",
       "    <tr>\n",
       "      <th>mean</th>\n",
       "      <td>3.670000</td>\n",
       "      <td>16200.000000</td>\n",
       "      <td>4317.319235</td>\n",
       "    </tr>\n",
       "    <tr>\n",
       "      <th>std</th>\n",
       "      <td>1.071914</td>\n",
       "      <td>5954.456781</td>\n",
       "      <td>533.343702</td>\n",
       "    </tr>\n",
       "    <tr>\n",
       "      <th>min</th>\n",
       "      <td>2.200000</td>\n",
       "      <td>7000.000000</td>\n",
       "      <td>3181.818182</td>\n",
       "    </tr>\n",
       "    <tr>\n",
       "      <th>25%</th>\n",
       "      <td>2.925000</td>\n",
       "      <td>11750.000000</td>\n",
       "      <td>4132.011605</td>\n",
       "    </tr>\n",
       "    <tr>\n",
       "      <th>50%</th>\n",
       "      <td>3.700000</td>\n",
       "      <td>16750.000000</td>\n",
       "      <td>4428.104575</td>\n",
       "    </tr>\n",
       "    <tr>\n",
       "      <th>75%</th>\n",
       "      <td>4.650000</td>\n",
       "      <td>20000.000000</td>\n",
       "      <td>4618.750000</td>\n",
       "    </tr>\n",
       "    <tr>\n",
       "      <th>max</th>\n",
       "      <td>5.000000</td>\n",
       "      <td>24500.000000</td>\n",
       "      <td>5104.166667</td>\n",
       "    </tr>\n",
       "  </tbody>\n",
       "</table>\n",
       "</div>"
      ],
      "text/plain": [
       "        Distance         Price        Rates\n",
       "count  10.000000     10.000000    10.000000\n",
       "mean    3.670000  16200.000000  4317.319235\n",
       "std     1.071914   5954.456781   533.343702\n",
       "min     2.200000   7000.000000  3181.818182\n",
       "25%     2.925000  11750.000000  4132.011605\n",
       "50%     3.700000  16750.000000  4428.104575\n",
       "75%     4.650000  20000.000000  4618.750000\n",
       "max     5.000000  24500.000000  5104.166667"
      ]
     },
     "execution_count": 92,
     "metadata": {},
     "output_type": "execute_result"
    }
   ],
   "source": [
    "#describe dataframe\n",
    "##semua data\n",
    "df.info()\n",
    "##hanya numerik\n",
    "df.describe()"
   ]
  },
  {
   "cell_type": "code",
   "execution_count": null,
   "metadata": {},
   "outputs": [],
   "source": [
    "#buat function ubah suhu dari celcius k reamur dan sebaliknya\n",
    "input : 1 string\n",
    "output : 1 string\n",
    "    \n",
    "cth\n",
    "input : 32R\n",
    "output: ...C\n",
    "    \n",
    "input : 32C\n",
    "output: ...R"
   ]
  }
 ],
 "metadata": {
  "kernelspec": {
   "display_name": "Python 3",
   "language": "python",
   "name": "python3"
  },
  "language_info": {
   "codemirror_mode": {
    "name": "ipython",
    "version": 3
   },
   "file_extension": ".py",
   "mimetype": "text/x-python",
   "name": "python",
   "nbconvert_exporter": "python",
   "pygments_lexer": "ipython3",
   "version": "3.8.3"
  }
 },
 "nbformat": 4,
 "nbformat_minor": 4
}
