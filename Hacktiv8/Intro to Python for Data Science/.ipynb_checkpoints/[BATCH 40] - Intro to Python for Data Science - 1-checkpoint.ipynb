{
 "cells": [
  {
   "cell_type": "markdown",
   "metadata": {
    "colab_type": "text",
    "id": "nPQdoSV4hd7o"
   },
   "source": [
    "### Python"
   ]
  },
  {
   "cell_type": "markdown",
   "metadata": {
    "colab_type": "text",
    "id": "eSZcPF6Mk2dN"
   },
   "source": [
    "### Data Type"
   ]
  },
  {
   "cell_type": "markdown",
   "metadata": {
    "colab_type": "text",
    "id": "_glkKtRLlDLH"
   },
   "source": [
    "#### Integer"
   ]
  },
  {
   "cell_type": "code",
   "execution_count": 5,
   "metadata": {
    "colab": {
     "base_uri": "https://localhost:8080/",
     "height": 34
    },
    "colab_type": "code",
    "executionInfo": {
     "elapsed": 819,
     "status": "ok",
     "timestamp": 1597754382577,
     "user": {
      "displayName": "Dzaky Widya Putra",
      "photoUrl": "https://lh3.googleusercontent.com/a-/AOh14Gi6TiaaJWbtjCNtNI6Yfmx6g1kRO8nSSJR3cLk-=s64",
      "userId": "15085174766637180354"
     },
     "user_tz": -420
    },
    "id": "EGlspW3Ig1-Y",
    "outputId": "6934141a-a1d4-4361-e7f6-8f11b704d481"
   },
   "outputs": [
    {
     "name": "stdout",
     "output_type": "stream",
     "text": [
      "10\n"
     ]
    }
   ],
   "source": [
    "a = 10\n",
    "\n",
    "print(a)"
   ]
  },
  {
   "cell_type": "markdown",
   "metadata": {
    "colab_type": "text",
    "id": "kOZn0r3JlV3H"
   },
   "source": [
    "#### Float"
   ]
  },
  {
   "cell_type": "code",
   "execution_count": 6,
   "metadata": {
    "colab": {
     "base_uri": "https://localhost:8080/",
     "height": 34
    },
    "colab_type": "code",
    "executionInfo": {
     "elapsed": 886,
     "status": "ok",
     "timestamp": 1597754420204,
     "user": {
      "displayName": "Dzaky Widya Putra",
      "photoUrl": "https://lh3.googleusercontent.com/a-/AOh14Gi6TiaaJWbtjCNtNI6Yfmx6g1kRO8nSSJR3cLk-=s64",
      "userId": "15085174766637180354"
     },
     "user_tz": -420
    },
    "id": "1kzS2we0g2Gt",
    "outputId": "38d41e84-1d2b-4a84-80a2-d83fa02a7f5d"
   },
   "outputs": [
    {
     "name": "stdout",
     "output_type": "stream",
     "text": [
      "3.4\n"
     ]
    }
   ],
   "source": [
    "b = 3.4\n",
    "\n",
    "print(b)"
   ]
  },
  {
   "cell_type": "markdown",
   "metadata": {
    "colab_type": "text",
    "id": "daQdz0DYliYL"
   },
   "source": [
    "#### String"
   ]
  },
  {
   "cell_type": "code",
   "execution_count": 8,
   "metadata": {
    "colab": {
     "base_uri": "https://localhost:8080/",
     "height": 34
    },
    "colab_type": "code",
    "executionInfo": {
     "elapsed": 1028,
     "status": "ok",
     "timestamp": 1597754537800,
     "user": {
      "displayName": "Dzaky Widya Putra",
      "photoUrl": "https://lh3.googleusercontent.com/a-/AOh14Gi6TiaaJWbtjCNtNI6Yfmx6g1kRO8nSSJR3cLk-=s64",
      "userId": "15085174766637180354"
     },
     "user_tz": -420
    },
    "id": "SZG80p63g2OE",
    "outputId": "7c5e3eee-ec3c-4e9f-ea9f-99c5b188185f"
   },
   "outputs": [
    {
     "name": "stdout",
     "output_type": "stream",
     "text": [
      "hello world 50\n"
     ]
    }
   ],
   "source": [
    "c = 'hello world 50'\n",
    "\n",
    "print(c)"
   ]
  },
  {
   "cell_type": "markdown",
   "metadata": {
    "colab_type": "text",
    "id": "YUdW6YEWl5TJ"
   },
   "source": [
    "#### Boolean"
   ]
  },
  {
   "cell_type": "code",
   "execution_count": 9,
   "metadata": {
    "colab": {
     "base_uri": "https://localhost:8080/",
     "height": 34
    },
    "colab_type": "code",
    "executionInfo": {
     "elapsed": 839,
     "status": "ok",
     "timestamp": 1597754598522,
     "user": {
      "displayName": "Dzaky Widya Putra",
      "photoUrl": "https://lh3.googleusercontent.com/a-/AOh14Gi6TiaaJWbtjCNtNI6Yfmx6g1kRO8nSSJR3cLk-=s64",
      "userId": "15085174766637180354"
     },
     "user_tz": -420
    },
    "id": "dt59X8nhg2WV",
    "outputId": "ecdb3af3-5257-42a1-bcfa-455fd8d81c12"
   },
   "outputs": [
    {
     "name": "stdout",
     "output_type": "stream",
     "text": [
      "True\n"
     ]
    }
   ],
   "source": [
    "d = True\n",
    "e = False\n",
    "\n",
    "print(d)"
   ]
  },
  {
   "cell_type": "markdown",
   "metadata": {
    "colab_type": "text",
    "id": "aSruy9DdmKIO"
   },
   "source": [
    "#### List"
   ]
  },
  {
   "cell_type": "code",
   "execution_count": 1,
   "metadata": {
    "colab": {},
    "colab_type": "code",
    "executionInfo": {
     "elapsed": 823,
     "status": "ok",
     "timestamp": 1597756072181,
     "user": {
      "displayName": "Dzaky Widya Putra",
      "photoUrl": "https://lh3.googleusercontent.com/a-/AOh14Gi6TiaaJWbtjCNtNI6Yfmx6g1kRO8nSSJR3cLk-=s64",
      "userId": "15085174766637180354"
     },
     "user_tz": -420
    },
    "id": "SH9IgMVXropA"
   },
   "outputs": [],
   "source": [
    "# Inisiasi list kosong\n",
    "\n",
    "numbers = []"
   ]
  },
  {
   "cell_type": "code",
   "execution_count": 4,
   "metadata": {
    "colab": {},
    "colab_type": "code",
    "executionInfo": {
     "elapsed": 914,
     "status": "ok",
     "timestamp": 1597756114429,
     "user": {
      "displayName": "Dzaky Widya Putra",
      "photoUrl": "https://lh3.googleusercontent.com/a-/AOh14Gi6TiaaJWbtjCNtNI6Yfmx6g1kRO8nSSJR3cLk-=s64",
      "userId": "15085174766637180354"
     },
     "user_tz": -420
    },
    "id": "BoLKJj6mruM9"
   },
   "outputs": [],
   "source": [
    "# Cara menambahkan nilai pada list\n",
    "\n",
    "numbers.append(10)"
   ]
  },
  {
   "cell_type": "code",
   "execution_count": 5,
   "metadata": {
    "colab": {
     "base_uri": "https://localhost:8080/",
     "height": 34
    },
    "colab_type": "code",
    "executionInfo": {
     "elapsed": 515,
     "status": "ok",
     "timestamp": 1597756115427,
     "user": {
      "displayName": "Dzaky Widya Putra",
      "photoUrl": "https://lh3.googleusercontent.com/a-/AOh14Gi6TiaaJWbtjCNtNI6Yfmx6g1kRO8nSSJR3cLk-=s64",
      "userId": "15085174766637180354"
     },
     "user_tz": -420
    },
    "id": "SMCu335_rymw",
    "outputId": "1ff48aef-52e8-4d8e-fa01-983921afe9f0"
   },
   "outputs": [
    {
     "data": {
      "text/plain": [
       "[10, 10]"
      ]
     },
     "execution_count": 5,
     "metadata": {},
     "output_type": "execute_result"
    }
   ],
   "source": [
    "numbers"
   ]
  },
  {
   "cell_type": "code",
   "execution_count": 10,
   "metadata": {
    "colab": {
     "base_uri": "https://localhost:8080/",
     "height": 34
    },
    "colab_type": "code",
    "executionInfo": {
     "elapsed": 836,
     "status": "ok",
     "timestamp": 1597754700387,
     "user": {
      "displayName": "Dzaky Widya Putra",
      "photoUrl": "https://lh3.googleusercontent.com/a-/AOh14Gi6TiaaJWbtjCNtNI6Yfmx6g1kRO8nSSJR3cLk-=s64",
      "userId": "15085174766637180354"
     },
     "user_tz": -420
    },
    "id": "_jbdjMjamMhS",
    "outputId": "05cd659f-609b-493a-c743-4cfeb648333f"
   },
   "outputs": [
    {
     "name": "stdout",
     "output_type": "stream",
     "text": [
      "[1, 2, 3, 4, 5]\n"
     ]
    }
   ],
   "source": [
    "f = [1, 2, 3, 4, 5]\n",
    "\n",
    "print(f)"
   ]
  },
  {
   "cell_type": "code",
   "execution_count": 11,
   "metadata": {
    "colab": {
     "base_uri": "https://localhost:8080/",
     "height": 34
    },
    "colab_type": "code",
    "executionInfo": {
     "elapsed": 883,
     "status": "ok",
     "timestamp": 1597754730759,
     "user": {
      "displayName": "Dzaky Widya Putra",
      "photoUrl": "https://lh3.googleusercontent.com/a-/AOh14Gi6TiaaJWbtjCNtNI6Yfmx6g1kRO8nSSJR3cLk-=s64",
      "userId": "15085174766637180354"
     },
     "user_tz": -420
    },
    "id": "EW0_bL_Jmg5I",
    "outputId": "2de41bb4-2ca3-47c0-fe78-bb0c2e5ae240"
   },
   "outputs": [
    {
     "name": "stdout",
     "output_type": "stream",
     "text": [
      "[1, 2, 3, 'empat', True]\n"
     ]
    }
   ],
   "source": [
    "g = [1, 2, 3, 'empat', True]\n",
    "\n",
    "print(g)"
   ]
  },
  {
   "cell_type": "code",
   "execution_count": 16,
   "metadata": {
    "colab": {
     "base_uri": "https://localhost:8080/",
     "height": 34
    },
    "colab_type": "code",
    "executionInfo": {
     "elapsed": 826,
     "status": "ok",
     "timestamp": 1597755160349,
     "user": {
      "displayName": "Dzaky Widya Putra",
      "photoUrl": "https://lh3.googleusercontent.com/a-/AOh14Gi6TiaaJWbtjCNtNI6Yfmx6g1kRO8nSSJR3cLk-=s64",
      "userId": "15085174766637180354"
     },
     "user_tz": -420
    },
    "id": "yJc4FQMMmpbJ",
    "outputId": "08d8adc1-6e7b-47cb-ae3e-286a49ebf0d1"
   },
   "outputs": [
    {
     "name": "stdout",
     "output_type": "stream",
     "text": [
      "['apel', 'jeruk', 'semangka', 'pisang', 'melon']\n"
     ]
    }
   ],
   "source": [
    "buah = ['apel', 'jeruk', 'semangka', 'pisang', 'melon']\n",
    "\n",
    "print(buah)"
   ]
  },
  {
   "cell_type": "code",
   "execution_count": 14,
   "metadata": {
    "colab": {
     "base_uri": "https://localhost:8080/",
     "height": 34
    },
    "colab_type": "code",
    "executionInfo": {
     "elapsed": 877,
     "status": "ok",
     "timestamp": 1597755054269,
     "user": {
      "displayName": "Dzaky Widya Putra",
      "photoUrl": "https://lh3.googleusercontent.com/a-/AOh14Gi6TiaaJWbtjCNtNI6Yfmx6g1kRO8nSSJR3cLk-=s64",
      "userId": "15085174766637180354"
     },
     "user_tz": -420
    },
    "id": "9C7LJT8ZnKdV",
    "outputId": "f5e74514-8356-4352-ceb6-ae642bc9432c"
   },
   "outputs": [
    {
     "name": "stdout",
     "output_type": "stream",
     "text": [
      "jeruk\n"
     ]
    }
   ],
   "source": [
    "# Terminologi di dalam list\n",
    "\n",
    "# ['apel', 'jeruk', 'semangka']\n",
    "#    0        1         2\n",
    "\n",
    "# index -> posisi suatu value di dalam list, dimulai dari 0 \n",
    "# value -> nilai pada list\n",
    "\n",
    "print(buah[1])"
   ]
  },
  {
   "cell_type": "code",
   "execution_count": 27,
   "metadata": {
    "colab": {
     "base_uri": "https://localhost:8080/",
     "height": 34
    },
    "colab_type": "code",
    "executionInfo": {
     "elapsed": 868,
     "status": "ok",
     "timestamp": 1597755513922,
     "user": {
      "displayName": "Dzaky Widya Putra",
      "photoUrl": "https://lh3.googleusercontent.com/a-/AOh14Gi6TiaaJWbtjCNtNI6Yfmx6g1kRO8nSSJR3cLk-=s64",
      "userId": "15085174766637180354"
     },
     "user_tz": -420
    },
    "id": "BrzWMbmwn5E8",
    "outputId": "80f0cd28-99b7-4453-920d-d216aa53c3f2"
   },
   "outputs": [
    {
     "data": {
      "text/plain": [
       "['apel', 'jeruk', 'semangka', 'pisang', 'melon']"
      ]
     },
     "execution_count": 27,
     "metadata": {
      "tags": []
     },
     "output_type": "execute_result"
    }
   ],
   "source": [
    "# Slicing \n",
    "\n",
    "# buah = ['apel', 'jeruk', 'semangka', 'pisang', 'melon']\n",
    "\n",
    "# Cara kita mengambil sebagian nilai pada list\n",
    "\n",
    "# variabel[0:1]\n",
    "\n",
    "buah"
   ]
  },
  {
   "cell_type": "code",
   "execution_count": 28,
   "metadata": {
    "colab": {
     "base_uri": "https://localhost:8080/",
     "height": 34
    },
    "colab_type": "code",
    "executionInfo": {
     "elapsed": 873,
     "status": "ok",
     "timestamp": 1597755538585,
     "user": {
      "displayName": "Dzaky Widya Putra",
      "photoUrl": "https://lh3.googleusercontent.com/a-/AOh14Gi6TiaaJWbtjCNtNI6Yfmx6g1kRO8nSSJR3cLk-=s64",
      "userId": "15085174766637180354"
     },
     "user_tz": -420
    },
    "id": "pl1_WcVopLcw",
    "outputId": "46dd97ac-f3cd-4f92-df59-26d42ec659d5"
   },
   "outputs": [
    {
     "data": {
      "text/plain": [
       "['melon']"
      ]
     },
     "execution_count": 28,
     "metadata": {
      "tags": []
     },
     "output_type": "execute_result"
    }
   ],
   "source": [
    "buah[4:]"
   ]
  },
  {
   "cell_type": "markdown",
   "metadata": {
    "colab_type": "text",
    "id": "hXgrtbmkpyuS"
   },
   "source": [
    "#### Dictionary"
   ]
  },
  {
   "cell_type": "code",
   "execution_count": 133,
   "metadata": {
    "colab": {},
    "colab_type": "code",
    "executionInfo": {
     "elapsed": 809,
     "status": "ok",
     "timestamp": 1597762715317,
     "user": {
      "displayName": "Dzaky Widya Putra",
      "photoUrl": "https://lh3.googleusercontent.com/a-/AOh14Gi6TiaaJWbtjCNtNI6Yfmx6g1kRO8nSSJR3cLk-=s64",
      "userId": "15085174766637180354"
     },
     "user_tz": -420
    },
    "id": "grVvR7QVr9ea"
   },
   "outputs": [],
   "source": [
    "# Inisiasi dictionary kosong\n",
    "\n",
    "kamus = {}"
   ]
  },
  {
   "cell_type": "code",
   "execution_count": 48,
   "metadata": {
    "colab": {},
    "colab_type": "code",
    "executionInfo": {
     "elapsed": 806,
     "status": "ok",
     "timestamp": 1597756252518,
     "user": {
      "displayName": "Dzaky Widya Putra",
      "photoUrl": "https://lh3.googleusercontent.com/a-/AOh14Gi6TiaaJWbtjCNtNI6Yfmx6g1kRO8nSSJR3cLk-=s64",
      "userId": "15085174766637180354"
     },
     "user_tz": -420
    },
    "id": "EuMoM4eIr-7c"
   },
   "outputs": [],
   "source": [
    "# Cara menambahkan nilai pada dictionary\n",
    "\n",
    "kamus['grape'] = 'anggur'"
   ]
  },
  {
   "cell_type": "code",
   "execution_count": 49,
   "metadata": {
    "colab": {
     "base_uri": "https://localhost:8080/",
     "height": 34
    },
    "colab_type": "code",
    "executionInfo": {
     "elapsed": 841,
     "status": "ok",
     "timestamp": 1597756254207,
     "user": {
      "displayName": "Dzaky Widya Putra",
      "photoUrl": "https://lh3.googleusercontent.com/a-/AOh14Gi6TiaaJWbtjCNtNI6Yfmx6g1kRO8nSSJR3cLk-=s64",
      "userId": "15085174766637180354"
     },
     "user_tz": -420
    },
    "id": "UZ9Zg0RZsWNr",
    "outputId": "d90196e7-301a-4482-9305-aaf98e70bf59"
   },
   "outputs": [
    {
     "data": {
      "text/plain": [
       "{'grape': 'anggur', 'orange': 'jeruk'}"
      ]
     },
     "execution_count": 49,
     "metadata": {
      "tags": []
     },
     "output_type": "execute_result"
    }
   ],
   "source": [
    "kamus"
   ]
  },
  {
   "cell_type": "code",
   "execution_count": 36,
   "metadata": {
    "colab": {},
    "colab_type": "code",
    "executionInfo": {
     "elapsed": 798,
     "status": "ok",
     "timestamp": 1597755966164,
     "user": {
      "displayName": "Dzaky Widya Putra",
      "photoUrl": "https://lh3.googleusercontent.com/a-/AOh14Gi6TiaaJWbtjCNtNI6Yfmx6g1kRO8nSSJR3cLk-=s64",
      "userId": "15085174766637180354"
     },
     "user_tz": -420
    },
    "id": "MM7uwrHzpxeL"
   },
   "outputs": [],
   "source": [
    "kamus = {\n",
    "    'apple': 'apel',\n",
    "    'banana': 'pisang',\n",
    "    'watermelon': 'semangka'\n",
    "}"
   ]
  },
  {
   "cell_type": "code",
   "execution_count": 35,
   "metadata": {
    "colab": {
     "base_uri": "https://localhost:8080/",
     "height": 35
    },
    "colab_type": "code",
    "executionInfo": {
     "elapsed": 941,
     "status": "ok",
     "timestamp": 1597755950850,
     "user": {
      "displayName": "Dzaky Widya Putra",
      "photoUrl": "https://lh3.googleusercontent.com/a-/AOh14Gi6TiaaJWbtjCNtNI6Yfmx6g1kRO8nSSJR3cLk-=s64",
      "userId": "15085174766637180354"
     },
     "user_tz": -420
    },
    "id": "BxGq3MBOqPF7",
    "outputId": "a8758612-d49a-4b46-e886-2ccca07b4788"
   },
   "outputs": [
    {
     "data": {
      "application/vnd.google.colaboratory.intrinsic+json": {
       "type": "string"
      },
      "text/plain": [
       "'pisang'"
      ]
     },
     "execution_count": 35,
     "metadata": {
      "tags": []
     },
     "output_type": "execute_result"
    }
   ],
   "source": [
    "kamus['banana']"
   ]
  },
  {
   "cell_type": "markdown",
   "metadata": {
    "colab_type": "text",
    "id": "QOFzUQd6spaM"
   },
   "source": [
    "### Convert Data Type"
   ]
  },
  {
   "cell_type": "code",
   "execution_count": 50,
   "metadata": {
    "colab": {},
    "colab_type": "code",
    "executionInfo": {
     "elapsed": 890,
     "status": "ok",
     "timestamp": 1597756363633,
     "user": {
      "displayName": "Dzaky Widya Putra",
      "photoUrl": "https://lh3.googleusercontent.com/a-/AOh14Gi6TiaaJWbtjCNtNI6Yfmx6g1kRO8nSSJR3cLk-=s64",
      "userId": "15085174766637180354"
     },
     "user_tz": -420
    },
    "id": "6TvY3fcWsouS"
   },
   "outputs": [],
   "source": [
    "# int() , float() , str()"
   ]
  },
  {
   "cell_type": "code",
   "execution_count": 54,
   "metadata": {
    "colab": {
     "base_uri": "https://localhost:8080/",
     "height": 34
    },
    "colab_type": "code",
    "executionInfo": {
     "elapsed": 725,
     "status": "ok",
     "timestamp": 1597756422136,
     "user": {
      "displayName": "Dzaky Widya Putra",
      "photoUrl": "https://lh3.googleusercontent.com/a-/AOh14Gi6TiaaJWbtjCNtNI6Yfmx6g1kRO8nSSJR3cLk-=s64",
      "userId": "15085174766637180354"
     },
     "user_tz": -420
    },
    "id": "CvqN9uyKs09_",
    "outputId": "0a27bd0a-f68e-495e-cc57-5fb0282d04cb"
   },
   "outputs": [
    {
     "data": {
      "text/plain": [
       "str"
      ]
     },
     "execution_count": 54,
     "metadata": {
      "tags": []
     },
     "output_type": "execute_result"
    }
   ],
   "source": [
    "a = '32'\n",
    "\n",
    "type(a)"
   ]
  },
  {
   "cell_type": "code",
   "execution_count": 56,
   "metadata": {
    "colab": {
     "base_uri": "https://localhost:8080/",
     "height": 34
    },
    "colab_type": "code",
    "executionInfo": {
     "elapsed": 909,
     "status": "ok",
     "timestamp": 1597756468975,
     "user": {
      "displayName": "Dzaky Widya Putra",
      "photoUrl": "https://lh3.googleusercontent.com/a-/AOh14Gi6TiaaJWbtjCNtNI6Yfmx6g1kRO8nSSJR3cLk-=s64",
      "userId": "15085174766637180354"
     },
     "user_tz": -420
    },
    "id": "enXGVPD2tDST",
    "outputId": "9ae5b4f0-34f4-4594-de2b-96852981f528"
   },
   "outputs": [
    {
     "data": {
      "text/plain": [
       "int"
      ]
     },
     "execution_count": 56,
     "metadata": {
      "tags": []
     },
     "output_type": "execute_result"
    }
   ],
   "source": [
    "b = int(a)\n",
    "\n",
    "type(b)"
   ]
  },
  {
   "cell_type": "markdown",
   "metadata": {
    "colab_type": "text",
    "id": "53afNBvjtZfJ"
   },
   "source": [
    "### Operator"
   ]
  },
  {
   "cell_type": "markdown",
   "metadata": {
    "colab_type": "text",
    "id": "K5YdzT2btgiD"
   },
   "source": [
    "#### Arithmetic"
   ]
  },
  {
   "cell_type": "code",
   "execution_count": 134,
   "metadata": {
    "colab": {},
    "colab_type": "code",
    "executionInfo": {
     "elapsed": 969,
     "status": "ok",
     "timestamp": 1597762753482,
     "user": {
      "displayName": "Dzaky Widya Putra",
      "photoUrl": "https://lh3.googleusercontent.com/a-/AOh14Gi6TiaaJWbtjCNtNI6Yfmx6g1kRO8nSSJR3cLk-=s64",
      "userId": "15085174766637180354"
     },
     "user_tz": -420
    },
    "id": "EeycfDP8FIFv"
   },
   "outputs": [],
   "source": [
    "# Operator untuk melakukan proses aritmatika ( + , - , * , / , % )"
   ]
  },
  {
   "cell_type": "code",
   "execution_count": 69,
   "metadata": {
    "colab": {},
    "colab_type": "code",
    "executionInfo": {
     "elapsed": 2548,
     "status": "ok",
     "timestamp": 1597756753100,
     "user": {
      "displayName": "Dzaky Widya Putra",
      "photoUrl": "https://lh3.googleusercontent.com/a-/AOh14Gi6TiaaJWbtjCNtNI6Yfmx6g1kRO8nSSJR3cLk-=s64",
      "userId": "15085174766637180354"
     },
     "user_tz": -420
    },
    "id": "pjikxQKgtrcO"
   },
   "outputs": [],
   "source": [
    "a = 5\n",
    "b = 10\n",
    "\n",
    "c = '15'"
   ]
  },
  {
   "cell_type": "code",
   "execution_count": 71,
   "metadata": {
    "colab": {
     "base_uri": "https://localhost:8080/",
     "height": 34
    },
    "colab_type": "code",
    "executionInfo": {
     "elapsed": 1590,
     "status": "ok",
     "timestamp": 1597756837856,
     "user": {
      "displayName": "Dzaky Widya Putra",
      "photoUrl": "https://lh3.googleusercontent.com/a-/AOh14Gi6TiaaJWbtjCNtNI6Yfmx6g1kRO8nSSJR3cLk-=s64",
      "userId": "15085174766637180354"
     },
     "user_tz": -420
    },
    "id": "inpMo08LuT5K",
    "outputId": "e20a003b-c1b3-43d6-d044-364ebef24498"
   },
   "outputs": [
    {
     "data": {
      "text/plain": [
       "20"
      ]
     },
     "execution_count": 71,
     "metadata": {
      "tags": []
     },
     "output_type": "execute_result"
    }
   ],
   "source": [
    "a + int(c)"
   ]
  },
  {
   "cell_type": "code",
   "execution_count": 73,
   "metadata": {
    "colab": {
     "base_uri": "https://localhost:8080/",
     "height": 35
    },
    "colab_type": "code",
    "executionInfo": {
     "elapsed": 815,
     "status": "ok",
     "timestamp": 1597756884790,
     "user": {
      "displayName": "Dzaky Widya Putra",
      "photoUrl": "https://lh3.googleusercontent.com/a-/AOh14Gi6TiaaJWbtjCNtNI6Yfmx6g1kRO8nSSJR3cLk-=s64",
      "userId": "15085174766637180354"
     },
     "user_tz": -420
    },
    "id": "ipDWWqlNutxt",
    "outputId": "e9a2bce2-5ecb-44c9-a395-12bf7e98d683"
   },
   "outputs": [
    {
     "data": {
      "application/vnd.google.colaboratory.intrinsic+json": {
       "type": "string"
      },
      "text/plain": [
       "'515'"
      ]
     },
     "execution_count": 73,
     "metadata": {
      "tags": []
     },
     "output_type": "execute_result"
    }
   ],
   "source": [
    "# 'string1' + 'string2'  =  'string1string2'\n",
    "\n",
    "str(a) + c"
   ]
  },
  {
   "cell_type": "code",
   "execution_count": 67,
   "metadata": {
    "colab": {
     "base_uri": "https://localhost:8080/",
     "height": 34
    },
    "colab_type": "code",
    "executionInfo": {
     "elapsed": 844,
     "status": "ok",
     "timestamp": 1597756680888,
     "user": {
      "displayName": "Dzaky Widya Putra",
      "photoUrl": "https://lh3.googleusercontent.com/a-/AOh14Gi6TiaaJWbtjCNtNI6Yfmx6g1kRO8nSSJR3cLk-=s64",
      "userId": "15085174766637180354"
     },
     "user_tz": -420
    },
    "id": "fkSULt1et7xe",
    "outputId": "2cbce749-df47-4ccd-d53d-bddc92848c7a"
   },
   "outputs": [
    {
     "data": {
      "text/plain": [
       "49"
      ]
     },
     "execution_count": 67,
     "metadata": {
      "tags": []
     },
     "output_type": "execute_result"
    }
   ],
   "source": [
    "7**2"
   ]
  },
  {
   "cell_type": "code",
   "execution_count": 61,
   "metadata": {
    "colab": {
     "base_uri": "https://localhost:8080/",
     "height": 34
    },
    "colab_type": "code",
    "executionInfo": {
     "elapsed": 862,
     "status": "ok",
     "timestamp": 1597756634792,
     "user": {
      "displayName": "Dzaky Widya Putra",
      "photoUrl": "https://lh3.googleusercontent.com/a-/AOh14Gi6TiaaJWbtjCNtNI6Yfmx6g1kRO8nSSJR3cLk-=s64",
      "userId": "15085174766637180354"
     },
     "user_tz": -420
    },
    "id": "L7qO5sshtwBO",
    "outputId": "8e236d86-154c-4e98-90d9-dd937d795009"
   },
   "outputs": [
    {
     "data": {
      "text/plain": [
       "0.5"
      ]
     },
     "execution_count": 61,
     "metadata": {
      "tags": []
     },
     "output_type": "execute_result"
    }
   ],
   "source": [
    "a + b"
   ]
  },
  {
   "cell_type": "code",
   "execution_count": 62,
   "metadata": {
    "colab": {
     "base_uri": "https://localhost:8080/",
     "height": 34
    },
    "colab_type": "code",
    "executionInfo": {
     "elapsed": 976,
     "status": "ok",
     "timestamp": 1597756646601,
     "user": {
      "displayName": "Dzaky Widya Putra",
      "photoUrl": "https://lh3.googleusercontent.com/a-/AOh14Gi6TiaaJWbtjCNtNI6Yfmx6g1kRO8nSSJR3cLk-=s64",
      "userId": "15085174766637180354"
     },
     "user_tz": -420
    },
    "id": "4v4xfBqQtv9N",
    "outputId": "bb481be9-fc59-4e24-da43-011a1ed3da0b"
   },
   "outputs": [
    {
     "data": {
      "text/plain": [
       "-5"
      ]
     },
     "execution_count": 62,
     "metadata": {
      "tags": []
     },
     "output_type": "execute_result"
    }
   ],
   "source": [
    "a - b"
   ]
  },
  {
   "cell_type": "code",
   "execution_count": 63,
   "metadata": {
    "colab": {
     "base_uri": "https://localhost:8080/",
     "height": 34
    },
    "colab_type": "code",
    "executionInfo": {
     "elapsed": 801,
     "status": "ok",
     "timestamp": 1597756650551,
     "user": {
      "displayName": "Dzaky Widya Putra",
      "photoUrl": "https://lh3.googleusercontent.com/a-/AOh14Gi6TiaaJWbtjCNtNI6Yfmx6g1kRO8nSSJR3cLk-=s64",
      "userId": "15085174766637180354"
     },
     "user_tz": -420
    },
    "id": "hNhJZRbhtv5q",
    "outputId": "84e303ca-edfb-4a23-e694-f957790e654f"
   },
   "outputs": [
    {
     "data": {
      "text/plain": [
       "50"
      ]
     },
     "execution_count": 63,
     "metadata": {
      "tags": []
     },
     "output_type": "execute_result"
    }
   ],
   "source": [
    "a * b"
   ]
  },
  {
   "cell_type": "code",
   "execution_count": 68,
   "metadata": {
    "colab": {
     "base_uri": "https://localhost:8080/",
     "height": 34
    },
    "colab_type": "code",
    "executionInfo": {
     "elapsed": 1167,
     "status": "ok",
     "timestamp": 1597756690226,
     "user": {
      "displayName": "Dzaky Widya Putra",
      "photoUrl": "https://lh3.googleusercontent.com/a-/AOh14Gi6TiaaJWbtjCNtNI6Yfmx6g1kRO8nSSJR3cLk-=s64",
      "userId": "15085174766637180354"
     },
     "user_tz": -420
    },
    "id": "TvoduSEYtv0y",
    "outputId": "68d31f8a-ab78-4c6f-9e28-44a9b775eeca"
   },
   "outputs": [
    {
     "data": {
      "text/plain": [
       "0.5"
      ]
     },
     "execution_count": 68,
     "metadata": {
      "tags": []
     },
     "output_type": "execute_result"
    }
   ],
   "source": [
    "a / b"
   ]
  },
  {
   "cell_type": "markdown",
   "metadata": {
    "colab_type": "text",
    "id": "FRSMsmIStiza"
   },
   "source": [
    "#### Comparison"
   ]
  },
  {
   "cell_type": "code",
   "execution_count": null,
   "metadata": {
    "colab": {},
    "colab_type": "code",
    "id": "oVqCcf7cvDkz"
   },
   "outputs": [],
   "source": [
    "# Comparison operator selalu MENGHASILKAN BOOLEAN (TRUE / FALSE)\n",
    "# < , > , <= , >= , == , !="
   ]
  },
  {
   "cell_type": "code",
   "execution_count": 78,
   "metadata": {
    "colab": {},
    "colab_type": "code",
    "executionInfo": {
     "elapsed": 843,
     "status": "ok",
     "timestamp": 1597757088294,
     "user": {
      "displayName": "Dzaky Widya Putra",
      "photoUrl": "https://lh3.googleusercontent.com/a-/AOh14Gi6TiaaJWbtjCNtNI6Yfmx6g1kRO8nSSJR3cLk-=s64",
      "userId": "15085174766637180354"
     },
     "user_tz": -420
    },
    "id": "ZCP2oKtyvDfm"
   },
   "outputs": [],
   "source": [
    "a = 10\n",
    "b = 10"
   ]
  },
  {
   "cell_type": "code",
   "execution_count": 81,
   "metadata": {
    "colab": {
     "base_uri": "https://localhost:8080/",
     "height": 34
    },
    "colab_type": "code",
    "executionInfo": {
     "elapsed": 885,
     "status": "ok",
     "timestamp": 1597757101744,
     "user": {
      "displayName": "Dzaky Widya Putra",
      "photoUrl": "https://lh3.googleusercontent.com/a-/AOh14Gi6TiaaJWbtjCNtNI6Yfmx6g1kRO8nSSJR3cLk-=s64",
      "userId": "15085174766637180354"
     },
     "user_tz": -420
    },
    "id": "r4D1omsTvDcc",
    "outputId": "6f5c62b2-b4d4-4c83-c5c5-d56b0e4d4c7d"
   },
   "outputs": [
    {
     "data": {
      "text/plain": [
       "False"
      ]
     },
     "execution_count": 81,
     "metadata": {
      "tags": []
     },
     "output_type": "execute_result"
    }
   ],
   "source": [
    "a != b"
   ]
  },
  {
   "cell_type": "markdown",
   "metadata": {
    "colab_type": "text",
    "id": "krVCJHM4ti7_"
   },
   "source": [
    "#### Logical"
   ]
  },
  {
   "cell_type": "code",
   "execution_count": 82,
   "metadata": {
    "colab": {},
    "colab_type": "code",
    "executionInfo": {
     "elapsed": 929,
     "status": "ok",
     "timestamp": 1597757181083,
     "user": {
      "displayName": "Dzaky Widya Putra",
      "photoUrl": "https://lh3.googleusercontent.com/a-/AOh14Gi6TiaaJWbtjCNtNI6Yfmx6g1kRO8nSSJR3cLk-=s64",
      "userId": "15085174766637180354"
     },
     "user_tz": -420
    },
    "id": "R_2zQ2w5vyV1"
   },
   "outputs": [],
   "source": [
    "# Logical operator MEMBANDINGKAN BOOLEAN, dan selalu MENGHASILKAN BOOLEAN (TRUE / FALSE)\n",
    "# and , or , not\n",
    "\n",
    "# True and True = True\n",
    "# True and False = False\n",
    "# False and True = False\n",
    "# False and False = False\n",
    "\n",
    "# True or True = True\n",
    "# True or False = True\n",
    "# False or True = True\n",
    "# False or False = False"
   ]
  },
  {
   "cell_type": "code",
   "execution_count": 87,
   "metadata": {
    "colab": {},
    "colab_type": "code",
    "executionInfo": {
     "elapsed": 661,
     "status": "ok",
     "timestamp": 1597757445130,
     "user": {
      "displayName": "Dzaky Widya Putra",
      "photoUrl": "https://lh3.googleusercontent.com/a-/AOh14Gi6TiaaJWbtjCNtNI6Yfmx6g1kRO8nSSJR3cLk-=s64",
      "userId": "15085174766637180354"
     },
     "user_tz": -420
    },
    "id": "vp3VnR0Hw7aj"
   },
   "outputs": [],
   "source": [
    "a = 5"
   ]
  },
  {
   "cell_type": "code",
   "execution_count": 89,
   "metadata": {
    "colab": {
     "base_uri": "https://localhost:8080/",
     "height": 34
    },
    "colab_type": "code",
    "executionInfo": {
     "elapsed": 1011,
     "status": "ok",
     "timestamp": 1597757505115,
     "user": {
      "displayName": "Dzaky Widya Putra",
      "photoUrl": "https://lh3.googleusercontent.com/a-/AOh14Gi6TiaaJWbtjCNtNI6Yfmx6g1kRO8nSSJR3cLk-=s64",
      "userId": "15085174766637180354"
     },
     "user_tz": -420
    },
    "id": "QvAxQk0dv9J7",
    "outputId": "a53b33cc-a92f-46fe-cf56-06259f66760a"
   },
   "outputs": [
    {
     "data": {
      "text/plain": [
       "True"
      ]
     },
     "execution_count": 89,
     "metadata": {
      "tags": []
     },
     "output_type": "execute_result"
    }
   ],
   "source": [
    "(a > 10) or (a < 8)"
   ]
  },
  {
   "cell_type": "code",
   "execution_count": 91,
   "metadata": {
    "colab": {
     "base_uri": "https://localhost:8080/",
     "height": 34
    },
    "colab_type": "code",
    "executionInfo": {
     "elapsed": 849,
     "status": "ok",
     "timestamp": 1597757537447,
     "user": {
      "displayName": "Dzaky Widya Putra",
      "photoUrl": "https://lh3.googleusercontent.com/a-/AOh14Gi6TiaaJWbtjCNtNI6Yfmx6g1kRO8nSSJR3cLk-=s64",
      "userId": "15085174766637180354"
     },
     "user_tz": -420
    },
    "id": "sFszE7eQv9Ly",
    "outputId": "f2dd609f-a308-42d2-af90-9798f2f8acca"
   },
   "outputs": [
    {
     "data": {
      "text/plain": [
       "True"
      ]
     },
     "execution_count": 91,
     "metadata": {
      "tags": []
     },
     "output_type": "execute_result"
    }
   ],
   "source": [
    "not False"
   ]
  },
  {
   "cell_type": "markdown",
   "metadata": {
    "colab_type": "text",
    "id": "wXA2ff8RtjDI"
   },
   "source": [
    "#### Membership"
   ]
  },
  {
   "cell_type": "code",
   "execution_count": 92,
   "metadata": {
    "colab": {},
    "colab_type": "code",
    "executionInfo": {
     "elapsed": 732,
     "status": "ok",
     "timestamp": 1597757638036,
     "user": {
      "displayName": "Dzaky Widya Putra",
      "photoUrl": "https://lh3.googleusercontent.com/a-/AOh14Gi6TiaaJWbtjCNtNI6Yfmx6g1kRO8nSSJR3cLk-=s64",
      "userId": "15085174766637180354"
     },
     "user_tz": -420
    },
    "id": "WzEObewmtbt6"
   },
   "outputs": [],
   "source": [
    "# Membership operator selalu MENGHASILKAN BOOLEAN (TRUE / FALSE)\n",
    "# Biasanya digunakan untuk mengecek apakah ada sebuah nilai tertentu di dalam list\n",
    "\n",
    "# in , not in"
   ]
  },
  {
   "cell_type": "code",
   "execution_count": 97,
   "metadata": {
    "colab": {},
    "colab_type": "code",
    "executionInfo": {
     "elapsed": 785,
     "status": "ok",
     "timestamp": 1597757906980,
     "user": {
      "displayName": "Dzaky Widya Putra",
      "photoUrl": "https://lh3.googleusercontent.com/a-/AOh14Gi6TiaaJWbtjCNtNI6Yfmx6g1kRO8nSSJR3cLk-=s64",
      "userId": "15085174766637180354"
     },
     "user_tz": -420
    },
    "id": "vyQ-Ae69xsHx"
   },
   "outputs": [],
   "source": [
    "numbers = [1, 2, 3, 'empat', 5, 'enam']"
   ]
  },
  {
   "cell_type": "code",
   "execution_count": 99,
   "metadata": {
    "colab": {
     "base_uri": "https://localhost:8080/",
     "height": 34
    },
    "colab_type": "code",
    "executionInfo": {
     "elapsed": 875,
     "status": "ok",
     "timestamp": 1597757935900,
     "user": {
      "displayName": "Dzaky Widya Putra",
      "photoUrl": "https://lh3.googleusercontent.com/a-/AOh14Gi6TiaaJWbtjCNtNI6Yfmx6g1kRO8nSSJR3cLk-=s64",
      "userId": "15085174766637180354"
     },
     "user_tz": -420
    },
    "id": "j3YIanLbyZJG",
    "outputId": "a37808d9-0863-4d4d-bc5f-585fe52b1798"
   },
   "outputs": [
    {
     "data": {
      "text/plain": [
       "True"
      ]
     },
     "execution_count": 99,
     "metadata": {
      "tags": []
     },
     "output_type": "execute_result"
    }
   ],
   "source": [
    "'empat' in numbers"
   ]
  },
  {
   "cell_type": "code",
   "execution_count": 100,
   "metadata": {
    "colab": {},
    "colab_type": "code",
    "executionInfo": {
     "elapsed": 775,
     "status": "ok",
     "timestamp": 1597758000448,
     "user": {
      "displayName": "Dzaky Widya Putra",
      "photoUrl": "https://lh3.googleusercontent.com/a-/AOh14Gi6TiaaJWbtjCNtNI6Yfmx6g1kRO8nSSJR3cLk-=s64",
      "userId": "15085174766637180354"
     },
     "user_tz": -420
    },
    "id": "6s09mUqzy_t7"
   },
   "outputs": [],
   "source": [
    "kamus = {\n",
    "    'apple': 'apel',\n",
    "    'banana': 'pisang'\n",
    "}"
   ]
  },
  {
   "cell_type": "code",
   "execution_count": 104,
   "metadata": {
    "colab": {
     "base_uri": "https://localhost:8080/",
     "height": 34
    },
    "colab_type": "code",
    "executionInfo": {
     "elapsed": 880,
     "status": "ok",
     "timestamp": 1597758025948,
     "user": {
      "displayName": "Dzaky Widya Putra",
      "photoUrl": "https://lh3.googleusercontent.com/a-/AOh14Gi6TiaaJWbtjCNtNI6Yfmx6g1kRO8nSSJR3cLk-=s64",
      "userId": "15085174766637180354"
     },
     "user_tz": -420
    },
    "id": "Yah3RLgUzEmZ",
    "outputId": "2b2c4f8a-e6bd-4914-99d2-1196d8d2d4f6"
   },
   "outputs": [
    {
     "data": {
      "text/plain": [
       "False"
      ]
     },
     "execution_count": 104,
     "metadata": {
      "tags": []
     },
     "output_type": "execute_result"
    }
   ],
   "source": [
    "'apel' in kamus"
   ]
  },
  {
   "cell_type": "markdown",
   "metadata": {
    "colab_type": "text",
    "id": "90HjtDT0zuRL"
   },
   "source": [
    "### Conditional"
   ]
  },
  {
   "cell_type": "code",
   "execution_count": 105,
   "metadata": {
    "colab": {},
    "colab_type": "code",
    "executionInfo": {
     "elapsed": 770,
     "status": "ok",
     "timestamp": 1597758219689,
     "user": {
      "displayName": "Dzaky Widya Putra",
      "photoUrl": "https://lh3.googleusercontent.com/a-/AOh14Gi6TiaaJWbtjCNtNI6Yfmx6g1kRO8nSSJR3cLk-=s64",
      "userId": "15085174766637180354"
     },
     "user_tz": -420
    },
    "id": "It6e_cJ-zv9A"
   },
   "outputs": [],
   "source": [
    "# if (WAJIB)\n",
    "#\n",
    "# elif (OPSIONAL)\n",
    "#\n",
    "# else (OPSIONAL)"
   ]
  },
  {
   "cell_type": "code",
   "execution_count": 116,
   "metadata": {
    "colab": {
     "base_uri": "https://localhost:8080/",
     "height": 34
    },
    "colab_type": "code",
    "executionInfo": {
     "elapsed": 899,
     "status": "ok",
     "timestamp": 1597759040554,
     "user": {
      "displayName": "Dzaky Widya Putra",
      "photoUrl": "https://lh3.googleusercontent.com/a-/AOh14Gi6TiaaJWbtjCNtNI6Yfmx6g1kRO8nSSJR3cLk-=s64",
      "userId": "15085174766637180354"
     },
     "user_tz": -420
    },
    "id": "KbvdFfTSz6JA",
    "outputId": "369d534f-0011-4110-a906-fd8671e66965"
   },
   "outputs": [
    {
     "name": "stdout",
     "output_type": "stream",
     "text": [
      "LULUS\n"
     ]
    }
   ],
   "source": [
    "nilai = 75\n",
    "\n",
    "if nilai > 70:\n",
    "  print('LULUS')\n",
    "else:\n",
    "  print('TIDAK LULUS')"
   ]
  },
  {
   "cell_type": "code",
   "execution_count": 121,
   "metadata": {
    "colab": {
     "base_uri": "https://localhost:8080/",
     "height": 34
    },
    "colab_type": "code",
    "executionInfo": {
     "elapsed": 759,
     "status": "ok",
     "timestamp": 1597760071346,
     "user": {
      "displayName": "Dzaky Widya Putra",
      "photoUrl": "https://lh3.googleusercontent.com/a-/AOh14Gi6TiaaJWbtjCNtNI6Yfmx6g1kRO8nSSJR3cLk-=s64",
      "userId": "15085174766637180354"
     },
     "user_tz": -420
    },
    "id": "OmkcmiOe1nlb",
    "outputId": "bc4071de-87b8-4193-caea-7e4f24b0ae9b"
   },
   "outputs": [
    {
     "name": "stdout",
     "output_type": "stream",
     "text": [
      "C\n"
     ]
    }
   ],
   "source": [
    "# PROGRAM UNTUK MENENTUKAN NILAI MAHASISWA\n",
    "\n",
    "# 0 - 20 = E\n",
    "# 21 - 40 = D\n",
    "# 41 - 60 = C\n",
    "# 61 - 80 = B\n",
    "# 81 - 100 = A\n",
    "\n",
    "nilai = 50\n",
    "\n",
    "if nilai <= 20:\n",
    "  print('E')\n",
    "elif nilai <= 40:\n",
    "  print('D')\n",
    "elif nilai <= 60:\n",
    "  print('C')\n",
    "elif nilai <= 80:\n",
    "  print('B')\n",
    "else:\n",
    "  print('A')"
   ]
  },
  {
   "cell_type": "markdown",
   "metadata": {
    "colab_type": "text",
    "id": "guINHzDK7IIq"
   },
   "source": [
    "### Loop"
   ]
  },
  {
   "cell_type": "code",
   "execution_count": 125,
   "metadata": {
    "colab": {
     "base_uri": "https://localhost:8080/",
     "height": 102
    },
    "colab_type": "code",
    "executionInfo": {
     "elapsed": 2484,
     "status": "ok",
     "timestamp": 1597760377296,
     "user": {
      "displayName": "Dzaky Widya Putra",
      "photoUrl": "https://lh3.googleusercontent.com/a-/AOh14Gi6TiaaJWbtjCNtNI6Yfmx6g1kRO8nSSJR3cLk-=s64",
      "userId": "15085174766637180354"
     },
     "user_tz": -420
    },
    "id": "mLat4nZC5rey",
    "outputId": "ba47fc8f-7404-457c-dcbb-a6cf0b6b86d1"
   },
   "outputs": [
    {
     "name": "stdout",
     "output_type": "stream",
     "text": [
      "hello\n",
      "hello\n",
      "hello\n",
      "hello\n",
      "hello\n"
     ]
    }
   ],
   "source": [
    "# For\n",
    "# Biasanya digunakan untuk melakukan iterasi pada list\n",
    "\n",
    "numbers = [1, 2, 3, 4, 5]\n",
    "\n",
    "for i in numbers:\n",
    "  print('hello')"
   ]
  },
  {
   "cell_type": "code",
   "execution_count": 135,
   "metadata": {
    "colab": {
     "base_uri": "https://localhost:8080/",
     "height": 102
    },
    "colab_type": "code",
    "executionInfo": {
     "elapsed": 801,
     "status": "ok",
     "timestamp": 1597762791962,
     "user": {
      "displayName": "Dzaky Widya Putra",
      "photoUrl": "https://lh3.googleusercontent.com/a-/AOh14Gi6TiaaJWbtjCNtNI6Yfmx6g1kRO8nSSJR3cLk-=s64",
      "userId": "15085174766637180354"
     },
     "user_tz": -420
    },
    "id": "q7Q1FRJO8TtC",
    "outputId": "42da4dfb-f098-4943-ae97-cab58a0cc503"
   },
   "outputs": [
    {
     "name": "stdout",
     "output_type": "stream",
     "text": [
      "tomat\n",
      "tomat\n",
      "cabe\n",
      "cabe\n",
      "cabe\n"
     ]
    }
   ],
   "source": [
    "numbers = [1, 2, 3, 4, 5]\n",
    "\n",
    "for i in numbers:\n",
    "  if i < 3:\n",
    "    print('tomat')\n",
    "  else:\n",
    "    print('cabe')"
   ]
  },
  {
   "cell_type": "code",
   "execution_count": 129,
   "metadata": {
    "colab": {
     "base_uri": "https://localhost:8080/",
     "height": 102
    },
    "colab_type": "code",
    "executionInfo": {
     "elapsed": 818,
     "status": "ok",
     "timestamp": 1597761353110,
     "user": {
      "displayName": "Dzaky Widya Putra",
      "photoUrl": "https://lh3.googleusercontent.com/a-/AOh14Gi6TiaaJWbtjCNtNI6Yfmx6g1kRO8nSSJR3cLk-=s64",
      "userId": "15085174766637180354"
     },
     "user_tz": -420
    },
    "id": "AVnOWqrP7SFW",
    "outputId": "81625925-9a94-4194-cbac-d7c52aa9524c"
   },
   "outputs": [
    {
     "name": "stdout",
     "output_type": "stream",
     "text": [
      "ganjil\n",
      "genap\n",
      "ganjil\n",
      "genap\n",
      "ganjil\n"
     ]
    }
   ],
   "source": [
    "# Buat Program Untuk Mengecek Sebuah bilangan itu genap atau ganjil di dalam sebuah list\n",
    "\n",
    "numbers = [1, 2, 3, 4, 5]\n",
    "\n",
    "for i in numbers:\n",
    "  if (i % 2) == 0:\n",
    "    print('genap')\n",
    "  else:\n",
    "    print('ganjil')"
   ]
  }
 ],
 "metadata": {
  "colab": {
   "authorship_tag": "ABX9TyMtD62wUsFrKFaeCUAS8A8l",
   "collapsed_sections": [
    "_glkKtRLlDLH",
    "kOZn0r3JlV3H",
    "daQdz0DYliYL",
    "YUdW6YEWl5TJ",
    "hXgrtbmkpyuS"
   ],
   "name": "[BATCH 40] - Intro to Python for Data Science - 1",
   "provenance": [],
   "toc_visible": true
  },
  "kernelspec": {
   "display_name": "Python 3",
   "language": "python",
   "name": "python3"
  },
  "language_info": {
   "codemirror_mode": {
    "name": "ipython",
    "version": 3
   },
   "file_extension": ".py",
   "mimetype": "text/x-python",
   "name": "python",
   "nbconvert_exporter": "python",
   "pygments_lexer": "ipython3",
   "version": "3.8.3"
  }
 },
 "nbformat": 4,
 "nbformat_minor": 1
}
