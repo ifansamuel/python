{
 "cells": [
  {
   "cell_type": "code",
   "execution_count": 68,
   "metadata": {},
   "outputs": [],
   "source": [
    "import pandas as pd\n",
    "import seaborn as sns\n",
    "import matplotlib.pyplot as plt\n",
    "# Import data bike\n",
    "data_bike = pd.read_csv('http://bit.ly/dwp-data-bike')\n",
    "data_youtube = pd.read_csv('http://bit.ly/dwp-data-youtube')\n",
    "data_ecommerce = pd.read_csv('http://bit.ly/dwp-data-ecommerce')\n",
    "data_playstore = pd.read_csv('http://bit.ly/dwp-data-playstore')"
   ]
  },
  {
   "cell_type": "code",
   "execution_count": 69,
   "metadata": {},
   "outputs": [],
   "source": [
    "df_bike = data_bike\n",
    "df_youtube = data_youtube\n",
    "df_ecommerce = data_ecommerce\n",
    "df_playstore = data_playstore"
   ]
  },
  {
   "cell_type": "code",
   "execution_count": 3,
   "metadata": {},
   "outputs": [
    {
     "data": {
      "text/html": [
       "<div>\n",
       "<style scoped>\n",
       "    .dataframe tbody tr th:only-of-type {\n",
       "        vertical-align: middle;\n",
       "    }\n",
       "\n",
       "    .dataframe tbody tr th {\n",
       "        vertical-align: top;\n",
       "    }\n",
       "\n",
       "    .dataframe thead th {\n",
       "        text-align: right;\n",
       "    }\n",
       "</style>\n",
       "<table border=\"1\" class=\"dataframe\">\n",
       "  <thead>\n",
       "    <tr style=\"text-align: right;\">\n",
       "      <th></th>\n",
       "      <th>tripduration</th>\n",
       "      <th>starttime</th>\n",
       "      <th>stoptime</th>\n",
       "      <th>start station name</th>\n",
       "      <th>end station name</th>\n",
       "      <th>bikeid</th>\n",
       "      <th>usertype</th>\n",
       "      <th>birth year</th>\n",
       "      <th>gender</th>\n",
       "    </tr>\n",
       "  </thead>\n",
       "  <tbody>\n",
       "    <tr>\n",
       "      <th>0</th>\n",
       "      <td>261</td>\n",
       "      <td>2019-08-01 00:14:55.9900</td>\n",
       "      <td>2019-08-01 00:19:17.4780</td>\n",
       "      <td>JC Medical Center</td>\n",
       "      <td>Liberty Light Rail</td>\n",
       "      <td>26268</td>\n",
       "      <td>Subscriber</td>\n",
       "      <td>1980</td>\n",
       "      <td>1</td>\n",
       "    </tr>\n",
       "    <tr>\n",
       "      <th>1</th>\n",
       "      <td>172</td>\n",
       "      <td>2019-08-01 00:23:06.9910</td>\n",
       "      <td>2019-08-01 00:25:59.1480</td>\n",
       "      <td>Dixon Mills</td>\n",
       "      <td>Grove St PATH</td>\n",
       "      <td>26162</td>\n",
       "      <td>Subscriber</td>\n",
       "      <td>1996</td>\n",
       "      <td>1</td>\n",
       "    </tr>\n",
       "    <tr>\n",
       "      <th>2</th>\n",
       "      <td>525</td>\n",
       "      <td>2019-08-01 00:23:28.6170</td>\n",
       "      <td>2019-08-01 00:32:13.7000</td>\n",
       "      <td>Newport Pkwy</td>\n",
       "      <td>Hamilton Park</td>\n",
       "      <td>29279</td>\n",
       "      <td>Subscriber</td>\n",
       "      <td>1991</td>\n",
       "      <td>1</td>\n",
       "    </tr>\n",
       "    <tr>\n",
       "      <th>3</th>\n",
       "      <td>219</td>\n",
       "      <td>2019-08-01 00:32:36.1410</td>\n",
       "      <td>2019-08-01 00:36:15.2730</td>\n",
       "      <td>Warren St</td>\n",
       "      <td>City Hall</td>\n",
       "      <td>29598</td>\n",
       "      <td>Subscriber</td>\n",
       "      <td>1988</td>\n",
       "      <td>1</td>\n",
       "    </tr>\n",
       "    <tr>\n",
       "      <th>4</th>\n",
       "      <td>262</td>\n",
       "      <td>2019-08-01 00:41:26.6700</td>\n",
       "      <td>2019-08-01 00:45:49.3530</td>\n",
       "      <td>Grove St PATH</td>\n",
       "      <td>Jersey &amp; 3rd</td>\n",
       "      <td>26162</td>\n",
       "      <td>Subscriber</td>\n",
       "      <td>1960</td>\n",
       "      <td>1</td>\n",
       "    </tr>\n",
       "    <tr>\n",
       "      <th>...</th>\n",
       "      <td>...</td>\n",
       "      <td>...</td>\n",
       "      <td>...</td>\n",
       "      <td>...</td>\n",
       "      <td>...</td>\n",
       "      <td>...</td>\n",
       "      <td>...</td>\n",
       "      <td>...</td>\n",
       "      <td>...</td>\n",
       "    </tr>\n",
       "    <tr>\n",
       "      <th>46225</th>\n",
       "      <td>384</td>\n",
       "      <td>2019-08-31 23:40:45.2450</td>\n",
       "      <td>2019-08-31 23:47:09.8810</td>\n",
       "      <td>Harborside</td>\n",
       "      <td>Hamilton Park</td>\n",
       "      <td>29522</td>\n",
       "      <td>Subscriber</td>\n",
       "      <td>1988</td>\n",
       "      <td>1</td>\n",
       "    </tr>\n",
       "    <tr>\n",
       "      <th>46226</th>\n",
       "      <td>633</td>\n",
       "      <td>2019-08-31 23:45:55.6660</td>\n",
       "      <td>2019-08-31 23:56:29.5350</td>\n",
       "      <td>Grove St PATH</td>\n",
       "      <td>City Hall</td>\n",
       "      <td>29679</td>\n",
       "      <td>Customer</td>\n",
       "      <td>1997</td>\n",
       "      <td>1</td>\n",
       "    </tr>\n",
       "    <tr>\n",
       "      <th>46227</th>\n",
       "      <td>324</td>\n",
       "      <td>2019-08-31 23:50:27.9220</td>\n",
       "      <td>2019-08-31 23:55:52.8420</td>\n",
       "      <td>Marin Light Rail</td>\n",
       "      <td>Newark Ave</td>\n",
       "      <td>26198</td>\n",
       "      <td>Subscriber</td>\n",
       "      <td>1997</td>\n",
       "      <td>2</td>\n",
       "    </tr>\n",
       "    <tr>\n",
       "      <th>46228</th>\n",
       "      <td>126</td>\n",
       "      <td>2019-08-31 23:52:21.9250</td>\n",
       "      <td>2019-08-31 23:54:28.5820</td>\n",
       "      <td>Newark Ave</td>\n",
       "      <td>Brunswick St</td>\n",
       "      <td>29512</td>\n",
       "      <td>Subscriber</td>\n",
       "      <td>1998</td>\n",
       "      <td>1</td>\n",
       "    </tr>\n",
       "    <tr>\n",
       "      <th>46229</th>\n",
       "      <td>690</td>\n",
       "      <td>2019-08-31 23:56:55.1530</td>\n",
       "      <td>2019-09-01 00:08:25.2370</td>\n",
       "      <td>City Hall</td>\n",
       "      <td>Communipaw &amp; Berry Lane</td>\n",
       "      <td>26223</td>\n",
       "      <td>Subscriber</td>\n",
       "      <td>1992</td>\n",
       "      <td>1</td>\n",
       "    </tr>\n",
       "  </tbody>\n",
       "</table>\n",
       "<p>46230 rows × 9 columns</p>\n",
       "</div>"
      ],
      "text/plain": [
       "       tripduration                 starttime                  stoptime  \\\n",
       "0               261  2019-08-01 00:14:55.9900  2019-08-01 00:19:17.4780   \n",
       "1               172  2019-08-01 00:23:06.9910  2019-08-01 00:25:59.1480   \n",
       "2               525  2019-08-01 00:23:28.6170  2019-08-01 00:32:13.7000   \n",
       "3               219  2019-08-01 00:32:36.1410  2019-08-01 00:36:15.2730   \n",
       "4               262  2019-08-01 00:41:26.6700  2019-08-01 00:45:49.3530   \n",
       "...             ...                       ...                       ...   \n",
       "46225           384  2019-08-31 23:40:45.2450  2019-08-31 23:47:09.8810   \n",
       "46226           633  2019-08-31 23:45:55.6660  2019-08-31 23:56:29.5350   \n",
       "46227           324  2019-08-31 23:50:27.9220  2019-08-31 23:55:52.8420   \n",
       "46228           126  2019-08-31 23:52:21.9250  2019-08-31 23:54:28.5820   \n",
       "46229           690  2019-08-31 23:56:55.1530  2019-09-01 00:08:25.2370   \n",
       "\n",
       "      start station name         end station name  bikeid    usertype  \\\n",
       "0      JC Medical Center       Liberty Light Rail   26268  Subscriber   \n",
       "1            Dixon Mills            Grove St PATH   26162  Subscriber   \n",
       "2           Newport Pkwy            Hamilton Park   29279  Subscriber   \n",
       "3              Warren St                City Hall   29598  Subscriber   \n",
       "4          Grove St PATH             Jersey & 3rd   26162  Subscriber   \n",
       "...                  ...                      ...     ...         ...   \n",
       "46225         Harborside            Hamilton Park   29522  Subscriber   \n",
       "46226      Grove St PATH                City Hall   29679    Customer   \n",
       "46227   Marin Light Rail               Newark Ave   26198  Subscriber   \n",
       "46228         Newark Ave             Brunswick St   29512  Subscriber   \n",
       "46229          City Hall  Communipaw & Berry Lane   26223  Subscriber   \n",
       "\n",
       "       birth year  gender  \n",
       "0            1980       1  \n",
       "1            1996       1  \n",
       "2            1991       1  \n",
       "3            1988       1  \n",
       "4            1960       1  \n",
       "...           ...     ...  \n",
       "46225        1988       1  \n",
       "46226        1997       1  \n",
       "46227        1997       2  \n",
       "46228        1998       1  \n",
       "46229        1992       1  \n",
       "\n",
       "[46230 rows x 9 columns]"
      ]
     },
     "execution_count": 3,
     "metadata": {},
     "output_type": "execute_result"
    }
   ],
   "source": [
    "data_bike"
   ]
  },
  {
   "cell_type": "code",
   "execution_count": 4,
   "metadata": {},
   "outputs": [],
   "source": [
    "df_bike['starttime']=pd.to_datetime(df_bike['starttime'])"
   ]
  },
  {
   "cell_type": "code",
   "execution_count": 5,
   "metadata": {},
   "outputs": [
    {
     "name": "stdout",
     "output_type": "stream",
     "text": [
      "<class 'pandas.core.frame.DataFrame'>\n",
      "RangeIndex: 46230 entries, 0 to 46229\n",
      "Data columns (total 9 columns):\n",
      " #   Column              Non-Null Count  Dtype         \n",
      "---  ------              --------------  -----         \n",
      " 0   tripduration        46230 non-null  int64         \n",
      " 1   starttime           46230 non-null  datetime64[ns]\n",
      " 2   stoptime            46230 non-null  object        \n",
      " 3   start station name  46230 non-null  object        \n",
      " 4   end station name    46230 non-null  object        \n",
      " 5   bikeid              46230 non-null  int64         \n",
      " 6   usertype            46230 non-null  object        \n",
      " 7   birth year          46230 non-null  int64         \n",
      " 8   gender              46230 non-null  int64         \n",
      "dtypes: datetime64[ns](1), int64(4), object(4)\n",
      "memory usage: 3.2+ MB\n"
     ]
    }
   ],
   "source": [
    "df_bike.info()"
   ]
  },
  {
   "cell_type": "code",
   "execution_count": 6,
   "metadata": {},
   "outputs": [],
   "source": [
    "df_bike['dayname'] = df_bike['starttime'].dt.strftime('%A')"
   ]
  },
  {
   "cell_type": "code",
   "execution_count": 7,
   "metadata": {},
   "outputs": [
    {
     "data": {
      "text/html": [
       "<div>\n",
       "<style scoped>\n",
       "    .dataframe tbody tr th:only-of-type {\n",
       "        vertical-align: middle;\n",
       "    }\n",
       "\n",
       "    .dataframe tbody tr th {\n",
       "        vertical-align: top;\n",
       "    }\n",
       "\n",
       "    .dataframe thead th {\n",
       "        text-align: right;\n",
       "    }\n",
       "</style>\n",
       "<table border=\"1\" class=\"dataframe\">\n",
       "  <thead>\n",
       "    <tr style=\"text-align: right;\">\n",
       "      <th></th>\n",
       "      <th>tripduration</th>\n",
       "      <th>starttime</th>\n",
       "      <th>stoptime</th>\n",
       "      <th>start station name</th>\n",
       "      <th>end station name</th>\n",
       "      <th>bikeid</th>\n",
       "      <th>usertype</th>\n",
       "      <th>birth year</th>\n",
       "      <th>gender</th>\n",
       "      <th>dayname</th>\n",
       "    </tr>\n",
       "  </thead>\n",
       "  <tbody>\n",
       "    <tr>\n",
       "      <th>0</th>\n",
       "      <td>261</td>\n",
       "      <td>2019-08-01 00:14:55.990</td>\n",
       "      <td>2019-08-01 00:19:17.4780</td>\n",
       "      <td>JC Medical Center</td>\n",
       "      <td>Liberty Light Rail</td>\n",
       "      <td>26268</td>\n",
       "      <td>Subscriber</td>\n",
       "      <td>1980</td>\n",
       "      <td>1</td>\n",
       "      <td>Thursday</td>\n",
       "    </tr>\n",
       "    <tr>\n",
       "      <th>1</th>\n",
       "      <td>172</td>\n",
       "      <td>2019-08-01 00:23:06.991</td>\n",
       "      <td>2019-08-01 00:25:59.1480</td>\n",
       "      <td>Dixon Mills</td>\n",
       "      <td>Grove St PATH</td>\n",
       "      <td>26162</td>\n",
       "      <td>Subscriber</td>\n",
       "      <td>1996</td>\n",
       "      <td>1</td>\n",
       "      <td>Thursday</td>\n",
       "    </tr>\n",
       "    <tr>\n",
       "      <th>2</th>\n",
       "      <td>525</td>\n",
       "      <td>2019-08-01 00:23:28.617</td>\n",
       "      <td>2019-08-01 00:32:13.7000</td>\n",
       "      <td>Newport Pkwy</td>\n",
       "      <td>Hamilton Park</td>\n",
       "      <td>29279</td>\n",
       "      <td>Subscriber</td>\n",
       "      <td>1991</td>\n",
       "      <td>1</td>\n",
       "      <td>Thursday</td>\n",
       "    </tr>\n",
       "    <tr>\n",
       "      <th>3</th>\n",
       "      <td>219</td>\n",
       "      <td>2019-08-01 00:32:36.141</td>\n",
       "      <td>2019-08-01 00:36:15.2730</td>\n",
       "      <td>Warren St</td>\n",
       "      <td>City Hall</td>\n",
       "      <td>29598</td>\n",
       "      <td>Subscriber</td>\n",
       "      <td>1988</td>\n",
       "      <td>1</td>\n",
       "      <td>Thursday</td>\n",
       "    </tr>\n",
       "    <tr>\n",
       "      <th>4</th>\n",
       "      <td>262</td>\n",
       "      <td>2019-08-01 00:41:26.670</td>\n",
       "      <td>2019-08-01 00:45:49.3530</td>\n",
       "      <td>Grove St PATH</td>\n",
       "      <td>Jersey &amp; 3rd</td>\n",
       "      <td>26162</td>\n",
       "      <td>Subscriber</td>\n",
       "      <td>1960</td>\n",
       "      <td>1</td>\n",
       "      <td>Thursday</td>\n",
       "    </tr>\n",
       "    <tr>\n",
       "      <th>...</th>\n",
       "      <td>...</td>\n",
       "      <td>...</td>\n",
       "      <td>...</td>\n",
       "      <td>...</td>\n",
       "      <td>...</td>\n",
       "      <td>...</td>\n",
       "      <td>...</td>\n",
       "      <td>...</td>\n",
       "      <td>...</td>\n",
       "      <td>...</td>\n",
       "    </tr>\n",
       "    <tr>\n",
       "      <th>46225</th>\n",
       "      <td>384</td>\n",
       "      <td>2019-08-31 23:40:45.245</td>\n",
       "      <td>2019-08-31 23:47:09.8810</td>\n",
       "      <td>Harborside</td>\n",
       "      <td>Hamilton Park</td>\n",
       "      <td>29522</td>\n",
       "      <td>Subscriber</td>\n",
       "      <td>1988</td>\n",
       "      <td>1</td>\n",
       "      <td>Saturday</td>\n",
       "    </tr>\n",
       "    <tr>\n",
       "      <th>46226</th>\n",
       "      <td>633</td>\n",
       "      <td>2019-08-31 23:45:55.666</td>\n",
       "      <td>2019-08-31 23:56:29.5350</td>\n",
       "      <td>Grove St PATH</td>\n",
       "      <td>City Hall</td>\n",
       "      <td>29679</td>\n",
       "      <td>Customer</td>\n",
       "      <td>1997</td>\n",
       "      <td>1</td>\n",
       "      <td>Saturday</td>\n",
       "    </tr>\n",
       "    <tr>\n",
       "      <th>46227</th>\n",
       "      <td>324</td>\n",
       "      <td>2019-08-31 23:50:27.922</td>\n",
       "      <td>2019-08-31 23:55:52.8420</td>\n",
       "      <td>Marin Light Rail</td>\n",
       "      <td>Newark Ave</td>\n",
       "      <td>26198</td>\n",
       "      <td>Subscriber</td>\n",
       "      <td>1997</td>\n",
       "      <td>2</td>\n",
       "      <td>Saturday</td>\n",
       "    </tr>\n",
       "    <tr>\n",
       "      <th>46228</th>\n",
       "      <td>126</td>\n",
       "      <td>2019-08-31 23:52:21.925</td>\n",
       "      <td>2019-08-31 23:54:28.5820</td>\n",
       "      <td>Newark Ave</td>\n",
       "      <td>Brunswick St</td>\n",
       "      <td>29512</td>\n",
       "      <td>Subscriber</td>\n",
       "      <td>1998</td>\n",
       "      <td>1</td>\n",
       "      <td>Saturday</td>\n",
       "    </tr>\n",
       "    <tr>\n",
       "      <th>46229</th>\n",
       "      <td>690</td>\n",
       "      <td>2019-08-31 23:56:55.153</td>\n",
       "      <td>2019-09-01 00:08:25.2370</td>\n",
       "      <td>City Hall</td>\n",
       "      <td>Communipaw &amp; Berry Lane</td>\n",
       "      <td>26223</td>\n",
       "      <td>Subscriber</td>\n",
       "      <td>1992</td>\n",
       "      <td>1</td>\n",
       "      <td>Saturday</td>\n",
       "    </tr>\n",
       "  </tbody>\n",
       "</table>\n",
       "<p>46230 rows × 10 columns</p>\n",
       "</div>"
      ],
      "text/plain": [
       "       tripduration               starttime                  stoptime  \\\n",
       "0               261 2019-08-01 00:14:55.990  2019-08-01 00:19:17.4780   \n",
       "1               172 2019-08-01 00:23:06.991  2019-08-01 00:25:59.1480   \n",
       "2               525 2019-08-01 00:23:28.617  2019-08-01 00:32:13.7000   \n",
       "3               219 2019-08-01 00:32:36.141  2019-08-01 00:36:15.2730   \n",
       "4               262 2019-08-01 00:41:26.670  2019-08-01 00:45:49.3530   \n",
       "...             ...                     ...                       ...   \n",
       "46225           384 2019-08-31 23:40:45.245  2019-08-31 23:47:09.8810   \n",
       "46226           633 2019-08-31 23:45:55.666  2019-08-31 23:56:29.5350   \n",
       "46227           324 2019-08-31 23:50:27.922  2019-08-31 23:55:52.8420   \n",
       "46228           126 2019-08-31 23:52:21.925  2019-08-31 23:54:28.5820   \n",
       "46229           690 2019-08-31 23:56:55.153  2019-09-01 00:08:25.2370   \n",
       "\n",
       "      start station name         end station name  bikeid    usertype  \\\n",
       "0      JC Medical Center       Liberty Light Rail   26268  Subscriber   \n",
       "1            Dixon Mills            Grove St PATH   26162  Subscriber   \n",
       "2           Newport Pkwy            Hamilton Park   29279  Subscriber   \n",
       "3              Warren St                City Hall   29598  Subscriber   \n",
       "4          Grove St PATH             Jersey & 3rd   26162  Subscriber   \n",
       "...                  ...                      ...     ...         ...   \n",
       "46225         Harborside            Hamilton Park   29522  Subscriber   \n",
       "46226      Grove St PATH                City Hall   29679    Customer   \n",
       "46227   Marin Light Rail               Newark Ave   26198  Subscriber   \n",
       "46228         Newark Ave             Brunswick St   29512  Subscriber   \n",
       "46229          City Hall  Communipaw & Berry Lane   26223  Subscriber   \n",
       "\n",
       "       birth year  gender   dayname  \n",
       "0            1980       1  Thursday  \n",
       "1            1996       1  Thursday  \n",
       "2            1991       1  Thursday  \n",
       "3            1988       1  Thursday  \n",
       "4            1960       1  Thursday  \n",
       "...           ...     ...       ...  \n",
       "46225        1988       1  Saturday  \n",
       "46226        1997       1  Saturday  \n",
       "46227        1997       2  Saturday  \n",
       "46228        1998       1  Saturday  \n",
       "46229        1992       1  Saturday  \n",
       "\n",
       "[46230 rows x 10 columns]"
      ]
     },
     "execution_count": 7,
     "metadata": {},
     "output_type": "execute_result"
    }
   ],
   "source": [
    "df_bike"
   ]
  },
  {
   "cell_type": "code",
   "execution_count": null,
   "metadata": {},
   "outputs": [],
   "source": [
    "df_bike.groupby('dayname', as_index=False)['gender'].count() \\\n",
    "                      .rename(columns={'gender': 'total'}) \\\n",
    "                      .sort_values('total', ascending=False)"
   ]
  },
  {
   "cell_type": "code",
   "execution_count": 10,
   "metadata": {},
   "outputs": [],
   "source": [
    "total_by_day = df_bike.groupby('dayname',as_index = False)['bikeid'].count()\\\n",
    "        .rename(columns={'bikeid':'total'})\\\n",
    "        .sort_values('total',ascending=False)"
   ]
  },
  {
   "cell_type": "markdown",
   "metadata": {},
   "source": [
    "### Pandas\n",
    "\n",
    "#### Categorical data type"
   ]
  },
  {
   "cell_type": "code",
   "execution_count": 11,
   "metadata": {},
   "outputs": [
    {
     "data": {
      "text/plain": [
       "['Thursday', 'Thursday', 'Thursday', 'Thursday', 'Thursday', ..., 'Saturday', 'Saturday', 'Saturday', 'Saturday', 'Saturday']\n",
       "Length: 46230\n",
       "Categories (7, object): ['Friday', 'Monday', 'Saturday', 'Sunday', 'Thursday', 'Tuesday', 'Wednesday']"
      ]
     },
     "execution_count": 11,
     "metadata": {},
     "output_type": "execute_result"
    }
   ],
   "source": [
    "#categorical random\n",
    "pd.Categorical(df_bike['dayname'])"
   ]
  },
  {
   "cell_type": "markdown",
   "metadata": {},
   "source": [
    "##### categorical manual"
   ]
  },
  {
   "cell_type": "code",
   "execution_count": 12,
   "metadata": {},
   "outputs": [
    {
     "data": {
      "text/plain": [
       "array(['Thursday', 'Friday', 'Saturday', 'Sunday', 'Monday', 'Tuesday',\n",
       "       'Wednesday'], dtype=object)"
      ]
     },
     "execution_count": 12,
     "metadata": {},
     "output_type": "execute_result"
    }
   ],
   "source": [
    "df_bike['dayname'].unique()"
   ]
  },
  {
   "cell_type": "code",
   "execution_count": 14,
   "metadata": {},
   "outputs": [
    {
     "data": {
      "text/plain": [
       "['Thursday', 'Thursday', 'Thursday', 'Thursday', 'Thursday', ..., 'Saturday', 'Saturday', 'Saturday', 'Saturday', 'Saturday']\n",
       "Length: 46230\n",
       "Categories (7, object): ['Monday' < 'Tuesday' < 'Wednesday' < 'Thursday' < 'Friday' < 'Saturday' < 'Sunday']"
      ]
     },
     "execution_count": 14,
     "metadata": {},
     "output_type": "execute_result"
    }
   ],
   "source": [
    "pd.Categorical(df_bike['dayname'],\n",
    "                      ordered = True,\n",
    "                      categories =['Monday',\n",
    "                                    'Tuesday',\n",
    "                                    'Wednesday',\n",
    "                                    'Thursday',\n",
    "                                    'Friday',\n",
    "                                    'Saturday',\n",
    "                                    'Sunday'])"
   ]
  },
  {
   "cell_type": "code",
   "execution_count": 15,
   "metadata": {},
   "outputs": [],
   "source": [
    "df_bike['dayname_categorical'] = pd.Categorical(df_bike['dayname'],\n",
    "                      ordered = True,\n",
    "                      categories =['Monday',\n",
    "                                    'Tuesday',\n",
    "                                    'Wednesday',\n",
    "                                    'Thursday',\n",
    "                                    'Friday',\n",
    "                                    'Saturday',\n",
    "                                    'Sunday'])"
   ]
  },
  {
   "cell_type": "code",
   "execution_count": 18,
   "metadata": {},
   "outputs": [],
   "source": [
    "total_by_name = df_bike.groupby('dayname_categorical',as_index=False)['bikeid'].count()\\\n",
    "                        .rename(columns={'bikeid' : 'total'})"
   ]
  },
  {
   "cell_type": "code",
   "execution_count": 20,
   "metadata": {},
   "outputs": [
    {
     "data": {
      "image/png": "[encoded data removed]",
      "text/plain": [
       "<Figure size 432x288 with 1 Axes>"
      ]
     },
     "metadata": {
      "needs_background": "light"
     },
     "output_type": "display_data"
    }
   ],
   "source": [
    "sns.barplot(data=total_by_name, x='dayname_categorical', y='total')\n",
    "plt.show()"
   ]
  },
  {
   "cell_type": "code",
   "execution_count": 21,
   "metadata": {},
   "outputs": [
    {
     "name": "stdout",
     "output_type": "stream",
     "text": [
      "<class 'pandas.core.frame.DataFrame'>\n",
      "RangeIndex: 46230 entries, 0 to 46229\n",
      "Data columns (total 11 columns):\n",
      " #   Column               Non-Null Count  Dtype         \n",
      "---  ------               --------------  -----         \n",
      " 0   tripduration         46230 non-null  int64         \n",
      " 1   starttime            46230 non-null  datetime64[ns]\n",
      " 2   stoptime             46230 non-null  object        \n",
      " 3   start station name   46230 non-null  object        \n",
      " 4   end station name     46230 non-null  object        \n",
      " 5   bikeid               46230 non-null  int64         \n",
      " 6   usertype             46230 non-null  object        \n",
      " 7   birth year           46230 non-null  int64         \n",
      " 8   gender               46230 non-null  int64         \n",
      " 9   dayname              46230 non-null  object        \n",
      " 10  dayname_categorical  46230 non-null  category      \n",
      "dtypes: category(1), datetime64[ns](1), int64(4), object(5)\n",
      "memory usage: 3.6+ MB\n"
     ]
    }
   ],
   "source": [
    "df_bike.info()"
   ]
  },
  {
   "cell_type": "markdown",
   "metadata": {},
   "source": [
    "### Line Plot"
   ]
  },
  {
   "cell_type": "code",
   "execution_count": 23,
   "metadata": {},
   "outputs": [],
   "source": [
    "# Berapa total trip di setiap tanggal dan coba visualisasikan\n",
    "df_bike['starttime_new'] = df_bike['starttime'].dt.strftime('%Y-%m-%d')"
   ]
  },
  {
   "cell_type": "code",
   "execution_count": 43,
   "metadata": {},
   "outputs": [],
   "source": [
    "total_by_tgl = df_bike.groupby('starttime_new', as_index = False)['bikeid'].count()\\\n",
    "                    .rename(columns={'bikeid':'total'})\\\n",
    "                    .sort_values('starttime_new',ascending=True)"
   ]
  },
  {
   "cell_type": "code",
   "execution_count": 27,
   "metadata": {},
   "outputs": [
    {
     "data": {
      "text/html": [
       "<div>\n",
       "<style scoped>\n",
       "    .dataframe tbody tr th:only-of-type {\n",
       "        vertical-align: middle;\n",
       "    }\n",
       "\n",
       "    .dataframe tbody tr th {\n",
       "        vertical-align: top;\n",
       "    }\n",
       "\n",
       "    .dataframe thead th {\n",
       "        text-align: right;\n",
       "    }\n",
       "</style>\n",
       "<table border=\"1\" class=\"dataframe\">\n",
       "  <thead>\n",
       "    <tr style=\"text-align: right;\">\n",
       "      <th></th>\n",
       "      <th>starttime_new</th>\n",
       "      <th>total</th>\n",
       "    </tr>\n",
       "  </thead>\n",
       "  <tbody>\n",
       "    <tr>\n",
       "      <th>0</th>\n",
       "      <td>2019-08-01</td>\n",
       "      <td>1784</td>\n",
       "    </tr>\n",
       "    <tr>\n",
       "      <th>1</th>\n",
       "      <td>2019-08-02</td>\n",
       "      <td>1700</td>\n",
       "    </tr>\n",
       "    <tr>\n",
       "      <th>2</th>\n",
       "      <td>2019-08-03</td>\n",
       "      <td>1319</td>\n",
       "    </tr>\n",
       "    <tr>\n",
       "      <th>3</th>\n",
       "      <td>2019-08-04</td>\n",
       "      <td>1081</td>\n",
       "    </tr>\n",
       "    <tr>\n",
       "      <th>4</th>\n",
       "      <td>2019-08-05</td>\n",
       "      <td>1647</td>\n",
       "    </tr>\n",
       "    <tr>\n",
       "      <th>5</th>\n",
       "      <td>2019-08-06</td>\n",
       "      <td>1695</td>\n",
       "    </tr>\n",
       "    <tr>\n",
       "      <th>6</th>\n",
       "      <td>2019-08-07</td>\n",
       "      <td>1170</td>\n",
       "    </tr>\n",
       "    <tr>\n",
       "      <th>7</th>\n",
       "      <td>2019-08-08</td>\n",
       "      <td>1665</td>\n",
       "    </tr>\n",
       "    <tr>\n",
       "      <th>8</th>\n",
       "      <td>2019-08-09</td>\n",
       "      <td>1625</td>\n",
       "    </tr>\n",
       "    <tr>\n",
       "      <th>9</th>\n",
       "      <td>2019-08-10</td>\n",
       "      <td>1337</td>\n",
       "    </tr>\n",
       "    <tr>\n",
       "      <th>10</th>\n",
       "      <td>2019-08-11</td>\n",
       "      <td>1187</td>\n",
       "    </tr>\n",
       "    <tr>\n",
       "      <th>11</th>\n",
       "      <td>2019-08-12</td>\n",
       "      <td>1656</td>\n",
       "    </tr>\n",
       "    <tr>\n",
       "      <th>12</th>\n",
       "      <td>2019-08-13</td>\n",
       "      <td>1570</td>\n",
       "    </tr>\n",
       "    <tr>\n",
       "      <th>13</th>\n",
       "      <td>2019-08-14</td>\n",
       "      <td>1654</td>\n",
       "    </tr>\n",
       "    <tr>\n",
       "      <th>14</th>\n",
       "      <td>2019-08-15</td>\n",
       "      <td>1708</td>\n",
       "    </tr>\n",
       "    <tr>\n",
       "      <th>15</th>\n",
       "      <td>2019-08-16</td>\n",
       "      <td>1753</td>\n",
       "    </tr>\n",
       "    <tr>\n",
       "      <th>16</th>\n",
       "      <td>2019-08-17</td>\n",
       "      <td>1187</td>\n",
       "    </tr>\n",
       "    <tr>\n",
       "      <th>17</th>\n",
       "      <td>2019-08-18</td>\n",
       "      <td>977</td>\n",
       "    </tr>\n",
       "    <tr>\n",
       "      <th>18</th>\n",
       "      <td>2019-08-19</td>\n",
       "      <td>1515</td>\n",
       "    </tr>\n",
       "    <tr>\n",
       "      <th>19</th>\n",
       "      <td>2019-08-20</td>\n",
       "      <td>1723</td>\n",
       "    </tr>\n",
       "    <tr>\n",
       "      <th>20</th>\n",
       "      <td>2019-08-21</td>\n",
       "      <td>1580</td>\n",
       "    </tr>\n",
       "    <tr>\n",
       "      <th>21</th>\n",
       "      <td>2019-08-22</td>\n",
       "      <td>1583</td>\n",
       "    </tr>\n",
       "    <tr>\n",
       "      <th>22</th>\n",
       "      <td>2019-08-23</td>\n",
       "      <td>1391</td>\n",
       "    </tr>\n",
       "    <tr>\n",
       "      <th>23</th>\n",
       "      <td>2019-08-24</td>\n",
       "      <td>1303</td>\n",
       "    </tr>\n",
       "    <tr>\n",
       "      <th>24</th>\n",
       "      <td>2019-08-25</td>\n",
       "      <td>1195</td>\n",
       "    </tr>\n",
       "    <tr>\n",
       "      <th>25</th>\n",
       "      <td>2019-08-26</td>\n",
       "      <td>1559</td>\n",
       "    </tr>\n",
       "    <tr>\n",
       "      <th>26</th>\n",
       "      <td>2019-08-27</td>\n",
       "      <td>1639</td>\n",
       "    </tr>\n",
       "    <tr>\n",
       "      <th>27</th>\n",
       "      <td>2019-08-28</td>\n",
       "      <td>1554</td>\n",
       "    </tr>\n",
       "    <tr>\n",
       "      <th>28</th>\n",
       "      <td>2019-08-29</td>\n",
       "      <td>1730</td>\n",
       "    </tr>\n",
       "    <tr>\n",
       "      <th>29</th>\n",
       "      <td>2019-08-30</td>\n",
       "      <td>1631</td>\n",
       "    </tr>\n",
       "    <tr>\n",
       "      <th>30</th>\n",
       "      <td>2019-08-31</td>\n",
       "      <td>1112</td>\n",
       "    </tr>\n",
       "  </tbody>\n",
       "</table>\n",
       "</div>"
      ],
      "text/plain": [
       "   starttime_new  total\n",
       "0     2019-08-01   1784\n",
       "1     2019-08-02   1700\n",
       "2     2019-08-03   1319\n",
       "3     2019-08-04   1081\n",
       "4     2019-08-05   1647\n",
       "5     2019-08-06   1695\n",
       "6     2019-08-07   1170\n",
       "7     2019-08-08   1665\n",
       "8     2019-08-09   1625\n",
       "9     2019-08-10   1337\n",
       "10    2019-08-11   1187\n",
       "11    2019-08-12   1656\n",
       "12    2019-08-13   1570\n",
       "13    2019-08-14   1654\n",
       "14    2019-08-15   1708\n",
       "15    2019-08-16   1753\n",
       "16    2019-08-17   1187\n",
       "17    2019-08-18    977\n",
       "18    2019-08-19   1515\n",
       "19    2019-08-20   1723\n",
       "20    2019-08-21   1580\n",
       "21    2019-08-22   1583\n",
       "22    2019-08-23   1391\n",
       "23    2019-08-24   1303\n",
       "24    2019-08-25   1195\n",
       "25    2019-08-26   1559\n",
       "26    2019-08-27   1639\n",
       "27    2019-08-28   1554\n",
       "28    2019-08-29   1730\n",
       "29    2019-08-30   1631\n",
       "30    2019-08-31   1112"
      ]
     },
     "execution_count": 27,
     "metadata": {},
     "output_type": "execute_result"
    }
   ],
   "source": [
    "total_by_tgl"
   ]
  },
  {
   "cell_type": "code",
   "execution_count": 44,
   "metadata": {},
   "outputs": [
    {
     "data": {
      "image/png": "[encoded data removed]",
      "text/plain": [
       "<Figure size 1080x288 with 1 Axes>"
      ]
     },
     "metadata": {
      "needs_background": "light"
     },
     "output_type": "display_data"
    }
   ],
   "source": [
    "plt.figure(figsize=(15,4))\n",
    "sns.lineplot(data=total_by_tgl, x='starttime_new', y='total')\n",
    "plt.show()"
   ]
  },
  {
   "cell_type": "code",
   "execution_count": 42,
   "metadata": {},
   "outputs": [],
   "source": [
    "df_bike['starttime_new']=pd.to_datetime(df_bike['starttime_new'])"
   ]
  },
  {
   "cell_type": "code",
   "execution_count": 46,
   "metadata": {},
   "outputs": [
    {
     "name": "stdout",
     "output_type": "stream",
     "text": [
      "<class 'pandas.core.frame.DataFrame'>\n",
      "RangeIndex: 46230 entries, 0 to 46229\n",
      "Data columns (total 12 columns):\n",
      " #   Column               Non-Null Count  Dtype         \n",
      "---  ------               --------------  -----         \n",
      " 0   tripduration         46230 non-null  int64         \n",
      " 1   starttime            46230 non-null  datetime64[ns]\n",
      " 2   stoptime             46230 non-null  object        \n",
      " 3   start station name   46230 non-null  object        \n",
      " 4   end station name     46230 non-null  object        \n",
      " 5   bikeid               46230 non-null  int64         \n",
      " 6   usertype             46230 non-null  object        \n",
      " 7   birth year           46230 non-null  int64         \n",
      " 8   gender               46230 non-null  int64         \n",
      " 9   dayname              46230 non-null  object        \n",
      " 10  dayname_categorical  46230 non-null  category      \n",
      " 11  starttime_new        46230 non-null  datetime64[ns]\n",
      "dtypes: category(1), datetime64[ns](2), int64(4), object(5)\n",
      "memory usage: 3.9+ MB\n"
     ]
    }
   ],
   "source": [
    "df_bike.info()"
   ]
  },
  {
   "cell_type": "code",
   "execution_count": 47,
   "metadata": {},
   "outputs": [],
   "source": [
    "#kalo format tanggalnya berantakan\n",
    "pd.to_datetime(data_youtube[], format='')"
   ]
  },
  {
   "cell_type": "code",
   "execution_count": 49,
   "metadata": {},
   "outputs": [],
   "source": [
    "# Aggregasi data\n",
    "# - yang ingin kita cari (hari, usertype)\n",
    "# - yang ingin kita hitung (count)\n",
    "# - fungsi aggregasi\n",
    "\n",
    "total_by_tglusertype = df_bike.groupby(['starttime_new','usertype'], as_index=False)['bikeid'].count()"
   ]
  },
  {
   "cell_type": "code",
   "execution_count": 50,
   "metadata": {},
   "outputs": [
    {
     "data": {
      "text/plain": [
       "<AxesSubplot:xlabel='starttime_new', ylabel='bikeid'>"
      ]
     },
     "execution_count": 50,
     "metadata": {},
     "output_type": "execute_result"
    },
    {
     "data": {
      "image/png": "[encoded data removed]",
      "text/plain": [
       "<Figure size 1080x288 with 1 Axes>"
      ]
     },
     "metadata": {
      "needs_background": "light"
     },
     "output_type": "display_data"
    }
   ],
   "source": [
    "plt.figure(figsize = (15,4))\n",
    "sns.lineplot(data=total_by_tglusertype,x='starttime_new',y='bikeid',hue='usertype')"
   ]
  },
  {
   "cell_type": "code",
   "execution_count": 53,
   "metadata": {},
   "outputs": [],
   "source": [
    "#cari total user di setiap umur, visualisasikan dengan barplot\n",
    "df_bike['age'] = 2020 - df_bike['birth year']"
   ]
  },
  {
   "cell_type": "code",
   "execution_count": 64,
   "metadata": {},
   "outputs": [],
   "source": [
    "total_by_ageusertype = df_bike.groupby(['age','usertype'], as_index=False)['bikeid'].count()\\\n",
    "                            .rename(columns={'bikeid' : 'total'})\\\n",
    "                            .sort_values('age',ascending=True)"
   ]
  },
  {
   "cell_type": "code",
   "execution_count": 67,
   "metadata": {},
   "outputs": [
    {
     "data": {
      "image/png": "[encoded data removed]",
      "text/plain": [
       "<Figure size 1080x288 with 1 Axes>"
      ]
     },
     "metadata": {
      "needs_background": "light"
     },
     "output_type": "display_data"
    }
   ],
   "source": [
    "plt.figure(figsize=(15,4))\n",
    "sns.barplot(data=total_by_ageusertype,x='age',y='total',hue='usertype')\n",
    "plt.show()"
   ]
  },
  {
   "cell_type": "markdown",
   "metadata": {},
   "source": [
    "DATA ANALYSIS PROCESS\n",
    "Question - Wrangle - Explore - Conclusion - Communicate"
   ]
  },
  {
   "cell_type": "markdown",
   "metadata": {},
   "source": [
    "## Latihan"
   ]
  },
  {
   "cell_type": "code",
   "execution_count": 70,
   "metadata": {},
   "outputs": [
    {
     "data": {
      "text/html": [
       "<div>\n",
       "<style scoped>\n",
       "    .dataframe tbody tr th:only-of-type {\n",
       "        vertical-align: middle;\n",
       "    }\n",
       "\n",
       "    .dataframe tbody tr th {\n",
       "        vertical-align: top;\n",
       "    }\n",
       "\n",
       "    .dataframe thead th {\n",
       "        text-align: right;\n",
       "    }\n",
       "</style>\n",
       "<table border=\"1\" class=\"dataframe\">\n",
       "  <thead>\n",
       "    <tr style=\"text-align: right;\">\n",
       "      <th></th>\n",
       "      <th>video_id</th>\n",
       "      <th>trending_date</th>\n",
       "      <th>title</th>\n",
       "      <th>channel_title</th>\n",
       "      <th>publish_time</th>\n",
       "      <th>views</th>\n",
       "      <th>likes</th>\n",
       "      <th>dislikes</th>\n",
       "      <th>comment_count</th>\n",
       "      <th>category_name</th>\n",
       "    </tr>\n",
       "  </thead>\n",
       "  <tbody>\n",
       "    <tr>\n",
       "      <th>0</th>\n",
       "      <td>2kyS6SvSYSE</td>\n",
       "      <td>17.14.11</td>\n",
       "      <td>WE WANT TO TALK ABOUT OUR MARRIAGE</td>\n",
       "      <td>CaseyNeistat</td>\n",
       "      <td>2017-11-13T17:13:01.000Z</td>\n",
       "      <td>748374</td>\n",
       "      <td>57527</td>\n",
       "      <td>2966</td>\n",
       "      <td>15954</td>\n",
       "      <td>People and Blogs</td>\n",
       "    </tr>\n",
       "    <tr>\n",
       "      <th>1</th>\n",
       "      <td>1ZAPwfrtAFY</td>\n",
       "      <td>17.14.11</td>\n",
       "      <td>The Trump Presidency: Last Week Tonight with J...</td>\n",
       "      <td>LastWeekTonight</td>\n",
       "      <td>2017-11-13T07:30:00.000Z</td>\n",
       "      <td>2418783</td>\n",
       "      <td>97185</td>\n",
       "      <td>6146</td>\n",
       "      <td>12703</td>\n",
       "      <td>Entertainment</td>\n",
       "    </tr>\n",
       "    <tr>\n",
       "      <th>2</th>\n",
       "      <td>5qpjK5DgCt4</td>\n",
       "      <td>17.14.11</td>\n",
       "      <td>Racist Superman | Rudy Mancuso, King Bach &amp; Le...</td>\n",
       "      <td>Rudy Mancuso</td>\n",
       "      <td>2017-11-12T19:05:24.000Z</td>\n",
       "      <td>3191434</td>\n",
       "      <td>146033</td>\n",
       "      <td>5339</td>\n",
       "      <td>8181</td>\n",
       "      <td>Comedy</td>\n",
       "    </tr>\n",
       "    <tr>\n",
       "      <th>3</th>\n",
       "      <td>puqaWrEC7tY</td>\n",
       "      <td>17.14.11</td>\n",
       "      <td>Nickelback Lyrics: Real or Fake?</td>\n",
       "      <td>Good Mythical Morning</td>\n",
       "      <td>2017-11-13T11:00:04.000Z</td>\n",
       "      <td>343168</td>\n",
       "      <td>10172</td>\n",
       "      <td>666</td>\n",
       "      <td>2146</td>\n",
       "      <td>Entertainment</td>\n",
       "    </tr>\n",
       "    <tr>\n",
       "      <th>4</th>\n",
       "      <td>d380meD0W0M</td>\n",
       "      <td>17.14.11</td>\n",
       "      <td>I Dare You: GOING BALD!?</td>\n",
       "      <td>nigahiga</td>\n",
       "      <td>2017-11-12T18:01:41.000Z</td>\n",
       "      <td>2095731</td>\n",
       "      <td>132235</td>\n",
       "      <td>1989</td>\n",
       "      <td>17518</td>\n",
       "      <td>Entertainment</td>\n",
       "    </tr>\n",
       "    <tr>\n",
       "      <th>...</th>\n",
       "      <td>...</td>\n",
       "      <td>...</td>\n",
       "      <td>...</td>\n",
       "      <td>...</td>\n",
       "      <td>...</td>\n",
       "      <td>...</td>\n",
       "      <td>...</td>\n",
       "      <td>...</td>\n",
       "      <td>...</td>\n",
       "      <td>...</td>\n",
       "    </tr>\n",
       "    <tr>\n",
       "      <th>40944</th>\n",
       "      <td>BZt0qjTWNhw</td>\n",
       "      <td>18.14.06</td>\n",
       "      <td>The Cat Who Caught the Laser</td>\n",
       "      <td>AaronsAnimals</td>\n",
       "      <td>2018-05-18T13:00:04.000Z</td>\n",
       "      <td>1685609</td>\n",
       "      <td>38160</td>\n",
       "      <td>1385</td>\n",
       "      <td>2657</td>\n",
       "      <td>Pets and Animals</td>\n",
       "    </tr>\n",
       "    <tr>\n",
       "      <th>40945</th>\n",
       "      <td>1h7KV2sjUWY</td>\n",
       "      <td>18.14.06</td>\n",
       "      <td>True Facts : Ant Mutualism</td>\n",
       "      <td>zefrank1</td>\n",
       "      <td>2018-05-18T01:00:06.000Z</td>\n",
       "      <td>1064798</td>\n",
       "      <td>60008</td>\n",
       "      <td>382</td>\n",
       "      <td>3936</td>\n",
       "      <td>People and Blogs</td>\n",
       "    </tr>\n",
       "    <tr>\n",
       "      <th>40946</th>\n",
       "      <td>D6Oy4LfoqsU</td>\n",
       "      <td>18.14.06</td>\n",
       "      <td>I GAVE SAFIYA NYGAARD A PERFECT HAIR MAKEOVER ...</td>\n",
       "      <td>Brad Mondo</td>\n",
       "      <td>2018-05-18T17:34:22.000Z</td>\n",
       "      <td>1066451</td>\n",
       "      <td>48068</td>\n",
       "      <td>1032</td>\n",
       "      <td>3992</td>\n",
       "      <td>Entertainment</td>\n",
       "    </tr>\n",
       "    <tr>\n",
       "      <th>40947</th>\n",
       "      <td>oV0zkMe1K8s</td>\n",
       "      <td>18.14.06</td>\n",
       "      <td>How Black Panther Should Have Ended</td>\n",
       "      <td>How It Should Have Ended</td>\n",
       "      <td>2018-05-17T17:00:04.000Z</td>\n",
       "      <td>5660813</td>\n",
       "      <td>192957</td>\n",
       "      <td>2846</td>\n",
       "      <td>13088</td>\n",
       "      <td>Film and Animation</td>\n",
       "    </tr>\n",
       "    <tr>\n",
       "      <th>40948</th>\n",
       "      <td>ooyjaVdt-jA</td>\n",
       "      <td>18.14.06</td>\n",
       "      <td>Official Call of Duty®: Black Ops 4 — Multipla...</td>\n",
       "      <td>Call of Duty</td>\n",
       "      <td>2018-05-17T17:09:38.000Z</td>\n",
       "      <td>10306119</td>\n",
       "      <td>357079</td>\n",
       "      <td>212976</td>\n",
       "      <td>144795</td>\n",
       "      <td>Gaming</td>\n",
       "    </tr>\n",
       "  </tbody>\n",
       "</table>\n",
       "<p>40949 rows × 10 columns</p>\n",
       "</div>"
      ],
      "text/plain": [
       "          video_id trending_date  \\\n",
       "0      2kyS6SvSYSE      17.14.11   \n",
       "1      1ZAPwfrtAFY      17.14.11   \n",
       "2      5qpjK5DgCt4      17.14.11   \n",
       "3      puqaWrEC7tY      17.14.11   \n",
       "4      d380meD0W0M      17.14.11   \n",
       "...            ...           ...   \n",
       "40944  BZt0qjTWNhw      18.14.06   \n",
       "40945  1h7KV2sjUWY      18.14.06   \n",
       "40946  D6Oy4LfoqsU      18.14.06   \n",
       "40947  oV0zkMe1K8s      18.14.06   \n",
       "40948  ooyjaVdt-jA      18.14.06   \n",
       "\n",
       "                                                   title  \\\n",
       "0                     WE WANT TO TALK ABOUT OUR MARRIAGE   \n",
       "1      The Trump Presidency: Last Week Tonight with J...   \n",
       "2      Racist Superman | Rudy Mancuso, King Bach & Le...   \n",
       "3                       Nickelback Lyrics: Real or Fake?   \n",
       "4                               I Dare You: GOING BALD!?   \n",
       "...                                                  ...   \n",
       "40944                       The Cat Who Caught the Laser   \n",
       "40945                         True Facts : Ant Mutualism   \n",
       "40946  I GAVE SAFIYA NYGAARD A PERFECT HAIR MAKEOVER ...   \n",
       "40947                How Black Panther Should Have Ended   \n",
       "40948  Official Call of Duty®: Black Ops 4 — Multipla...   \n",
       "\n",
       "                  channel_title              publish_time     views   likes  \\\n",
       "0                  CaseyNeistat  2017-11-13T17:13:01.000Z    748374   57527   \n",
       "1               LastWeekTonight  2017-11-13T07:30:00.000Z   2418783   97185   \n",
       "2                  Rudy Mancuso  2017-11-12T19:05:24.000Z   3191434  146033   \n",
       "3         Good Mythical Morning  2017-11-13T11:00:04.000Z    343168   10172   \n",
       "4                      nigahiga  2017-11-12T18:01:41.000Z   2095731  132235   \n",
       "...                         ...                       ...       ...     ...   \n",
       "40944             AaronsAnimals  2018-05-18T13:00:04.000Z   1685609   38160   \n",
       "40945                  zefrank1  2018-05-18T01:00:06.000Z   1064798   60008   \n",
       "40946                Brad Mondo  2018-05-18T17:34:22.000Z   1066451   48068   \n",
       "40947  How It Should Have Ended  2018-05-17T17:00:04.000Z   5660813  192957   \n",
       "40948              Call of Duty  2018-05-17T17:09:38.000Z  10306119  357079   \n",
       "\n",
       "       dislikes  comment_count       category_name  \n",
       "0          2966          15954    People and Blogs  \n",
       "1          6146          12703       Entertainment  \n",
       "2          5339           8181              Comedy  \n",
       "3           666           2146       Entertainment  \n",
       "4          1989          17518       Entertainment  \n",
       "...         ...            ...                 ...  \n",
       "40944      1385           2657    Pets and Animals  \n",
       "40945       382           3936    People and Blogs  \n",
       "40946      1032           3992       Entertainment  \n",
       "40947      2846          13088  Film and Animation  \n",
       "40948    212976         144795              Gaming  \n",
       "\n",
       "[40949 rows x 10 columns]"
      ]
     },
     "execution_count": 70,
     "metadata": {},
     "output_type": "execute_result"
    }
   ],
   "source": [
    "df_youtube"
   ]
  },
  {
   "cell_type": "code",
   "execution_count": 71,
   "metadata": {
    "scrolled": true
   },
   "outputs": [
    {
     "name": "stdout",
     "output_type": "stream",
     "text": [
      "<class 'pandas.core.frame.DataFrame'>\n",
      "RangeIndex: 40949 entries, 0 to 40948\n",
      "Data columns (total 10 columns):\n",
      " #   Column         Non-Null Count  Dtype \n",
      "---  ------         --------------  ----- \n",
      " 0   video_id       40949 non-null  object\n",
      " 1   trending_date  40949 non-null  object\n",
      " 2   title          40949 non-null  object\n",
      " 3   channel_title  40949 non-null  object\n",
      " 4   publish_time   40949 non-null  object\n",
      " 5   views          40949 non-null  int64 \n",
      " 6   likes          40949 non-null  int64 \n",
      " 7   dislikes       40949 non-null  int64 \n",
      " 8   comment_count  40949 non-null  int64 \n",
      " 9   category_name  40949 non-null  object\n",
      "dtypes: int64(4), object(6)\n",
      "memory usage: 3.1+ MB\n"
     ]
    }
   ],
   "source": [
    "df_youtube.info()"
   ]
  },
  {
   "cell_type": "markdown",
   "metadata": {},
   "source": [
    "#### Question"
   ]
  },
  {
   "cell_type": "code",
   "execution_count": null,
   "metadata": {},
   "outputs": [],
   "source": [
    "1. 5 channel yang memiliki jumlah video paling banyak yang masuk trending\n",
    "2. 5 video yang memiliki like to view ratio paling tinggi\n",
    "3. 5 categori video yang paling banyak di komentari"
   ]
  },
  {
   "cell_type": "markdown",
   "metadata": {},
   "source": [
    "#### Wrangle"
   ]
  },
  {
   "cell_type": "code",
   "execution_count": 119,
   "metadata": {},
   "outputs": [],
   "source": [
    "def convert_liketoview(row):\n",
    "    if row['likes'] == 0:\n",
    "        return 0\n",
    "    else:\n",
    "        return row['likes']/row['views']"
   ]
  },
  {
   "cell_type": "code",
   "execution_count": 131,
   "metadata": {},
   "outputs": [],
   "source": [
    "# df_youtube['liketoview'] = df_youtube.apply(convert_liketoview, axis=1)\n",
    "df_youtube['liketoview'] = df_youtube['likes']/df_youtube['views']"
   ]
  },
  {
   "cell_type": "markdown",
   "metadata": {},
   "source": [
    "#### Explore"
   ]
  },
  {
   "cell_type": "markdown",
   "metadata": {},
   "source": [
    "##### 1"
   ]
  },
  {
   "cell_type": "code",
   "execution_count": 83,
   "metadata": {},
   "outputs": [],
   "source": [
    "total_chanel_trending = df_youtube.groupby('channel_title', as_index=False)['video_id'].count()\\\n",
    "                                  .sort_values('video_id',ascending=False)"
   ]
  },
  {
   "cell_type": "code",
   "execution_count": 85,
   "metadata": {},
   "outputs": [
    {
     "data": {
      "text/html": [
       "<div>\n",
       "<style scoped>\n",
       "    .dataframe tbody tr th:only-of-type {\n",
       "        vertical-align: middle;\n",
       "    }\n",
       "\n",
       "    .dataframe tbody tr th {\n",
       "        vertical-align: top;\n",
       "    }\n",
       "\n",
       "    .dataframe thead th {\n",
       "        text-align: right;\n",
       "    }\n",
       "</style>\n",
       "<table border=\"1\" class=\"dataframe\">\n",
       "  <thead>\n",
       "    <tr style=\"text-align: right;\">\n",
       "      <th></th>\n",
       "      <th>channel_title</th>\n",
       "      <th>video_id</th>\n",
       "    </tr>\n",
       "  </thead>\n",
       "  <tbody>\n",
       "    <tr>\n",
       "      <th>555</th>\n",
       "      <td>ESPN</td>\n",
       "      <td>203</td>\n",
       "    </tr>\n",
       "    <tr>\n",
       "      <th>1785</th>\n",
       "      <td>The Tonight Show Starring Jimmy Fallon</td>\n",
       "      <td>197</td>\n",
       "    </tr>\n",
       "    <tr>\n",
       "      <th>1943</th>\n",
       "      <td>Vox</td>\n",
       "      <td>193</td>\n",
       "    </tr>\n",
       "    <tr>\n",
       "      <th>1271</th>\n",
       "      <td>Netflix</td>\n",
       "      <td>193</td>\n",
       "    </tr>\n",
       "    <tr>\n",
       "      <th>1804</th>\n",
       "      <td>TheEllenShow</td>\n",
       "      <td>193</td>\n",
       "    </tr>\n",
       "  </tbody>\n",
       "</table>\n",
       "</div>"
      ],
      "text/plain": [
       "                               channel_title  video_id\n",
       "555                                     ESPN       203\n",
       "1785  The Tonight Show Starring Jimmy Fallon       197\n",
       "1943                                     Vox       193\n",
       "1271                                 Netflix       193\n",
       "1804                            TheEllenShow       193"
      ]
     },
     "execution_count": 85,
     "metadata": {},
     "output_type": "execute_result"
    }
   ],
   "source": [
    "total_chanel_trending.head()"
   ]
  },
  {
   "cell_type": "markdown",
   "metadata": {},
   "source": [
    "##### 2"
   ]
  },
  {
   "cell_type": "code",
   "execution_count": 132,
   "metadata": {
    "scrolled": true
   },
   "outputs": [
    {
     "data": {
      "text/html": [
       "<div>\n",
       "<style scoped>\n",
       "    .dataframe tbody tr th:only-of-type {\n",
       "        vertical-align: middle;\n",
       "    }\n",
       "\n",
       "    .dataframe tbody tr th {\n",
       "        vertical-align: top;\n",
       "    }\n",
       "\n",
       "    .dataframe thead th {\n",
       "        text-align: right;\n",
       "    }\n",
       "</style>\n",
       "<table border=\"1\" class=\"dataframe\">\n",
       "  <thead>\n",
       "    <tr style=\"text-align: right;\">\n",
       "      <th></th>\n",
       "      <th>title</th>\n",
       "      <th>channel_title</th>\n",
       "      <th>liketoview</th>\n",
       "    </tr>\n",
       "  </thead>\n",
       "  <tbody>\n",
       "    <tr>\n",
       "      <th>10200</th>\n",
       "      <td>Bruno Mars - Finesse (Remix) [Feat. Cardi B] [...</td>\n",
       "      <td>Bruno Mars</td>\n",
       "      <td>0.290466</td>\n",
       "    </tr>\n",
       "    <tr>\n",
       "      <th>608</th>\n",
       "      <td>Luis Fonsi, Demi Lovato - Échame La Culpa</td>\n",
       "      <td>LuisFonsiVEVO</td>\n",
       "      <td>0.270613</td>\n",
       "    </tr>\n",
       "    <tr>\n",
       "      <th>22174</th>\n",
       "      <td>j-hope 'Airplane' MV</td>\n",
       "      <td>ibighit</td>\n",
       "      <td>0.265732</td>\n",
       "    </tr>\n",
       "    <tr>\n",
       "      <th>14428</th>\n",
       "      <td>dodie - Secret For The Mad</td>\n",
       "      <td>dodieVEVO</td>\n",
       "      <td>0.253659</td>\n",
       "    </tr>\n",
       "    <tr>\n",
       "      <th>5025</th>\n",
       "      <td>Louis Tomlinson - Miss You (Official Video)</td>\n",
       "      <td>LouisTomlinsonVEVO</td>\n",
       "      <td>0.245111</td>\n",
       "    </tr>\n",
       "  </tbody>\n",
       "</table>\n",
       "</div>"
      ],
      "text/plain": [
       "                                                   title       channel_title  \\\n",
       "10200  Bruno Mars - Finesse (Remix) [Feat. Cardi B] [...          Bruno Mars   \n",
       "608            Luis Fonsi, Demi Lovato - Échame La Culpa       LuisFonsiVEVO   \n",
       "22174                               j-hope 'Airplane' MV             ibighit   \n",
       "14428                         dodie - Secret For The Mad           dodieVEVO   \n",
       "5025         Louis Tomlinson - Miss You (Official Video)  LouisTomlinsonVEVO   \n",
       "\n",
       "       liketoview  \n",
       "10200    0.290466  \n",
       "608      0.270613  \n",
       "22174    0.265732  \n",
       "14428    0.253659  \n",
       "5025     0.245111  "
      ]
     },
     "execution_count": 132,
     "metadata": {},
     "output_type": "execute_result"
    }
   ],
   "source": [
    "df_youtube.sort_values('liketoview',ascending = False)\\\n",
    "            .head()[['title','channel_title','liketoview']]\n"
   ]
  },
  {
   "cell_type": "markdown",
   "metadata": {},
   "source": [
    "#### Conclusion"
   ]
  },
  {
   "cell_type": "markdown",
   "metadata": {},
   "source": [
    "1. total chanel yang paling banyak trending \n",
    "- ESPN, \n",
    "- The Tonight Show Starring Jimmy Fallon,\n",
    "- Vox,\n",
    "- Netflix,\n",
    "- TheEllenShow"
   ]
  },
  {
   "cell_type": "markdown",
   "metadata": {},
   "source": [
    "2. view yang memiliki like to view paling tinggi\n",
    "- Bruno Mars - Finesse (Remix) [Feat. Cardi B] [... ],\n",
    "- Luis Fonsi, Demi Lovato - Échame La Culpa \n",
    "- j-hope 'Airplane' MV\n",
    "- dodie - Secret For The Mad \t\n",
    "- Louis Tomlinson - Miss You (Official Video) \t"
   ]
  }
 ],
 "metadata": {
  "kernelspec": {
   "display_name": "Python 3",
   "language": "python",
   "name": "python3"
  },
  "language_info": {
   "codemirror_mode": {
    "name": "ipython",
    "version": 3
   },
   "file_extension": ".py",
   "mimetype": "text/x-python",
   "name": "python",
   "nbconvert_exporter": "python",
   "pygments_lexer": "ipython3",
   "version": "3.8.3"
  }
 },
 "nbformat": 4,
 "nbformat_minor": 4
}
