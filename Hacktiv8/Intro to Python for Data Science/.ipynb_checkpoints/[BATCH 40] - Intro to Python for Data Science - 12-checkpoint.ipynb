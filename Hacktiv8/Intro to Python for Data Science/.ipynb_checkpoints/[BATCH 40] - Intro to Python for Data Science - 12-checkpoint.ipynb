{
 "cells": [
  {
   "cell_type": "code",
   "execution_count": 105,
   "metadata": {},
   "outputs": [],
   "source": [
    "import pandas as pd\n",
    "import seaborn as sns\n",
    "import matplotlib.pyplot as plt\n",
    "\n",
    "# Fungsi untuk memisahkan training data dan testing data\n",
    "from sklearn.model_selection import train_test_split\n",
    "\n",
    "# Fungsi untuk memanggil model Machine Learning\n",
    "from sklearn.linear_model import LogisticRegression\n",
    "from sklearn.tree import DecisionTreeClassifier, export, export_graphviz, plot_tree\n",
    "from sklearn.cluster import KMeans\n",
    "\n",
    "# Fungsi untuk melakukan normalisasi dan standardisasi data\n",
    "from sklearn.preprocessing import StandardScaler, MinMaxScaler\n",
    "\n",
    "# Fungsi untuk menghitung evaluation metrics\n",
    "from sklearn import metrics, datasets"
   ]
  },
  {
   "cell_type": "markdown",
   "metadata": {},
   "source": [
    "## Multiclass Logistic Regression"
   ]
  },
  {
   "cell_type": "markdown",
   "metadata": {},
   "source": [
    "Classification - menentukan sebuah data itu masuk kelas / kategori mana"
   ]
  },
  {
   "cell_type": "markdown",
   "metadata": {},
   "source": [
    "- **Binary Classification**\n",
    "  > Menentukan sebuah data itu masuk dua kategori (A / B)\n",
    "  \n",
    "- **Multiclass Classification**\n",
    "  > Menentukan sebuah data itu masuk lebih dari dua kategori (A / B / C / ...)"
   ]
  },
  {
   "cell_type": "code",
   "execution_count": 2,
   "metadata": {},
   "outputs": [],
   "source": [
    "data_iris = datasets.load_iris()"
   ]
  },
  {
   "cell_type": "code",
   "execution_count": 6,
   "metadata": {},
   "outputs": [
    {
     "name": "stderr",
     "output_type": "stream",
     "text": [
      "C:\\Users\\960083.G7481X54_960083\\.conda\\envs\\h8\\lib\\site-packages\\sklearn\\utils\\validation.py:760: DataConversionWarning: A column-vector y was passed when a 1d array was expected. Please change the shape of y to (n_samples, ), for example using ravel().\n",
      "  y = column_or_1d(y, warn=True)\n"
     ]
    },
    {
     "name": "stdout",
     "output_type": "stream",
     "text": [
      "Accuracy score: 0.8333333333333334\n"
     ]
    }
   ],
   "source": [
    "# Define x / feature/ parameters dan y / label / target\n",
    "x = pd.DataFrame(data_iris['data'], columns=data_iris['feature_names'])\n",
    "y = pd.DataFrame(data_iris['target'], columns=['type'])\n",
    "\n",
    "# Split the data\n",
    "x_train, x_test, y_train, y_test = train_test_split(x, y, test_size=0.2, random_state=1)\n",
    "\n",
    "# Scale the data\n",
    "scaler = StandardScaler()\n",
    "x_train = scaler.fit_transform(x_train)\n",
    "x_test = scaler.fit_transform(x_test)\n",
    "\n",
    "# Initiate and train the model\n",
    "model = LogisticRegression()\n",
    "\n",
    "# Training process\n",
    "model.fit(x_train, y_train)\n",
    "\n",
    "# Testing and evaluation\n",
    "y_pred = model.predict(x_test)\n",
    "accuracy = metrics.accuracy_score(y_test, y_pred)\n",
    "print('Accuracy score: {}'.format(accuracy))"
   ]
  },
  {
   "cell_type": "code",
   "execution_count": 10,
   "metadata": {},
   "outputs": [
    {
     "data": {
      "text/plain": [
       "array([[-1.04902721,  1.02502481, -1.78547737, -1.64014386],\n",
       "       [ 0.66348067, -0.41779159, -0.36424012, -0.7697209 ],\n",
       "       [ 0.38554653, -0.60723322,  2.14971749,  2.40986476]])"
      ]
     },
     "execution_count": 10,
     "metadata": {},
     "output_type": "execute_result"
    }
   ],
   "source": [
    "model.coef_"
   ]
  },
  {
   "cell_type": "code",
   "execution_count": 30,
   "metadata": {},
   "outputs": [
    {
     "data": {
      "text/plain": [
       "array([-0.4547459 ,  1.76572446, -1.31097856])"
      ]
     },
     "execution_count": 30,
     "metadata": {},
     "output_type": "execute_result"
    }
   ],
   "source": [
    "model.intercept_"
   ]
  },
  {
   "cell_type": "markdown",
   "metadata": {},
   "source": [
    "f(x1b1 + x2b2 + ... + b0)"
   ]
  },
  {
   "cell_type": "code",
   "execution_count": 20,
   "metadata": {},
   "outputs": [],
   "source": [
    "import math\n",
    "\n",
    "def sigmoid(x):\n",
    "    return 1 / (1 + math.exp(-x))"
   ]
  },
  {
   "cell_type": "code",
   "execution_count": 23,
   "metadata": {},
   "outputs": [
    {
     "data": {
      "text/plain": [
       "0.9525741268224334"
      ]
     },
     "execution_count": 23,
     "metadata": {},
     "output_type": "execute_result"
    }
   ],
   "source": [
    "sigmoid(3)"
   ]
  },
  {
   "cell_type": "code",
   "execution_count": null,
   "metadata": {},
   "outputs": [],
   "source": [
    "# [x1, x2, x3] @ [y1, y2, y3] --> (x1.y1) + (x2.y2) + (x3.y3)"
   ]
  },
  {
   "cell_type": "code",
   "execution_count": null,
   "metadata": {},
   "outputs": [],
   "source": [
    "# f1((x1b1 + x2b2 + ...) + b0)"
   ]
  },
  {
   "cell_type": "code",
   "execution_count": 37,
   "metadata": {},
   "outputs": [
    {
     "name": "stdout",
     "output_type": "stream",
     "text": [
      "0.04132994793041147\n",
      "0.7805360492530534\n",
      "0.8670549710746289\n"
     ]
    }
   ],
   "source": [
    "print(sigmoid((model.coef_[0] @ x_test[5]) + model.intercept_[0]))\n",
    "print(sigmoid((model.coef_[1] @ x_test[5]) + model.intercept_[1]))\n",
    "print(sigmoid((model.coef_[2] @ x_test[5]) + model.intercept_[2]))"
   ]
  },
  {
   "cell_type": "code",
   "execution_count": 36,
   "metadata": {},
   "outputs": [
    {
     "data": {
      "text/plain": [
       "array([2])"
      ]
     },
     "execution_count": 36,
     "metadata": {},
     "output_type": "execute_result"
    }
   ],
   "source": [
    "model.predict([x_test[5]])"
   ]
  },
  {
   "cell_type": "code",
   "execution_count": 38,
   "metadata": {},
   "outputs": [
    {
     "name": "stdout",
     "output_type": "stream",
     "text": [
      "              precision    recall  f1-score   support\n",
      "\n",
      "           0       1.00      1.00      1.00        11\n",
      "           1       1.00      0.62      0.76        13\n",
      "           2       0.55      1.00      0.71         6\n",
      "\n",
      "    accuracy                           0.83        30\n",
      "   macro avg       0.85      0.87      0.82        30\n",
      "weighted avg       0.91      0.83      0.84        30\n",
      "\n"
     ]
    }
   ],
   "source": [
    "print(metrics.classification_report(y_test, y_pred))"
   ]
  },
  {
   "cell_type": "markdown",
   "metadata": {},
   "source": [
    "## Decision Tree"
   ]
  },
  {
   "cell_type": "markdown",
   "metadata": {},
   "source": [
    "- Model machine learning yang agak beda, karena pada Decision Tree:\n",
    "  - Data tidak perlu distandarisasi"
   ]
  },
  {
   "cell_type": "code",
   "execution_count": 53,
   "metadata": {},
   "outputs": [],
   "source": [
    "student = pd.read_csv('http://bit.ly/dwp-data-university')"
   ]
  },
  {
   "cell_type": "code",
   "execution_count": 70,
   "metadata": {},
   "outputs": [
    {
     "name": "stdout",
     "output_type": "stream",
     "text": [
      "Accuracy score: 0.9545454545454546\n"
     ]
    }
   ],
   "source": [
    "# Define x / feature/ parameters dan y / label / target\n",
    "x = student.drop(columns=['University Class'])\n",
    "y = student['University Class']\n",
    "\n",
    "# Convert research column\n",
    "def convert_research(row):\n",
    "    if row['Research'] == 'Y':\n",
    "        return 1\n",
    "    return 0\n",
    "\n",
    "x['Research'] = x.apply(convert_research, axis=1)\n",
    "\n",
    "# Split the data\n",
    "x_train, x_test, y_train, y_test = train_test_split(x, y, test_size=0.2, random_state=1)\n",
    "\n",
    "# Initiate and train the model\n",
    "model = DecisionTreeClassifier()\n",
    "\n",
    "# Training process\n",
    "model.fit(x_train, y_train)\n",
    "\n",
    "# Testing and evaluation\n",
    "y_pred = model.predict(x_test)\n",
    "accuracy = metrics.accuracy_score(y_test, y_pred)\n",
    "print('Accuracy score: {}'.format(accuracy))"
   ]
  },
  {
   "cell_type": "code",
   "execution_count": 67,
   "metadata": {},
   "outputs": [
    {
     "data": {
      "text/plain": [
       "<matplotlib.axes._subplots.AxesSubplot at 0x288629f4188>"
      ]
     },
     "execution_count": 67,
     "metadata": {},
     "output_type": "execute_result"
    },
    {
     "data": {
      "image/png": "[encoded data removed]",
      "text/plain": [
       "<Figure size 432x288 with 1 Axes>"
      ]
     },
     "metadata": {
      "needs_background": "light"
     },
     "output_type": "display_data"
    }
   ],
   "source": [
    "feature_importance = pd.DataFrame({'column': x.columns,\n",
    "                                   'feature_importance': model.feature_importances_}).sort_values('feature_importance')\n",
    "\n",
    "feature_importance.plot.barh(x='column', y='feature_importance')"
   ]
  },
  {
   "cell_type": "code",
   "execution_count": 81,
   "metadata": {},
   "outputs": [
    {
     "data": {
      "text/plain": [
       "['GRE', 'TOEFL', 'GPA', 'Research']"
      ]
     },
     "execution_count": 81,
     "metadata": {},
     "output_type": "execute_result"
    }
   ],
   "source": [
    "list(x.columns)"
   ]
  },
  {
   "cell_type": "code",
   "execution_count": 82,
   "metadata": {},
   "outputs": [
    {
     "name": "stdout",
     "output_type": "stream",
     "text": [
      "|--- GPA <= 8.59\n",
      "|   |--- TOEFL <= 102.50\n",
      "|   |   |--- class: 0\n",
      "|   |--- TOEFL >  102.50\n",
      "|   |   |--- GPA <= 7.89\n",
      "|   |   |   |--- class: 0\n",
      "|   |   |--- GPA >  7.89\n",
      "|   |   |   |--- class: 1\n",
      "|--- GPA >  8.59\n",
      "|   |--- GRE <= 319.00\n",
      "|   |   |--- GPA <= 8.88\n",
      "|   |   |   |--- class: 1\n",
      "|   |   |--- GPA >  8.88\n",
      "|   |   |   |--- class: 0\n",
      "|   |--- GRE >  319.00\n",
      "|   |   |--- GPA <= 8.70\n",
      "|   |   |   |--- TOEFL <= 109.50\n",
      "|   |   |   |   |--- class: 1\n",
      "|   |   |   |--- TOEFL >  109.50\n",
      "|   |   |   |   |--- class: 0\n",
      "|   |   |--- GPA >  8.70\n",
      "|   |   |   |--- class: 1\n",
      "\n"
     ]
    }
   ],
   "source": [
    "print(export.export_text(model, feature_names=list(x.columns)))"
   ]
  },
  {
   "cell_type": "code",
   "execution_count": 87,
   "metadata": {},
   "outputs": [],
   "source": [
    "export_graphviz(model, feature_names=list(x.columns), out_file='tree.txt')"
   ]
  },
  {
   "cell_type": "code",
   "execution_count": 101,
   "metadata": {},
   "outputs": [
    {
     "data": {
      "text/plain": [
       "<matplotlib.axes._subplots.AxesSubplot at 0x28862d4cd08>"
      ]
     },
     "execution_count": 101,
     "metadata": {},
     "output_type": "execute_result"
    },
    {
     "data": {
      "image/png": "[encoded data removed]",
      "text/plain": [
       "<Figure size 432x288 with 1 Axes>"
      ]
     },
     "metadata": {
      "needs_background": "light"
     },
     "output_type": "display_data"
    }
   ],
   "source": [
    "sns.scatterplot(data=student, x='GPA', y='University Class', hue='University Class')"
   ]
  },
  {
   "cell_type": "code",
   "execution_count": 102,
   "metadata": {},
   "outputs": [
    {
     "data": {
      "text/plain": [
       "<matplotlib.axes._subplots.AxesSubplot at 0x28862dd1248>"
      ]
     },
     "execution_count": 102,
     "metadata": {},
     "output_type": "execute_result"
    },
    {
     "data": {
      "image/png": "[encoded data removed]",
      "text/plain": [
       "<Figure size 432x288 with 1 Axes>"
      ]
     },
     "metadata": {
      "needs_background": "light"
     },
     "output_type": "display_data"
    }
   ],
   "source": [
    "sns.scatterplot(data=student, x='GRE', y='University Class', hue='University Class')"
   ]
  },
  {
   "cell_type": "code",
   "execution_count": 103,
   "metadata": {},
   "outputs": [
    {
     "data": {
      "text/plain": [
       "<matplotlib.axes._subplots.AxesSubplot at 0x28862e34c08>"
      ]
     },
     "execution_count": 103,
     "metadata": {},
     "output_type": "execute_result"
    },
    {
     "data": {
      "image/png": "[encoded data removed]",
      "text/plain": [
       "<Figure size 432x288 with 1 Axes>"
      ]
     },
     "metadata": {
      "needs_background": "light"
     },
     "output_type": "display_data"
    }
   ],
   "source": [
    "sns.scatterplot(data=student, x='TOEFL', y='University Class', hue='University Class')"
   ]
  },
  {
   "cell_type": "markdown",
   "metadata": {},
   "source": [
    "## K-Means"
   ]
  },
  {
   "cell_type": "code",
   "execution_count": 110,
   "metadata": {},
   "outputs": [
    {
     "data": {
      "text/html": [
       "<div>\n",
       "<style scoped>\n",
       "    .dataframe tbody tr th:only-of-type {\n",
       "        vertical-align: middle;\n",
       "    }\n",
       "\n",
       "    .dataframe tbody tr th {\n",
       "        vertical-align: top;\n",
       "    }\n",
       "\n",
       "    .dataframe thead th {\n",
       "        text-align: right;\n",
       "    }\n",
       "</style>\n",
       "<table border=\"1\" class=\"dataframe\">\n",
       "  <thead>\n",
       "    <tr style=\"text-align: right;\">\n",
       "      <th></th>\n",
       "      <th>GRE</th>\n",
       "      <th>GPA</th>\n",
       "    </tr>\n",
       "  </thead>\n",
       "  <tbody>\n",
       "    <tr>\n",
       "      <th>0</th>\n",
       "      <td>330</td>\n",
       "      <td>9.34</td>\n",
       "    </tr>\n",
       "    <tr>\n",
       "      <th>1</th>\n",
       "      <td>302</td>\n",
       "      <td>8.00</td>\n",
       "    </tr>\n",
       "    <tr>\n",
       "      <th>2</th>\n",
       "      <td>328</td>\n",
       "      <td>9.50</td>\n",
       "    </tr>\n",
       "    <tr>\n",
       "      <th>3</th>\n",
       "      <td>334</td>\n",
       "      <td>9.70</td>\n",
       "    </tr>\n",
       "    <tr>\n",
       "      <th>4</th>\n",
       "      <td>336</td>\n",
       "      <td>9.80</td>\n",
       "    </tr>\n",
       "  </tbody>\n",
       "</table>\n",
       "</div>"
      ],
      "text/plain": [
       "   GRE   GPA\n",
       "0  330  9.34\n",
       "1  302  8.00\n",
       "2  328  9.50\n",
       "3  334  9.70\n",
       "4  336  9.80"
      ]
     },
     "execution_count": 110,
     "metadata": {},
     "output_type": "execute_result"
    }
   ],
   "source": [
    "df_student = student[['GRE', 'GPA']]\n",
    "\n",
    "df_student.head()"
   ]
  },
  {
   "cell_type": "code",
   "execution_count": 163,
   "metadata": {},
   "outputs": [
    {
     "data": {
      "text/plain": [
       "<matplotlib.axes._subplots.AxesSubplot at 0x28865a68708>"
      ]
     },
     "execution_count": 163,
     "metadata": {},
     "output_type": "execute_result"
    },
    {
     "data": {
      "image/png": "[encoded data removed]",
      "text/plain": [
       "<Figure size 432x288 with 1 Axes>"
      ]
     },
     "metadata": {
      "needs_background": "light"
     },
     "output_type": "display_data"
    }
   ],
   "source": [
    "sns.scatterplot(data=df_student, x='GRE', y='GPA')"
   ]
  },
  {
   "cell_type": "code",
   "execution_count": 197,
   "metadata": {},
   "outputs": [
    {
     "data": {
      "text/plain": [
       "KMeans(algorithm='auto', copy_x=True, init='k-means++', max_iter=300,\n",
       "       n_clusters=2, n_init=10, n_jobs=None, precompute_distances='auto',\n",
       "       random_state=1, tol=0.0001, verbose=0)"
      ]
     },
     "execution_count": 197,
     "metadata": {},
     "output_type": "execute_result"
    }
   ],
   "source": [
    "# Import the data\n",
    "df_student = student[['GRE', 'GPA']]\n",
    "\n",
    "# # Scale the data\n",
    "# scaler = StandardScaler()\n",
    "# df_student_scaled = scaler.fit_transform(df_student)\n",
    "\n",
    "# Initiate the model\n",
    "model = KMeans(n_clusters=2, random_state=1)\n",
    "\n",
    "# Training process\n",
    "model.fit(df_student)"
   ]
  },
  {
   "cell_type": "code",
   "execution_count": 198,
   "metadata": {},
   "outputs": [
    {
     "data": {
      "text/plain": [
       "<matplotlib.axes._subplots.AxesSubplot at 0x28865b04688>"
      ]
     },
     "execution_count": 198,
     "metadata": {},
     "output_type": "execute_result"
    },
    {
     "data": {
      "image/png": "[encoded data removed]",
      "text/plain": [
       "<Figure size 432x288 with 1 Axes>"
      ]
     },
     "metadata": {
      "needs_background": "light"
     },
     "output_type": "display_data"
    }
   ],
   "source": [
    "labels = pd.DataFrame(model.labels_, columns=['label'])\n",
    "labelled_data = pd.concat([df_student, labels], axis=1)\n",
    "\n",
    "sns.scatterplot(data=labelled_data, x='GRE', y='GPA', hue='label')"
   ]
  },
  {
   "cell_type": "code",
   "execution_count": 209,
   "metadata": {},
   "outputs": [
    {
     "data": {
      "image/png": "[encoded data removed]",
      "text/plain": [
       "<Figure size 432x288 with 1 Axes>"
      ]
     },
     "metadata": {
      "needs_background": "light"
     },
     "output_type": "display_data"
    }
   ],
   "source": [
    "label = pd.DataFrame(model.labels_, columns=['label'])\n",
    "centroid = pd.DataFrame(model.cluster_centers_, columns=['GRE', 'GPA'])\n",
    "\n",
    "labelled_data = pd.concat([x, label], axis=1)\n",
    "labelled_data_centroid = pd.concat([labelled_data, centroid])\n",
    "labelled_data_centroid = labelled_data_centroid.fillna('centroid')\n",
    "viz = sns.scatterplot(data=labelled_data_centroid, x='GRE', y='GPA', hue='label')"
   ]
  },
  {
   "cell_type": "markdown",
   "metadata": {},
   "source": [
    "### Elbow Method\n",
    "Digunakan untuk mencari jumlah cluster yang paling maksimum"
   ]
  },
  {
   "cell_type": "code",
   "execution_count": 154,
   "metadata": {},
   "outputs": [],
   "source": [
    "# Inertia for clusters 1 -> 8\n",
    "# 212, 45, 30, 21, 17, 13, 11, 9"
   ]
  },
  {
   "cell_type": "code",
   "execution_count": 155,
   "metadata": {},
   "outputs": [
    {
     "data": {
      "text/plain": [
       "<matplotlib.axes._subplots.AxesSubplot at 0x28864c4b6c8>"
      ]
     },
     "execution_count": 155,
     "metadata": {},
     "output_type": "execute_result"
    },
    {
     "data": {
      "image/png": "[encoded data removed]",
      "text/plain": [
       "<Figure size 432x288 with 1 Axes>"
      ]
     },
     "metadata": {
      "needs_background": "light"
     },
     "output_type": "display_data"
    }
   ],
   "source": [
    "sns.lineplot(x=[1,2,3,4,5,6,7,8], y=[212,45,30,21,17,13,11,9])"
   ]
  }
 ],
 "metadata": {
  "kernelspec": {
   "display_name": "Python 3",
   "language": "python",
   "name": "python3"
  },
  "language_info": {
   "codemirror_mode": {
    "name": "ipython",
    "version": 3
   },
   "file_extension": ".py",
   "mimetype": "text/x-python",
   "name": "python",
   "nbconvert_exporter": "python",
   "pygments_lexer": "ipython3",
   "version": "3.8.3"
  }
 },
 "nbformat": 4,
 "nbformat_minor": 4
}
