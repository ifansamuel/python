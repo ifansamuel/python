{
 "cells": [
  {
   "cell_type": "code",
   "execution_count": 7,
   "metadata": {},
   "outputs": [],
   "source": [
    "import pandas as pd\n",
    "import seaborn as sns\n",
    "import matplotlib.pyplot as plt\n",
    "import pandasql"
   ]
  },
  {
   "cell_type": "code",
   "execution_count": 2,
   "metadata": {},
   "outputs": [],
   "source": [
    "df_sales = pd.read_csv('http://bit.ly/dwp-data-ecommerce')"
   ]
  },
  {
   "cell_type": "code",
   "execution_count": 3,
   "metadata": {
    "scrolled": true
   },
   "outputs": [
    {
     "data": {
      "text/html": [
       "<div>\n",
       "<style scoped>\n",
       "    .dataframe tbody tr th:only-of-type {\n",
       "        vertical-align: middle;\n",
       "    }\n",
       "\n",
       "    .dataframe tbody tr th {\n",
       "        vertical-align: top;\n",
       "    }\n",
       "\n",
       "    .dataframe thead th {\n",
       "        text-align: right;\n",
       "    }\n",
       "</style>\n",
       "<table border=\"1\" class=\"dataframe\">\n",
       "  <thead>\n",
       "    <tr style=\"text-align: right;\">\n",
       "      <th></th>\n",
       "      <th>order_id</th>\n",
       "      <th>order_datetime</th>\n",
       "      <th>delivery_start_date</th>\n",
       "      <th>delivery_end_date</th>\n",
       "      <th>customer_name</th>\n",
       "      <th>customer_city</th>\n",
       "      <th>seller_name</th>\n",
       "      <th>seller_city</th>\n",
       "      <th>product_id</th>\n",
       "      <th>product_category</th>\n",
       "      <th>product_weight</th>\n",
       "      <th>product_cost</th>\n",
       "      <th>delivery_cost</th>\n",
       "      <th>payment_type</th>\n",
       "      <th>payment_installments</th>\n",
       "    </tr>\n",
       "  </thead>\n",
       "  <tbody>\n",
       "    <tr>\n",
       "      <th>0</th>\n",
       "      <td>23</td>\n",
       "      <td>2017-08-19 14:06:58</td>\n",
       "      <td>2017-08-29 00:00:00</td>\n",
       "      <td>2017-09-15 00:00:00</td>\n",
       "      <td>Judy Haley</td>\n",
       "      <td>gravatai</td>\n",
       "      <td>Lisa Hartung</td>\n",
       "      <td>maua</td>\n",
       "      <td>P_3</td>\n",
       "      <td>sports_leisure</td>\n",
       "      <td>600.0</td>\n",
       "      <td>29.90</td>\n",
       "      <td>14.10</td>\n",
       "      <td>ticket</td>\n",
       "      <td>1</td>\n",
       "    </tr>\n",
       "    <tr>\n",
       "      <th>1</th>\n",
       "      <td>45</td>\n",
       "      <td>2017-09-20 11:49:49</td>\n",
       "      <td>2017-09-22 00:00:00</td>\n",
       "      <td>2017-10-05 00:00:00</td>\n",
       "      <td>Jerry Amsterdam</td>\n",
       "      <td>sao paulo</td>\n",
       "      <td>Lisa Hartung</td>\n",
       "      <td>maua</td>\n",
       "      <td>P_9</td>\n",
       "      <td>sports_leisure</td>\n",
       "      <td>400.0</td>\n",
       "      <td>24.99</td>\n",
       "      <td>8.72</td>\n",
       "      <td>credit_card</td>\n",
       "      <td>1</td>\n",
       "    </tr>\n",
       "    <tr>\n",
       "      <th>2</th>\n",
       "      <td>47</td>\n",
       "      <td>2017-08-19 19:25:41</td>\n",
       "      <td>2017-08-31 00:00:00</td>\n",
       "      <td>2017-09-21 00:00:00</td>\n",
       "      <td>Wanda Amaral</td>\n",
       "      <td>salvador</td>\n",
       "      <td>Lisa Hartung</td>\n",
       "      <td>maua</td>\n",
       "      <td>P_11</td>\n",
       "      <td>sports_leisure</td>\n",
       "      <td>400.0</td>\n",
       "      <td>29.90</td>\n",
       "      <td>15.79</td>\n",
       "      <td>credit_card</td>\n",
       "      <td>2</td>\n",
       "    </tr>\n",
       "    <tr>\n",
       "      <th>3</th>\n",
       "      <td>228</td>\n",
       "      <td>2018-02-07 13:51:11</td>\n",
       "      <td>2018-02-19 00:00:00</td>\n",
       "      <td>2018-03-08 00:00:00</td>\n",
       "      <td>Lisa Cremer</td>\n",
       "      <td>sarandi</td>\n",
       "      <td>Preston Corsi</td>\n",
       "      <td>sao goncalo</td>\n",
       "      <td>P_19</td>\n",
       "      <td>health_beauty</td>\n",
       "      <td>390.0</td>\n",
       "      <td>119.90</td>\n",
       "      <td>15.59</td>\n",
       "      <td>ticket</td>\n",
       "      <td>1</td>\n",
       "    </tr>\n",
       "    <tr>\n",
       "      <th>4</th>\n",
       "      <td>229</td>\n",
       "      <td>2018-06-08 21:58:32</td>\n",
       "      <td>2018-06-18 00:00:00</td>\n",
       "      <td>2018-07-05 00:00:00</td>\n",
       "      <td>Derek Dominguez</td>\n",
       "      <td>campo largo</td>\n",
       "      <td>Preston Corsi</td>\n",
       "      <td>sao goncalo</td>\n",
       "      <td>P_19</td>\n",
       "      <td>health_beauty</td>\n",
       "      <td>390.0</td>\n",
       "      <td>119.50</td>\n",
       "      <td>15.72</td>\n",
       "      <td>credit_card</td>\n",
       "      <td>2</td>\n",
       "    </tr>\n",
       "  </tbody>\n",
       "</table>\n",
       "</div>"
      ],
      "text/plain": [
       "   order_id       order_datetime  delivery_start_date    delivery_end_date  \\\n",
       "0        23  2017-08-19 14:06:58  2017-08-29 00:00:00  2017-09-15 00:00:00   \n",
       "1        45  2017-09-20 11:49:49  2017-09-22 00:00:00  2017-10-05 00:00:00   \n",
       "2        47  2017-08-19 19:25:41  2017-08-31 00:00:00  2017-09-21 00:00:00   \n",
       "3       228  2018-02-07 13:51:11  2018-02-19 00:00:00  2018-03-08 00:00:00   \n",
       "4       229  2018-06-08 21:58:32  2018-06-18 00:00:00  2018-07-05 00:00:00   \n",
       "\n",
       "     customer_name customer_city    seller_name  seller_city product_id  \\\n",
       "0       Judy Haley      gravatai   Lisa Hartung         maua        P_3   \n",
       "1  Jerry Amsterdam     sao paulo   Lisa Hartung         maua        P_9   \n",
       "2     Wanda Amaral      salvador   Lisa Hartung         maua       P_11   \n",
       "3      Lisa Cremer       sarandi  Preston Corsi  sao goncalo       P_19   \n",
       "4  Derek Dominguez   campo largo  Preston Corsi  sao goncalo       P_19   \n",
       "\n",
       "  product_category  product_weight  product_cost  delivery_cost payment_type  \\\n",
       "0   sports_leisure           600.0         29.90          14.10       ticket   \n",
       "1   sports_leisure           400.0         24.99           8.72  credit_card   \n",
       "2   sports_leisure           400.0         29.90          15.79  credit_card   \n",
       "3    health_beauty           390.0        119.90          15.59       ticket   \n",
       "4    health_beauty           390.0        119.50          15.72  credit_card   \n",
       "\n",
       "   payment_installments  \n",
       "0                     1  \n",
       "1                     1  \n",
       "2                     2  \n",
       "3                     1  \n",
       "4                     2  "
      ]
     },
     "execution_count": 3,
     "metadata": {},
     "output_type": "execute_result"
    }
   ],
   "source": [
    "df_sales.head()"
   ]
  },
  {
   "cell_type": "markdown",
   "metadata": {},
   "source": [
    "### Question"
   ]
  },
  {
   "cell_type": "markdown",
   "metadata": {},
   "source": [
    "1. Cari \"product_category\" yang menyumbangkan revenue paling banyak (dilihat dari \"product_cost\"), \n",
    "    dan visualisasikan menggunakan Bar Plot!"
   ]
  },
  {
   "cell_type": "markdown",
   "metadata": {},
   "source": [
    "2. Tampilkan pergerakan total produk \"health_beauty\" yang terjual di setiap bulan pada kota \"sao paulo\"\n",
    "    dan visualisasikan menggunakan Line Plot!"
   ]
  },
  {
   "cell_type": "markdown",
   "metadata": {},
   "source": [
    "### Wrangler"
   ]
  },
  {
   "cell_type": "code",
   "execution_count": 19,
   "metadata": {
    "scrolled": true
   },
   "outputs": [],
   "source": [
    "#ubah tipe order_datetime menjadi datetime\n",
    "df_sales['order_datetime'] = pd.to_datetime(df_sales['order_datetime'])\n",
    "#tambah order_yearmonth\n",
    "df_sales['order_yearmonth'] = df_sales['order_datetime'].dt.strftime('%Y-%m')\n",
    "#ubah tipe order_yearmonth menjadi datetime\n",
    "df_sales['order_yearmonth'] = pd.to_datetime(df_sales['order_yearmonth'])"
   ]
  },
  {
   "cell_type": "markdown",
   "metadata": {},
   "source": [
    "### Explore"
   ]
  },
  {
   "cell_type": "code",
   "execution_count": 5,
   "metadata": {
    "scrolled": true
   },
   "outputs": [
    {
     "data": {
      "text/html": [
       "<div>\n",
       "<style scoped>\n",
       "    .dataframe tbody tr th:only-of-type {\n",
       "        vertical-align: middle;\n",
       "    }\n",
       "\n",
       "    .dataframe tbody tr th {\n",
       "        vertical-align: top;\n",
       "    }\n",
       "\n",
       "    .dataframe thead th {\n",
       "        text-align: right;\n",
       "    }\n",
       "</style>\n",
       "<table border=\"1\" class=\"dataframe\">\n",
       "  <thead>\n",
       "    <tr style=\"text-align: right;\">\n",
       "      <th></th>\n",
       "      <th>product_category</th>\n",
       "      <th>product_cost</th>\n",
       "    </tr>\n",
       "  </thead>\n",
       "  <tbody>\n",
       "    <tr>\n",
       "      <th>4</th>\n",
       "      <td>watches_gifts</td>\n",
       "      <td>856291.62</td>\n",
       "    </tr>\n",
       "    <tr>\n",
       "      <th>2</th>\n",
       "      <td>health_beauty</td>\n",
       "      <td>818218.47</td>\n",
       "    </tr>\n",
       "    <tr>\n",
       "      <th>3</th>\n",
       "      <td>sports_leisure</td>\n",
       "      <td>636383.37</td>\n",
       "    </tr>\n",
       "    <tr>\n",
       "      <th>0</th>\n",
       "      <td>bed_bath_table</td>\n",
       "      <td>605398.71</td>\n",
       "    </tr>\n",
       "    <tr>\n",
       "      <th>1</th>\n",
       "      <td>computers_accessories</td>\n",
       "      <td>532244.80</td>\n",
       "    </tr>\n",
       "  </tbody>\n",
       "</table>\n",
       "</div>"
      ],
      "text/plain": [
       "        product_category  product_cost\n",
       "4          watches_gifts     856291.62\n",
       "2          health_beauty     818218.47\n",
       "3         sports_leisure     636383.37\n",
       "0         bed_bath_table     605398.71\n",
       "1  computers_accessories     532244.80"
      ]
     },
     "execution_count": 5,
     "metadata": {},
     "output_type": "execute_result"
    }
   ],
   "source": [
    "#dengan pandas\n",
    "result_1 = df_sales.groupby('product_category',as_index=False)['product_cost'].sum()\\\n",
    "                    .sort_values('product_category')\\\n",
    "                    .sort_values('product_cost',ascending = False)\n",
    "result_1"
   ]
  },
  {
   "cell_type": "code",
   "execution_count": 13,
   "metadata": {
    "scrolled": true
   },
   "outputs": [
    {
     "data": {
      "text/plain": [
       "<function matplotlib.pyplot.show(close=None, block=None)>"
      ]
     },
     "execution_count": 13,
     "metadata": {},
     "output_type": "execute_result"
    },
    {
     "data": {
      "image/png": "[encoded data removed]",
      "text/plain": [
       "<Figure size 1080x288 with 1 Axes>"
      ]
     },
     "metadata": {
      "needs_background": "light"
     },
     "output_type": "display_data"
    }
   ],
   "source": [
    "plt.figure(figsize =(15,4))\n",
    "sns.barplot(data=result_1,x='product_category', y='product_cost')\n",
    "plt.ylabel('Total Revenue')\n",
    "plt.xlabel('Product Category')\n",
    "plt.title('Total Revenue Sold per Product Category')\n",
    "plt.show"
   ]
  },
  {
   "cell_type": "code",
   "execution_count": 9,
   "metadata": {},
   "outputs": [
    {
     "data": {
      "text/html": [
       "<div>\n",
       "<style scoped>\n",
       "    .dataframe tbody tr th:only-of-type {\n",
       "        vertical-align: middle;\n",
       "    }\n",
       "\n",
       "    .dataframe tbody tr th {\n",
       "        vertical-align: top;\n",
       "    }\n",
       "\n",
       "    .dataframe thead th {\n",
       "        text-align: right;\n",
       "    }\n",
       "</style>\n",
       "<table border=\"1\" class=\"dataframe\">\n",
       "  <thead>\n",
       "    <tr style=\"text-align: right;\">\n",
       "      <th></th>\n",
       "      <th>product_category</th>\n",
       "      <th>total</th>\n",
       "    </tr>\n",
       "  </thead>\n",
       "  <tbody>\n",
       "    <tr>\n",
       "      <th>0</th>\n",
       "      <td>watches_gifts</td>\n",
       "      <td>856291.62</td>\n",
       "    </tr>\n",
       "    <tr>\n",
       "      <th>1</th>\n",
       "      <td>health_beauty</td>\n",
       "      <td>818218.47</td>\n",
       "    </tr>\n",
       "    <tr>\n",
       "      <th>2</th>\n",
       "      <td>sports_leisure</td>\n",
       "      <td>636383.37</td>\n",
       "    </tr>\n",
       "    <tr>\n",
       "      <th>3</th>\n",
       "      <td>bed_bath_table</td>\n",
       "      <td>605398.71</td>\n",
       "    </tr>\n",
       "    <tr>\n",
       "      <th>4</th>\n",
       "      <td>computers_accessories</td>\n",
       "      <td>532244.80</td>\n",
       "    </tr>\n",
       "  </tbody>\n",
       "</table>\n",
       "</div>"
      ],
      "text/plain": [
       "        product_category      total\n",
       "0          watches_gifts  856291.62\n",
       "1          health_beauty  818218.47\n",
       "2         sports_leisure  636383.37\n",
       "3         bed_bath_table  605398.71\n",
       "4  computers_accessories  532244.80"
      ]
     },
     "execution_count": 9,
     "metadata": {},
     "output_type": "execute_result"
    }
   ],
   "source": [
    "#dengan pandasql\n",
    "query = \"\"\"\n",
    "        SELECT\n",
    "            product_category,\n",
    "            sum(product_cost) as total\n",
    "        FROM\n",
    "            df_sales\n",
    "        GROUP BY\n",
    "            product_category\n",
    "        ORDER BY\n",
    "            total desc\n",
    "        \"\"\"\n",
    "result_1_sql = pandasql.sqldf(query)\n",
    "result_1_sql"
   ]
  },
  {
   "cell_type": "code",
   "execution_count": 10,
   "metadata": {},
   "outputs": [
    {
     "data": {
      "text/plain": [
       "<function matplotlib.pyplot.show(close=None, block=None)>"
      ]
     },
     "execution_count": 10,
     "metadata": {},
     "output_type": "execute_result"
    },
    {
     "data": {
      "image/png": "[encoded data removed]",
      "text/plain": [
       "<Figure size 1080x288 with 1 Axes>"
      ]
     },
     "metadata": {
      "needs_background": "light"
     },
     "output_type": "display_data"
    }
   ],
   "source": [
    "plt.figure(figsize =(15,4))\n",
    "sns.barplot(data=result_1_sql,x='product_category', y='total')\n",
    "plt.ylabel('Total Revenue')\n",
    "plt.xlabel('Product Category')\n",
    "plt.title('Total Revenue Sold per Product Category')\n",
    "plt.show"
   ]
  },
  {
   "cell_type": "code",
   "execution_count": 13,
   "metadata": {
    "scrolled": true
   },
   "outputs": [
    {
     "data": {
      "text/html": [
       "<div>\n",
       "<style scoped>\n",
       "    .dataframe tbody tr th:only-of-type {\n",
       "        vertical-align: middle;\n",
       "    }\n",
       "\n",
       "    .dataframe tbody tr th {\n",
       "        vertical-align: top;\n",
       "    }\n",
       "\n",
       "    .dataframe thead th {\n",
       "        text-align: right;\n",
       "    }\n",
       "</style>\n",
       "<table border=\"1\" class=\"dataframe\">\n",
       "  <thead>\n",
       "    <tr style=\"text-align: right;\">\n",
       "      <th></th>\n",
       "      <th>order_yearmonth</th>\n",
       "      <th>order_id</th>\n",
       "    </tr>\n",
       "  </thead>\n",
       "  <tbody>\n",
       "    <tr>\n",
       "      <th>0</th>\n",
       "      <td>2017-01-01</td>\n",
       "      <td>7</td>\n",
       "    </tr>\n",
       "    <tr>\n",
       "      <th>1</th>\n",
       "      <td>2017-02-01</td>\n",
       "      <td>20</td>\n",
       "    </tr>\n",
       "    <tr>\n",
       "      <th>2</th>\n",
       "      <td>2017-03-01</td>\n",
       "      <td>20</td>\n",
       "    </tr>\n",
       "    <tr>\n",
       "      <th>3</th>\n",
       "      <td>2017-04-01</td>\n",
       "      <td>20</td>\n",
       "    </tr>\n",
       "    <tr>\n",
       "      <th>4</th>\n",
       "      <td>2017-05-01</td>\n",
       "      <td>34</td>\n",
       "    </tr>\n",
       "  </tbody>\n",
       "</table>\n",
       "</div>"
      ],
      "text/plain": [
       "  order_yearmonth  order_id\n",
       "0      2017-01-01         7\n",
       "1      2017-02-01        20\n",
       "2      2017-03-01        20\n",
       "3      2017-04-01        20\n",
       "4      2017-05-01        34"
      ]
     },
     "execution_count": 13,
     "metadata": {},
     "output_type": "execute_result"
    }
   ],
   "source": [
    "#dengan pandas\n",
    "df_sales_case2 = df_sales[(df_sales['customer_city']=='sao paulo')&(df_sales['product_category']=='health_beauty')]\\\n",
    "                .sort_values('order_yearmonth')\n",
    "result_2 = df_sales_case2.groupby('order_yearmonth',as_index=False)['order_id'].count()\n",
    "result_2.head()"
   ]
  },
  {
   "cell_type": "code",
   "execution_count": 14,
   "metadata": {},
   "outputs": [
    {
     "data": {
      "image/png": "[encoded data removed]",
      "text/plain": [
       "<Figure size 1080x288 with 1 Axes>"
      ]
     },
     "metadata": {
      "needs_background": "light"
     },
     "output_type": "display_data"
    }
   ],
   "source": [
    "plt.figure(figsize=(15,4))\n",
    "sns.lineplot(data=result_2,x='order_yearmonth',y='order_id')\n",
    "plt.xlabel('Period')\n",
    "plt.ylabel('Total Product')\n",
    "plt.title('Total Healt & Beauty Product Sold per Month in Sao Paulo')\n",
    "plt.show()"
   ]
  },
  {
   "cell_type": "code",
   "execution_count": 21,
   "metadata": {},
   "outputs": [
    {
     "data": {
      "text/html": [
       "<div>\n",
       "<style scoped>\n",
       "    .dataframe tbody tr th:only-of-type {\n",
       "        vertical-align: middle;\n",
       "    }\n",
       "\n",
       "    .dataframe tbody tr th {\n",
       "        vertical-align: top;\n",
       "    }\n",
       "\n",
       "    .dataframe thead th {\n",
       "        text-align: right;\n",
       "    }\n",
       "</style>\n",
       "<table border=\"1\" class=\"dataframe\">\n",
       "  <thead>\n",
       "    <tr style=\"text-align: right;\">\n",
       "      <th></th>\n",
       "      <th>order_yearmonth</th>\n",
       "      <th>total</th>\n",
       "    </tr>\n",
       "  </thead>\n",
       "  <tbody>\n",
       "    <tr>\n",
       "      <th>0</th>\n",
       "      <td>2017-01-01 00:00:00.000000</td>\n",
       "      <td>7</td>\n",
       "    </tr>\n",
       "    <tr>\n",
       "      <th>1</th>\n",
       "      <td>2017-02-01 00:00:00.000000</td>\n",
       "      <td>20</td>\n",
       "    </tr>\n",
       "    <tr>\n",
       "      <th>2</th>\n",
       "      <td>2017-03-01 00:00:00.000000</td>\n",
       "      <td>20</td>\n",
       "    </tr>\n",
       "    <tr>\n",
       "      <th>3</th>\n",
       "      <td>2017-04-01 00:00:00.000000</td>\n",
       "      <td>20</td>\n",
       "    </tr>\n",
       "    <tr>\n",
       "      <th>4</th>\n",
       "      <td>2017-05-01 00:00:00.000000</td>\n",
       "      <td>34</td>\n",
       "    </tr>\n",
       "  </tbody>\n",
       "</table>\n",
       "</div>"
      ],
      "text/plain": [
       "              order_yearmonth  total\n",
       "0  2017-01-01 00:00:00.000000      7\n",
       "1  2017-02-01 00:00:00.000000     20\n",
       "2  2017-03-01 00:00:00.000000     20\n",
       "3  2017-04-01 00:00:00.000000     20\n",
       "4  2017-05-01 00:00:00.000000     34"
      ]
     },
     "execution_count": 21,
     "metadata": {},
     "output_type": "execute_result"
    }
   ],
   "source": [
    "#dengan pandasql\n",
    "query = \"\"\"\n",
    "        SELECT\n",
    "            order_yearmonth,\n",
    "            count(*) as total\n",
    "        FROM \n",
    "            df_sales\n",
    "        WHERE\n",
    "            customer_city = 'sao paulo'\n",
    "            AND product_category = 'health_beauty'\n",
    "        GROUP BY\n",
    "            order_yearmonth\n",
    "        ORDER BY\n",
    "            order_yearmonth asc\n",
    "        \"\"\"\n",
    "result_2_sql = pandasql.sqldf(query)\n",
    "result_2_sql.head()"
   ]
  },
  {
   "cell_type": "code",
   "execution_count": 22,
   "metadata": {},
   "outputs": [
    {
     "data": {
      "text/plain": [
       "0       2017-08-01\n",
       "1       2017-09-01\n",
       "2       2017-08-01\n",
       "3       2018-02-01\n",
       "4       2018-06-01\n",
       "           ...    \n",
       "26074   2017-05-01\n",
       "26075   2017-06-01\n",
       "26076   2018-04-01\n",
       "26077   2018-02-01\n",
       "26078   2017-05-01\n",
       "Name: order_yearmonth, Length: 26079, dtype: datetime64[ns]"
      ]
     },
     "execution_count": 22,
     "metadata": {},
     "output_type": "execute_result"
    }
   ],
   "source": []
  },
  {
   "cell_type": "markdown",
   "metadata": {},
   "source": [
    "### Conclusion"
   ]
  },
  {
   "cell_type": "markdown",
   "metadata": {},
   "source": [
    "1. Total kategori produk yang paling banyak menyumbang *revenue* adalah watches_gifts\n",
    "2. Pergerakan total produk *health_beauty* yang terjual di kota Sao Paulo di setiap bulan mengalami kenaikan dari Januari 2017 sampai Mei 2018, namun mengalami penurunan di Juli 2018"
   ]
  }
 ],
 "metadata": {
  "kernelspec": {
   "display_name": "Python 3",
   "language": "python",
   "name": "python3"
  },
  "language_info": {
   "codemirror_mode": {
    "name": "ipython",
    "version": 3
   },
   "file_extension": ".py",
   "mimetype": "text/x-python",
   "name": "python",
   "nbconvert_exporter": "python",
   "pygments_lexer": "ipython3",
   "version": "3.8.3"
  }
 },
 "nbformat": 4,
 "nbformat_minor": 4
}
