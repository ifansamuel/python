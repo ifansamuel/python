{
 "cells": [
  {
   "cell_type": "code",
   "execution_count": 1,
   "metadata": {},
   "outputs": [],
   "source": [
    "# Exercise 1\n",
    "\n",
    "# Buat sebuah function\n",
    "# inputnya adalah total hari (dalam integer)\n",
    "# outputnya adalah string \"{} minggu {} hari\"\n",
    "\n",
    "# input: 15\n",
    "# output: 2 minggu 1 hari\n",
    "\n",
    "# input: 26\n",
    "# output: 3 minggu 5 hari"
   ]
  },
  {
   "cell_type": "code",
   "execution_count": 19,
   "metadata": {},
   "outputs": [
    {
     "data": {
      "text/plain": [
       "'1 minggu 6 hari'"
      ]
     },
     "execution_count": 19,
     "metadata": {},
     "output_type": "execute_result"
    }
   ],
   "source": [
    "import math\n",
    "\n",
    "def hitung_hari(tot_hari):\n",
    "    minggu = math.floor(tot_hari / 7)\n",
    "    hari = tot_hari % 7\n",
    "    return \"{} minggu {} hari\".format(minggu, hari)\n",
    "\n",
    "hitung_hari(13)"
   ]
  },
  {
   "cell_type": "code",
   "execution_count": 2,
   "metadata": {},
   "outputs": [],
   "source": [
    "# Exercise 2\n",
    "\n",
    "# Buat sebuah function\n",
    "# inputnya adalah 2 buah lists\n",
    "# outputnya adalah list yang paling panjang (punya lebih banyak element)\n",
    "\n",
    "# input: [1, 2, 3, 4] [7, 8, 9]\n",
    "# output: [1, 2, 3, 4]"
   ]
  },
  {
   "cell_type": "code",
   "execution_count": 30,
   "metadata": {},
   "outputs": [
    {
     "data": {
      "text/plain": [
       "[1, 2, 3, 4]"
      ]
     },
     "execution_count": 30,
     "metadata": {},
     "output_type": "execute_result"
    }
   ],
   "source": [
    "def compare_list(list1, list2):\n",
    "    if len(list1) > len(list2):\n",
    "        return list1\n",
    "    else:\n",
    "        return list2\n",
    "compare_list([1, 2, 3, 4], [7, 8, 9])"
   ]
  },
  {
   "cell_type": "code",
   "execution_count": 3,
   "metadata": {},
   "outputs": [],
   "source": [
    "# Exercise 3\n",
    "\n",
    "# Buat sebuah function\n",
    "# inputnya adalah 2 variabel, dimana untuk variabel pertama adalah angka (int), variabel kedua adalah list\n",
    "# outputnya adalah True atau False, True menunjukan bahwa angka tersebut ada di dalam list, False adalah sebaliknya\n",
    "\n",
    "# input: 5, [1, 2, 3, 4]\n",
    "# output: False"
   ]
  },
  {
   "cell_type": "code",
   "execution_count": 45,
   "metadata": {},
   "outputs": [
    {
     "data": {
      "text/plain": [
       "False"
      ]
     },
     "execution_count": 45,
     "metadata": {},
     "output_type": "execute_result"
    }
   ],
   "source": [
    "def cek_list(cek, list):\n",
    "    if list.count(cek) == 0:\n",
    "        return False\n",
    "    else:\n",
    "        return True\n",
    "cek_list(5, [1, 2, 3, 4])"
   ]
  },
  {
   "cell_type": "code",
   "execution_count": 4,
   "metadata": {},
   "outputs": [],
   "source": [
    "# Exercise 4\n",
    "\n",
    "# Buat sebuah function\n",
    "# inputnya adalah 2 variabel, dimana untuk variabel pertama adalah angka (int), variabel kedua adalah list\n",
    "# outputnya adalah list tersebut, tetapi dimulai dari index yang diambil dari angka inputan\n",
    "\n",
    "# input: 2, ['a', 'b', 'c', 'd', 'e', 'f']\n",
    "# output: ['c', 'd', 'e', 'f']"
   ]
  },
  {
   "cell_type": "code",
   "execution_count": 49,
   "metadata": {},
   "outputs": [
    {
     "data": {
      "text/plain": [
       "['c', 'd', 'e', 'f']"
      ]
     },
     "execution_count": 49,
     "metadata": {},
     "output_type": "execute_result"
    }
   ],
   "source": [
    "def list_return(int, list):\n",
    "    return list[int:]\n",
    "list_return(2, ['a', 'b', 'c', 'd', 'e', 'f'])"
   ]
  },
  {
   "cell_type": "code",
   "execution_count": 5,
   "metadata": {},
   "outputs": [],
   "source": [
    "# Exercise 5\n",
    "\n",
    "# Buat sebuah function\n",
    "# inputnya adalah 2 variabel (2 list angka)\n",
    "# outputnya adalah list, tapi hanya memuat angka ganjil dari list 1, dan angka genap dari list 2\n",
    "\n",
    "# input: [1, 2, 3, 4] , [11, 12, 13, 14]\n",
    "# output: [1, 3, 12, 14]"
   ]
  },
  {
   "cell_type": "code",
   "execution_count": 52,
   "metadata": {},
   "outputs": [
    {
     "data": {
      "text/plain": [
       "[1, 3, 12, 14]"
      ]
     },
     "execution_count": 52,
     "metadata": {},
     "output_type": "execute_result"
    }
   ],
   "source": [
    "def ganjil_genap(list1, list2):\n",
    "    retval = []\n",
    "    for i in list1:\n",
    "        if i % 2 == 1:\n",
    "            retval.append(i)\n",
    "    for j in list2:\n",
    "        if j % 2 == 0:\n",
    "            retval.append(j)\n",
    "    return retval\n",
    "ganjil_genap([1, 2, 3, 4] , [11, 12, 13, 14])"
   ]
  },
  {
   "cell_type": "code",
   "execution_count": 6,
   "metadata": {},
   "outputs": [],
   "source": [
    "# Exercise 6\n",
    "\n",
    "# Buat function, inputnya adalah sebuah kalimat\n",
    "# Outputnya adalah kata yang memiliki jumlah huruf paling banyak\n",
    "\n",
    "# input: 'aku adalah anak gembala'\n",
    "# output: 'gembala'\n",
    "\n",
    "# HINT: split, for, if, len"
   ]
  },
  {
   "cell_type": "code",
   "execution_count": 61,
   "metadata": {},
   "outputs": [
    {
     "data": {
      "text/plain": [
       "'gembala'"
      ]
     },
     "execution_count": 61,
     "metadata": {},
     "output_type": "execute_result"
    }
   ],
   "source": [
    "def longest_word(list):\n",
    "    cek = 0\n",
    "    word = list.split()\n",
    "    for i in word:\n",
    "        if cek < len(i):\n",
    "            cek = len(i)\n",
    "            retval = i\n",
    "    return retval\n",
    "longest_word('aku adalah anak gembala')"
   ]
  },
  {
   "cell_type": "code",
   "execution_count": 7,
   "metadata": {},
   "outputs": [],
   "source": [
    "# Exercise 7\n",
    "# Buat sebuah function, inputnya adalah list of integer dan sebuah integer (n)\n",
    "# Outputnya adalah, list of integer tersebut, tetapi hanya yang nilai-nya itu di bawah (n)\n",
    "\n",
    "#input: [1, 2, 3, 4, 5] , 4\n",
    "#output: [1, 2, 3]\n",
    "\n",
    "# for - if - comparison operator - append list"
   ]
  },
  {
   "cell_type": "code",
   "execution_count": 64,
   "metadata": {},
   "outputs": [
    {
     "data": {
      "text/plain": [
       "[1, 2, 3]"
      ]
     },
     "execution_count": 64,
     "metadata": {},
     "output_type": "execute_result"
    }
   ],
   "source": [
    "def compare_int(list, int):\n",
    "    retval = []\n",
    "    for i in list:\n",
    "        if i < int:\n",
    "            retval.append(i)\n",
    "    return retval\n",
    "compare_int([1, 2, 3, 4, 5] , 4)"
   ]
  },
  {
   "cell_type": "code",
   "execution_count": 8,
   "metadata": {},
   "outputs": [],
   "source": [
    "# Exercise 8\n",
    "\n",
    "# Buat function untuk menghitung kemunculan kata dalam sebuah list\n",
    "# Inputnya adalah satu buah list of string\n",
    "# Outputnya adalah dictionary kemunculan kata pada list of string\n",
    "\n",
    "# Input: ['aku', 'adalah', 'anak', 'gembala', 'dan', 'anak', 'gembira']\n",
    "# Output: {\n",
    "#           'aku': 1,\n",
    "#           'adalah': 1,\n",
    "#           'anak': 2,\n",
    "#           'gembala': 1,\n",
    "#           'dan': 1,\n",
    "#           'gembira': 1,\n",
    "#         }\n",
    "\n",
    "# HINT: kita bisa memeriksa apakah sebuah key sudah ada di dalam dictionary menggunakan membership operator"
   ]
  },
  {
   "cell_type": "code",
   "execution_count": 68,
   "metadata": {},
   "outputs": [
    {
     "data": {
      "text/plain": [
       "{'aku': 2, 'adalah': 1, 'anak': 2, 'gembala': 1, 'dan': 1, 'gembira': 1}"
      ]
     },
     "execution_count": 68,
     "metadata": {},
     "output_type": "execute_result"
    }
   ],
   "source": [
    "def count_dict(list):\n",
    "    retval = {}\n",
    "    for i in list:\n",
    "        if i in retval:\n",
    "            retval[i]+=1\n",
    "        else:\n",
    "            retval[i]=1\n",
    "    return retval\n",
    "count_dict(['aku', 'adalah', 'anak', 'aku', 'gembala', 'dan', 'anak', 'gembira'])\n",
    "        "
   ]
  }
 ],
 "metadata": {
  "kernelspec": {
   "display_name": "Python 3",
   "language": "python",
   "name": "python3"
  },
  "language_info": {
   "codemirror_mode": {
    "name": "ipython",
    "version": 3
   },
   "file_extension": ".py",
   "mimetype": "text/x-python",
   "name": "python",
   "nbconvert_exporter": "python",
   "pygments_lexer": "ipython3",
   "version": "3.8.3"
  }
 },
 "nbformat": 4,
 "nbformat_minor": 4
}
