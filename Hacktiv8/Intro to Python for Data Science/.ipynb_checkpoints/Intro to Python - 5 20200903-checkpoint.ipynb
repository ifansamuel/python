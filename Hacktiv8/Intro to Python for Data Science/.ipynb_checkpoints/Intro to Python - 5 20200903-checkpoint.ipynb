{
 "cells": [
  {
   "cell_type": "code",
   "execution_count": 2,
   "metadata": {},
   "outputs": [],
   "source": [
    "import seaborn as sns\n",
    "import pandas as pd"
   ]
  },
  {
   "cell_type": "markdown",
   "metadata": {},
   "source": [
    "## Pandas"
   ]
  },
  {
   "cell_type": "code",
   "execution_count": null,
   "metadata": {},
   "outputs": [],
   "source": [
    "data_ojol = {'Customer':['tom', 'nick', 'krish', 'jack', 'jack', 'tom', 'jack', 'krish', 'nick', 'nick'],\n",
    "          'Origin':['Tebet', 'Gondangdia', 'Mampang', 'SCBD', 'SCBD', 'Kuningan', 'Pancoran', 'Tebet', 'Mampang', 'Tebet'],\n",
    "          'Destination':[None, 'Mampang', 'SCBD', 'Kuningan', 'Pancoran', 'Pancoran', 'Mampang', 'SCBD', 'SCBD', 'Kuningan'],\n",
    "          'Distance': [None, None, 3.0, 4.8, 2.2, 4.7, 3.4, 4.0, 2.2, 2.9],\n",
    "          'Price': [20000, 23000, 14000, 24500, 7000, 20000, 15000, 18500, 9000, 11000]}\n",
    "          \n",
    "data_ojol = pd.DataFrame(data_ojol)\n",
    "\n",
    "data_bike = pd.read_csv(\"http://bit.ly/dwp-data-bike\")"
   ]
  },
  {
   "cell_type": "code",
   "execution_count": null,
   "metadata": {},
   "outputs": [],
   "source": [
    "df_bike = data_bike\n",
    "data = data_ojol"
   ]
  },
  {
   "cell_type": "markdown",
   "metadata": {},
   "source": [
    "### Fill N/A"
   ]
  },
  {
   "cell_type": "code",
   "execution_count": 8,
   "metadata": {},
   "outputs": [
    {
     "name": "stdout",
     "output_type": "stream",
     "text": [
      "<class 'pandas.core.frame.DataFrame'>\n",
      "RangeIndex: 10 entries, 0 to 9\n",
      "Data columns (total 5 columns):\n",
      " #   Column       Non-Null Count  Dtype  \n",
      "---  ------       --------------  -----  \n",
      " 0   Customer     10 non-null     object \n",
      " 1   Origin       10 non-null     object \n",
      " 2   Destination  9 non-null      object \n",
      " 3   Distance     9 non-null      float64\n",
      " 4   Price        10 non-null     int64  \n",
      "dtypes: float64(1), int64(1), object(3)\n",
      "memory usage: 528.0+ bytes\n"
     ]
    }
   ],
   "source": [
    "#untuk liat info\n",
    "data.info()"
   ]
  },
  {
   "cell_type": "code",
   "execution_count": 22,
   "metadata": {},
   "outputs": [
    {
     "data": {
      "text/plain": [
       "0    3.4\n",
       "1    3.4\n",
       "2    3.0\n",
       "3    4.8\n",
       "4    2.2\n",
       "5    4.7\n",
       "6    3.4\n",
       "7    4.0\n",
       "8    2.2\n",
       "9    2.9\n",
       "Name: Distance, dtype: float64"
      ]
     },
     "execution_count": 22,
     "metadata": {},
     "output_type": "execute_result"
    }
   ],
   "source": [
    "#isi None dengan fillna(), TEMPORARY\n",
    "# data_ojol['Distance'].fillna(0)\n",
    "data['Distance'].fillna(data['Distance'].mean())"
   ]
  },
  {
   "cell_type": "code",
   "execution_count": 42,
   "metadata": {},
   "outputs": [],
   "source": [
    "#FIX\n",
    "data['Distance'] = data['Distance'].fillna(data['Distance'].mean())"
   ]
  },
  {
   "cell_type": "code",
   "execution_count": 43,
   "metadata": {},
   "outputs": [
    {
     "data": {
      "text/html": [
       "<div>\n",
       "<style scoped>\n",
       "    .dataframe tbody tr th:only-of-type {\n",
       "        vertical-align: middle;\n",
       "    }\n",
       "\n",
       "    .dataframe tbody tr th {\n",
       "        vertical-align: top;\n",
       "    }\n",
       "\n",
       "    .dataframe thead th {\n",
       "        text-align: right;\n",
       "    }\n",
       "</style>\n",
       "<table border=\"1\" class=\"dataframe\">\n",
       "  <thead>\n",
       "    <tr style=\"text-align: right;\">\n",
       "      <th></th>\n",
       "      <th>Customer</th>\n",
       "      <th>Origin</th>\n",
       "      <th>Destination</th>\n",
       "      <th>Distance</th>\n",
       "      <th>Price</th>\n",
       "    </tr>\n",
       "  </thead>\n",
       "  <tbody>\n",
       "    <tr>\n",
       "      <th>0</th>\n",
       "      <td>tom</td>\n",
       "      <td>Tebet</td>\n",
       "      <td>None</td>\n",
       "      <td>3.4</td>\n",
       "      <td>20000</td>\n",
       "    </tr>\n",
       "    <tr>\n",
       "      <th>1</th>\n",
       "      <td>nick</td>\n",
       "      <td>Gondangdia</td>\n",
       "      <td>Mampang</td>\n",
       "      <td>3.4</td>\n",
       "      <td>23000</td>\n",
       "    </tr>\n",
       "    <tr>\n",
       "      <th>2</th>\n",
       "      <td>krish</td>\n",
       "      <td>Mampang</td>\n",
       "      <td>SCBD</td>\n",
       "      <td>3.0</td>\n",
       "      <td>14000</td>\n",
       "    </tr>\n",
       "    <tr>\n",
       "      <th>3</th>\n",
       "      <td>jack</td>\n",
       "      <td>SCBD</td>\n",
       "      <td>Kuningan</td>\n",
       "      <td>4.8</td>\n",
       "      <td>24500</td>\n",
       "    </tr>\n",
       "    <tr>\n",
       "      <th>4</th>\n",
       "      <td>jack</td>\n",
       "      <td>SCBD</td>\n",
       "      <td>Pancoran</td>\n",
       "      <td>2.2</td>\n",
       "      <td>7000</td>\n",
       "    </tr>\n",
       "    <tr>\n",
       "      <th>5</th>\n",
       "      <td>tom</td>\n",
       "      <td>Kuningan</td>\n",
       "      <td>Pancoran</td>\n",
       "      <td>4.7</td>\n",
       "      <td>20000</td>\n",
       "    </tr>\n",
       "    <tr>\n",
       "      <th>6</th>\n",
       "      <td>jack</td>\n",
       "      <td>Pancoran</td>\n",
       "      <td>Mampang</td>\n",
       "      <td>3.4</td>\n",
       "      <td>15000</td>\n",
       "    </tr>\n",
       "    <tr>\n",
       "      <th>7</th>\n",
       "      <td>krish</td>\n",
       "      <td>Tebet</td>\n",
       "      <td>SCBD</td>\n",
       "      <td>4.0</td>\n",
       "      <td>18500</td>\n",
       "    </tr>\n",
       "    <tr>\n",
       "      <th>8</th>\n",
       "      <td>nick</td>\n",
       "      <td>Mampang</td>\n",
       "      <td>SCBD</td>\n",
       "      <td>2.2</td>\n",
       "      <td>9000</td>\n",
       "    </tr>\n",
       "    <tr>\n",
       "      <th>9</th>\n",
       "      <td>nick</td>\n",
       "      <td>Tebet</td>\n",
       "      <td>Kuningan</td>\n",
       "      <td>2.9</td>\n",
       "      <td>11000</td>\n",
       "    </tr>\n",
       "  </tbody>\n",
       "</table>\n",
       "</div>"
      ],
      "text/plain": [
       "  Customer      Origin Destination  Distance  Price\n",
       "0      tom       Tebet        None       3.4  20000\n",
       "1     nick  Gondangdia     Mampang       3.4  23000\n",
       "2    krish     Mampang        SCBD       3.0  14000\n",
       "3     jack        SCBD    Kuningan       4.8  24500\n",
       "4     jack        SCBD    Pancoran       2.2   7000\n",
       "5      tom    Kuningan    Pancoran       4.7  20000\n",
       "6     jack    Pancoran     Mampang       3.4  15000\n",
       "7    krish       Tebet        SCBD       4.0  18500\n",
       "8     nick     Mampang        SCBD       2.2   9000\n",
       "9     nick       Tebet    Kuningan       2.9  11000"
      ]
     },
     "execution_count": 43,
     "metadata": {},
     "output_type": "execute_result"
    }
   ],
   "source": [
    "data"
   ]
  },
  {
   "cell_type": "markdown",
   "metadata": {},
   "source": [
    "### Data Type"
   ]
  },
  {
   "cell_type": "code",
   "execution_count": 49,
   "metadata": {
    "scrolled": true
   },
   "outputs": [
    {
     "name": "stdout",
     "output_type": "stream",
     "text": [
      "<class 'pandas.core.frame.DataFrame'>\n",
      "RangeIndex: 10 entries, 0 to 9\n",
      "Data columns (total 5 columns):\n",
      " #   Column       Non-Null Count  Dtype  \n",
      "---  ------       --------------  -----  \n",
      " 0   Customer     10 non-null     object \n",
      " 1   Origin       10 non-null     object \n",
      " 2   Destination  9 non-null      object \n",
      " 3   Distance     10 non-null     float64\n",
      " 4   Price        10 non-null     object \n",
      "dtypes: float64(1), object(4)\n",
      "memory usage: 528.0+ bytes\n"
     ]
    }
   ],
   "source": [
    "data.info()"
   ]
  },
  {
   "cell_type": "code",
   "execution_count": 46,
   "metadata": {},
   "outputs": [
    {
     "data": {
      "text/plain": [
       "0    20000\n",
       "1    23000\n",
       "2    14000\n",
       "3    24500\n",
       "4     7000\n",
       "5    20000\n",
       "6    15000\n",
       "7    18500\n",
       "8     9000\n",
       "9    11000\n",
       "Name: Price, dtype: object"
      ]
     },
     "execution_count": 46,
     "metadata": {},
     "output_type": "execute_result"
    }
   ],
   "source": [
    "#ubah datatype, TEMPORARY\n",
    "data['Price'].astype(str)"
   ]
  },
  {
   "cell_type": "code",
   "execution_count": 48,
   "metadata": {},
   "outputs": [],
   "source": [
    "data['Price'] = data['Price'].astype(str)"
   ]
  },
  {
   "cell_type": "code",
   "execution_count": 50,
   "metadata": {},
   "outputs": [
    {
     "data": {
      "text/plain": [
       "0    20000\n",
       "1    23000\n",
       "2    14000\n",
       "3    24500\n",
       "4     7000\n",
       "5    20000\n",
       "6    15000\n",
       "7    18500\n",
       "8     9000\n",
       "9    11000\n",
       "Name: Price, dtype: object"
      ]
     },
     "execution_count": 50,
     "metadata": {},
     "output_type": "execute_result"
    }
   ],
   "source": [
    "data['Price']"
   ]
  },
  {
   "cell_type": "code",
   "execution_count": null,
   "metadata": {},
   "outputs": [],
   "source": []
  },
  {
   "cell_type": "code",
   "execution_count": null,
   "metadata": {},
   "outputs": [],
   "source": []
  },
  {
   "cell_type": "code",
   "execution_count": null,
   "metadata": {},
   "outputs": [],
   "source": []
  },
  {
   "cell_type": "code",
   "execution_count": 28,
   "metadata": {},
   "outputs": [
    {
     "name": "stdout",
     "output_type": "stream",
     "text": [
      "Variable    Type         Data/Info\n",
      "----------------------------------\n",
      "data        DataFrame      Customer      Origin De<...>Kuningan       2.9  11000\n",
      "data_ojol   DataFrame      Customer      Origin De<...>Kuningan       2.9  11000\n",
      "pd          module       <module 'pandas' from 'C:<...>es\\\\pandas\\\\__init__.py'>\n",
      "sns         module       <module 'seaborn' from 'C<...>s\\\\seaborn\\\\__init__.py'>\n"
     ]
    }
   ],
   "source": [
    "#liat semua variable\n",
    "%whos"
   ]
  }
 ],
 "metadata": {
  "kernelspec": {
   "display_name": "Python 3",
   "language": "python",
   "name": "python3"
  },
  "language_info": {
   "codemirror_mode": {
    "name": "ipython",
    "version": 3
   },
   "file_extension": ".py",
   "mimetype": "text/x-python",
   "name": "python",
   "nbconvert_exporter": "python",
   "pygments_lexer": "ipython3",
   "version": "3.8.3"
  }
 },
 "nbformat": 4,
 "nbformat_minor": 4
}
