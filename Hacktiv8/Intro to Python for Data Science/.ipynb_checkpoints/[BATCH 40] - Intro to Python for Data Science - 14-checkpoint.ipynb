{
 "cells": [
  {
   "cell_type": "code",
   "execution_count": 166,
   "metadata": {},
   "outputs": [],
   "source": [
    "import pandas as pd\n",
    "import matplotlib.pyplot as plt\n",
    "import seaborn as sns\n",
    "\n",
    "# Fungsi untuk memisahkan training data dan testing data\n",
    "from sklearn.model_selection import train_test_split\n",
    "\n",
    "# Fungsi untuk memanggil model Machine Learning\n",
    "from sklearn.linear_model import LinearRegression\n",
    "\n",
    "# Fungsi untuk melakukan normalisasi dan standardisasi data\n",
    "from sklearn.preprocessing import StandardScaler, MinMaxScaler\n",
    "\n",
    "# Fungsi untuk menghitung evaluation metrics\n",
    "from sklearn import metrics, datasets"
   ]
  },
  {
   "cell_type": "markdown",
   "metadata": {},
   "source": [
    "## Pembahasan Assignment 3"
   ]
  },
  {
   "cell_type": "markdown",
   "metadata": {},
   "source": [
    "Buat model Machine Learning (Linear Regression) untuk melakukan prediksi nilai \"charges\" dari dataset `insurance`. <br>"
   ]
  },
  {
   "cell_type": "code",
   "execution_count": 167,
   "metadata": {},
   "outputs": [],
   "source": [
    "insurance = pd.read_csv('http://bit.ly/dwp-data-insurance')"
   ]
  },
  {
   "cell_type": "code",
   "execution_count": 168,
   "metadata": {},
   "outputs": [
    {
     "data": {
      "text/html": [
       "<div>\n",
       "<style scoped>\n",
       "    .dataframe tbody tr th:only-of-type {\n",
       "        vertical-align: middle;\n",
       "    }\n",
       "\n",
       "    .dataframe tbody tr th {\n",
       "        vertical-align: top;\n",
       "    }\n",
       "\n",
       "    .dataframe thead th {\n",
       "        text-align: right;\n",
       "    }\n",
       "</style>\n",
       "<table border=\"1\" class=\"dataframe\">\n",
       "  <thead>\n",
       "    <tr style=\"text-align: right;\">\n",
       "      <th></th>\n",
       "      <th>age</th>\n",
       "      <th>sex</th>\n",
       "      <th>bmi</th>\n",
       "      <th>children</th>\n",
       "      <th>smoker</th>\n",
       "      <th>region</th>\n",
       "      <th>charges</th>\n",
       "    </tr>\n",
       "  </thead>\n",
       "  <tbody>\n",
       "    <tr>\n",
       "      <th>0</th>\n",
       "      <td>19</td>\n",
       "      <td>female</td>\n",
       "      <td>27.900</td>\n",
       "      <td>0</td>\n",
       "      <td>yes</td>\n",
       "      <td>southwest</td>\n",
       "      <td>16884.92400</td>\n",
       "    </tr>\n",
       "    <tr>\n",
       "      <th>1</th>\n",
       "      <td>18</td>\n",
       "      <td>male</td>\n",
       "      <td>33.770</td>\n",
       "      <td>1</td>\n",
       "      <td>no</td>\n",
       "      <td>southeast</td>\n",
       "      <td>1725.55230</td>\n",
       "    </tr>\n",
       "    <tr>\n",
       "      <th>2</th>\n",
       "      <td>28</td>\n",
       "      <td>male</td>\n",
       "      <td>33.000</td>\n",
       "      <td>3</td>\n",
       "      <td>no</td>\n",
       "      <td>southeast</td>\n",
       "      <td>4449.46200</td>\n",
       "    </tr>\n",
       "    <tr>\n",
       "      <th>3</th>\n",
       "      <td>33</td>\n",
       "      <td>male</td>\n",
       "      <td>22.705</td>\n",
       "      <td>0</td>\n",
       "      <td>no</td>\n",
       "      <td>northwest</td>\n",
       "      <td>21984.47061</td>\n",
       "    </tr>\n",
       "    <tr>\n",
       "      <th>4</th>\n",
       "      <td>32</td>\n",
       "      <td>male</td>\n",
       "      <td>28.880</td>\n",
       "      <td>0</td>\n",
       "      <td>no</td>\n",
       "      <td>northwest</td>\n",
       "      <td>3866.85520</td>\n",
       "    </tr>\n",
       "  </tbody>\n",
       "</table>\n",
       "</div>"
      ],
      "text/plain": [
       "   age     sex     bmi  children smoker     region      charges\n",
       "0   19  female  27.900         0    yes  southwest  16884.92400\n",
       "1   18    male  33.770         1     no  southeast   1725.55230\n",
       "2   28    male  33.000         3     no  southeast   4449.46200\n",
       "3   33    male  22.705         0     no  northwest  21984.47061\n",
       "4   32    male  28.880         0     no  northwest   3866.85520"
      ]
     },
     "execution_count": 168,
     "metadata": {},
     "output_type": "execute_result"
    }
   ],
   "source": [
    "insurance.head()"
   ]
  },
  {
   "cell_type": "code",
   "execution_count": 169,
   "metadata": {},
   "outputs": [],
   "source": [
    "# Wrangling data\n",
    "insurance_processed = pd.get_dummies(insurance, columns=['sex', 'smoker', 'region'])"
   ]
  },
  {
   "cell_type": "code",
   "execution_count": 170,
   "metadata": {},
   "outputs": [
    {
     "name": "stdout",
     "output_type": "stream",
     "text": [
      "MAE: 4051.858766747048\n"
     ]
    }
   ],
   "source": [
    "# Define x / feature / parameter dan y / label / target\n",
    "x = insurance_processed.drop(columns=['charges'])\n",
    "y = insurance_processed['charges']\n",
    "\n",
    "# Split the training and testing dataset\n",
    "x_train, x_test, y_train, y_test = train_test_split(x, y, test_size=0.2, random_state=1)\n",
    "\n",
    "# Initiate the model\n",
    "model = LinearRegression()\n",
    "\n",
    "# Training process\n",
    "model.fit(x_train, y_train)\n",
    "\n",
    "# Testing process and evaluation\n",
    "y_pred = model.predict(x_test)\n",
    "error = metrics.mean_absolute_error(y_test, y_pred)\n",
    "print('MAE: {}'.format(error))"
   ]
  },
  {
   "cell_type": "code",
   "execution_count": 171,
   "metadata": {},
   "outputs": [
    {
     "data": {
      "text/plain": [
       "<matplotlib.axes._subplots.AxesSubplot at 0x2a6eda075c8>"
      ]
     },
     "execution_count": 171,
     "metadata": {},
     "output_type": "execute_result"
    },
    {
     "data": {
      "image/png": "[encoded data removed]",
      "text/plain": [
       "<Figure size 720x360 with 1 Axes>"
      ]
     },
     "metadata": {
      "needs_background": "light"
     },
     "output_type": "display_data"
    }
   ],
   "source": [
    "plt.figure(figsize=(10,5))\n",
    "sns.scatterplot(data=insurance, x='age', y='charges', hue='children')"
   ]
  },
  {
   "cell_type": "markdown",
   "metadata": {},
   "source": [
    "## Neural Network"
   ]
  },
  {
   "cell_type": "code",
   "execution_count": 185,
   "metadata": {},
   "outputs": [],
   "source": [
    "import pandas as pd\n",
    "import tensorflow as tf\n",
    "import matplotlib.pyplot as plt\n",
    "\n",
    "from tensorflow import keras\n",
    "from tensorflow.keras import Sequential\n",
    "from tensorflow.keras.layers import Dense\n",
    "from tensorflow.keras.optimizers import Adam\n",
    "from tensorflow.keras.datasets import fashion_mnist\n",
    "\n",
    "from sklearn.preprocessing import StandardScaler\n",
    "from sklearn.model_selection import train_test_split"
   ]
  },
  {
   "cell_type": "code",
   "execution_count": 173,
   "metadata": {},
   "outputs": [],
   "source": [
    "car = pd.read_csv('http://bit.ly/dwp-data-car')"
   ]
  },
  {
   "cell_type": "code",
   "execution_count": 174,
   "metadata": {},
   "outputs": [
    {
     "data": {
      "text/html": [
       "<div>\n",
       "<style scoped>\n",
       "    .dataframe tbody tr th:only-of-type {\n",
       "        vertical-align: middle;\n",
       "    }\n",
       "\n",
       "    .dataframe tbody tr th {\n",
       "        vertical-align: top;\n",
       "    }\n",
       "\n",
       "    .dataframe thead th {\n",
       "        text-align: right;\n",
       "    }\n",
       "</style>\n",
       "<table border=\"1\" class=\"dataframe\">\n",
       "  <thead>\n",
       "    <tr style=\"text-align: right;\">\n",
       "      <th></th>\n",
       "      <th>Cylinders</th>\n",
       "      <th>Displacement</th>\n",
       "      <th>Horsepower</th>\n",
       "      <th>Weight</th>\n",
       "      <th>Acceleration</th>\n",
       "      <th>Model Year</th>\n",
       "      <th>Origin</th>\n",
       "      <th>MPG</th>\n",
       "    </tr>\n",
       "  </thead>\n",
       "  <tbody>\n",
       "    <tr>\n",
       "      <th>0</th>\n",
       "      <td>8</td>\n",
       "      <td>307</td>\n",
       "      <td>130</td>\n",
       "      <td>3504</td>\n",
       "      <td>12</td>\n",
       "      <td>70</td>\n",
       "      <td>1</td>\n",
       "      <td>18</td>\n",
       "    </tr>\n",
       "    <tr>\n",
       "      <th>1</th>\n",
       "      <td>8</td>\n",
       "      <td>350</td>\n",
       "      <td>165</td>\n",
       "      <td>3693</td>\n",
       "      <td>11</td>\n",
       "      <td>70</td>\n",
       "      <td>1</td>\n",
       "      <td>15</td>\n",
       "    </tr>\n",
       "    <tr>\n",
       "      <th>2</th>\n",
       "      <td>8</td>\n",
       "      <td>318</td>\n",
       "      <td>150</td>\n",
       "      <td>3436</td>\n",
       "      <td>11</td>\n",
       "      <td>70</td>\n",
       "      <td>1</td>\n",
       "      <td>18</td>\n",
       "    </tr>\n",
       "    <tr>\n",
       "      <th>3</th>\n",
       "      <td>8</td>\n",
       "      <td>304</td>\n",
       "      <td>150</td>\n",
       "      <td>3433</td>\n",
       "      <td>12</td>\n",
       "      <td>70</td>\n",
       "      <td>1</td>\n",
       "      <td>16</td>\n",
       "    </tr>\n",
       "    <tr>\n",
       "      <th>4</th>\n",
       "      <td>8</td>\n",
       "      <td>302</td>\n",
       "      <td>140</td>\n",
       "      <td>3449</td>\n",
       "      <td>10</td>\n",
       "      <td>70</td>\n",
       "      <td>1</td>\n",
       "      <td>17</td>\n",
       "    </tr>\n",
       "  </tbody>\n",
       "</table>\n",
       "</div>"
      ],
      "text/plain": [
       "   Cylinders  Displacement  Horsepower  Weight  Acceleration  Model Year  \\\n",
       "0          8           307         130    3504            12          70   \n",
       "1          8           350         165    3693            11          70   \n",
       "2          8           318         150    3436            11          70   \n",
       "3          8           304         150    3433            12          70   \n",
       "4          8           302         140    3449            10          70   \n",
       "\n",
       "   Origin  MPG  \n",
       "0       1   18  \n",
       "1       1   15  \n",
       "2       1   18  \n",
       "3       1   16  \n",
       "4       1   17  "
      ]
     },
     "execution_count": 174,
     "metadata": {},
     "output_type": "execute_result"
    }
   ],
   "source": [
    "car.head()"
   ]
  },
  {
   "cell_type": "markdown",
   "metadata": {},
   "source": [
    "### Neural Network for Classification"
   ]
  },
  {
   "cell_type": "code",
   "execution_count": 175,
   "metadata": {},
   "outputs": [],
   "source": [
    "car_processed = pd.get_dummies(car, columns=['Origin'])"
   ]
  },
  {
   "cell_type": "code",
   "execution_count": 176,
   "metadata": {},
   "outputs": [
    {
     "name": "stdout",
     "output_type": "stream",
     "text": [
      "Train on 313 samples, validate on 79 samples\n",
      "Epoch 1/100\n",
      "313/313 [==============================] - 1s 3ms/sample - loss: 1.1250 - accuracy: 0.2843 - val_loss: 1.0010 - val_accuracy: 0.6203\n",
      "Epoch 2/100\n",
      "313/313 [==============================] - 0s 89us/sample - loss: 0.9697 - accuracy: 0.6006 - val_loss: 0.8609 - val_accuracy: 0.6709\n",
      "Epoch 3/100\n",
      "313/313 [==============================] - 0s 86us/sample - loss: 0.8519 - accuracy: 0.6230 - val_loss: 0.7364 - val_accuracy: 0.6709\n",
      "Epoch 4/100\n",
      "313/313 [==============================] - 0s 131us/sample - loss: 0.7587 - accuracy: 0.6134 - val_loss: 0.6568 - val_accuracy: 0.6709\n",
      "Epoch 5/100\n",
      "313/313 [==============================] - 0s 99us/sample - loss: 0.7107 - accuracy: 0.6134 - val_loss: 0.6132 - val_accuracy: 0.6709\n",
      "Epoch 6/100\n",
      "313/313 [==============================] - 0s 96us/sample - loss: 0.6895 - accuracy: 0.6262 - val_loss: 0.5813 - val_accuracy: 0.7089\n",
      "Epoch 7/100\n",
      "313/313 [==============================] - 0s 115us/sample - loss: 0.6719 - accuracy: 0.6422 - val_loss: 0.5570 - val_accuracy: 0.7215\n",
      "Epoch 8/100\n",
      "313/313 [==============================] - 0s 83us/sample - loss: 0.6564 - accuracy: 0.6837 - val_loss: 0.5383 - val_accuracy: 0.7342\n",
      "Epoch 9/100\n",
      "313/313 [==============================] - 0s 83us/sample - loss: 0.6439 - accuracy: 0.6805 - val_loss: 0.5259 - val_accuracy: 0.7848\n",
      "Epoch 10/100\n",
      "313/313 [==============================] - 0s 83us/sample - loss: 0.6306 - accuracy: 0.6933 - val_loss: 0.5177 - val_accuracy: 0.7722\n",
      "Epoch 11/100\n",
      "313/313 [==============================] - 0s 89us/sample - loss: 0.6203 - accuracy: 0.7029 - val_loss: 0.5100 - val_accuracy: 0.7595\n",
      "Epoch 12/100\n",
      "313/313 [==============================] - 0s 109us/sample - loss: 0.6136 - accuracy: 0.7125 - val_loss: 0.5067 - val_accuracy: 0.7722\n",
      "Epoch 13/100\n",
      "313/313 [==============================] - 0s 105us/sample - loss: 0.6036 - accuracy: 0.7157 - val_loss: 0.5002 - val_accuracy: 0.7975\n",
      "Epoch 14/100\n",
      "313/313 [==============================] - 0s 102us/sample - loss: 0.5973 - accuracy: 0.7125 - val_loss: 0.4955 - val_accuracy: 0.7975\n",
      "Epoch 15/100\n",
      "313/313 [==============================] - 0s 105us/sample - loss: 0.5898 - accuracy: 0.7220 - val_loss: 0.4914 - val_accuracy: 0.7975\n",
      "Epoch 16/100\n",
      "313/313 [==============================] - 0s 96us/sample - loss: 0.5810 - accuracy: 0.7284 - val_loss: 0.4913 - val_accuracy: 0.7975\n",
      "Epoch 17/100\n",
      "313/313 [==============================] - 0s 89us/sample - loss: 0.5739 - accuracy: 0.7380 - val_loss: 0.4896 - val_accuracy: 0.8101\n",
      "Epoch 18/100\n",
      "313/313 [==============================] - 0s 109us/sample - loss: 0.5655 - accuracy: 0.7412 - val_loss: 0.4886 - val_accuracy: 0.8101\n",
      "Epoch 19/100\n",
      "313/313 [==============================] - 0s 86us/sample - loss: 0.5582 - accuracy: 0.7476 - val_loss: 0.4908 - val_accuracy: 0.7722\n",
      "Epoch 20/100\n",
      "313/313 [==============================] - 0s 83us/sample - loss: 0.5542 - accuracy: 0.7476 - val_loss: 0.4880 - val_accuracy: 0.7468\n",
      "Epoch 21/100\n",
      "313/313 [==============================] - 0s 121us/sample - loss: 0.5446 - accuracy: 0.7508 - val_loss: 0.4823 - val_accuracy: 0.7848\n",
      "Epoch 22/100\n",
      "313/313 [==============================] - 0s 96us/sample - loss: 0.5423 - accuracy: 0.7572 - val_loss: 0.4794 - val_accuracy: 0.7595\n",
      "Epoch 23/100\n",
      "313/313 [==============================] - 0s 137us/sample - loss: 0.5358 - accuracy: 0.7540 - val_loss: 0.4749 - val_accuracy: 0.7468\n",
      "Epoch 24/100\n",
      "313/313 [==============================] - 0s 112us/sample - loss: 0.5312 - accuracy: 0.7604 - val_loss: 0.4721 - val_accuracy: 0.7722\n",
      "Epoch 25/100\n",
      "313/313 [==============================] - 0s 99us/sample - loss: 0.5245 - accuracy: 0.7636 - val_loss: 0.4744 - val_accuracy: 0.7722\n",
      "Epoch 26/100\n",
      "313/313 [==============================] - 0s 115us/sample - loss: 0.5190 - accuracy: 0.7636 - val_loss: 0.4664 - val_accuracy: 0.7595\n",
      "Epoch 27/100\n",
      "313/313 [==============================] - 0s 89us/sample - loss: 0.5162 - accuracy: 0.7508 - val_loss: 0.4704 - val_accuracy: 0.7342\n",
      "Epoch 28/100\n",
      "313/313 [==============================] - 0s 89us/sample - loss: 0.5095 - accuracy: 0.7508 - val_loss: 0.4649 - val_accuracy: 0.7848\n",
      "Epoch 29/100\n",
      "313/313 [==============================] - 0s 105us/sample - loss: 0.5060 - accuracy: 0.7636 - val_loss: 0.4537 - val_accuracy: 0.7848\n",
      "Epoch 30/100\n",
      "313/313 [==============================] - 0s 105us/sample - loss: 0.5004 - accuracy: 0.7508 - val_loss: 0.4555 - val_accuracy: 0.7595\n",
      "Epoch 31/100\n",
      "313/313 [==============================] - 0s 96us/sample - loss: 0.4972 - accuracy: 0.7668 - val_loss: 0.4576 - val_accuracy: 0.7595\n",
      "Epoch 32/100\n",
      "313/313 [==============================] - 0s 102us/sample - loss: 0.4893 - accuracy: 0.7668 - val_loss: 0.4415 - val_accuracy: 0.7975\n",
      "Epoch 33/100\n",
      "313/313 [==============================] - 0s 99us/sample - loss: 0.4891 - accuracy: 0.7572 - val_loss: 0.4414 - val_accuracy: 0.7975\n",
      "Epoch 34/100\n",
      "313/313 [==============================] - 0s 99us/sample - loss: 0.4771 - accuracy: 0.7764 - val_loss: 0.4509 - val_accuracy: 0.7595\n",
      "Epoch 35/100\n",
      "313/313 [==============================] - 0s 99us/sample - loss: 0.4744 - accuracy: 0.7796 - val_loss: 0.4470 - val_accuracy: 0.7722\n",
      "Epoch 36/100\n",
      "313/313 [==============================] - 0s 96us/sample - loss: 0.4689 - accuracy: 0.7764 - val_loss: 0.4312 - val_accuracy: 0.8101\n",
      "Epoch 37/100\n",
      "313/313 [==============================] - 0s 125us/sample - loss: 0.4653 - accuracy: 0.7891 - val_loss: 0.4237 - val_accuracy: 0.7975\n",
      "Epoch 38/100\n",
      "313/313 [==============================] - 0s 99us/sample - loss: 0.4586 - accuracy: 0.7859 - val_loss: 0.4278 - val_accuracy: 0.7975\n",
      "Epoch 39/100\n",
      "313/313 [==============================] - 0s 105us/sample - loss: 0.4554 - accuracy: 0.7891 - val_loss: 0.4273 - val_accuracy: 0.7848\n",
      "Epoch 40/100\n",
      "313/313 [==============================] - 0s 115us/sample - loss: 0.4561 - accuracy: 0.7891 - val_loss: 0.4220 - val_accuracy: 0.8101\n",
      "Epoch 41/100\n",
      "313/313 [==============================] - 0s 112us/sample - loss: 0.4417 - accuracy: 0.8019 - val_loss: 0.4126 - val_accuracy: 0.8101\n",
      "Epoch 42/100\n",
      "313/313 [==============================] - 0s 121us/sample - loss: 0.4347 - accuracy: 0.8083 - val_loss: 0.4046 - val_accuracy: 0.7975\n",
      "Epoch 43/100\n",
      "313/313 [==============================] - 0s 112us/sample - loss: 0.4221 - accuracy: 0.8179 - val_loss: 0.3825 - val_accuracy: 0.8101\n",
      "Epoch 44/100\n",
      "313/313 [==============================] - 0s 109us/sample - loss: 0.4174 - accuracy: 0.8179 - val_loss: 0.3767 - val_accuracy: 0.8101\n",
      "Epoch 45/100\n",
      "313/313 [==============================] - 0s 109us/sample - loss: 0.4145 - accuracy: 0.8147 - val_loss: 0.3733 - val_accuracy: 0.8228\n",
      "Epoch 46/100\n",
      "313/313 [==============================] - 0s 96us/sample - loss: 0.4103 - accuracy: 0.8147 - val_loss: 0.3778 - val_accuracy: 0.8228\n",
      "Epoch 47/100\n",
      "313/313 [==============================] - 0s 83us/sample - loss: 0.4060 - accuracy: 0.8339 - val_loss: 0.3863 - val_accuracy: 0.8228\n",
      "Epoch 48/100\n",
      "313/313 [==============================] - 0s 89us/sample - loss: 0.3995 - accuracy: 0.8307 - val_loss: 0.3813 - val_accuracy: 0.8228\n",
      "Epoch 49/100\n",
      "313/313 [==============================] - 0s 77us/sample - loss: 0.4044 - accuracy: 0.8211 - val_loss: 0.3753 - val_accuracy: 0.8228\n",
      "Epoch 50/100\n",
      "313/313 [==============================] - 0s 86us/sample - loss: 0.4015 - accuracy: 0.8051 - val_loss: 0.3956 - val_accuracy: 0.7975\n",
      "Epoch 51/100\n",
      "313/313 [==============================] - 0s 93us/sample - loss: 0.3901 - accuracy: 0.8339 - val_loss: 0.3860 - val_accuracy: 0.7975\n",
      "Epoch 52/100\n",
      "313/313 [==============================] - 0s 93us/sample - loss: 0.3863 - accuracy: 0.8466 - val_loss: 0.3839 - val_accuracy: 0.7975\n",
      "Epoch 53/100\n",
      "313/313 [==============================] - 0s 86us/sample - loss: 0.3908 - accuracy: 0.8275 - val_loss: 0.3728 - val_accuracy: 0.8228\n",
      "Epoch 54/100\n",
      "313/313 [==============================] - 0s 77us/sample - loss: 0.3799 - accuracy: 0.8275 - val_loss: 0.3700 - val_accuracy: 0.8228\n",
      "Epoch 55/100\n",
      "313/313 [==============================] - 0s 102us/sample - loss: 0.3753 - accuracy: 0.8307 - val_loss: 0.3880 - val_accuracy: 0.7975\n",
      "Epoch 56/100\n",
      "313/313 [==============================] - 0s 86us/sample - loss: 0.3725 - accuracy: 0.8435 - val_loss: 0.3700 - val_accuracy: 0.8101\n",
      "Epoch 57/100\n",
      "313/313 [==============================] - 0s 89us/sample - loss: 0.3704 - accuracy: 0.8530 - val_loss: 0.3598 - val_accuracy: 0.8228\n",
      "Epoch 58/100\n",
      "313/313 [==============================] - 0s 102us/sample - loss: 0.3702 - accuracy: 0.8211 - val_loss: 0.3726 - val_accuracy: 0.8101\n",
      "Epoch 59/100\n",
      "313/313 [==============================] - 0s 89us/sample - loss: 0.3659 - accuracy: 0.8403 - val_loss: 0.3773 - val_accuracy: 0.8101\n",
      "Epoch 60/100\n",
      "313/313 [==============================] - 0s 83us/sample - loss: 0.3664 - accuracy: 0.8403 - val_loss: 0.3726 - val_accuracy: 0.8228\n",
      "Epoch 61/100\n",
      "313/313 [==============================] - 0s 89us/sample - loss: 0.3620 - accuracy: 0.8435 - val_loss: 0.3531 - val_accuracy: 0.8354\n",
      "Epoch 62/100\n",
      "313/313 [==============================] - 0s 93us/sample - loss: 0.3596 - accuracy: 0.8530 - val_loss: 0.3796 - val_accuracy: 0.8101\n",
      "Epoch 63/100\n",
      "313/313 [==============================] - 0s 112us/sample - loss: 0.3566 - accuracy: 0.8498 - val_loss: 0.3629 - val_accuracy: 0.8354\n",
      "Epoch 64/100\n",
      "313/313 [==============================] - 0s 118us/sample - loss: 0.3530 - accuracy: 0.8594 - val_loss: 0.3614 - val_accuracy: 0.8101\n",
      "Epoch 65/100\n",
      "313/313 [==============================] - 0s 93us/sample - loss: 0.3516 - accuracy: 0.8562 - val_loss: 0.3608 - val_accuracy: 0.8228\n",
      "Epoch 66/100\n",
      "313/313 [==============================] - 0s 89us/sample - loss: 0.3532 - accuracy: 0.8594 - val_loss: 0.3711 - val_accuracy: 0.8101\n",
      "Epoch 67/100\n",
      "313/313 [==============================] - 0s 102us/sample - loss: 0.3485 - accuracy: 0.8530 - val_loss: 0.3605 - val_accuracy: 0.8228\n",
      "Epoch 68/100\n",
      "313/313 [==============================] - 0s 105us/sample - loss: 0.3472 - accuracy: 0.8690 - val_loss: 0.3607 - val_accuracy: 0.8354\n",
      "Epoch 69/100\n",
      "313/313 [==============================] - 0s 134us/sample - loss: 0.3462 - accuracy: 0.8530 - val_loss: 0.3627 - val_accuracy: 0.8354\n",
      "Epoch 70/100\n",
      "313/313 [==============================] - 0s 141us/sample - loss: 0.3428 - accuracy: 0.8626 - val_loss: 0.3679 - val_accuracy: 0.8228\n",
      "Epoch 71/100\n",
      "313/313 [==============================] - 0s 185us/sample - loss: 0.3421 - accuracy: 0.8530 - val_loss: 0.3633 - val_accuracy: 0.8228\n",
      "Epoch 72/100\n",
      "313/313 [==============================] - 0s 125us/sample - loss: 0.3450 - accuracy: 0.8658 - val_loss: 0.3618 - val_accuracy: 0.8228\n",
      "Epoch 73/100\n",
      "313/313 [==============================] - 0s 118us/sample - loss: 0.3464 - accuracy: 0.8594 - val_loss: 0.3727 - val_accuracy: 0.8354\n",
      "Epoch 74/100\n",
      "313/313 [==============================] - 0s 105us/sample - loss: 0.3406 - accuracy: 0.8594 - val_loss: 0.3498 - val_accuracy: 0.8354\n",
      "Epoch 75/100\n",
      "313/313 [==============================] - 0s 96us/sample - loss: 0.3414 - accuracy: 0.8658 - val_loss: 0.3563 - val_accuracy: 0.8354\n",
      "Epoch 76/100\n",
      "313/313 [==============================] - 0s 73us/sample - loss: 0.3395 - accuracy: 0.8658 - val_loss: 0.3807 - val_accuracy: 0.8228\n",
      "Epoch 77/100\n",
      "313/313 [==============================] - 0s 80us/sample - loss: 0.3377 - accuracy: 0.8722 - val_loss: 0.3518 - val_accuracy: 0.8354\n",
      "Epoch 78/100\n",
      "313/313 [==============================] - 0s 83us/sample - loss: 0.3434 - accuracy: 0.8498 - val_loss: 0.3610 - val_accuracy: 0.7848\n",
      "Epoch 79/100\n",
      "313/313 [==============================] - 0s 89us/sample - loss: 0.3390 - accuracy: 0.8722 - val_loss: 0.3971 - val_accuracy: 0.8228\n",
      "Epoch 80/100\n",
      "313/313 [==============================] - 0s 96us/sample - loss: 0.3375 - accuracy: 0.8594 - val_loss: 0.3594 - val_accuracy: 0.8228\n",
      "Epoch 81/100\n",
      "313/313 [==============================] - 0s 166us/sample - loss: 0.3327 - accuracy: 0.8690 - val_loss: 0.3453 - val_accuracy: 0.8228\n",
      "Epoch 82/100\n",
      "313/313 [==============================] - 0s 80us/sample - loss: 0.3292 - accuracy: 0.8594 - val_loss: 0.3615 - val_accuracy: 0.8228\n",
      "Epoch 83/100\n",
      "313/313 [==============================] - 0s 109us/sample - loss: 0.3336 - accuracy: 0.8498 - val_loss: 0.3667 - val_accuracy: 0.8228\n",
      "Epoch 84/100\n",
      "313/313 [==============================] - 0s 96us/sample - loss: 0.3279 - accuracy: 0.8594 - val_loss: 0.3418 - val_accuracy: 0.8354\n",
      "Epoch 85/100\n",
      "313/313 [==============================] - 0s 83us/sample - loss: 0.3251 - accuracy: 0.8690 - val_loss: 0.3569 - val_accuracy: 0.8228\n",
      "Epoch 86/100\n",
      "313/313 [==============================] - 0s 86us/sample - loss: 0.3236 - accuracy: 0.8562 - val_loss: 0.3532 - val_accuracy: 0.8228\n",
      "Epoch 87/100\n",
      "313/313 [==============================] - 0s 89us/sample - loss: 0.3336 - accuracy: 0.8435 - val_loss: 0.3688 - val_accuracy: 0.8101\n",
      "Epoch 88/100\n",
      "313/313 [==============================] - 0s 86us/sample - loss: 0.3193 - accuracy: 0.8722 - val_loss: 0.3488 - val_accuracy: 0.8354\n",
      "Epoch 89/100\n",
      "313/313 [==============================] - 0s 80us/sample - loss: 0.3201 - accuracy: 0.8658 - val_loss: 0.3555 - val_accuracy: 0.8228\n",
      "Epoch 90/100\n",
      "313/313 [==============================] - 0s 86us/sample - loss: 0.3187 - accuracy: 0.8626 - val_loss: 0.3624 - val_accuracy: 0.8101\n",
      "Epoch 91/100\n",
      "313/313 [==============================] - 0s 77us/sample - loss: 0.3302 - accuracy: 0.8594 - val_loss: 0.3554 - val_accuracy: 0.8228\n",
      "Epoch 92/100\n",
      "313/313 [==============================] - 0s 73us/sample - loss: 0.3373 - accuracy: 0.8530 - val_loss: 0.3546 - val_accuracy: 0.8228\n",
      "Epoch 93/100\n",
      "313/313 [==============================] - 0s 83us/sample - loss: 0.3245 - accuracy: 0.8658 - val_loss: 0.3469 - val_accuracy: 0.8354\n",
      "Epoch 94/100\n",
      "313/313 [==============================] - 0s 105us/sample - loss: 0.3129 - accuracy: 0.8594 - val_loss: 0.3586 - val_accuracy: 0.8101\n",
      "Epoch 95/100\n",
      "313/313 [==============================] - 0s 80us/sample - loss: 0.3132 - accuracy: 0.8626 - val_loss: 0.3686 - val_accuracy: 0.8228\n",
      "Epoch 96/100\n",
      "313/313 [==============================] - 0s 80us/sample - loss: 0.3105 - accuracy: 0.8690 - val_loss: 0.3510 - val_accuracy: 0.8228\n",
      "Epoch 97/100\n",
      "313/313 [==============================] - 0s 86us/sample - loss: 0.3118 - accuracy: 0.8626 - val_loss: 0.3494 - val_accuracy: 0.8101\n",
      "Epoch 98/100\n",
      "313/313 [==============================] - 0s 80us/sample - loss: 0.3077 - accuracy: 0.8722 - val_loss: 0.3504 - val_accuracy: 0.8228\n",
      "Epoch 99/100\n",
      "313/313 [==============================] - 0s 77us/sample - loss: 0.3145 - accuracy: 0.8626 - val_loss: 0.3566 - val_accuracy: 0.8354\n",
      "Epoch 100/100\n",
      "313/313 [==============================] - 0s 109us/sample - loss: 0.3087 - accuracy: 0.8626 - val_loss: 0.3623 - val_accuracy: 0.8101\n"
     ]
    }
   ],
   "source": [
    "car_processed = pd.get_dummies(car, columns=['Origin'])\n",
    "\n",
    "# Define x / parameter and y / target\n",
    "x = car_processed.drop(columns=['Origin_1', 'Origin_2', 'Origin_3'])\n",
    "y = car_processed[['Origin_1', 'Origin_2', 'Origin_3']]\n",
    "\n",
    "# Split the data\n",
    "x_train, x_test, y_train, y_test = train_test_split(x, y, test_size=0.2, random_state=1)\n",
    "\n",
    "# Standardize the data\n",
    "scaler = StandardScaler()\n",
    "x_train = scaler.fit_transform(x_train)\n",
    "x_test = scaler.fit_transform(x_test)\n",
    "\n",
    "\n",
    "# Initiate the model (neural network)\n",
    "\n",
    "## Neural Network in Tensorflow\n",
    "model = Sequential()\n",
    "\n",
    "## Add Hidden Layer\n",
    "model.add(Dense(8, input_dim=x_train.shape[1], activation='relu'))\n",
    "model.add(Dense(8, activation='relu'))\n",
    "\n",
    "## Add Output Layer\n",
    "model.add(Dense(3, activation='softmax'))\n",
    "\n",
    "## Compile Model\n",
    "model.compile(loss='categorical_crossentropy', \n",
    "              optimizer=Adam(lr=0.01),\n",
    "              metrics=['accuracy'])\n",
    "\n",
    "\n",
    "# Training Process - Testing Process - Evaluation\n",
    "\n",
    "history = model.fit(x_train, \n",
    "                    y_train, \n",
    "                    batch_size=64,\n",
    "                    epochs=100,\n",
    "                    validation_data=(x_test, y_test))"
   ]
  },
  {
   "cell_type": "code",
   "execution_count": 177,
   "metadata": {},
   "outputs": [
    {
     "data": {
      "text/plain": [
       "<matplotlib.legend.Legend at 0x2a6fe548e88>"
      ]
     },
     "execution_count": 177,
     "metadata": {},
     "output_type": "execute_result"
    },
    {
     "data": {
      "image/png": "[encoded data removed]",
      "text/plain": [
       "<Figure size 432x288 with 1 Axes>"
      ]
     },
     "metadata": {
      "needs_background": "light"
     },
     "output_type": "display_data"
    }
   ],
   "source": [
    "plt.plot(history.history['loss'])\n",
    "plt.plot(history.history['val_loss'])\n",
    "plt.xlabel('Epoch')\n",
    "plt.ylabel('Loss')\n",
    "plt.legend(['Train', 'Validation'])"
   ]
  },
  {
   "cell_type": "code",
   "execution_count": 178,
   "metadata": {},
   "outputs": [
    {
     "data": {
      "text/plain": [
       "<matplotlib.legend.Legend at 0x2a682da9808>"
      ]
     },
     "execution_count": 178,
     "metadata": {},
     "output_type": "execute_result"
    },
    {
     "data": {
      "image/png": "[encoded data removed]",
      "text/plain": [
       "<Figure size 432x288 with 1 Axes>"
      ]
     },
     "metadata": {
      "needs_background": "light"
     },
     "output_type": "display_data"
    }
   ],
   "source": [
    "plt.plot(history.history['accuracy'])\n",
    "plt.plot(history.history['val_accuracy'])\n",
    "plt.xlabel('Epoch')\n",
    "plt.ylabel('Accuracy')\n",
    "plt.legend(['Train', 'Validation'])"
   ]
  },
  {
   "cell_type": "markdown",
   "metadata": {},
   "source": [
    "### Underfitting & Overfitting"
   ]
  },
  {
   "cell_type": "markdown",
   "metadata": {},
   "source": [
    "**Underfitting** <br>\n",
    "Model tidak dapat \"belajar\" dari data yang diberikan <br>\n",
    "*Penyebab -> data yang kurang banyak*\n",
    "\n",
    "**Overfitting** <br>\n",
    "Model terlalu belajar dari data training, sehingga tidak bisa memprediksi dengan baik pada data testing <br>\n",
    "*Penyebab -> model terlalu kompleks*"
   ]
  },
  {
   "cell_type": "markdown",
   "metadata": {},
   "source": [
    "### Tensorflow for Classifying Images"
   ]
  },
  {
   "cell_type": "code",
   "execution_count": 179,
   "metadata": {},
   "outputs": [],
   "source": [
    "(x_train, y_train) , (x_test, y_test) = fashion_mnist.load_data()"
   ]
  },
  {
   "cell_type": "code",
   "execution_count": 180,
   "metadata": {},
   "outputs": [
    {
     "data": {
      "text/plain": [
       "(60000, 28, 28)"
      ]
     },
     "execution_count": 180,
     "metadata": {},
     "output_type": "execute_result"
    }
   ],
   "source": [
    "x_train.shape"
   ]
  },
  {
   "cell_type": "code",
   "execution_count": 181,
   "metadata": {},
   "outputs": [
    {
     "data": {
      "text/plain": [
       "(60000,)"
      ]
     },
     "execution_count": 181,
     "metadata": {},
     "output_type": "execute_result"
    }
   ],
   "source": [
    "y_train.shape"
   ]
  },
  {
   "cell_type": "code",
   "execution_count": 183,
   "metadata": {},
   "outputs": [
    {
     "data": {
      "text/plain": [
       "<matplotlib.colorbar.Colorbar at 0x2a6862c79c8>"
      ]
     },
     "execution_count": 183,
     "metadata": {},
     "output_type": "execute_result"
    },
    {
     "data": {
      "image/png": "[encoded data removed]",
      "text/plain": [
       "<Figure size 432x288 with 2 Axes>"
      ]
     },
     "metadata": {
      "needs_background": "light"
     },
     "output_type": "display_data"
    }
   ],
   "source": [
    "plt.imshow(x_train[10])\n",
    "plt.colorbar()"
   ]
  },
  {
   "cell_type": "code",
   "execution_count": 184,
   "metadata": {},
   "outputs": [
    {
     "name": "stdout",
     "output_type": "stream",
     "text": [
      "Train on 60000 samples, validate on 10000 samples\n",
      "Epoch 1/10\n",
      "60000/60000 [==============================] - 3s 56us/sample - loss: 3.3686 - accuracy: 0.6721 - val_loss: 0.7901 - val_accuracy: 0.7110\n",
      "Epoch 2/10\n",
      "60000/60000 [==============================] - 3s 49us/sample - loss: 0.7028 - accuracy: 0.7565 - val_loss: 0.6752 - val_accuracy: 0.7714\n",
      "Epoch 3/10\n",
      "60000/60000 [==============================] - 3s 50us/sample - loss: 0.6139 - accuracy: 0.7883 - val_loss: 0.5822 - val_accuracy: 0.7962\n",
      "Epoch 4/10\n",
      "60000/60000 [==============================] - 3s 56us/sample - loss: 0.5668 - accuracy: 0.8038 - val_loss: 0.6078 - val_accuracy: 0.7932\n",
      "Epoch 5/10\n",
      "60000/60000 [==============================] - 3s 52us/sample - loss: 0.5514 - accuracy: 0.8085 - val_loss: 0.6225 - val_accuracy: 0.7987\n",
      "Epoch 6/10\n",
      "60000/60000 [==============================] - 3s 45us/sample - loss: 0.5533 - accuracy: 0.8102 - val_loss: 0.6280 - val_accuracy: 0.7942\n",
      "Epoch 7/10\n",
      "60000/60000 [==============================] - 3s 50us/sample - loss: 0.5601 - accuracy: 0.8104 - val_loss: 0.5916 - val_accuracy: 0.8036\n",
      "Epoch 8/10\n",
      "60000/60000 [==============================] - 3s 52us/sample - loss: 0.5355 - accuracy: 0.8202 - val_loss: 0.5633 - val_accuracy: 0.8190\n",
      "Epoch 9/10\n",
      "60000/60000 [==============================] - 3s 49us/sample - loss: 0.5627 - accuracy: 0.8112 - val_loss: 0.5967 - val_accuracy: 0.7995\n",
      "Epoch 10/10\n",
      "60000/60000 [==============================] - 3s 46us/sample - loss: 0.5683 - accuracy: 0.8127 - val_loss: 0.6325 - val_accuracy: 0.8075\n"
     ]
    }
   ],
   "source": [
    "# Import the data\n",
    "(x_train, y_train) , (x_test, y_test) = fashion_mnist.load_data()\n",
    "\n",
    "x_train = x_train.reshape(60000, 784)\n",
    "x_test = x_test.reshape(10000, 784)\n",
    "\n",
    "# Initiate the model (neural network)\n",
    "\n",
    "## Neural Network in Tensorflow\n",
    "model = Sequential()\n",
    "\n",
    "## Add Hidden Layer\n",
    "model.add(Dense(64, input_dim=784, activation='relu'))\n",
    "model.add(Dense(32, activation='relu'))\n",
    "\n",
    "## Add Output Layer\n",
    "model.add(Dense(10, activation='softmax'))\n",
    "\n",
    "## Compile Model\n",
    "model.compile(loss='sparse_categorical_crossentropy', \n",
    "              optimizer=Adam(lr=0.005),\n",
    "              metrics=['accuracy'])\n",
    "\n",
    "# Training Process - Testing Process - Evaluation\n",
    "history = model.fit(x_train, \n",
    "                    y_train, \n",
    "                    batch_size=64,\n",
    "                    epochs=10,\n",
    "                    validation_data=(x_test, y_test))"
   ]
  },
  {
   "cell_type": "code",
   "execution_count": null,
   "metadata": {},
   "outputs": [],
   "source": [
    "class_names = ['T-shirt/top', \n",
    "               'Trouser', \n",
    "               'Pullover', \n",
    "               'Dress', \n",
    "               'Coat', \n",
    "               'Sandal', \n",
    "               'Shirt', \n",
    "               'Sneaker', \n",
    "               'Bag', \n",
    "               'Ankle boot']"
   ]
  },
  {
   "cell_type": "code",
   "execution_count": 149,
   "metadata": {},
   "outputs": [
    {
     "data": {
      "text/plain": [
       "<matplotlib.colorbar.Colorbar at 0x2a68b847188>"
      ]
     },
     "execution_count": 149,
     "metadata": {},
     "output_type": "execute_result"
    },
    {
     "data": {
      "image/png": "[encoded data removed]",
      "text/plain": [
       "<Figure size 432x288 with 2 Axes>"
      ]
     },
     "metadata": {
      "needs_background": "light"
     },
     "output_type": "display_data"
    }
   ],
   "source": [
    "plt.imshow(x_test[80])\n",
    "plt.colorbar()"
   ]
  },
  {
   "cell_type": "code",
   "execution_count": 151,
   "metadata": {},
   "outputs": [
    {
     "data": {
      "text/plain": [
       "<matplotlib.axes._subplots.AxesSubplot at 0x2a68b878308>"
      ]
     },
     "execution_count": 151,
     "metadata": {},
     "output_type": "execute_result"
    },
    {
     "data": {
      "image/png": "[encoded data removed]",
      "text/plain": [
       "<Figure size 432x288 with 1 Axes>"
      ]
     },
     "metadata": {
      "needs_background": "light"
     },
     "output_type": "display_data"
    }
   ],
   "source": [
    "sns.barplot(x=[0,1,2,3,4,5,6,7,8,9], y=result)"
   ]
  },
  {
   "cell_type": "code",
   "execution_count": 150,
   "metadata": {},
   "outputs": [
    {
     "data": {
      "text/plain": [
       "[7.69459e-05,\n",
       " 0.99984777,\n",
       " 3.865809e-08,\n",
       " 7.300587e-05,\n",
       " 2.4366477e-08,\n",
       " 9.773134e-14,\n",
       " 5.8702324e-07,\n",
       " 9.259018e-22,\n",
       " 1.5881191e-06,\n",
       " 2.7055725e-12]"
      ]
     },
     "execution_count": 150,
     "metadata": {},
     "output_type": "execute_result"
    }
   ],
   "source": [
    "result = list(model.predict(x_test[80].reshape(1,-1))[0])\n",
    "\n",
    "result"
   ]
  },
  {
   "cell_type": "markdown",
   "metadata": {},
   "source": [
    "## Export / Import Model"
   ]
  },
  {
   "cell_type": "markdown",
   "metadata": {},
   "source": [
    "### Scikit-Learn"
   ]
  },
  {
   "cell_type": "code",
   "execution_count": 154,
   "metadata": {},
   "outputs": [
    {
     "name": "stdout",
     "output_type": "stream",
     "text": [
      "Requirement already satisfied: joblib in c:\\users\\960083.g7481x54_960083\\.conda\\envs\\h8\\lib\\site-packages (0.16.0)\n"
     ]
    }
   ],
   "source": [
    "!pip install joblib"
   ]
  },
  {
   "cell_type": "code",
   "execution_count": 155,
   "metadata": {},
   "outputs": [],
   "source": [
    "import pickle\n",
    "import joblib"
   ]
  },
  {
   "cell_type": "code",
   "execution_count": null,
   "metadata": {},
   "outputs": [],
   "source": [
    "# Export model\n",
    "joblib.dump(linear_regression_model, 'linear_regression.pkl')\n",
    "\n",
    "# Import model\n",
    "new_linear_regression_model = joblib.load('linear_regression.pkl')"
   ]
  },
  {
   "cell_type": "markdown",
   "metadata": {},
   "source": [
    "### Tensorflow"
   ]
  },
  {
   "cell_type": "code",
   "execution_count": null,
   "metadata": {},
   "outputs": [],
   "source": [
    "# Export model\n",
    "model.save('nn.pkl')\n",
    "\n",
    "# Import model\n",
    "new_model = keras.models.load_model('nn.pkl')"
   ]
  }
 ],
 "metadata": {
  "kernelspec": {
   "display_name": "Python 3",
   "language": "python",
   "name": "python3"
  },
  "language_info": {
   "codemirror_mode": {
    "name": "ipython",
    "version": 3
   },
   "file_extension": ".py",
   "mimetype": "text/x-python",
   "name": "python",
   "nbconvert_exporter": "python",
   "pygments_lexer": "ipython3",
   "version": "3.8.3"
  }
 },
 "nbformat": 4,
 "nbformat_minor": 4
}
