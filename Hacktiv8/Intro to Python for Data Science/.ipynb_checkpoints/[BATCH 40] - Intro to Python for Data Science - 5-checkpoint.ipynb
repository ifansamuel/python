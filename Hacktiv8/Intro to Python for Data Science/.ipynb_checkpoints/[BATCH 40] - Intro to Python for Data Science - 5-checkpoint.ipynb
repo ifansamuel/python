{
 "cells": [
  {
   "cell_type": "markdown",
   "metadata": {},
   "source": [
    "### Pembahasan Assignment 1"
   ]
  },
  {
   "cell_type": "code",
   "execution_count": 7,
   "metadata": {},
   "outputs": [],
   "source": [
    "# Buat sebuah function yang dapat mengkonversi suhu dari Celcius dan Reamur\n",
    "\n",
    "# Input: 1 String\n",
    "# Output: 1 String\n",
    "\n",
    "# Input: '25C'\n",
    "# Output: '..R'\n",
    "\n",
    "def konversi_suhu(suhu):\n",
    "    \n",
    "    # 1. kita ambil suhu nya\n",
    "    suhu_awal = suhu[-1]\n",
    "    \n",
    "    # 2. kita ambil derajatnya (angka)\n",
    "    derajat = suhu[:-1]\n",
    "    \n",
    "    # 3. convert sesuai dengan rule\n",
    "    if suhu_awal == 'C':\n",
    "        derajat_akhir = (4/5) * int(derajat)\n",
    "        return str(derajat_akhir) + 'R'\n",
    "    \n",
    "    elif suhu_awal == 'R':\n",
    "        derajat_akhir = (5/4) * int(derajat)\n",
    "        return str(derajat_akhir) + 'C'\n",
    "    \n",
    "    else:\n",
    "        return 'Silahkan masukan suhu dalam celcius atau reamur'"
   ]
  },
  {
   "cell_type": "code",
   "execution_count": 9,
   "metadata": {},
   "outputs": [
    {
     "data": {
      "text/plain": [
       "'80.0R'"
      ]
     },
     "execution_count": 9,
     "metadata": {},
     "output_type": "execute_result"
    }
   ],
   "source": [
    "konversi_suhu('100C')"
   ]
  },
  {
   "cell_type": "markdown",
   "metadata": {},
   "source": [
    "----"
   ]
  },
  {
   "cell_type": "code",
   "execution_count": null,
   "metadata": {},
   "outputs": [],
   "source": [
    "http://bit.ly/dwp-data-ojol"
   ]
  },
  {
   "cell_type": "code",
   "execution_count": 55,
   "metadata": {},
   "outputs": [],
   "source": [
    "import pandas as pd\n",
    "\n",
    "# Import data ojol\n",
    "data_ojol = {'Customer':['tom', 'nick', 'krish', 'jack', 'jack', 'tom', 'jack', 'krish', 'nick', 'nick'],\n",
    "          'Origin':['Tebet', 'Gondangdia', 'Mampang', 'SCBD', 'SCBD', 'Kuningan', 'Pancoran', 'Tebet', 'Mampang', 'Tebet'],\n",
    "          'Destination':['Gondangdia', 'Mampang', 'SCBD', 'Kuningan', 'Pancoran', 'Pancoran', 'Mampang', 'SCBD', 'SCBD', 'Kuningan'],\n",
    "          'Distance': [None, None, 3.0, 4.8, 2.2, 4.7, 3.4, 4.0, 2.2, 2.9],\n",
    "          'Price': [20000, 23000, 14000, 24500, 7000, 20000, 15000, 18500, 9000, 11000]}\n",
    "data_ojol = pd.DataFrame(data_ojol)\n",
    "\n",
    "# Import data bike\n",
    "data_bike = pd.read_csv('http://bit.ly/dwp-data-bike')"
   ]
  },
  {
   "cell_type": "code",
   "execution_count": 57,
   "metadata": {},
   "outputs": [],
   "source": [
    "df_bike = data_bike"
   ]
  },
  {
   "cell_type": "markdown",
   "metadata": {},
   "source": [
    "## Pandas"
   ]
  },
  {
   "cell_type": "markdown",
   "metadata": {},
   "source": [
    "### Fill N/A\n",
    "\n",
    ".fillna()"
   ]
  },
  {
   "cell_type": "code",
   "execution_count": 17,
   "metadata": {},
   "outputs": [
    {
     "name": "stdout",
     "output_type": "stream",
     "text": [
      "<class 'pandas.core.frame.DataFrame'>\n",
      "RangeIndex: 10 entries, 0 to 9\n",
      "Data columns (total 5 columns):\n",
      " #   Column       Non-Null Count  Dtype  \n",
      "---  ------       --------------  -----  \n",
      " 0   Customer     10 non-null     object \n",
      " 1   Origin       10 non-null     object \n",
      " 2   Destination  10 non-null     object \n",
      " 3   Distance     8 non-null      float64\n",
      " 4   Price        10 non-null     int64  \n",
      "dtypes: float64(1), int64(1), object(3)\n",
      "memory usage: 528.0+ bytes\n"
     ]
    }
   ],
   "source": [
    "data_ojol.info()"
   ]
  },
  {
   "cell_type": "code",
   "execution_count": 34,
   "metadata": {},
   "outputs": [],
   "source": [
    "data_ojol['Distance'] = data_ojol['Distance'].fillna(data_ojol['Distance'].mean())"
   ]
  },
  {
   "cell_type": "markdown",
   "metadata": {},
   "source": [
    "### Data Type\n",
    "\n",
    ".astype()"
   ]
  },
  {
   "cell_type": "markdown",
   "metadata": {},
   "source": [
    "Python = str , int , float <br>\n",
    "Pandas = object , int , float"
   ]
  },
  {
   "cell_type": "code",
   "execution_count": 54,
   "metadata": {},
   "outputs": [
    {
     "name": "stdout",
     "output_type": "stream",
     "text": [
      "<class 'pandas.core.frame.DataFrame'>\n",
      "RangeIndex: 10 entries, 0 to 9\n",
      "Data columns (total 5 columns):\n",
      " #   Column       Non-Null Count  Dtype  \n",
      "---  ------       --------------  -----  \n",
      " 0   Customer     10 non-null     object \n",
      " 1   Origin       10 non-null     object \n",
      " 2   Destination  10 non-null     object \n",
      " 3   Distance     8 non-null      float64\n",
      " 4   Price        10 non-null     object \n",
      "dtypes: float64(1), object(4)\n",
      "memory usage: 528.0+ bytes\n"
     ]
    }
   ],
   "source": [
    "data_ojol.info()"
   ]
  },
  {
   "cell_type": "code",
   "execution_count": 53,
   "metadata": {},
   "outputs": [],
   "source": [
    "data_ojol['Price'] = data_ojol['Price'].astype(str)"
   ]
  },
  {
   "cell_type": "markdown",
   "metadata": {},
   "source": [
    "### Datetime Data Type"
   ]
  },
  {
   "cell_type": "code",
   "execution_count": 75,
   "metadata": {},
   "outputs": [
    {
     "name": "stdout",
     "output_type": "stream",
     "text": [
      "<class 'pandas.core.frame.DataFrame'>\n",
      "RangeIndex: 46230 entries, 0 to 46229\n",
      "Data columns (total 10 columns):\n",
      " #   Column              Non-Null Count  Dtype         \n",
      "---  ------              --------------  -----         \n",
      " 0   tripduration        46230 non-null  int64         \n",
      " 1   starttime           46230 non-null  datetime64[ns]\n",
      " 2   stoptime            46230 non-null  object        \n",
      " 3   start station name  46230 non-null  object        \n",
      " 4   end station name    46230 non-null  object        \n",
      " 5   bikeid              46230 non-null  int64         \n",
      " 6   usertype            46230 non-null  object        \n",
      " 7   birth year          46230 non-null  int64         \n",
      " 8   gender              46230 non-null  int64         \n",
      " 9   month               46230 non-null  object        \n",
      "dtypes: datetime64[ns](1), int64(4), object(5)\n",
      "memory usage: 3.5+ MB\n"
     ]
    }
   ],
   "source": [
    "df_bike.info()"
   ]
  },
  {
   "cell_type": "code",
   "execution_count": 72,
   "metadata": {},
   "outputs": [
    {
     "data": {
      "text/html": [
       "<div>\n",
       "<style scoped>\n",
       "    .dataframe tbody tr th:only-of-type {\n",
       "        vertical-align: middle;\n",
       "    }\n",
       "\n",
       "    .dataframe tbody tr th {\n",
       "        vertical-align: top;\n",
       "    }\n",
       "\n",
       "    .dataframe thead th {\n",
       "        text-align: right;\n",
       "    }\n",
       "</style>\n",
       "<table border=\"1\" class=\"dataframe\">\n",
       "  <thead>\n",
       "    <tr style=\"text-align: right;\">\n",
       "      <th></th>\n",
       "      <th>tripduration</th>\n",
       "      <th>starttime</th>\n",
       "      <th>stoptime</th>\n",
       "      <th>start station name</th>\n",
       "      <th>end station name</th>\n",
       "      <th>bikeid</th>\n",
       "      <th>usertype</th>\n",
       "      <th>birth year</th>\n",
       "      <th>gender</th>\n",
       "      <th>month</th>\n",
       "    </tr>\n",
       "  </thead>\n",
       "  <tbody>\n",
       "    <tr>\n",
       "      <th>0</th>\n",
       "      <td>261</td>\n",
       "      <td>2019-08-01 00:14:55.990</td>\n",
       "      <td>2019-08-01 00:19:17.4780</td>\n",
       "      <td>JC Medical Center</td>\n",
       "      <td>Liberty Light Rail</td>\n",
       "      <td>26268</td>\n",
       "      <td>Subscriber</td>\n",
       "      <td>1980</td>\n",
       "      <td>1</td>\n",
       "      <td>August</td>\n",
       "    </tr>\n",
       "    <tr>\n",
       "      <th>1</th>\n",
       "      <td>172</td>\n",
       "      <td>2019-08-01 00:23:06.991</td>\n",
       "      <td>2019-08-01 00:25:59.1480</td>\n",
       "      <td>Dixon Mills</td>\n",
       "      <td>Grove St PATH</td>\n",
       "      <td>26162</td>\n",
       "      <td>Subscriber</td>\n",
       "      <td>1996</td>\n",
       "      <td>1</td>\n",
       "      <td>August</td>\n",
       "    </tr>\n",
       "    <tr>\n",
       "      <th>2</th>\n",
       "      <td>525</td>\n",
       "      <td>2019-08-01 00:23:28.617</td>\n",
       "      <td>2019-08-01 00:32:13.7000</td>\n",
       "      <td>Newport Pkwy</td>\n",
       "      <td>Hamilton Park</td>\n",
       "      <td>29279</td>\n",
       "      <td>Subscriber</td>\n",
       "      <td>1991</td>\n",
       "      <td>1</td>\n",
       "      <td>August</td>\n",
       "    </tr>\n",
       "    <tr>\n",
       "      <th>3</th>\n",
       "      <td>219</td>\n",
       "      <td>2019-08-01 00:32:36.141</td>\n",
       "      <td>2019-08-01 00:36:15.2730</td>\n",
       "      <td>Warren St</td>\n",
       "      <td>City Hall</td>\n",
       "      <td>29598</td>\n",
       "      <td>Subscriber</td>\n",
       "      <td>1988</td>\n",
       "      <td>1</td>\n",
       "      <td>August</td>\n",
       "    </tr>\n",
       "    <tr>\n",
       "      <th>4</th>\n",
       "      <td>262</td>\n",
       "      <td>2019-08-01 00:41:26.670</td>\n",
       "      <td>2019-08-01 00:45:49.3530</td>\n",
       "      <td>Grove St PATH</td>\n",
       "      <td>Jersey &amp; 3rd</td>\n",
       "      <td>26162</td>\n",
       "      <td>Subscriber</td>\n",
       "      <td>1960</td>\n",
       "      <td>1</td>\n",
       "      <td>August</td>\n",
       "    </tr>\n",
       "  </tbody>\n",
       "</table>\n",
       "</div>"
      ],
      "text/plain": [
       "   tripduration               starttime                  stoptime  \\\n",
       "0           261 2019-08-01 00:14:55.990  2019-08-01 00:19:17.4780   \n",
       "1           172 2019-08-01 00:23:06.991  2019-08-01 00:25:59.1480   \n",
       "2           525 2019-08-01 00:23:28.617  2019-08-01 00:32:13.7000   \n",
       "3           219 2019-08-01 00:32:36.141  2019-08-01 00:36:15.2730   \n",
       "4           262 2019-08-01 00:41:26.670  2019-08-01 00:45:49.3530   \n",
       "\n",
       "  start station name    end station name  bikeid    usertype  birth year  \\\n",
       "0  JC Medical Center  Liberty Light Rail   26268  Subscriber        1980   \n",
       "1        Dixon Mills       Grove St PATH   26162  Subscriber        1996   \n",
       "2       Newport Pkwy       Hamilton Park   29279  Subscriber        1991   \n",
       "3          Warren St           City Hall   29598  Subscriber        1988   \n",
       "4      Grove St PATH        Jersey & 3rd   26162  Subscriber        1960   \n",
       "\n",
       "   gender   month  \n",
       "0       1  August  \n",
       "1       1  August  \n",
       "2       1  August  \n",
       "3       1  August  \n",
       "4       1  August  "
      ]
     },
     "execution_count": 72,
     "metadata": {},
     "output_type": "execute_result"
    }
   ],
   "source": [
    "df_bike.head()"
   ]
  },
  {
   "cell_type": "code",
   "execution_count": 64,
   "metadata": {},
   "outputs": [],
   "source": [
    "df_bike['starttime'] = pd.to_datetime(df_bike['starttime'])"
   ]
  },
  {
   "cell_type": "code",
   "execution_count": 84,
   "metadata": {},
   "outputs": [],
   "source": [
    "df_bike['hour'] = df_bike['starttime'].dt.strftime('%I %p')"
   ]
  },
  {
   "cell_type": "code",
   "execution_count": 97,
   "metadata": {},
   "outputs": [
    {
     "data": {
      "text/html": [
       "<div>\n",
       "<style scoped>\n",
       "    .dataframe tbody tr th:only-of-type {\n",
       "        vertical-align: middle;\n",
       "    }\n",
       "\n",
       "    .dataframe tbody tr th {\n",
       "        vertical-align: top;\n",
       "    }\n",
       "\n",
       "    .dataframe thead th {\n",
       "        text-align: right;\n",
       "    }\n",
       "</style>\n",
       "<table border=\"1\" class=\"dataframe\">\n",
       "  <thead>\n",
       "    <tr style=\"text-align: right;\">\n",
       "      <th></th>\n",
       "      <th>tripduration</th>\n",
       "      <th>starttime</th>\n",
       "      <th>stoptime</th>\n",
       "      <th>start station name</th>\n",
       "      <th>end station name</th>\n",
       "      <th>bikeid</th>\n",
       "      <th>usertype</th>\n",
       "      <th>birth year</th>\n",
       "      <th>gender</th>\n",
       "      <th>month</th>\n",
       "      <th>hour</th>\n",
       "    </tr>\n",
       "  </thead>\n",
       "  <tbody>\n",
       "    <tr>\n",
       "      <th>27401</th>\n",
       "      <td>245</td>\n",
       "      <td>2019-08-19 13:35:23.099</td>\n",
       "      <td>2019-08-19 13:39:28.5960</td>\n",
       "      <td>Grove St PATH</td>\n",
       "      <td>Brunswick St</td>\n",
       "      <td>29656</td>\n",
       "      <td>Subscriber</td>\n",
       "      <td>1980</td>\n",
       "      <td>2</td>\n",
       "      <td>August</td>\n",
       "      <td>01 PM</td>\n",
       "    </tr>\n",
       "    <tr>\n",
       "      <th>20955</th>\n",
       "      <td>272</td>\n",
       "      <td>2019-08-14 21:05:35.252</td>\n",
       "      <td>2019-08-14 21:10:07.2820</td>\n",
       "      <td>Grove St PATH</td>\n",
       "      <td>Brunswick St</td>\n",
       "      <td>26173</td>\n",
       "      <td>Subscriber</td>\n",
       "      <td>1983</td>\n",
       "      <td>1</td>\n",
       "      <td>August</td>\n",
       "      <td>09 PM</td>\n",
       "    </tr>\n",
       "    <tr>\n",
       "      <th>7590</th>\n",
       "      <td>297</td>\n",
       "      <td>2019-08-06 06:27:01.790</td>\n",
       "      <td>2019-08-06 06:31:59.1620</td>\n",
       "      <td>Leonard Gordon Park</td>\n",
       "      <td>Journal Square</td>\n",
       "      <td>26237</td>\n",
       "      <td>Subscriber</td>\n",
       "      <td>1980</td>\n",
       "      <td>1</td>\n",
       "      <td>August</td>\n",
       "      <td>06 AM</td>\n",
       "    </tr>\n",
       "    <tr>\n",
       "      <th>2051</th>\n",
       "      <td>265</td>\n",
       "      <td>2019-08-02 08:16:20.130</td>\n",
       "      <td>2019-08-02 08:20:46.0680</td>\n",
       "      <td>Bergen Ave</td>\n",
       "      <td>Sip Ave</td>\n",
       "      <td>29460</td>\n",
       "      <td>Subscriber</td>\n",
       "      <td>1982</td>\n",
       "      <td>1</td>\n",
       "      <td>August</td>\n",
       "      <td>08 AM</td>\n",
       "    </tr>\n",
       "    <tr>\n",
       "      <th>28146</th>\n",
       "      <td>242</td>\n",
       "      <td>2019-08-19 20:59:14.101</td>\n",
       "      <td>2019-08-19 21:03:16.1290</td>\n",
       "      <td>Washington St</td>\n",
       "      <td>Hamilton Park</td>\n",
       "      <td>29595</td>\n",
       "      <td>Subscriber</td>\n",
       "      <td>1983</td>\n",
       "      <td>1</td>\n",
       "      <td>August</td>\n",
       "      <td>08 PM</td>\n",
       "    </tr>\n",
       "    <tr>\n",
       "      <th>6849</th>\n",
       "      <td>414</td>\n",
       "      <td>2019-08-05 17:23:01.515</td>\n",
       "      <td>2019-08-05 17:29:55.6830</td>\n",
       "      <td>Marin Light Rail</td>\n",
       "      <td>Jersey &amp; 6th St</td>\n",
       "      <td>29621</td>\n",
       "      <td>Subscriber</td>\n",
       "      <td>1985</td>\n",
       "      <td>1</td>\n",
       "      <td>August</td>\n",
       "      <td>05 PM</td>\n",
       "    </tr>\n",
       "    <tr>\n",
       "      <th>20121</th>\n",
       "      <td>444</td>\n",
       "      <td>2019-08-14 11:21:27.497</td>\n",
       "      <td>2019-08-14 11:28:51.6780</td>\n",
       "      <td>Newport PATH</td>\n",
       "      <td>Hamilton Park</td>\n",
       "      <td>29621</td>\n",
       "      <td>Subscriber</td>\n",
       "      <td>1983</td>\n",
       "      <td>2</td>\n",
       "      <td>August</td>\n",
       "      <td>11 AM</td>\n",
       "    </tr>\n",
       "    <tr>\n",
       "      <th>36447</th>\n",
       "      <td>1682</td>\n",
       "      <td>2019-08-25 15:43:43.360</td>\n",
       "      <td>2019-08-25 16:11:46.0550</td>\n",
       "      <td>Newport PATH</td>\n",
       "      <td>Newport Pkwy</td>\n",
       "      <td>29675</td>\n",
       "      <td>Customer</td>\n",
       "      <td>1969</td>\n",
       "      <td>0</td>\n",
       "      <td>August</td>\n",
       "      <td>03 PM</td>\n",
       "    </tr>\n",
       "    <tr>\n",
       "      <th>17498</th>\n",
       "      <td>211</td>\n",
       "      <td>2019-08-12 18:48:58.703</td>\n",
       "      <td>2019-08-12 18:52:29.8770</td>\n",
       "      <td>Newark Ave</td>\n",
       "      <td>Brunswick St</td>\n",
       "      <td>29616</td>\n",
       "      <td>Subscriber</td>\n",
       "      <td>1990</td>\n",
       "      <td>2</td>\n",
       "      <td>August</td>\n",
       "      <td>06 PM</td>\n",
       "    </tr>\n",
       "    <tr>\n",
       "      <th>36107</th>\n",
       "      <td>310</td>\n",
       "      <td>2019-08-25 11:40:47.630</td>\n",
       "      <td>2019-08-25 11:45:57.7780</td>\n",
       "      <td>Sip Ave</td>\n",
       "      <td>Astor Place</td>\n",
       "      <td>37987</td>\n",
       "      <td>Subscriber</td>\n",
       "      <td>1988</td>\n",
       "      <td>1</td>\n",
       "      <td>August</td>\n",
       "      <td>11 AM</td>\n",
       "    </tr>\n",
       "  </tbody>\n",
       "</table>\n",
       "</div>"
      ],
      "text/plain": [
       "       tripduration               starttime                  stoptime  \\\n",
       "27401           245 2019-08-19 13:35:23.099  2019-08-19 13:39:28.5960   \n",
       "20955           272 2019-08-14 21:05:35.252  2019-08-14 21:10:07.2820   \n",
       "7590            297 2019-08-06 06:27:01.790  2019-08-06 06:31:59.1620   \n",
       "2051            265 2019-08-02 08:16:20.130  2019-08-02 08:20:46.0680   \n",
       "28146           242 2019-08-19 20:59:14.101  2019-08-19 21:03:16.1290   \n",
       "6849            414 2019-08-05 17:23:01.515  2019-08-05 17:29:55.6830   \n",
       "20121           444 2019-08-14 11:21:27.497  2019-08-14 11:28:51.6780   \n",
       "36447          1682 2019-08-25 15:43:43.360  2019-08-25 16:11:46.0550   \n",
       "17498           211 2019-08-12 18:48:58.703  2019-08-12 18:52:29.8770   \n",
       "36107           310 2019-08-25 11:40:47.630  2019-08-25 11:45:57.7780   \n",
       "\n",
       "        start station name end station name  bikeid    usertype  birth year  \\\n",
       "27401        Grove St PATH     Brunswick St   29656  Subscriber        1980   \n",
       "20955        Grove St PATH     Brunswick St   26173  Subscriber        1983   \n",
       "7590   Leonard Gordon Park   Journal Square   26237  Subscriber        1980   \n",
       "2051            Bergen Ave          Sip Ave   29460  Subscriber        1982   \n",
       "28146        Washington St    Hamilton Park   29595  Subscriber        1983   \n",
       "6849      Marin Light Rail  Jersey & 6th St   29621  Subscriber        1985   \n",
       "20121         Newport PATH    Hamilton Park   29621  Subscriber        1983   \n",
       "36447         Newport PATH     Newport Pkwy   29675    Customer        1969   \n",
       "17498           Newark Ave     Brunswick St   29616  Subscriber        1990   \n",
       "36107              Sip Ave      Astor Place   37987  Subscriber        1988   \n",
       "\n",
       "       gender   month   hour  \n",
       "27401       2  August  01 PM  \n",
       "20955       1  August  09 PM  \n",
       "7590        1  August  06 AM  \n",
       "2051        1  August  08 AM  \n",
       "28146       1  August  08 PM  \n",
       "6849        1  August  05 PM  \n",
       "20121       2  August  11 AM  \n",
       "36447       0  August  03 PM  \n",
       "17498       2  August  06 PM  \n",
       "36107       1  August  11 AM  "
      ]
     },
     "execution_count": 97,
     "metadata": {},
     "output_type": "execute_result"
    }
   ],
   "source": [
    "df_bike.sample(10)"
   ]
  },
  {
   "cell_type": "markdown",
   "metadata": {},
   "source": [
    "### Data Transformation"
   ]
  },
  {
   "cell_type": "code",
   "execution_count": null,
   "metadata": {},
   "outputs": [],
   "source": [
    "# Misal kita ingin membuat data baru berdasarkan data di kolom yang sudah ada"
   ]
  },
  {
   "cell_type": "code",
   "execution_count": 122,
   "metadata": {},
   "outputs": [],
   "source": [
    "# 1. Buat functionnya untuk memetakan data yang diinginkan\n",
    "# 0 -> unknown\n",
    "# 1 -> male\n",
    "# 2 -> female\n",
    "\n",
    "def convert_gender(row):\n",
    "    if row['gender'] == 1:\n",
    "        return 'male'\n",
    "    elif row['gender'] == 2:\n",
    "        return 'female'\n",
    "    else:\n",
    "        return 'unknown'\n",
    "\n",
    "# 2. Apply functionnya\n",
    "\n",
    "df_bike['jenis_kelamin'] = df_bike.apply(convert_gender, axis=1)"
   ]
  },
  {
   "cell_type": "code",
   "execution_count": 131,
   "metadata": {},
   "outputs": [
    {
     "data": {
      "text/html": [
       "<div>\n",
       "<style scoped>\n",
       "    .dataframe tbody tr th:only-of-type {\n",
       "        vertical-align: middle;\n",
       "    }\n",
       "\n",
       "    .dataframe tbody tr th {\n",
       "        vertical-align: top;\n",
       "    }\n",
       "\n",
       "    .dataframe thead th {\n",
       "        text-align: right;\n",
       "    }\n",
       "</style>\n",
       "<table border=\"1\" class=\"dataframe\">\n",
       "  <thead>\n",
       "    <tr style=\"text-align: right;\">\n",
       "      <th></th>\n",
       "      <th>tripduration</th>\n",
       "      <th>start station name</th>\n",
       "      <th>end station name</th>\n",
       "      <th>route</th>\n",
       "    </tr>\n",
       "  </thead>\n",
       "  <tbody>\n",
       "    <tr>\n",
       "      <th>0</th>\n",
       "      <td>261</td>\n",
       "      <td>JC Medical Center</td>\n",
       "      <td>Liberty Light Rail</td>\n",
       "      <td>JC Medical Center - Liberty Light Rail</td>\n",
       "    </tr>\n",
       "    <tr>\n",
       "      <th>1</th>\n",
       "      <td>172</td>\n",
       "      <td>Dixon Mills</td>\n",
       "      <td>Grove St PATH</td>\n",
       "      <td>Dixon Mills - Grove St PATH</td>\n",
       "    </tr>\n",
       "    <tr>\n",
       "      <th>2</th>\n",
       "      <td>525</td>\n",
       "      <td>Newport Pkwy</td>\n",
       "      <td>Hamilton Park</td>\n",
       "      <td>Newport Pkwy - Hamilton Park</td>\n",
       "    </tr>\n",
       "    <tr>\n",
       "      <th>3</th>\n",
       "      <td>219</td>\n",
       "      <td>Warren St</td>\n",
       "      <td>City Hall</td>\n",
       "      <td>Warren St - City Hall</td>\n",
       "    </tr>\n",
       "    <tr>\n",
       "      <th>4</th>\n",
       "      <td>262</td>\n",
       "      <td>Grove St PATH</td>\n",
       "      <td>Jersey &amp; 3rd</td>\n",
       "      <td>Grove St PATH - Jersey &amp; 3rd</td>\n",
       "    </tr>\n",
       "    <tr>\n",
       "      <th>...</th>\n",
       "      <td>...</td>\n",
       "      <td>...</td>\n",
       "      <td>...</td>\n",
       "      <td>...</td>\n",
       "    </tr>\n",
       "    <tr>\n",
       "      <th>46225</th>\n",
       "      <td>384</td>\n",
       "      <td>Harborside</td>\n",
       "      <td>Hamilton Park</td>\n",
       "      <td>Harborside - Hamilton Park</td>\n",
       "    </tr>\n",
       "    <tr>\n",
       "      <th>46226</th>\n",
       "      <td>633</td>\n",
       "      <td>Grove St PATH</td>\n",
       "      <td>City Hall</td>\n",
       "      <td>Grove St PATH - City Hall</td>\n",
       "    </tr>\n",
       "    <tr>\n",
       "      <th>46227</th>\n",
       "      <td>324</td>\n",
       "      <td>Marin Light Rail</td>\n",
       "      <td>Newark Ave</td>\n",
       "      <td>Marin Light Rail - Newark Ave</td>\n",
       "    </tr>\n",
       "    <tr>\n",
       "      <th>46228</th>\n",
       "      <td>126</td>\n",
       "      <td>Newark Ave</td>\n",
       "      <td>Brunswick St</td>\n",
       "      <td>Newark Ave - Brunswick St</td>\n",
       "    </tr>\n",
       "    <tr>\n",
       "      <th>46229</th>\n",
       "      <td>690</td>\n",
       "      <td>City Hall</td>\n",
       "      <td>Communipaw &amp; Berry Lane</td>\n",
       "      <td>City Hall - Communipaw &amp; Berry Lane</td>\n",
       "    </tr>\n",
       "  </tbody>\n",
       "</table>\n",
       "<p>46230 rows × 4 columns</p>\n",
       "</div>"
      ],
      "text/plain": [
       "       tripduration start station name         end station name  \\\n",
       "0               261  JC Medical Center       Liberty Light Rail   \n",
       "1               172        Dixon Mills            Grove St PATH   \n",
       "2               525       Newport Pkwy            Hamilton Park   \n",
       "3               219          Warren St                City Hall   \n",
       "4               262      Grove St PATH             Jersey & 3rd   \n",
       "...             ...                ...                      ...   \n",
       "46225           384         Harborside            Hamilton Park   \n",
       "46226           633      Grove St PATH                City Hall   \n",
       "46227           324   Marin Light Rail               Newark Ave   \n",
       "46228           126         Newark Ave             Brunswick St   \n",
       "46229           690          City Hall  Communipaw & Berry Lane   \n",
       "\n",
       "                                        route  \n",
       "0      JC Medical Center - Liberty Light Rail  \n",
       "1                 Dixon Mills - Grove St PATH  \n",
       "2                Newport Pkwy - Hamilton Park  \n",
       "3                       Warren St - City Hall  \n",
       "4                Grove St PATH - Jersey & 3rd  \n",
       "...                                       ...  \n",
       "46225              Harborside - Hamilton Park  \n",
       "46226               Grove St PATH - City Hall  \n",
       "46227           Marin Light Rail - Newark Ave  \n",
       "46228               Newark Ave - Brunswick St  \n",
       "46229     City Hall - Communipaw & Berry Lane  \n",
       "\n",
       "[46230 rows x 4 columns]"
      ]
     },
     "execution_count": 131,
     "metadata": {},
     "output_type": "execute_result"
    }
   ],
   "source": [
    "# Buat kolom baru namannya \"route\" isinya adalah start station name - end station name\n",
    "\n",
    "# 1. Buat functionnya\n",
    "\n",
    "def add_route(row):\n",
    "    return row['start station name'] + ' - ' + row['end station name']\n",
    "\n",
    "\n",
    "# 2. Apply functionnya\n",
    "\n",
    "df_bike['route'] = df_bike.apply(add_route, axis=1)\n",
    "\n",
    "df_bike[['tripduration', 'start station name', 'end station name', 'route']]"
   ]
  },
  {
   "cell_type": "markdown",
   "metadata": {},
   "source": [
    "## Data Visualization"
   ]
  },
  {
   "cell_type": "code",
   "execution_count": 151,
   "metadata": {},
   "outputs": [],
   "source": [
    "import seaborn as sns\n",
    "import matplotlib.pyplot as plt"
   ]
  },
  {
   "cell_type": "code",
   "execution_count": 160,
   "metadata": {},
   "outputs": [
    {
     "data": {
      "text/html": [
       "<div>\n",
       "<style scoped>\n",
       "    .dataframe tbody tr th:only-of-type {\n",
       "        vertical-align: middle;\n",
       "    }\n",
       "\n",
       "    .dataframe tbody tr th {\n",
       "        vertical-align: top;\n",
       "    }\n",
       "\n",
       "    .dataframe thead th {\n",
       "        text-align: right;\n",
       "    }\n",
       "</style>\n",
       "<table border=\"1\" class=\"dataframe\">\n",
       "  <thead>\n",
       "    <tr style=\"text-align: right;\">\n",
       "      <th></th>\n",
       "      <th>tripduration</th>\n",
       "      <th>starttime</th>\n",
       "      <th>stoptime</th>\n",
       "      <th>start station name</th>\n",
       "      <th>end station name</th>\n",
       "      <th>bikeid</th>\n",
       "      <th>usertype</th>\n",
       "      <th>birth year</th>\n",
       "      <th>gender</th>\n",
       "      <th>month</th>\n",
       "      <th>hour</th>\n",
       "      <th>dayname</th>\n",
       "      <th>jenis_kelamin</th>\n",
       "      <th>route</th>\n",
       "      <th>tripduration (minute)</th>\n",
       "      <th>age</th>\n",
       "    </tr>\n",
       "  </thead>\n",
       "  <tbody>\n",
       "    <tr>\n",
       "      <th>0</th>\n",
       "      <td>261</td>\n",
       "      <td>2019-08-01 00:14:55.990</td>\n",
       "      <td>2019-08-01 00:19:17.4780</td>\n",
       "      <td>JC Medical Center</td>\n",
       "      <td>Liberty Light Rail</td>\n",
       "      <td>26268</td>\n",
       "      <td>Subscriber</td>\n",
       "      <td>1980</td>\n",
       "      <td>1</td>\n",
       "      <td>August</td>\n",
       "      <td>12 AM</td>\n",
       "      <td>Thursday</td>\n",
       "      <td>male</td>\n",
       "      <td>JC Medical Center - Liberty Light Rail</td>\n",
       "      <td>4 menit</td>\n",
       "      <td>40</td>\n",
       "    </tr>\n",
       "    <tr>\n",
       "      <th>1</th>\n",
       "      <td>172</td>\n",
       "      <td>2019-08-01 00:23:06.991</td>\n",
       "      <td>2019-08-01 00:25:59.1480</td>\n",
       "      <td>Dixon Mills</td>\n",
       "      <td>Grove St PATH</td>\n",
       "      <td>26162</td>\n",
       "      <td>Subscriber</td>\n",
       "      <td>1996</td>\n",
       "      <td>1</td>\n",
       "      <td>August</td>\n",
       "      <td>12 AM</td>\n",
       "      <td>Thursday</td>\n",
       "      <td>male</td>\n",
       "      <td>Dixon Mills - Grove St PATH</td>\n",
       "      <td>3 menit</td>\n",
       "      <td>24</td>\n",
       "    </tr>\n",
       "  </tbody>\n",
       "</table>\n",
       "</div>"
      ],
      "text/plain": [
       "   tripduration               starttime                  stoptime  \\\n",
       "0           261 2019-08-01 00:14:55.990  2019-08-01 00:19:17.4780   \n",
       "1           172 2019-08-01 00:23:06.991  2019-08-01 00:25:59.1480   \n",
       "\n",
       "  start station name    end station name  bikeid    usertype  birth year  \\\n",
       "0  JC Medical Center  Liberty Light Rail   26268  Subscriber        1980   \n",
       "1        Dixon Mills       Grove St PATH   26162  Subscriber        1996   \n",
       "\n",
       "   gender   month   hour   dayname jenis_kelamin  \\\n",
       "0       1  August  12 AM  Thursday          male   \n",
       "1       1  August  12 AM  Thursday          male   \n",
       "\n",
       "                                    route tripduration (minute)  age  \n",
       "0  JC Medical Center - Liberty Light Rail               4 menit   40  \n",
       "1             Dixon Mills - Grove St PATH               3 menit   24  "
      ]
     },
     "execution_count": 160,
     "metadata": {},
     "output_type": "execute_result"
    }
   ],
   "source": [
    "df_bike['age'] = 2020 - df_bike['birth year']\n",
    "\n",
    "df_bike.head(2)"
   ]
  },
  {
   "cell_type": "markdown",
   "metadata": {},
   "source": [
    "#### Histogram"
   ]
  },
  {
   "cell_type": "code",
   "execution_count": 166,
   "metadata": {},
   "outputs": [
    {
     "data": {
      "image/png": "[encoded data removed]",
      "text/plain": [
       "<Figure size 432x288 with 1 Axes>"
      ]
     },
     "metadata": {
      "needs_background": "light"
     },
     "output_type": "display_data"
    }
   ],
   "source": [
    "sns.distplot(df_bike['age'], kde=False)\n",
    "plt.show()"
   ]
  },
  {
   "cell_type": "markdown",
   "metadata": {},
   "source": [
    "#### Bar Plot"
   ]
  },
  {
   "cell_type": "code",
   "execution_count": 168,
   "metadata": {},
   "outputs": [
    {
     "data": {
      "text/html": [
       "<div>\n",
       "<style scoped>\n",
       "    .dataframe tbody tr th:only-of-type {\n",
       "        vertical-align: middle;\n",
       "    }\n",
       "\n",
       "    .dataframe tbody tr th {\n",
       "        vertical-align: top;\n",
       "    }\n",
       "\n",
       "    .dataframe thead th {\n",
       "        text-align: right;\n",
       "    }\n",
       "</style>\n",
       "<table border=\"1\" class=\"dataframe\">\n",
       "  <thead>\n",
       "    <tr style=\"text-align: right;\">\n",
       "      <th></th>\n",
       "      <th>dayname</th>\n",
       "      <th>total</th>\n",
       "    </tr>\n",
       "  </thead>\n",
       "  <tbody>\n",
       "    <tr>\n",
       "      <th>4</th>\n",
       "      <td>Thursday</td>\n",
       "      <td>8470</td>\n",
       "    </tr>\n",
       "    <tr>\n",
       "      <th>0</th>\n",
       "      <td>Friday</td>\n",
       "      <td>8100</td>\n",
       "    </tr>\n",
       "    <tr>\n",
       "      <th>5</th>\n",
       "      <td>Tuesday</td>\n",
       "      <td>6627</td>\n",
       "    </tr>\n",
       "    <tr>\n",
       "      <th>1</th>\n",
       "      <td>Monday</td>\n",
       "      <td>6377</td>\n",
       "    </tr>\n",
       "    <tr>\n",
       "      <th>2</th>\n",
       "      <td>Saturday</td>\n",
       "      <td>6258</td>\n",
       "    </tr>\n",
       "    <tr>\n",
       "      <th>6</th>\n",
       "      <td>Wednesday</td>\n",
       "      <td>5958</td>\n",
       "    </tr>\n",
       "    <tr>\n",
       "      <th>3</th>\n",
       "      <td>Sunday</td>\n",
       "      <td>4440</td>\n",
       "    </tr>\n",
       "  </tbody>\n",
       "</table>\n",
       "</div>"
      ],
      "text/plain": [
       "     dayname  total\n",
       "4   Thursday   8470\n",
       "0     Friday   8100\n",
       "5    Tuesday   6627\n",
       "1     Monday   6377\n",
       "2   Saturday   6258\n",
       "6  Wednesday   5958\n",
       "3     Sunday   4440"
      ]
     },
     "execution_count": 168,
     "metadata": {},
     "output_type": "execute_result"
    }
   ],
   "source": [
    "total_by_day"
   ]
  },
  {
   "cell_type": "code",
   "execution_count": 170,
   "metadata": {},
   "outputs": [
    {
     "data": {
      "image/png": "[encoded data removed]",
      "text/plain": [
       "<Figure size 432x288 with 1 Axes>"
      ]
     },
     "metadata": {
      "needs_background": "light"
     },
     "output_type": "display_data"
    }
   ],
   "source": [
    "sns.barplot(data=total_by_day, x='dayname', y='total')\n",
    "plt.show()"
   ]
  },
  {
   "cell_type": "markdown",
   "metadata": {},
   "source": [
    "#### Line Plot"
   ]
  },
  {
   "cell_type": "code",
   "execution_count": 171,
   "metadata": {},
   "outputs": [
    {
     "data": {
      "image/png": "[encoded data removed]",
      "text/plain": [
       "<Figure size 432x288 with 1 Axes>"
      ]
     },
     "metadata": {
      "needs_background": "light"
     },
     "output_type": "display_data"
    }
   ],
   "source": [
    "sns.lineplot(data=total_by_day, x='dayname', y='total')\n",
    "plt.show()"
   ]
  },
  {
   "cell_type": "markdown",
   "metadata": {},
   "source": [
    "#### Scatter Plot"
   ]
  },
  {
   "cell_type": "code",
   "execution_count": 173,
   "metadata": {},
   "outputs": [
    {
     "data": {
      "image/png": "[encoded data removed]",
      "text/plain": [
       "<Figure size 432x288 with 1 Axes>"
      ]
     },
     "metadata": {
      "needs_background": "light"
     },
     "output_type": "display_data"
    }
   ],
   "source": [
    "sns.scatterplot(data=df_bike, x='tripduration', y='age')\n",
    "plt.show()"
   ]
  },
  {
   "cell_type": "markdown",
   "metadata": {},
   "source": [
    "## Latihan"
   ]
  },
  {
   "cell_type": "code",
   "execution_count": 95,
   "metadata": {},
   "outputs": [],
   "source": [
    "# 1. Coba buat 1 kolom ('hour') yang menyimpan nilai jam berapa sepeda dipinjam (starttime)\n",
    "\n",
    "# Contoh format: - 7 AM\n",
    "#                - 12 PM\n",
    "#                - 10 PM"
   ]
  },
  {
   "cell_type": "code",
   "execution_count": null,
   "metadata": {},
   "outputs": [],
   "source": [
    "# Aggregate Dataframe (Groupby)"
   ]
  },
  {
   "cell_type": "code",
   "execution_count": 100,
   "metadata": {},
   "outputs": [
    {
     "data": {
      "text/html": [
       "<div>\n",
       "<style scoped>\n",
       "    .dataframe tbody tr th:only-of-type {\n",
       "        vertical-align: middle;\n",
       "    }\n",
       "\n",
       "    .dataframe tbody tr th {\n",
       "        vertical-align: top;\n",
       "    }\n",
       "\n",
       "    .dataframe thead th {\n",
       "        text-align: right;\n",
       "    }\n",
       "</style>\n",
       "<table border=\"1\" class=\"dataframe\">\n",
       "  <thead>\n",
       "    <tr style=\"text-align: right;\">\n",
       "      <th></th>\n",
       "      <th>tripduration</th>\n",
       "      <th>starttime</th>\n",
       "      <th>stoptime</th>\n",
       "      <th>start station name</th>\n",
       "      <th>end station name</th>\n",
       "      <th>bikeid</th>\n",
       "      <th>usertype</th>\n",
       "      <th>birth year</th>\n",
       "      <th>gender</th>\n",
       "      <th>month</th>\n",
       "      <th>hour</th>\n",
       "    </tr>\n",
       "  </thead>\n",
       "  <tbody>\n",
       "    <tr>\n",
       "      <th>0</th>\n",
       "      <td>261</td>\n",
       "      <td>2019-08-01 00:14:55.990</td>\n",
       "      <td>2019-08-01 00:19:17.4780</td>\n",
       "      <td>JC Medical Center</td>\n",
       "      <td>Liberty Light Rail</td>\n",
       "      <td>26268</td>\n",
       "      <td>Subscriber</td>\n",
       "      <td>1980</td>\n",
       "      <td>1</td>\n",
       "      <td>August</td>\n",
       "      <td>12 AM</td>\n",
       "    </tr>\n",
       "    <tr>\n",
       "      <th>1</th>\n",
       "      <td>172</td>\n",
       "      <td>2019-08-01 00:23:06.991</td>\n",
       "      <td>2019-08-01 00:25:59.1480</td>\n",
       "      <td>Dixon Mills</td>\n",
       "      <td>Grove St PATH</td>\n",
       "      <td>26162</td>\n",
       "      <td>Subscriber</td>\n",
       "      <td>1996</td>\n",
       "      <td>1</td>\n",
       "      <td>August</td>\n",
       "      <td>12 AM</td>\n",
       "    </tr>\n",
       "  </tbody>\n",
       "</table>\n",
       "</div>"
      ],
      "text/plain": [
       "   tripduration               starttime                  stoptime  \\\n",
       "0           261 2019-08-01 00:14:55.990  2019-08-01 00:19:17.4780   \n",
       "1           172 2019-08-01 00:23:06.991  2019-08-01 00:25:59.1480   \n",
       "\n",
       "  start station name    end station name  bikeid    usertype  birth year  \\\n",
       "0  JC Medical Center  Liberty Light Rail   26268  Subscriber        1980   \n",
       "1        Dixon Mills       Grove St PATH   26162  Subscriber        1996   \n",
       "\n",
       "   gender   month   hour  \n",
       "0       1  August  12 AM  \n",
       "1       1  August  12 AM  "
      ]
     },
     "execution_count": 100,
     "metadata": {},
     "output_type": "execute_result"
    }
   ],
   "source": [
    "# 2. Waktu (hour) dengan peminjaman sepeda paling banyak\n",
    "\n",
    "df_bike.head(2)"
   ]
  },
  {
   "cell_type": "code",
   "execution_count": 105,
   "metadata": {},
   "outputs": [
    {
     "data": {
      "text/html": [
       "<div>\n",
       "<style scoped>\n",
       "    .dataframe tbody tr th:only-of-type {\n",
       "        vertical-align: middle;\n",
       "    }\n",
       "\n",
       "    .dataframe tbody tr th {\n",
       "        vertical-align: top;\n",
       "    }\n",
       "\n",
       "    .dataframe thead th {\n",
       "        text-align: right;\n",
       "    }\n",
       "</style>\n",
       "<table border=\"1\" class=\"dataframe\">\n",
       "  <thead>\n",
       "    <tr style=\"text-align: right;\">\n",
       "      <th></th>\n",
       "      <th>hour</th>\n",
       "      <th>total</th>\n",
       "    </tr>\n",
       "  </thead>\n",
       "  <tbody>\n",
       "    <tr>\n",
       "      <th>14</th>\n",
       "      <td>08 AM</td>\n",
       "      <td>5135</td>\n",
       "    </tr>\n",
       "    <tr>\n",
       "      <th>11</th>\n",
       "      <td>06 PM</td>\n",
       "      <td>4667</td>\n",
       "    </tr>\n",
       "    <tr>\n",
       "      <th>9</th>\n",
       "      <td>05 PM</td>\n",
       "      <td>4333</td>\n",
       "    </tr>\n",
       "    <tr>\n",
       "      <th>13</th>\n",
       "      <td>07 PM</td>\n",
       "      <td>3521</td>\n",
       "    </tr>\n",
       "    <tr>\n",
       "      <th>12</th>\n",
       "      <td>07 AM</td>\n",
       "      <td>3199</td>\n",
       "    </tr>\n",
       "  </tbody>\n",
       "</table>\n",
       "</div>"
      ],
      "text/plain": [
       "     hour  total\n",
       "14  08 AM   5135\n",
       "11  06 PM   4667\n",
       "9   05 PM   4333\n",
       "13  07 PM   3521\n",
       "12  07 AM   3199"
      ]
     },
     "execution_count": 105,
     "metadata": {},
     "output_type": "execute_result"
    }
   ],
   "source": [
    "# --> nilai yg dicari\n",
    "# --> nilai yg dihitung\n",
    "# --> fungsi aggregasi\n",
    "\n",
    "df_bike.groupby('hour', as_index=False)['gender'].count() \\\n",
    "       .rename(columns={'gender': 'total'}) \\\n",
    "       .sort_values('total', ascending=False) \\\n",
    "       .head()"
   ]
  },
  {
   "cell_type": "code",
   "execution_count": null,
   "metadata": {},
   "outputs": [],
   "source": [
    "# 3. Hari apa (Senin, Selasa, Rabu, etc) peminjaman sepeda paling banyak terjadi"
   ]
  },
  {
   "cell_type": "code",
   "execution_count": 108,
   "metadata": {},
   "outputs": [],
   "source": [
    "df_bike['dayname'] = df_bike['starttime'].dt.strftime('%A')"
   ]
  },
  {
   "cell_type": "code",
   "execution_count": 167,
   "metadata": {},
   "outputs": [
    {
     "data": {
      "text/html": [
       "<div>\n",
       "<style scoped>\n",
       "    .dataframe tbody tr th:only-of-type {\n",
       "        vertical-align: middle;\n",
       "    }\n",
       "\n",
       "    .dataframe tbody tr th {\n",
       "        vertical-align: top;\n",
       "    }\n",
       "\n",
       "    .dataframe thead th {\n",
       "        text-align: right;\n",
       "    }\n",
       "</style>\n",
       "<table border=\"1\" class=\"dataframe\">\n",
       "  <thead>\n",
       "    <tr style=\"text-align: right;\">\n",
       "      <th></th>\n",
       "      <th>dayname</th>\n",
       "      <th>total</th>\n",
       "    </tr>\n",
       "  </thead>\n",
       "  <tbody>\n",
       "    <tr>\n",
       "      <th>4</th>\n",
       "      <td>Thursday</td>\n",
       "      <td>8470</td>\n",
       "    </tr>\n",
       "    <tr>\n",
       "      <th>0</th>\n",
       "      <td>Friday</td>\n",
       "      <td>8100</td>\n",
       "    </tr>\n",
       "    <tr>\n",
       "      <th>5</th>\n",
       "      <td>Tuesday</td>\n",
       "      <td>6627</td>\n",
       "    </tr>\n",
       "    <tr>\n",
       "      <th>1</th>\n",
       "      <td>Monday</td>\n",
       "      <td>6377</td>\n",
       "    </tr>\n",
       "    <tr>\n",
       "      <th>2</th>\n",
       "      <td>Saturday</td>\n",
       "      <td>6258</td>\n",
       "    </tr>\n",
       "    <tr>\n",
       "      <th>6</th>\n",
       "      <td>Wednesday</td>\n",
       "      <td>5958</td>\n",
       "    </tr>\n",
       "    <tr>\n",
       "      <th>3</th>\n",
       "      <td>Sunday</td>\n",
       "      <td>4440</td>\n",
       "    </tr>\n",
       "  </tbody>\n",
       "</table>\n",
       "</div>"
      ],
      "text/plain": [
       "     dayname  total\n",
       "4   Thursday   8470\n",
       "0     Friday   8100\n",
       "5    Tuesday   6627\n",
       "1     Monday   6377\n",
       "2   Saturday   6258\n",
       "6  Wednesday   5958\n",
       "3     Sunday   4440"
      ]
     },
     "execution_count": 167,
     "metadata": {},
     "output_type": "execute_result"
    }
   ],
   "source": [
    "# --> nilai yg dicari\n",
    "# --> nilai yg dihitung\n",
    "# --> fungsi aggregasi\n",
    "\n",
    "total_by_day = df_bike.groupby('dayname', as_index=False)['gender'].count() \\\n",
    "                      .rename(columns={'gender': 'total'}) \\\n",
    "                      .sort_values('total', ascending=False)\n",
    "\n",
    "total_by_day"
   ]
  },
  {
   "cell_type": "code",
   "execution_count": 112,
   "metadata": {},
   "outputs": [
    {
     "data": {
      "text/plain": [
       "0    Thursday\n",
       "dtype: object"
      ]
     },
     "execution_count": 112,
     "metadata": {},
     "output_type": "execute_result"
    }
   ],
   "source": [
    "df_bike['dayname'].mode()"
   ]
  },
  {
   "cell_type": "code",
   "execution_count": 113,
   "metadata": {},
   "outputs": [
    {
     "data": {
      "text/plain": [
       "Thursday     8470\n",
       "Friday       8100\n",
       "Tuesday      6627\n",
       "Monday       6377\n",
       "Saturday     6258\n",
       "Wednesday    5958\n",
       "Sunday       4440\n",
       "Name: dayname, dtype: int64"
      ]
     },
     "execution_count": 113,
     "metadata": {},
     "output_type": "execute_result"
    }
   ],
   "source": [
    "df_bike['dayname'].value_counts()"
   ]
  },
  {
   "cell_type": "code",
   "execution_count": 148,
   "metadata": {},
   "outputs": [],
   "source": [
    "# 4. Buat kolom baru namannya \"tripduration (minute)\"\n",
    "\n",
    "# Contoh nilai outputnya = \"7 menit\" , \"8 menit\" , \"3 menit\"\n",
    "# Nilainya diambil dari kolom \"tripduration\"\n",
    "\n",
    "# - Buat function untuk memetakan nilainya\n",
    "\n",
    "def convert_minute(row):\n",
    "    angka = round(row['tripduration'] / 60)\n",
    "    return str(angka) + \" menit\"\n",
    "\n",
    "# - Apply functionnya\n",
    "\n",
    "df_bike['tripduration (minute)'] = df_bike.apply(convert_minute, axis=1)"
   ]
  },
  {
   "cell_type": "code",
   "execution_count": 150,
   "metadata": {},
   "outputs": [
    {
     "data": {
      "text/html": [
       "<div>\n",
       "<style scoped>\n",
       "    .dataframe tbody tr th:only-of-type {\n",
       "        vertical-align: middle;\n",
       "    }\n",
       "\n",
       "    .dataframe tbody tr th {\n",
       "        vertical-align: top;\n",
       "    }\n",
       "\n",
       "    .dataframe thead th {\n",
       "        text-align: right;\n",
       "    }\n",
       "</style>\n",
       "<table border=\"1\" class=\"dataframe\">\n",
       "  <thead>\n",
       "    <tr style=\"text-align: right;\">\n",
       "      <th></th>\n",
       "      <th>tripduration</th>\n",
       "      <th>starttime</th>\n",
       "      <th>stoptime</th>\n",
       "      <th>start station name</th>\n",
       "      <th>end station name</th>\n",
       "      <th>bikeid</th>\n",
       "      <th>usertype</th>\n",
       "      <th>birth year</th>\n",
       "      <th>gender</th>\n",
       "      <th>month</th>\n",
       "      <th>hour</th>\n",
       "      <th>dayname</th>\n",
       "      <th>jenis_kelamin</th>\n",
       "      <th>route</th>\n",
       "      <th>tripduration (minute)</th>\n",
       "    </tr>\n",
       "  </thead>\n",
       "  <tbody>\n",
       "    <tr>\n",
       "      <th>0</th>\n",
       "      <td>261</td>\n",
       "      <td>2019-08-01 00:14:55.990</td>\n",
       "      <td>2019-08-01 00:19:17.4780</td>\n",
       "      <td>JC Medical Center</td>\n",
       "      <td>Liberty Light Rail</td>\n",
       "      <td>26268</td>\n",
       "      <td>Subscriber</td>\n",
       "      <td>1980</td>\n",
       "      <td>1</td>\n",
       "      <td>August</td>\n",
       "      <td>12 AM</td>\n",
       "      <td>Thursday</td>\n",
       "      <td>male</td>\n",
       "      <td>JC Medical Center - Liberty Light Rail</td>\n",
       "      <td>4 menit</td>\n",
       "    </tr>\n",
       "    <tr>\n",
       "      <th>1</th>\n",
       "      <td>172</td>\n",
       "      <td>2019-08-01 00:23:06.991</td>\n",
       "      <td>2019-08-01 00:25:59.1480</td>\n",
       "      <td>Dixon Mills</td>\n",
       "      <td>Grove St PATH</td>\n",
       "      <td>26162</td>\n",
       "      <td>Subscriber</td>\n",
       "      <td>1996</td>\n",
       "      <td>1</td>\n",
       "      <td>August</td>\n",
       "      <td>12 AM</td>\n",
       "      <td>Thursday</td>\n",
       "      <td>male</td>\n",
       "      <td>Dixon Mills - Grove St PATH</td>\n",
       "      <td>3 menit</td>\n",
       "    </tr>\n",
       "    <tr>\n",
       "      <th>2</th>\n",
       "      <td>525</td>\n",
       "      <td>2019-08-01 00:23:28.617</td>\n",
       "      <td>2019-08-01 00:32:13.7000</td>\n",
       "      <td>Newport Pkwy</td>\n",
       "      <td>Hamilton Park</td>\n",
       "      <td>29279</td>\n",
       "      <td>Subscriber</td>\n",
       "      <td>1991</td>\n",
       "      <td>1</td>\n",
       "      <td>August</td>\n",
       "      <td>12 AM</td>\n",
       "      <td>Thursday</td>\n",
       "      <td>male</td>\n",
       "      <td>Newport Pkwy - Hamilton Park</td>\n",
       "      <td>9 menit</td>\n",
       "    </tr>\n",
       "    <tr>\n",
       "      <th>3</th>\n",
       "      <td>219</td>\n",
       "      <td>2019-08-01 00:32:36.141</td>\n",
       "      <td>2019-08-01 00:36:15.2730</td>\n",
       "      <td>Warren St</td>\n",
       "      <td>City Hall</td>\n",
       "      <td>29598</td>\n",
       "      <td>Subscriber</td>\n",
       "      <td>1988</td>\n",
       "      <td>1</td>\n",
       "      <td>August</td>\n",
       "      <td>12 AM</td>\n",
       "      <td>Thursday</td>\n",
       "      <td>male</td>\n",
       "      <td>Warren St - City Hall</td>\n",
       "      <td>4 menit</td>\n",
       "    </tr>\n",
       "    <tr>\n",
       "      <th>4</th>\n",
       "      <td>262</td>\n",
       "      <td>2019-08-01 00:41:26.670</td>\n",
       "      <td>2019-08-01 00:45:49.3530</td>\n",
       "      <td>Grove St PATH</td>\n",
       "      <td>Jersey &amp; 3rd</td>\n",
       "      <td>26162</td>\n",
       "      <td>Subscriber</td>\n",
       "      <td>1960</td>\n",
       "      <td>1</td>\n",
       "      <td>August</td>\n",
       "      <td>12 AM</td>\n",
       "      <td>Thursday</td>\n",
       "      <td>male</td>\n",
       "      <td>Grove St PATH - Jersey &amp; 3rd</td>\n",
       "      <td>4 menit</td>\n",
       "    </tr>\n",
       "  </tbody>\n",
       "</table>\n",
       "</div>"
      ],
      "text/plain": [
       "   tripduration               starttime                  stoptime  \\\n",
       "0           261 2019-08-01 00:14:55.990  2019-08-01 00:19:17.4780   \n",
       "1           172 2019-08-01 00:23:06.991  2019-08-01 00:25:59.1480   \n",
       "2           525 2019-08-01 00:23:28.617  2019-08-01 00:32:13.7000   \n",
       "3           219 2019-08-01 00:32:36.141  2019-08-01 00:36:15.2730   \n",
       "4           262 2019-08-01 00:41:26.670  2019-08-01 00:45:49.3530   \n",
       "\n",
       "  start station name    end station name  bikeid    usertype  birth year  \\\n",
       "0  JC Medical Center  Liberty Light Rail   26268  Subscriber        1980   \n",
       "1        Dixon Mills       Grove St PATH   26162  Subscriber        1996   \n",
       "2       Newport Pkwy       Hamilton Park   29279  Subscriber        1991   \n",
       "3          Warren St           City Hall   29598  Subscriber        1988   \n",
       "4      Grove St PATH        Jersey & 3rd   26162  Subscriber        1960   \n",
       "\n",
       "   gender   month   hour   dayname jenis_kelamin  \\\n",
       "0       1  August  12 AM  Thursday          male   \n",
       "1       1  August  12 AM  Thursday          male   \n",
       "2       1  August  12 AM  Thursday          male   \n",
       "3       1  August  12 AM  Thursday          male   \n",
       "4       1  August  12 AM  Thursday          male   \n",
       "\n",
       "                                    route tripduration (minute)  \n",
       "0  JC Medical Center - Liberty Light Rail               4 menit  \n",
       "1             Dixon Mills - Grove St PATH               3 menit  \n",
       "2            Newport Pkwy - Hamilton Park               9 menit  \n",
       "3                   Warren St - City Hall               4 menit  \n",
       "4            Grove St PATH - Jersey & 3rd               4 menit  "
      ]
     },
     "execution_count": 150,
     "metadata": {},
     "output_type": "execute_result"
    }
   ],
   "source": [
    "df_bike.head()"
   ]
  }
 ],
 "metadata": {
  "kernelspec": {
   "display_name": "Python 3",
   "language": "python",
   "name": "python3"
  },
  "language_info": {
   "codemirror_mode": {
    "name": "ipython",
    "version": 3
   },
   "file_extension": ".py",
   "mimetype": "text/x-python",
   "name": "python",
   "nbconvert_exporter": "python",
   "pygments_lexer": "ipython3",
   "version": "3.8.3"
  }
 },
 "nbformat": 4,
 "nbformat_minor": 4
}
